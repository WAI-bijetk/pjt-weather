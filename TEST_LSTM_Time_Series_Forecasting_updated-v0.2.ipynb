{
 "cells": [
  {
   "cell_type": "code",
   "execution_count": 1,
   "metadata": {
    "id": "8S-hl2tC-Kmx"
   },
   "outputs": [],
   "source": [
    "# 참고\n",
    "#https://deep-deep-deep.tistory.com/60"
   ]
  },
  {
   "cell_type": "code",
   "execution_count": 2,
   "metadata": {
    "id": "EbrFD1vMR_qS"
   },
   "outputs": [
    {
     "name": "stderr",
     "output_type": "stream",
     "text": [
      "2022-07-06 08:49:08.801455: I tensorflow/stream_executor/cuda/cuda_gpu_executor.cc:952] successful NUMA node read from SysFS had negative value (-1), but there must be at least one NUMA node, so returning NUMA node zero\n",
      "2022-07-06 08:49:08.824629: I tensorflow/stream_executor/cuda/cuda_gpu_executor.cc:952] successful NUMA node read from SysFS had negative value (-1), but there must be at least one NUMA node, so returning NUMA node zero\n",
      "2022-07-06 08:49:08.825057: I tensorflow/stream_executor/cuda/cuda_gpu_executor.cc:952] successful NUMA node read from SysFS had negative value (-1), but there must be at least one NUMA node, so returning NUMA node zero\n"
     ]
    }
   ],
   "source": [
    "import tensorflow as tf\n",
    "import os\n",
    "import pandas as pd\n",
    "import numpy as np\n",
    "from tensorflow.keras.models import Sequential\n",
    "from tensorflow.keras.layers import *\n",
    "from tensorflow.keras.callbacks import ModelCheckpoint\n",
    "from tensorflow.keras.losses import MeanSquaredError\n",
    "from tensorflow.keras.metrics import RootMeanSquaredError\n",
    "from tensorflow.keras.optimizers import Adam\n",
    "\n",
    "\n",
    "physical_devices = tf.config.list_physical_devices('GPU')\n",
    "if physical_devices:\n",
    "    tf.config.experimental.set_memory_growth(physical_devices[0], True)"
   ]
  },
  {
   "cell_type": "code",
   "execution_count": 3,
   "metadata": {},
   "outputs": [
    {
     "name": "stdout",
     "output_type": "stream",
     "text": [
      "/home/alfa_members/hyunjo/tensorflow2\n"
     ]
    }
   ],
   "source": [
    "if not os.path.exists('./TIME_SERIES/'):\n",
    "    os.mkdir('./TIME_SERIES/')\n",
    "if not os.path.exists('./TIME_SERIES/WEATHER_ASOS_TIME_2006_2206/'):\n",
    "    os.mkdir('./TIME_SERIES/WEATHER_ASOS_TIME_2006_2206/')\n",
    "if not os.path.exists('./TIME_SERIES/CLEAN_WEATHER_ASOS_TIME_2006_2206/'):\n",
    "    os.mkdir('./TIME_SERIES/CLEAN_WEATHER_ASOS_TIME_2006_2206/')\n",
    "    \n",
    "print(os.getcwd())"
   ]
  },
  {
   "cell_type": "code",
   "execution_count": 4,
   "metadata": {
    "colab": {
     "base_uri": "https://localhost:8080/"
    },
    "id": "CuIs6GL13hz1",
    "outputId": "60461adc-5fe3-45bd-ca0a-b20ffc895375"
   },
   "outputs": [],
   "source": [
    "# <---------------- Google Colab에서 돌릴 경우 ----------------> \n",
    "\n",
    "# from google.colab import drive\n",
    "# drive.mount('/content/drive')"
   ]
  },
  {
   "cell_type": "markdown",
   "metadata": {},
   "source": [
    "## 여기 변경 (22-07-06 16:00)"
   ]
  },
  {
   "cell_type": "code",
   "execution_count": 5,
   "metadata": {
    "id": "Mi-eK9alBFDe"
   },
   "outputs": [],
   "source": [
    "dict_args = dict()\n",
    "dict_args['raw_file'] = './TIME_SERIES/WEATHER_ASOS_TIME_2006_2206/WEATHER_ASOS_2205.csv'  # 필요시 경로 변경\n",
    "dict_args['preprocessed_file'] = './TIME_SERIES/CLEAN_WEATHER_ASOS_TIME_2006_2206/CLEAN_WEATHER_ASOS_2205.csv'  # 필요시 경로 변경\n",
    "dict_args['min_max_file'] = './TIME_SERIES/min_max.csv'\n",
    "dict_args[\"window_size\"] = 4\n",
    "dict_args[\"features\"] = ['기온(°C)','풍속(m/s)','습도(%)']\n",
    "dict_args[\"label\"] = ['기온(°C)']\n",
    "dict_args[\"index\"] = ['지점','지점명','일시']\n",
    "dict_args[\"area\"] = \"속초\"\n",
    "dict_args[\"test_size\"] = 120\n",
    "## 여기 변경 (22-07-06 16:00)\n",
    "dict_args['model_file'] = './TIME_SERIES/MODEL2/'\n",
    "dict_args[\"param_list\"] =  {\n",
    "                            \"LSTM\": {'epochs': 60,\n",
    "                                      'batch_size': 50,\n",
    "                                      'learning_rate': 0.0005,\n",
    "                                    },\n",
    "                            \"GRU\": \n",
    "                                    {'epochs': 60,\n",
    "                                      'batch_size': 50,\n",
    "                                      'learning_rate': 0.0005,\n",
    "                                    },\n",
    "                            }\n"
   ]
  },
  {
   "cell_type": "markdown",
   "metadata": {},
   "source": [
    "## 여기 변경 (22-07-06 16:00)"
   ]
  },
  {
   "cell_type": "code",
   "execution_count": 6,
   "metadata": {},
   "outputs": [
    {
     "name": "stdout",
     "output_type": "stream",
     "text": [
      "{'기온(°C)': 'Temp(°C)', '강수량(mm)': 'WaterFall(mm)', '풍속(m/s)': 'WindSpeed(m/s)', '풍향(16방위)': 'WindDir(16)', '습도(%)': 'Dampness(%)', '증기압(hPa)': 'AirPressure(hPa)', '이슬점온도(°C)': 'DewPointTemp(°C)', '현지기압(hPa)': 'LocalPressure(hPa)', '해면기압(hPa)': 'SeaLevelPressure(hPa)', '일조(hr)': 'SunShine(hr)', '일사(MJ/m2)': 'Radiation(MJ/m2)', '적설(cm)': 'Snow(cm)', '3시간신적설(cm)': '3hrsSnow(cm)', '전운량(10분위)': 'FullCloud(10)', '중하층운량(10분위)': 'LowMiddleCloud(10)', '운형(운형약어)': 'CloudShape'}\n"
     ]
    }
   ],
   "source": [
    "english_var = {\n",
    "    '기온(°C)' :  'Temp(°C)',\n",
    "    '강수량(mm)' :  'WaterFall(mm)',\n",
    "    '풍속(m/s)' :  'WindSpeed(m/s)',\n",
    "    '풍향(16방위)' :  'WindDir(16)',\n",
    "    '습도(%)' :  'Dampness(%)',\n",
    "    '증기압(hPa)' :  'AirPressure(hPa)',\n",
    "    '이슬점온도(°C)' :  'DewPointTemp(°C)',\n",
    "    '현지기압(hPa)' :  'LocalPressure(hPa)',\n",
    "    '해면기압(hPa)' :  'SeaLevelPressure(hPa)',\n",
    "    '일조(hr)' :  'SunShine(hr)',\n",
    "    '일사(MJ/m2)' :  'Radiation(MJ/m2)',\n",
    "    '적설(cm)' :  'Snow(cm)',\n",
    "    '3시간신적설(cm)' :  '3hrsSnow(cm)',\n",
    "    '전운량(10분위)' :  'FullCloud(10)',\n",
    "    '중하층운량(10분위)' :  'LowMiddleCloud(10)',\n",
    "    '운형(운형약어)' :  'CloudShape',\n",
    "}\n",
    "\n",
    "print(english_var)"
   ]
  },
  {
   "cell_type": "code",
   "execution_count": 7,
   "metadata": {},
   "outputs": [],
   "source": [
    "import matplotlib.pyplot as plt\n",
    "import seaborn as sns\n",
    "import warnings\n",
    "\n",
    "warnings.filterwarnings('ignore')\n",
    "\n",
    "%matplotlib inline\n",
    "\n",
    "plt.rcParams[\"figure.figsize\"] = (15,15)\n",
    "plt.rcParams['lines.linewidth'] = 2\n",
    "plt.rcParams['axes.grid'] = False\n",
    "plt.rcParams['font.size'] = 8\n",
    "plt.rcParams['font.family'] = 'NanumGothic'\n",
    "\n",
    "\n",
    "def draw_graph(df): \n",
    "    fig, axes = plt.subplots(4, 4, sharex=False)\n",
    "\n",
    "    sns.distplot(df['Temp(°C)' ], bins=70, kde=False, ax=axes[0,0])\n",
    "    sns.distplot(df['WaterFall(mm)' ], bins=70, kde=False, ax=axes[0,1])\n",
    "    sns.distplot(df['WindSpeed(m/s)' ], bins=70, kde=False, ax=axes[0,2])\n",
    "    sns.distplot(df['WindDir(16)' ], bins=70, kde=False, ax=axes[0,3])\n",
    "    sns.distplot(df['Dampness(%)' ], bins=70, kde=False, ax=axes[1,0])\n",
    "    sns.distplot(df['AirPressure(hPa)' ], bins=70, kde=False, ax=axes[1,1])\n",
    "    sns.distplot(df['DewPointTemp(°C)' ], bins=70, kde=False, ax=axes[1,2])\n",
    "    sns.distplot(df['LocalPressure(hPa)' ], bins=70, kde=False, ax=axes[1,3])\n",
    "    sns.distplot(df['SeaLevelPressure(hPa)' ], bins=70, kde=False, ax=axes[2,0])\n",
    "    sns.distplot(df['SunShine(hr)' ], bins=70, kde=False, ax=axes[2,1])\n",
    "    sns.distplot(df['Radiation(MJ/m2)' ], bins=70, kde=False, ax=axes[2,2])\n",
    "    sns.distplot(df['Snow(cm)' ], bins=70, kde=False, ax=axes[2,3]) \n",
    "    sns.distplot(df['3hrsSnow(cm)' ], bins=70, kde=False, ax=axes[3,0])\n",
    "    sns.distplot(df['FullCloud(10)' ], bins=70, kde=False, ax=axes[3,1])\n",
    "    sns.distplot(df['LowMiddleCloud(10)' ], bins=70, kde=False, ax=axes[3,2])\n",
    "    sns.distplot(df['CloudShape' ], bins=70, kde=False, ax=axes[3,3])\n",
    "    \n",
    "    plt.plot()"
   ]
  },
  {
   "cell_type": "code",
   "execution_count": 8,
   "metadata": {},
   "outputs": [
    {
     "name": "stdout",
     "output_type": "stream",
     "text": [
      "16\n"
     ]
    },
    {
     "data": {
      "text/html": [
       "<div>\n",
       "<style scoped>\n",
       "    .dataframe tbody tr th:only-of-type {\n",
       "        vertical-align: middle;\n",
       "    }\n",
       "\n",
       "    .dataframe tbody tr th {\n",
       "        vertical-align: top;\n",
       "    }\n",
       "\n",
       "    .dataframe thead th {\n",
       "        text-align: right;\n",
       "    }\n",
       "</style>\n",
       "<table border=\"1\" class=\"dataframe\">\n",
       "  <thead>\n",
       "    <tr style=\"text-align: right;\">\n",
       "      <th></th>\n",
       "      <th>Temp(°C)</th>\n",
       "      <th>WaterFall(mm)</th>\n",
       "      <th>WindSpeed(m/s)</th>\n",
       "      <th>WindDir(16)</th>\n",
       "      <th>Dampness(%)</th>\n",
       "      <th>AirPressure(hPa)</th>\n",
       "      <th>DewPointTemp(°C)</th>\n",
       "      <th>LocalPressure(hPa)</th>\n",
       "      <th>SeaLevelPressure(hPa)</th>\n",
       "      <th>SunShine(hr)</th>\n",
       "      <th>Radiation(MJ/m2)</th>\n",
       "      <th>Snow(cm)</th>\n",
       "      <th>3hrsSnow(cm)</th>\n",
       "      <th>FullCloud(10)</th>\n",
       "      <th>LowMiddleCloud(10)</th>\n",
       "      <th>CloudShape</th>\n",
       "    </tr>\n",
       "  </thead>\n",
       "  <tbody>\n",
       "    <tr>\n",
       "      <th>0</th>\n",
       "      <td>11.4</td>\n",
       "      <td>NaN</td>\n",
       "      <td>1.7</td>\n",
       "      <td>270.0</td>\n",
       "      <td>46.0</td>\n",
       "      <td>6.2</td>\n",
       "      <td>0.1</td>\n",
       "      <td>1011.7</td>\n",
       "      <td>1013.8</td>\n",
       "      <td>NaN</td>\n",
       "      <td>NaN</td>\n",
       "      <td>NaN</td>\n",
       "      <td>NaN</td>\n",
       "      <td>0.0</td>\n",
       "      <td>0.0</td>\n",
       "      <td>NaN</td>\n",
       "    </tr>\n",
       "    <tr>\n",
       "      <th>1</th>\n",
       "      <td>11.9</td>\n",
       "      <td>NaN</td>\n",
       "      <td>3.4</td>\n",
       "      <td>290.0</td>\n",
       "      <td>38.0</td>\n",
       "      <td>5.3</td>\n",
       "      <td>-1.9</td>\n",
       "      <td>1011.1</td>\n",
       "      <td>1013.2</td>\n",
       "      <td>NaN</td>\n",
       "      <td>NaN</td>\n",
       "      <td>NaN</td>\n",
       "      <td>NaN</td>\n",
       "      <td>0.0</td>\n",
       "      <td>0.0</td>\n",
       "      <td>NaN</td>\n",
       "    </tr>\n",
       "    <tr>\n",
       "      <th>2</th>\n",
       "      <td>10.7</td>\n",
       "      <td>NaN</td>\n",
       "      <td>2.7</td>\n",
       "      <td>290.0</td>\n",
       "      <td>46.0</td>\n",
       "      <td>5.9</td>\n",
       "      <td>-0.4</td>\n",
       "      <td>1010.9</td>\n",
       "      <td>1013.0</td>\n",
       "      <td>NaN</td>\n",
       "      <td>NaN</td>\n",
       "      <td>NaN</td>\n",
       "      <td>NaN</td>\n",
       "      <td>0.0</td>\n",
       "      <td>0.0</td>\n",
       "      <td>NaN</td>\n",
       "    </tr>\n",
       "    <tr>\n",
       "      <th>3</th>\n",
       "      <td>10.5</td>\n",
       "      <td>NaN</td>\n",
       "      <td>1.9</td>\n",
       "      <td>250.0</td>\n",
       "      <td>44.0</td>\n",
       "      <td>5.6</td>\n",
       "      <td>-1.2</td>\n",
       "      <td>1010.7</td>\n",
       "      <td>1012.8</td>\n",
       "      <td>NaN</td>\n",
       "      <td>NaN</td>\n",
       "      <td>NaN</td>\n",
       "      <td>NaN</td>\n",
       "      <td>0.0</td>\n",
       "      <td>0.0</td>\n",
       "      <td>NaN</td>\n",
       "    </tr>\n",
       "    <tr>\n",
       "      <th>4</th>\n",
       "      <td>10.2</td>\n",
       "      <td>NaN</td>\n",
       "      <td>1.2</td>\n",
       "      <td>290.0</td>\n",
       "      <td>40.0</td>\n",
       "      <td>5.0</td>\n",
       "      <td>-2.8</td>\n",
       "      <td>1010.0</td>\n",
       "      <td>1012.1</td>\n",
       "      <td>NaN</td>\n",
       "      <td>NaN</td>\n",
       "      <td>NaN</td>\n",
       "      <td>NaN</td>\n",
       "      <td>0.0</td>\n",
       "      <td>0.0</td>\n",
       "      <td>NaN</td>\n",
       "    </tr>\n",
       "    <tr>\n",
       "      <th>...</th>\n",
       "      <td>...</td>\n",
       "      <td>...</td>\n",
       "      <td>...</td>\n",
       "      <td>...</td>\n",
       "      <td>...</td>\n",
       "      <td>...</td>\n",
       "      <td>...</td>\n",
       "      <td>...</td>\n",
       "      <td>...</td>\n",
       "      <td>...</td>\n",
       "      <td>...</td>\n",
       "      <td>...</td>\n",
       "      <td>...</td>\n",
       "      <td>...</td>\n",
       "      <td>...</td>\n",
       "      <td>...</td>\n",
       "    </tr>\n",
       "    <tr>\n",
       "      <th>739</th>\n",
       "      <td>24.3</td>\n",
       "      <td>NaN</td>\n",
       "      <td>2.6</td>\n",
       "      <td>270.0</td>\n",
       "      <td>23.0</td>\n",
       "      <td>7.0</td>\n",
       "      <td>1.8</td>\n",
       "      <td>1003.5</td>\n",
       "      <td>1005.5</td>\n",
       "      <td>0.0</td>\n",
       "      <td>NaN</td>\n",
       "      <td>NaN</td>\n",
       "      <td>NaN</td>\n",
       "      <td>7.0</td>\n",
       "      <td>2.0</td>\n",
       "      <td>NaN</td>\n",
       "    </tr>\n",
       "    <tr>\n",
       "      <th>740</th>\n",
       "      <td>22.8</td>\n",
       "      <td>NaN</td>\n",
       "      <td>1.6</td>\n",
       "      <td>50.0</td>\n",
       "      <td>28.0</td>\n",
       "      <td>7.7</td>\n",
       "      <td>3.3</td>\n",
       "      <td>1004.1</td>\n",
       "      <td>1006.1</td>\n",
       "      <td>NaN</td>\n",
       "      <td>NaN</td>\n",
       "      <td>NaN</td>\n",
       "      <td>NaN</td>\n",
       "      <td>6.0</td>\n",
       "      <td>0.0</td>\n",
       "      <td>NaN</td>\n",
       "    </tr>\n",
       "    <tr>\n",
       "      <th>741</th>\n",
       "      <td>22.7</td>\n",
       "      <td>NaN</td>\n",
       "      <td>1.9</td>\n",
       "      <td>110.0</td>\n",
       "      <td>23.0</td>\n",
       "      <td>6.3</td>\n",
       "      <td>0.4</td>\n",
       "      <td>1004.4</td>\n",
       "      <td>1006.4</td>\n",
       "      <td>NaN</td>\n",
       "      <td>NaN</td>\n",
       "      <td>NaN</td>\n",
       "      <td>NaN</td>\n",
       "      <td>7.0</td>\n",
       "      <td>4.0</td>\n",
       "      <td>NaN</td>\n",
       "    </tr>\n",
       "    <tr>\n",
       "      <th>742</th>\n",
       "      <td>23.2</td>\n",
       "      <td>NaN</td>\n",
       "      <td>1.0</td>\n",
       "      <td>250.0</td>\n",
       "      <td>18.0</td>\n",
       "      <td>5.1</td>\n",
       "      <td>-2.4</td>\n",
       "      <td>1004.3</td>\n",
       "      <td>1006.3</td>\n",
       "      <td>NaN</td>\n",
       "      <td>NaN</td>\n",
       "      <td>NaN</td>\n",
       "      <td>NaN</td>\n",
       "      <td>8.0</td>\n",
       "      <td>5.0</td>\n",
       "      <td>NaN</td>\n",
       "    </tr>\n",
       "    <tr>\n",
       "      <th>743</th>\n",
       "      <td>23.1</td>\n",
       "      <td>NaN</td>\n",
       "      <td>1.4</td>\n",
       "      <td>110.0</td>\n",
       "      <td>17.0</td>\n",
       "      <td>4.8</td>\n",
       "      <td>-3.3</td>\n",
       "      <td>1003.8</td>\n",
       "      <td>1005.8</td>\n",
       "      <td>NaN</td>\n",
       "      <td>NaN</td>\n",
       "      <td>NaN</td>\n",
       "      <td>NaN</td>\n",
       "      <td>6.0</td>\n",
       "      <td>5.0</td>\n",
       "      <td>NaN</td>\n",
       "    </tr>\n",
       "  </tbody>\n",
       "</table>\n",
       "<p>744 rows × 16 columns</p>\n",
       "</div>"
      ],
      "text/plain": [
       "     Temp(°C)  WaterFall(mm)  WindSpeed(m/s)  WindDir(16)  Dampness(%)  \\\n",
       "0        11.4            NaN             1.7        270.0         46.0   \n",
       "1        11.9            NaN             3.4        290.0         38.0   \n",
       "2        10.7            NaN             2.7        290.0         46.0   \n",
       "3        10.5            NaN             1.9        250.0         44.0   \n",
       "4        10.2            NaN             1.2        290.0         40.0   \n",
       "..        ...            ...             ...          ...          ...   \n",
       "739      24.3            NaN             2.6        270.0         23.0   \n",
       "740      22.8            NaN             1.6         50.0         28.0   \n",
       "741      22.7            NaN             1.9        110.0         23.0   \n",
       "742      23.2            NaN             1.0        250.0         18.0   \n",
       "743      23.1            NaN             1.4        110.0         17.0   \n",
       "\n",
       "     AirPressure(hPa)  DewPointTemp(°C)  LocalPressure(hPa)  \\\n",
       "0                 6.2               0.1              1011.7   \n",
       "1                 5.3              -1.9              1011.1   \n",
       "2                 5.9              -0.4              1010.9   \n",
       "3                 5.6              -1.2              1010.7   \n",
       "4                 5.0              -2.8              1010.0   \n",
       "..                ...               ...                 ...   \n",
       "739               7.0               1.8              1003.5   \n",
       "740               7.7               3.3              1004.1   \n",
       "741               6.3               0.4              1004.4   \n",
       "742               5.1              -2.4              1004.3   \n",
       "743               4.8              -3.3              1003.8   \n",
       "\n",
       "     SeaLevelPressure(hPa)  SunShine(hr)  Radiation(MJ/m2)  Snow(cm)  \\\n",
       "0                   1013.8           NaN               NaN       NaN   \n",
       "1                   1013.2           NaN               NaN       NaN   \n",
       "2                   1013.0           NaN               NaN       NaN   \n",
       "3                   1012.8           NaN               NaN       NaN   \n",
       "4                   1012.1           NaN               NaN       NaN   \n",
       "..                     ...           ...               ...       ...   \n",
       "739                 1005.5           0.0               NaN       NaN   \n",
       "740                 1006.1           NaN               NaN       NaN   \n",
       "741                 1006.4           NaN               NaN       NaN   \n",
       "742                 1006.3           NaN               NaN       NaN   \n",
       "743                 1005.8           NaN               NaN       NaN   \n",
       "\n",
       "     3hrsSnow(cm)  FullCloud(10)  LowMiddleCloud(10) CloudShape  \n",
       "0             NaN            0.0                 0.0        NaN  \n",
       "1             NaN            0.0                 0.0        NaN  \n",
       "2             NaN            0.0                 0.0        NaN  \n",
       "3             NaN            0.0                 0.0        NaN  \n",
       "4             NaN            0.0                 0.0        NaN  \n",
       "..            ...            ...                 ...        ...  \n",
       "739           NaN            7.0                 2.0        NaN  \n",
       "740           NaN            6.0                 0.0        NaN  \n",
       "741           NaN            7.0                 4.0        NaN  \n",
       "742           NaN            8.0                 5.0        NaN  \n",
       "743           NaN            6.0                 5.0        NaN  \n",
       "\n",
       "[744 rows x 16 columns]"
      ]
     },
     "metadata": {},
     "output_type": "display_data"
    },
    {
     "name": "stdout",
     "output_type": "stream",
     "text": [
      "지점               0\n",
      "지점명              0\n",
      "일시               0\n",
      "기온(°C)           0\n",
      "기온 QC플래그       744\n",
      "강수량(mm)        702\n",
      "강수량 QC플래그      597\n",
      "풍속(m/s)          0\n",
      "풍속 QC플래그       744\n",
      "풍향(16방위)         0\n",
      "풍향 QC플래그       744\n",
      "습도(%)            0\n",
      "습도 QC플래그       744\n",
      "증기압(hPa)         0\n",
      "이슬점온도(°C)        0\n",
      "현지기압(hPa)        0\n",
      "현지기압 QC플래그     744\n",
      "해면기압(hPa)        0\n",
      "해면기압 QC플래그     744\n",
      "일조(hr)         279\n",
      "일조 QC플래그       465\n",
      "일사(MJ/m2)      744\n",
      "일사 QC플래그         0\n",
      "적설(cm)         744\n",
      "3시간신적설(cm)     744\n",
      "전운량(10분위)        5\n",
      "중하층운량(10분위)      2\n",
      "운형(운형약어)       744\n",
      "최저운고(100m )    516\n",
      "dtype: int64\n"
     ]
    },
    {
     "data": {
      "text/html": [
       "<div>\n",
       "<style scoped>\n",
       "    .dataframe tbody tr th:only-of-type {\n",
       "        vertical-align: middle;\n",
       "    }\n",
       "\n",
       "    .dataframe tbody tr th {\n",
       "        vertical-align: top;\n",
       "    }\n",
       "\n",
       "    .dataframe thead th {\n",
       "        text-align: right;\n",
       "    }\n",
       "</style>\n",
       "<table border=\"1\" class=\"dataframe\">\n",
       "  <thead>\n",
       "    <tr style=\"text-align: right;\">\n",
       "      <th></th>\n",
       "      <th>지점</th>\n",
       "      <th>지점명</th>\n",
       "      <th>일시</th>\n",
       "      <th>기온(°C)</th>\n",
       "      <th>풍속(m/s)</th>\n",
       "      <th>습도(%)</th>\n",
       "      <th>증기압(hPa)</th>\n",
       "      <th>이슬점온도(°C)</th>\n",
       "      <th>현지기압(hPa)</th>\n",
       "      <th>해면기압(hPa)</th>\n",
       "    </tr>\n",
       "  </thead>\n",
       "  <tbody>\n",
       "    <tr>\n",
       "      <th>0</th>\n",
       "      <td>90</td>\n",
       "      <td>속초</td>\n",
       "      <td>2022-05-01 01:00</td>\n",
       "      <td>11.4</td>\n",
       "      <td>1.7</td>\n",
       "      <td>46.0</td>\n",
       "      <td>6.2</td>\n",
       "      <td>0.1</td>\n",
       "      <td>1011.7</td>\n",
       "      <td>1013.8</td>\n",
       "    </tr>\n",
       "    <tr>\n",
       "      <th>1</th>\n",
       "      <td>90</td>\n",
       "      <td>속초</td>\n",
       "      <td>2022-05-01 02:00</td>\n",
       "      <td>11.9</td>\n",
       "      <td>3.4</td>\n",
       "      <td>38.0</td>\n",
       "      <td>5.3</td>\n",
       "      <td>-1.9</td>\n",
       "      <td>1011.1</td>\n",
       "      <td>1013.2</td>\n",
       "    </tr>\n",
       "    <tr>\n",
       "      <th>2</th>\n",
       "      <td>90</td>\n",
       "      <td>속초</td>\n",
       "      <td>2022-05-01 03:00</td>\n",
       "      <td>10.7</td>\n",
       "      <td>2.7</td>\n",
       "      <td>46.0</td>\n",
       "      <td>5.9</td>\n",
       "      <td>-0.4</td>\n",
       "      <td>1010.9</td>\n",
       "      <td>1013.0</td>\n",
       "    </tr>\n",
       "    <tr>\n",
       "      <th>3</th>\n",
       "      <td>90</td>\n",
       "      <td>속초</td>\n",
       "      <td>2022-05-01 04:00</td>\n",
       "      <td>10.5</td>\n",
       "      <td>1.9</td>\n",
       "      <td>44.0</td>\n",
       "      <td>5.6</td>\n",
       "      <td>-1.2</td>\n",
       "      <td>1010.7</td>\n",
       "      <td>1012.8</td>\n",
       "    </tr>\n",
       "    <tr>\n",
       "      <th>4</th>\n",
       "      <td>90</td>\n",
       "      <td>속초</td>\n",
       "      <td>2022-05-01 05:00</td>\n",
       "      <td>10.2</td>\n",
       "      <td>1.2</td>\n",
       "      <td>40.0</td>\n",
       "      <td>5.0</td>\n",
       "      <td>-2.8</td>\n",
       "      <td>1010.0</td>\n",
       "      <td>1012.1</td>\n",
       "    </tr>\n",
       "    <tr>\n",
       "      <th>...</th>\n",
       "      <td>...</td>\n",
       "      <td>...</td>\n",
       "      <td>...</td>\n",
       "      <td>...</td>\n",
       "      <td>...</td>\n",
       "      <td>...</td>\n",
       "      <td>...</td>\n",
       "      <td>...</td>\n",
       "      <td>...</td>\n",
       "      <td>...</td>\n",
       "    </tr>\n",
       "    <tr>\n",
       "      <th>739</th>\n",
       "      <td>90</td>\n",
       "      <td>속초</td>\n",
       "      <td>2022-05-31 20:00</td>\n",
       "      <td>24.3</td>\n",
       "      <td>2.6</td>\n",
       "      <td>23.0</td>\n",
       "      <td>7.0</td>\n",
       "      <td>1.8</td>\n",
       "      <td>1003.5</td>\n",
       "      <td>1005.5</td>\n",
       "    </tr>\n",
       "    <tr>\n",
       "      <th>740</th>\n",
       "      <td>90</td>\n",
       "      <td>속초</td>\n",
       "      <td>2022-05-31 21:00</td>\n",
       "      <td>22.8</td>\n",
       "      <td>1.6</td>\n",
       "      <td>28.0</td>\n",
       "      <td>7.7</td>\n",
       "      <td>3.3</td>\n",
       "      <td>1004.1</td>\n",
       "      <td>1006.1</td>\n",
       "    </tr>\n",
       "    <tr>\n",
       "      <th>741</th>\n",
       "      <td>90</td>\n",
       "      <td>속초</td>\n",
       "      <td>2022-05-31 22:00</td>\n",
       "      <td>22.7</td>\n",
       "      <td>1.9</td>\n",
       "      <td>23.0</td>\n",
       "      <td>6.3</td>\n",
       "      <td>0.4</td>\n",
       "      <td>1004.4</td>\n",
       "      <td>1006.4</td>\n",
       "    </tr>\n",
       "    <tr>\n",
       "      <th>742</th>\n",
       "      <td>90</td>\n",
       "      <td>속초</td>\n",
       "      <td>2022-05-31 23:00</td>\n",
       "      <td>23.2</td>\n",
       "      <td>1.0</td>\n",
       "      <td>18.0</td>\n",
       "      <td>5.1</td>\n",
       "      <td>-2.4</td>\n",
       "      <td>1004.3</td>\n",
       "      <td>1006.3</td>\n",
       "    </tr>\n",
       "    <tr>\n",
       "      <th>743</th>\n",
       "      <td>90</td>\n",
       "      <td>속초</td>\n",
       "      <td>2022-06-01 00:00</td>\n",
       "      <td>23.1</td>\n",
       "      <td>1.4</td>\n",
       "      <td>17.0</td>\n",
       "      <td>4.8</td>\n",
       "      <td>-3.3</td>\n",
       "      <td>1003.8</td>\n",
       "      <td>1005.8</td>\n",
       "    </tr>\n",
       "  </tbody>\n",
       "</table>\n",
       "<p>744 rows × 10 columns</p>\n",
       "</div>"
      ],
      "text/plain": [
       "     지점 지점명                일시  기온(°C)  풍속(m/s)  습도(%)  증기압(hPa)  이슬점온도(°C)  \\\n",
       "0    90  속초  2022-05-01 01:00    11.4      1.7   46.0       6.2        0.1   \n",
       "1    90  속초  2022-05-01 02:00    11.9      3.4   38.0       5.3       -1.9   \n",
       "2    90  속초  2022-05-01 03:00    10.7      2.7   46.0       5.9       -0.4   \n",
       "3    90  속초  2022-05-01 04:00    10.5      1.9   44.0       5.6       -1.2   \n",
       "4    90  속초  2022-05-01 05:00    10.2      1.2   40.0       5.0       -2.8   \n",
       "..   ..  ..               ...     ...      ...    ...       ...        ...   \n",
       "739  90  속초  2022-05-31 20:00    24.3      2.6   23.0       7.0        1.8   \n",
       "740  90  속초  2022-05-31 21:00    22.8      1.6   28.0       7.7        3.3   \n",
       "741  90  속초  2022-05-31 22:00    22.7      1.9   23.0       6.3        0.4   \n",
       "742  90  속초  2022-05-31 23:00    23.2      1.0   18.0       5.1       -2.4   \n",
       "743  90  속초  2022-06-01 00:00    23.1      1.4   17.0       4.8       -3.3   \n",
       "\n",
       "     현지기압(hPa)  해면기압(hPa)  \n",
       "0       1011.7     1013.8  \n",
       "1       1011.1     1013.2  \n",
       "2       1010.9     1013.0  \n",
       "3       1010.7     1012.8  \n",
       "4       1010.0     1012.1  \n",
       "..         ...        ...  \n",
       "739     1003.5     1005.5  \n",
       "740     1004.1     1006.1  \n",
       "741     1004.4     1006.4  \n",
       "742     1004.3     1006.3  \n",
       "743     1003.8     1005.8  \n",
       "\n",
       "[744 rows x 10 columns]"
      ]
     },
     "metadata": {},
     "output_type": "display_data"
    },
    {
     "name": "stderr",
     "output_type": "stream",
     "text": [
      "findfont: Font family ['NanumGothic'] not found. Falling back to DejaVu Sans.\n"
     ]
    },
    {
     "data": {
      "image/png": "[encoded data removed]",
      "text/plain": [
       "<Figure size 1080x1080 with 16 Axes>"
      ]
     },
     "metadata": {
      "needs_background": "light"
     },
     "output_type": "display_data"
    }
   ],
   "source": [
    "import seaborn as sns\n",
    "aaa = pd.read_csv(dict_args['raw_file'], encoding='euc-kr')\n",
    "# display(aaa)\n",
    "aaa = aaa[aaa['지점명']==dict_args[\"area\"]]\n",
    "# print(aaa.columns.tolist())\n",
    "\n",
    "# var distribution\n",
    "graph_cols = ['기온(°C)', '강수량(mm)', '풍속(m/s)', '풍향(16방위)', '습도(%)', '증기압(hPa)', '이슬점온도(°C)', '현지기압(hPa)', '해면기압(hPa)', '일조(hr)', '일사(MJ/m2)','적설(cm)', \n",
    " '3시간신적설(cm)', '전운량(10분위)', '중하층운량(10분위)', '운형(운형약어)']\n",
    "print(len(graph_cols))\n",
    "\n",
    "\n",
    "graph_df = aaa[graph_cols]\n",
    "english_names = list()\n",
    "for col in graph_df.columns.tolist():\n",
    "    english_names.append(english_var.get(col))\n",
    "graph_df.columns = english_names\n",
    "display(graph_df)\n",
    "draw_graph(graph_df)\n",
    "\n",
    "print(aaa.isna().sum())\n",
    "\n",
    "drop_columns = [\n",
    "\"기온 QC플래그\",\n",
    "\"강수량(mm)\",\n",
    "\"강수량 QC플래그\",\n",
    "\"풍속 QC플래그\",\n",
    "\"풍향(16방위)\",\n",
    "\"풍향 QC플래그\",\n",
    "\"습도 QC플래그\",\n",
    "\"현지기압 QC플래그\",\n",
    "\"해면기압 QC플래그\",\n",
    "\"일조(hr)\",\n",
    "\"일조 QC플래그\",\n",
    "\"일사(MJ/m2)\",\n",
    "\"일사 QC플래그\",\n",
    "\"적설(cm)\",\n",
    "\"3시간신적설(cm)\",\n",
    "\"전운량(10분위)\",\n",
    "\"중하층운량(10분위)\",\n",
    "\"운형(운형약어)\",\n",
    "\"최저운고(100m )\"\n",
    "]\n",
    "\n",
    "\n",
    "# 변수 더 추가해서 새로 Raw_File 지정된 경로에 저장\n",
    "dict_args['allVar_raw_file'] = './TIME_SERIES/WEATHER_ASOS_TIME_2006_2206/allVar_WEATHER_ASOS_2205.csv'  # 필요시 경로 변경\n",
    "\n",
    "aaa = aaa.drop(drop_columns, axis=1)\n",
    "display(aaa)\n",
    "aaa.to_csv(dict_args['allVar_raw_file'], index=None)"
   ]
  },
  {
   "cell_type": "code",
   "execution_count": 9,
   "metadata": {
    "id": "FDJTiftYSPGj"
   },
   "outputs": [],
   "source": [
    "def make_preprocessed_file(p_args):\n",
    "    \n",
    "    try: \n",
    "        df = pd.read_csv(p_args['allVar_raw_file'], encoding='utf-8') \n",
    "    except:\n",
    "        df = pd.read_csv(p_args['allVar_raw_file'], encoding='euc-kr')     \n",
    "    # display(df)\n",
    "    # print(df.columns)\n",
    "    columns = p_args['index']\n",
    "    columns.extend(p_args[\"features\"])\n",
    "    print(columns)\n",
    "\n",
    "    df = df[columns]\n",
    "    df = df[df['지점명'] == p_args[\"area\"]] \n",
    "    df.index = pd.to_datetime(df['일시'], format='%Y-%m-%d %H:%S')\n",
    "\n",
    "    df = df[p_args[\"features\"]]\n",
    "    df = df.astype('float32')\n",
    "    print(df.info())\n",
    "    print(df.isna().sum())\n",
    "    display(df)\n",
    "    df.to_csv(p_args['preprocessed_file'], encoding='utf-8')\n",
    "\n",
    "\n",
    "def make_dataset_regression(data, label, window_size):\n",
    "    feature_list = []\n",
    "    label_list = []\n",
    "    for i in range(len(data) - window_size):\n",
    "        feature_list.append(np.array(data.iloc[i:i+window_size]))\n",
    "        # print('feature list: ', np.array(data.iloc[i:i+window_size]))\n",
    "        label_list.append(np.array(label.iloc[i+window_size]))\n",
    "        # print('label list: ', np.array(data.iloc[i:i+window_size])) \n",
    "    return np.array(feature_list), np.array(label_list)\n",
    "\n",
    "\n",
    "def split_dataset_regression(p_args, scaling_flag=True):\n",
    "    # 파일 읽기\n",
    "    df = pd.read_csv(p_args[\"preprocessed_file\"])\n",
    "    df = df.fillna(0)\n",
    "    df = df.set_index('일시')\n",
    "    df = df.astype(float)\n",
    "\n",
    "    # 수치 정규화 \n",
    "    if scaling_flag: \n",
    "        print('정규화된 데이터입니다.')\n",
    "        df_scaled = df.copy()\n",
    "        \n",
    "        min_max_df = pd.DataFrame() \n",
    "        for col in df_scaled.columns:\n",
    "            min_ = np.min(df_scaled[col])\n",
    "            max_ = np.max(df_scaled[col])\n",
    "\n",
    "            min_max_dict = dict()\n",
    "            scaled_list = list()\n",
    "            for x in df_scaled[col]:\n",
    "                scaled_x = (x - min_) / (max_ - min_)\n",
    "                scaled_list.append(scaled_x)\n",
    "            df_scaled[col] = scaled_list   \n",
    "            \n",
    "            min_max_dict['VAR'] = col\n",
    "            min_max_dict['min'] = min_\n",
    "            min_max_dict['max'] = max_            \n",
    "                \n",
    "            min_max_list = []\n",
    "            min_max_list.append(min_max_dict)\n",
    "            tmpdf = pd.DataFrame(min_max_list)\n",
    "            # display(tmpdf)\n",
    "            min_max_df = pd.concat([min_max_df, tmpdf], axis=0) \n",
    "                \n",
    "        # 중간에 MIN_MAX 파일로 저장 (나중에 원래 수치로 다시 계산할때 필요)\n",
    "        min_max_df.to_csv(p_args[\"min_max_file\"], index=None, encoding='utf-8')\n",
    "\n",
    "    else:\n",
    "        print('정규화가 제외된 데이터입니다.')\n",
    "        df_scaled = df.copy()\n",
    "        # display(df_scaled.head(5))\n",
    "    \n",
    "    # Train과 Test 분리\n",
    "    train = df_scaled[:-p_args[\"test_size\"]]\n",
    "    test = df_scaled[-p_args[\"test_size\"]:]\n",
    "    print(\"train: \", train.shape, type(train))\n",
    "    print(\"test: \", test.shape, type(test))\n",
    "    # display(train.head(5))\n",
    "    # display(test.head(5))\n",
    "    \n",
    "    train_feature, train_label = make_dataset_regression(train[dict_args[\"features\"]], train[dict_args[\"label\"]], window_size = p_args[\"window_size\"])\n",
    "    print(\"train_feature: \", train_feature.shape, type(train_feature))\n",
    "    print(\"train_label: \", train_label.shape, type(train_label))\n",
    "    \n",
    "    # Train에서 Train Set, Valid Set 분리 (검증셋)\n",
    "    from sklearn.model_selection import train_test_split\n",
    "    X_train, X_valid, y_train, y_valid = train_test_split(train_feature, train_label, test_size = 0.2)\n",
    "    \n",
    "    y_train = y_train.reshape(len(y_train))\n",
    "    y_valid = y_valid.reshape(len(y_valid))\n",
    "    X_train = X_train.astype(float)\n",
    "    y_train = y_train.astype(float)\n",
    "    X_valid = X_valid.astype(float)\n",
    "    y_valid = y_valid.astype(float)\n",
    "\n",
    "    print(\"X_train: \",  X_train.shape, type(X_train))\n",
    "    print(\"y_train: \",  y_train.shape, type(y_train))\n",
    "    print(\"X_valid: \",  X_valid.shape, type(X_valid))\n",
    "    print(\"y_valid: \",  y_valid.shape, type(y_valid))\n",
    "    \n",
    "    # Test set에서 feature, label 분리\n",
    "    X_test, y_test = make_dataset_regression(test[dict_args[\"features\"]], test[dict_args[\"label\"]], window_size = p_args[\"window_size\"])\n",
    "    y_test = y_test.reshape(len(y_test))\n",
    "    print(\"X_test: \", X_test.shape)\n",
    "    print(\"y_test: \", y_test.shape)\n",
    "    \n",
    "    print(X_train[0])\n",
    "    print(y_train[0])\n",
    "\n",
    "    return train, test, train_feature, train_label, X_train, y_train, X_valid, y_valid, X_test, y_test\n",
    "\n",
    "\n",
    "def build_LSTM_model(p_args, train_set):\n",
    "    model = Sequential()\n",
    "    model.add(LSTM(32, \n",
    "              input_shape=(train_set.shape[1], train_set.shape[2]),\n",
    "              activation='relu',\n",
    "              return_sequences=False))\n",
    "    model.add(Dense(4, 'relu'))\n",
    "    model.add(Dense(1))\n",
    "    print(model.summary())\n",
    "\n",
    "    # cp = ModelCheckpoint(p_args['model_file'], save_best_only=True)\n",
    "    model.compile(loss='mean_squared_error', \n",
    "                  optimizer= Adam(learning_rate=dict_args[\"param_list\"][\"LSTM\"][\"learning_rate\"]), \n",
    "                  metrics=['mae'],\n",
    "                  )\n",
    "    return model\n",
    "\n",
    "\n",
    "# min_max scaled values back to original values\n",
    "def reverse_minmax(label, min_, max_):\n",
    "    result_list = list()\n",
    "    for element in label:\n",
    "        new_element = element * (max_ - min_) + min_\n",
    "        result_list.append(new_element)\n",
    "    result_array = np.array(result_list)\n",
    "    return result_array"
   ]
  },
  {
   "cell_type": "code",
   "execution_count": 10,
   "metadata": {},
   "outputs": [
    {
     "name": "stdout",
     "output_type": "stream",
     "text": [
      "정규화된 데이터입니다.\n",
      "train:  (624, 3) <class 'pandas.core.frame.DataFrame'>\n",
      "test:  (120, 3) <class 'pandas.core.frame.DataFrame'>\n",
      "train_feature:  (620, 4, 3) <class 'numpy.ndarray'>\n",
      "train_label:  (620, 1) <class 'numpy.ndarray'>\n",
      "X_train:  (496, 4, 3) <class 'numpy.ndarray'>\n",
      "y_train:  (496,) <class 'numpy.ndarray'>\n",
      "X_valid:  (124, 4, 3) <class 'numpy.ndarray'>\n",
      "y_valid:  (124,) <class 'numpy.ndarray'>\n",
      "X_test:  (116, 4, 3)\n",
      "y_test:  (116,)\n",
      "[[0.5917603  0.32098765 0.19277108]\n",
      " [0.62546816 0.2962963  0.1686747 ]\n",
      " [0.60674157 0.27160494 0.13253012]\n",
      " [0.57677903 0.09876543 0.08433735]]\n",
      "0.5692883895131086\n"
     ]
    }
   ],
   "source": [
    "train, test, train_feature, train_label, X_train, y_train, X_valid, y_valid, X_test, y_test = split_dataset_regression(dict_args, scaling_flag=True)"
   ]
  },
  {
   "cell_type": "code",
   "execution_count": 11,
   "metadata": {
    "id": "Ihd5eQ4Qk0jD"
   },
   "outputs": [
    {
     "name": "stdout",
     "output_type": "stream",
     "text": [
      "['지점', '지점명', '일시', '기온(°C)', '풍속(m/s)', '습도(%)']\n",
      "<class 'pandas.core.frame.DataFrame'>\n",
      "DatetimeIndex: 744 entries, 2022-05-01 01:00:00 to 2022-06-01 00:00:00\n",
      "Data columns (total 3 columns):\n",
      " #   Column   Non-Null Count  Dtype  \n",
      "---  ------   --------------  -----  \n",
      " 0   기온(°C)   744 non-null    float32\n",
      " 1   풍속(m/s)  744 non-null    float32\n",
      " 2   습도(%)    744 non-null    float32\n",
      "dtypes: float32(3)\n",
      "memory usage: 14.5 KB\n",
      "None\n",
      "기온(°C)     0\n",
      "풍속(m/s)    0\n",
      "습도(%)      0\n",
      "dtype: int64\n"
     ]
    },
    {
     "data": {
      "text/html": [
       "<div>\n",
       "<style scoped>\n",
       "    .dataframe tbody tr th:only-of-type {\n",
       "        vertical-align: middle;\n",
       "    }\n",
       "\n",
       "    .dataframe tbody tr th {\n",
       "        vertical-align: top;\n",
       "    }\n",
       "\n",
       "    .dataframe thead th {\n",
       "        text-align: right;\n",
       "    }\n",
       "</style>\n",
       "<table border=\"1\" class=\"dataframe\">\n",
       "  <thead>\n",
       "    <tr style=\"text-align: right;\">\n",
       "      <th></th>\n",
       "      <th>기온(°C)</th>\n",
       "      <th>풍속(m/s)</th>\n",
       "      <th>습도(%)</th>\n",
       "    </tr>\n",
       "    <tr>\n",
       "      <th>일시</th>\n",
       "      <th></th>\n",
       "      <th></th>\n",
       "      <th></th>\n",
       "    </tr>\n",
       "  </thead>\n",
       "  <tbody>\n",
       "    <tr>\n",
       "      <th>2022-05-01 01:00:00</th>\n",
       "      <td>11.400000</td>\n",
       "      <td>1.7</td>\n",
       "      <td>46.0</td>\n",
       "    </tr>\n",
       "    <tr>\n",
       "      <th>2022-05-01 02:00:00</th>\n",
       "      <td>11.900000</td>\n",
       "      <td>3.4</td>\n",
       "      <td>38.0</td>\n",
       "    </tr>\n",
       "    <tr>\n",
       "      <th>2022-05-01 03:00:00</th>\n",
       "      <td>10.700000</td>\n",
       "      <td>2.7</td>\n",
       "      <td>46.0</td>\n",
       "    </tr>\n",
       "    <tr>\n",
       "      <th>2022-05-01 04:00:00</th>\n",
       "      <td>10.500000</td>\n",
       "      <td>1.9</td>\n",
       "      <td>44.0</td>\n",
       "    </tr>\n",
       "    <tr>\n",
       "      <th>2022-05-01 05:00:00</th>\n",
       "      <td>10.200000</td>\n",
       "      <td>1.2</td>\n",
       "      <td>40.0</td>\n",
       "    </tr>\n",
       "    <tr>\n",
       "      <th>...</th>\n",
       "      <td>...</td>\n",
       "      <td>...</td>\n",
       "      <td>...</td>\n",
       "    </tr>\n",
       "    <tr>\n",
       "      <th>2022-05-31 20:00:00</th>\n",
       "      <td>24.299999</td>\n",
       "      <td>2.6</td>\n",
       "      <td>23.0</td>\n",
       "    </tr>\n",
       "    <tr>\n",
       "      <th>2022-05-31 21:00:00</th>\n",
       "      <td>22.799999</td>\n",
       "      <td>1.6</td>\n",
       "      <td>28.0</td>\n",
       "    </tr>\n",
       "    <tr>\n",
       "      <th>2022-05-31 22:00:00</th>\n",
       "      <td>22.700001</td>\n",
       "      <td>1.9</td>\n",
       "      <td>23.0</td>\n",
       "    </tr>\n",
       "    <tr>\n",
       "      <th>2022-05-31 23:00:00</th>\n",
       "      <td>23.200001</td>\n",
       "      <td>1.0</td>\n",
       "      <td>18.0</td>\n",
       "    </tr>\n",
       "    <tr>\n",
       "      <th>2022-06-01 00:00:00</th>\n",
       "      <td>23.100000</td>\n",
       "      <td>1.4</td>\n",
       "      <td>17.0</td>\n",
       "    </tr>\n",
       "  </tbody>\n",
       "</table>\n",
       "<p>744 rows × 3 columns</p>\n",
       "</div>"
      ],
      "text/plain": [
       "                        기온(°C)  풍속(m/s)  습도(%)\n",
       "일시                                            \n",
       "2022-05-01 01:00:00  11.400000      1.7   46.0\n",
       "2022-05-01 02:00:00  11.900000      3.4   38.0\n",
       "2022-05-01 03:00:00  10.700000      2.7   46.0\n",
       "2022-05-01 04:00:00  10.500000      1.9   44.0\n",
       "2022-05-01 05:00:00  10.200000      1.2   40.0\n",
       "...                        ...      ...    ...\n",
       "2022-05-31 20:00:00  24.299999      2.6   23.0\n",
       "2022-05-31 21:00:00  22.799999      1.6   28.0\n",
       "2022-05-31 22:00:00  22.700001      1.9   23.0\n",
       "2022-05-31 23:00:00  23.200001      1.0   18.0\n",
       "2022-06-01 00:00:00  23.100000      1.4   17.0\n",
       "\n",
       "[744 rows x 3 columns]"
      ]
     },
     "metadata": {},
     "output_type": "display_data"
    }
   ],
   "source": [
    "make_preprocessed_file(dict_args)"
   ]
  },
  {
   "cell_type": "markdown",
   "metadata": {},
   "source": [
    "## 여기 변경 (22-07-06 16:00)"
   ]
  },
  {
   "cell_type": "code",
   "execution_count": 12,
   "metadata": {
    "id": "2hXKSZIQwJ61",
    "tags": []
   },
   "outputs": [],
   "source": [
    "# model1 = build_LSTM_model(dict_args, X_train)\n",
    "# # cp1 = LSTM_model(dict_args, X_train)\n",
    "# # print(cp1)\n",
    "\n",
    "# epochs = dict_args[\"param_list\"][\"LSTM\"][\"epochs\"]\n",
    "# batch_size = dict_args[\"param_list\"][\"LSTM\"][\"batch_size\"]\n",
    "\n",
    "# model1.fit(X_train, y_train, validation_data=(X_valid, y_valid), \n",
    "#            epochs=epochs, \n",
    "#            batch_size=batch_size,\n",
    "#            callbacks=[ModelCheckpoint(dict_args['model_file'], save_best_only=True)],\n",
    "# ) "
   ]
  },
  {
   "cell_type": "code",
   "execution_count": 13,
   "metadata": {},
   "outputs": [
    {
     "name": "stdout",
     "output_type": "stream",
     "text": [
      "WARNING:tensorflow:Layer lstm will not use cuDNN kernels since it doesn't meet the criteria. It will use a generic GPU kernel as fallback when running on GPU.\n"
     ]
    },
    {
     "name": "stderr",
     "output_type": "stream",
     "text": [
      "2022-07-06 08:49:11.787718: I tensorflow/core/platform/cpu_feature_guard.cc:152] This TensorFlow binary is optimized with oneAPI Deep Neural Network Library (oneDNN) to use the following CPU instructions in performance-critical operations:  SSE3 SSE4.1 SSE4.2 AVX\n",
      "To enable them in other operations, rebuild TensorFlow with the appropriate compiler flags.\n",
      "2022-07-06 08:49:11.788535: I tensorflow/stream_executor/cuda/cuda_gpu_executor.cc:952] successful NUMA node read from SysFS had negative value (-1), but there must be at least one NUMA node, so returning NUMA node zero\n",
      "2022-07-06 08:49:11.789001: I tensorflow/stream_executor/cuda/cuda_gpu_executor.cc:952] successful NUMA node read from SysFS had negative value (-1), but there must be at least one NUMA node, so returning NUMA node zero\n",
      "2022-07-06 08:49:11.789401: I tensorflow/stream_executor/cuda/cuda_gpu_executor.cc:952] successful NUMA node read from SysFS had negative value (-1), but there must be at least one NUMA node, so returning NUMA node zero\n",
      "2022-07-06 08:49:12.063393: I tensorflow/stream_executor/cuda/cuda_gpu_executor.cc:952] successful NUMA node read from SysFS had negative value (-1), but there must be at least one NUMA node, so returning NUMA node zero\n",
      "2022-07-06 08:49:12.063820: I tensorflow/stream_executor/cuda/cuda_gpu_executor.cc:952] successful NUMA node read from SysFS had negative value (-1), but there must be at least one NUMA node, so returning NUMA node zero\n",
      "2022-07-06 08:49:12.064203: I tensorflow/stream_executor/cuda/cuda_gpu_executor.cc:952] successful NUMA node read from SysFS had negative value (-1), but there must be at least one NUMA node, so returning NUMA node zero\n",
      "2022-07-06 08:49:12.064572: I tensorflow/core/common_runtime/gpu/gpu_device.cc:1525] Created device /job:localhost/replica:0/task:0/device:GPU:0 with 18165 MB memory:  -> device: 0, name: NVIDIA GeForce RTX 3090, pci bus id: 0000:01:00.0, compute capability: 8.6\n"
     ]
    },
    {
     "name": "stdout",
     "output_type": "stream",
     "text": [
      "Model: \"sequential\"\n",
      "_________________________________________________________________\n",
      " Layer (type)                Output Shape              Param #   \n",
      "=================================================================\n",
      " lstm (LSTM)                 (None, 32)                4608      \n",
      "                                                                 \n",
      " dense (Dense)               (None, 4)                 132       \n",
      "                                                                 \n",
      " dense_1 (Dense)             (None, 1)                 5         \n",
      "                                                                 \n",
      "=================================================================\n",
      "Total params: 4,745\n",
      "Trainable params: 4,745\n",
      "Non-trainable params: 0\n",
      "_________________________________________________________________\n",
      "None\n",
      "Epoch 1/60\n"
     ]
    },
    {
     "name": "stderr",
     "output_type": "stream",
     "text": [
      "2022-07-06 08:49:13.591443: I tensorflow/stream_executor/cuda/cuda_blas.cc:1804] TensorFloat-32 will be used for the matrix multiplication. This will only be logged once.\n"
     ]
    },
    {
     "name": "stdout",
     "output_type": "stream",
     "text": [
      " 1/10 [==>...........................] - ETA: 12s - loss: 0.2638 - mae: 0.4818"
     ]
    },
    {
     "name": "stderr",
     "output_type": "stream",
     "text": [
      "2022-07-06 08:49:14.332967: W tensorflow/python/util/util.cc:368] Sets are not currently considered sequences, but this may change in the future, so consider avoiding using them.\n"
     ]
    },
    {
     "name": "stdout",
     "output_type": "stream",
     "text": [
      "INFO:tensorflow:Assets written to: ./TIME_SERIES/MODEL2/assets\n"
     ]
    },
    {
     "name": "stderr",
     "output_type": "stream",
     "text": [
      "WARNING:absl:<keras.layers.recurrent.LSTMCell object at 0x7fefc8dc9cd0> has the same name 'LSTMCell' as a built-in Keras object. Consider renaming <class 'keras.layers.recurrent.LSTMCell'> to avoid naming conflicts when loading with `tf.keras.models.load_model`. If renaming is not possible, pass the object in the `custom_objects` parameter of the load function.\n"
     ]
    },
    {
     "name": "stdout",
     "output_type": "stream",
     "text": [
      "10/10 [==============================] - 2s 122ms/step - loss: 0.2076 - mae: 0.4189 - val_loss: 0.1842 - val_mae: 0.3851\n",
      "Epoch 2/60\n",
      " 1/10 [==>...........................] - ETA: 0s - loss: 0.1949 - mae: 0.4045INFO:tensorflow:Assets written to: ./TIME_SERIES/MODEL2/assets\n"
     ]
    },
    {
     "name": "stderr",
     "output_type": "stream",
     "text": [
      "INFO:tensorflow:Assets written to: ./TIME_SERIES/MODEL2/assets\n",
      "WARNING:absl:<keras.layers.recurrent.LSTMCell object at 0x7fefc8dc9cd0> has the same name 'LSTMCell' as a built-in Keras object. Consider renaming <class 'keras.layers.recurrent.LSTMCell'> to avoid naming conflicts when loading with `tf.keras.models.load_model`. If renaming is not possible, pass the object in the `custom_objects` parameter of the load function.\n"
     ]
    },
    {
     "name": "stdout",
     "output_type": "stream",
     "text": [
      "10/10 [==============================] - 1s 109ms/step - loss: 0.1740 - mae: 0.3766 - val_loss: 0.1505 - val_mae: 0.3401\n",
      "Epoch 3/60\n",
      " 1/10 [==>...........................] - ETA: 0s - loss: 0.1561 - mae: 0.3484INFO:tensorflow:Assets written to: ./TIME_SERIES/MODEL2/assets\n"
     ]
    },
    {
     "name": "stderr",
     "output_type": "stream",
     "text": [
      "INFO:tensorflow:Assets written to: ./TIME_SERIES/MODEL2/assets\n",
      "WARNING:absl:<keras.layers.recurrent.LSTMCell object at 0x7fefc8dc9cd0> has the same name 'LSTMCell' as a built-in Keras object. Consider renaming <class 'keras.layers.recurrent.LSTMCell'> to avoid naming conflicts when loading with `tf.keras.models.load_model`. If renaming is not possible, pass the object in the `custom_objects` parameter of the load function.\n"
     ]
    },
    {
     "name": "stdout",
     "output_type": "stream",
     "text": [
      "10/10 [==============================] - 1s 100ms/step - loss: 0.1385 - mae: 0.3257 - val_loss: 0.1181 - val_mae: 0.2962\n",
      "Epoch 4/60\n",
      " 1/10 [==>...........................] - ETA: 0s - loss: 0.1019 - mae: 0.2571INFO:tensorflow:Assets written to: ./TIME_SERIES/MODEL2/assets\n"
     ]
    },
    {
     "name": "stderr",
     "output_type": "stream",
     "text": [
      "INFO:tensorflow:Assets written to: ./TIME_SERIES/MODEL2/assets\n",
      "WARNING:absl:<keras.layers.recurrent.LSTMCell object at 0x7fefc8dc9cd0> has the same name 'LSTMCell' as a built-in Keras object. Consider renaming <class 'keras.layers.recurrent.LSTMCell'> to avoid naming conflicts when loading with `tf.keras.models.load_model`. If renaming is not possible, pass the object in the `custom_objects` parameter of the load function.\n"
     ]
    },
    {
     "name": "stdout",
     "output_type": "stream",
     "text": [
      "10/10 [==============================] - 1s 100ms/step - loss: 0.1050 - mae: 0.2750 - val_loss: 0.0891 - val_mae: 0.2517\n",
      "Epoch 5/60\n",
      " 1/10 [==>...........................] - ETA: 0s - loss: 0.0972 - mae: 0.2747INFO:tensorflow:Assets written to: ./TIME_SERIES/MODEL2/assets\n"
     ]
    },
    {
     "name": "stderr",
     "output_type": "stream",
     "text": [
      "INFO:tensorflow:Assets written to: ./TIME_SERIES/MODEL2/assets\n",
      "WARNING:absl:<keras.layers.recurrent.LSTMCell object at 0x7fefc8dc9cd0> has the same name 'LSTMCell' as a built-in Keras object. Consider renaming <class 'keras.layers.recurrent.LSTMCell'> to avoid naming conflicts when loading with `tf.keras.models.load_model`. If renaming is not possible, pass the object in the `custom_objects` parameter of the load function.\n"
     ]
    },
    {
     "name": "stdout",
     "output_type": "stream",
     "text": [
      "10/10 [==============================] - 1s 111ms/step - loss: 0.0773 - mae: 0.2315 - val_loss: 0.0666 - val_mae: 0.2150\n",
      "Epoch 6/60\n",
      " 1/10 [==>...........................] - ETA: 0s - loss: 0.0542 - mae: 0.1936INFO:tensorflow:Assets written to: ./TIME_SERIES/MODEL2/assets\n"
     ]
    },
    {
     "name": "stderr",
     "output_type": "stream",
     "text": [
      "INFO:tensorflow:Assets written to: ./TIME_SERIES/MODEL2/assets\n",
      "WARNING:absl:<keras.layers.recurrent.LSTMCell object at 0x7fefc8dc9cd0> has the same name 'LSTMCell' as a built-in Keras object. Consider renaming <class 'keras.layers.recurrent.LSTMCell'> to avoid naming conflicts when loading with `tf.keras.models.load_model`. If renaming is not possible, pass the object in the `custom_objects` parameter of the load function.\n"
     ]
    },
    {
     "name": "stdout",
     "output_type": "stream",
     "text": [
      "10/10 [==============================] - 1s 93ms/step - loss: 0.0571 - mae: 0.1999 - val_loss: 0.0518 - val_mae: 0.1910\n",
      "Epoch 7/60\n",
      " 1/10 [==>...........................] - ETA: 0s - loss: 0.0578 - mae: 0.1984INFO:tensorflow:Assets written to: ./TIME_SERIES/MODEL2/assets\n"
     ]
    },
    {
     "name": "stderr",
     "output_type": "stream",
     "text": [
      "INFO:tensorflow:Assets written to: ./TIME_SERIES/MODEL2/assets\n",
      "WARNING:absl:<keras.layers.recurrent.LSTMCell object at 0x7fefc8dc9cd0> has the same name 'LSTMCell' as a built-in Keras object. Consider renaming <class 'keras.layers.recurrent.LSTMCell'> to avoid naming conflicts when loading with `tf.keras.models.load_model`. If renaming is not possible, pass the object in the `custom_objects` parameter of the load function.\n"
     ]
    },
    {
     "name": "stdout",
     "output_type": "stream",
     "text": [
      "10/10 [==============================] - 1s 94ms/step - loss: 0.0452 - mae: 0.1815 - val_loss: 0.0425 - val_mae: 0.1743\n",
      "Epoch 8/60\n",
      " 1/10 [==>...........................] - ETA: 0s - loss: 0.0404 - mae: 0.1703INFO:tensorflow:Assets written to: ./TIME_SERIES/MODEL2/assets\n"
     ]
    },
    {
     "name": "stderr",
     "output_type": "stream",
     "text": [
      "INFO:tensorflow:Assets written to: ./TIME_SERIES/MODEL2/assets\n",
      "WARNING:absl:<keras.layers.recurrent.LSTMCell object at 0x7fefc8dc9cd0> has the same name 'LSTMCell' as a built-in Keras object. Consider renaming <class 'keras.layers.recurrent.LSTMCell'> to avoid naming conflicts when loading with `tf.keras.models.load_model`. If renaming is not possible, pass the object in the `custom_objects` parameter of the load function.\n"
     ]
    },
    {
     "name": "stdout",
     "output_type": "stream",
     "text": [
      "10/10 [==============================] - 1s 113ms/step - loss: 0.0364 - mae: 0.1641 - val_loss: 0.0356 - val_mae: 0.1594\n",
      "Epoch 9/60\n",
      " 1/10 [==>...........................] - ETA: 0s - loss: 0.0331 - mae: 0.1642INFO:tensorflow:Assets written to: ./TIME_SERIES/MODEL2/assets\n"
     ]
    },
    {
     "name": "stderr",
     "output_type": "stream",
     "text": [
      "INFO:tensorflow:Assets written to: ./TIME_SERIES/MODEL2/assets\n",
      "WARNING:absl:<keras.layers.recurrent.LSTMCell object at 0x7fefc8dc9cd0> has the same name 'LSTMCell' as a built-in Keras object. Consider renaming <class 'keras.layers.recurrent.LSTMCell'> to avoid naming conflicts when loading with `tf.keras.models.load_model`. If renaming is not possible, pass the object in the `custom_objects` parameter of the load function.\n"
     ]
    },
    {
     "name": "stdout",
     "output_type": "stream",
     "text": [
      "10/10 [==============================] - 1s 98ms/step - loss: 0.0296 - mae: 0.1478 - val_loss: 0.0292 - val_mae: 0.1439\n",
      "Epoch 10/60\n",
      " 1/10 [==>...........................] - ETA: 0s - loss: 0.0252 - mae: 0.1378INFO:tensorflow:Assets written to: ./TIME_SERIES/MODEL2/assets\n"
     ]
    },
    {
     "name": "stderr",
     "output_type": "stream",
     "text": [
      "INFO:tensorflow:Assets written to: ./TIME_SERIES/MODEL2/assets\n",
      "WARNING:absl:<keras.layers.recurrent.LSTMCell object at 0x7fefc8dc9cd0> has the same name 'LSTMCell' as a built-in Keras object. Consider renaming <class 'keras.layers.recurrent.LSTMCell'> to avoid naming conflicts when loading with `tf.keras.models.load_model`. If renaming is not possible, pass the object in the `custom_objects` parameter of the load function.\n"
     ]
    },
    {
     "name": "stdout",
     "output_type": "stream",
     "text": [
      "10/10 [==============================] - 1s 95ms/step - loss: 0.0236 - mae: 0.1306 - val_loss: 0.0232 - val_mae: 0.1278\n",
      "Epoch 11/60\n",
      " 1/10 [==>...........................] - ETA: 0s - loss: 0.0182 - mae: 0.1127INFO:tensorflow:Assets written to: ./TIME_SERIES/MODEL2/assets\n"
     ]
    },
    {
     "name": "stderr",
     "output_type": "stream",
     "text": [
      "INFO:tensorflow:Assets written to: ./TIME_SERIES/MODEL2/assets\n",
      "WARNING:absl:<keras.layers.recurrent.LSTMCell object at 0x7fefc8dc9cd0> has the same name 'LSTMCell' as a built-in Keras object. Consider renaming <class 'keras.layers.recurrent.LSTMCell'> to avoid naming conflicts when loading with `tf.keras.models.load_model`. If renaming is not possible, pass the object in the `custom_objects` parameter of the load function.\n"
     ]
    },
    {
     "name": "stdout",
     "output_type": "stream",
     "text": [
      "10/10 [==============================] - 1s 108ms/step - loss: 0.0181 - mae: 0.1133 - val_loss: 0.0182 - val_mae: 0.1112\n",
      "Epoch 12/60\n",
      " 1/10 [==>...........................] - ETA: 0s - loss: 0.0148 - mae: 0.1038INFO:tensorflow:Assets written to: ./TIME_SERIES/MODEL2/assets\n"
     ]
    },
    {
     "name": "stderr",
     "output_type": "stream",
     "text": [
      "INFO:tensorflow:Assets written to: ./TIME_SERIES/MODEL2/assets\n",
      "WARNING:absl:<keras.layers.recurrent.LSTMCell object at 0x7fefc8dc9cd0> has the same name 'LSTMCell' as a built-in Keras object. Consider renaming <class 'keras.layers.recurrent.LSTMCell'> to avoid naming conflicts when loading with `tf.keras.models.load_model`. If renaming is not possible, pass the object in the `custom_objects` parameter of the load function.\n"
     ]
    },
    {
     "name": "stdout",
     "output_type": "stream",
     "text": [
      "10/10 [==============================] - 1s 93ms/step - loss: 0.0139 - mae: 0.0974 - val_loss: 0.0143 - val_mae: 0.0976\n",
      "Epoch 13/60\n",
      " 1/10 [==>...........................] - ETA: 0s - loss: 0.0105 - mae: 0.0844INFO:tensorflow:Assets written to: ./TIME_SERIES/MODEL2/assets\n"
     ]
    },
    {
     "name": "stderr",
     "output_type": "stream",
     "text": [
      "INFO:tensorflow:Assets written to: ./TIME_SERIES/MODEL2/assets\n",
      "WARNING:absl:<keras.layers.recurrent.LSTMCell object at 0x7fefc8dc9cd0> has the same name 'LSTMCell' as a built-in Keras object. Consider renaming <class 'keras.layers.recurrent.LSTMCell'> to avoid naming conflicts when loading with `tf.keras.models.load_model`. If renaming is not possible, pass the object in the `custom_objects` parameter of the load function.\n"
     ]
    },
    {
     "name": "stdout",
     "output_type": "stream",
     "text": [
      "10/10 [==============================] - 1s 93ms/step - loss: 0.0109 - mae: 0.0850 - val_loss: 0.0119 - val_mae: 0.0883\n",
      "Epoch 14/60\n",
      " 1/10 [==>...........................] - ETA: 0s - loss: 0.0103 - mae: 0.0826INFO:tensorflow:Assets written to: ./TIME_SERIES/MODEL2/assets\n"
     ]
    },
    {
     "name": "stderr",
     "output_type": "stream",
     "text": [
      "INFO:tensorflow:Assets written to: ./TIME_SERIES/MODEL2/assets\n",
      "WARNING:absl:<keras.layers.recurrent.LSTMCell object at 0x7fefc8dc9cd0> has the same name 'LSTMCell' as a built-in Keras object. Consider renaming <class 'keras.layers.recurrent.LSTMCell'> to avoid naming conflicts when loading with `tf.keras.models.load_model`. If renaming is not possible, pass the object in the `custom_objects` parameter of the load function.\n"
     ]
    },
    {
     "name": "stdout",
     "output_type": "stream",
     "text": [
      "10/10 [==============================] - 1s 109ms/step - loss: 0.0090 - mae: 0.0763 - val_loss: 0.0103 - val_mae: 0.0826\n",
      "Epoch 15/60\n",
      " 1/10 [==>...........................] - ETA: 0s - loss: 0.0065 - mae: 0.0636INFO:tensorflow:Assets written to: ./TIME_SERIES/MODEL2/assets\n"
     ]
    },
    {
     "name": "stderr",
     "output_type": "stream",
     "text": [
      "INFO:tensorflow:Assets written to: ./TIME_SERIES/MODEL2/assets\n",
      "WARNING:absl:<keras.layers.recurrent.LSTMCell object at 0x7fefc8dc9cd0> has the same name 'LSTMCell' as a built-in Keras object. Consider renaming <class 'keras.layers.recurrent.LSTMCell'> to avoid naming conflicts when loading with `tf.keras.models.load_model`. If renaming is not possible, pass the object in the `custom_objects` parameter of the load function.\n"
     ]
    },
    {
     "name": "stdout",
     "output_type": "stream",
     "text": [
      "10/10 [==============================] - 1s 96ms/step - loss: 0.0078 - mae: 0.0704 - val_loss: 0.0092 - val_mae: 0.0781\n",
      "Epoch 16/60\n",
      " 1/10 [==>...........................] - ETA: 0s - loss: 0.0062 - mae: 0.0640INFO:tensorflow:Assets written to: ./TIME_SERIES/MODEL2/assets\n"
     ]
    },
    {
     "name": "stderr",
     "output_type": "stream",
     "text": [
      "INFO:tensorflow:Assets written to: ./TIME_SERIES/MODEL2/assets\n",
      "WARNING:absl:<keras.layers.recurrent.LSTMCell object at 0x7fefc8dc9cd0> has the same name 'LSTMCell' as a built-in Keras object. Consider renaming <class 'keras.layers.recurrent.LSTMCell'> to avoid naming conflicts when loading with `tf.keras.models.load_model`. If renaming is not possible, pass the object in the `custom_objects` parameter of the load function.\n"
     ]
    },
    {
     "name": "stdout",
     "output_type": "stream",
     "text": [
      "10/10 [==============================] - 1s 111ms/step - loss: 0.0072 - mae: 0.0672 - val_loss: 0.0086 - val_mae: 0.0751\n",
      "Epoch 17/60\n",
      " 1/10 [==>...........................] - ETA: 0s - loss: 0.0054 - mae: 0.0584INFO:tensorflow:Assets written to: ./TIME_SERIES/MODEL2/assets\n"
     ]
    },
    {
     "name": "stderr",
     "output_type": "stream",
     "text": [
      "INFO:tensorflow:Assets written to: ./TIME_SERIES/MODEL2/assets\n",
      "WARNING:absl:<keras.layers.recurrent.LSTMCell object at 0x7fefc8dc9cd0> has the same name 'LSTMCell' as a built-in Keras object. Consider renaming <class 'keras.layers.recurrent.LSTMCell'> to avoid naming conflicts when loading with `tf.keras.models.load_model`. If renaming is not possible, pass the object in the `custom_objects` parameter of the load function.\n"
     ]
    },
    {
     "name": "stdout",
     "output_type": "stream",
     "text": [
      "10/10 [==============================] - 1s 98ms/step - loss: 0.0068 - mae: 0.0650 - val_loss: 0.0083 - val_mae: 0.0733\n",
      "Epoch 18/60\n",
      " 1/10 [==>...........................] - ETA: 0s - loss: 0.0056 - mae: 0.0549INFO:tensorflow:Assets written to: ./TIME_SERIES/MODEL2/assets\n"
     ]
    },
    {
     "name": "stderr",
     "output_type": "stream",
     "text": [
      "INFO:tensorflow:Assets written to: ./TIME_SERIES/MODEL2/assets\n",
      "WARNING:absl:<keras.layers.recurrent.LSTMCell object at 0x7fefc8dc9cd0> has the same name 'LSTMCell' as a built-in Keras object. Consider renaming <class 'keras.layers.recurrent.LSTMCell'> to avoid naming conflicts when loading with `tf.keras.models.load_model`. If renaming is not possible, pass the object in the `custom_objects` parameter of the load function.\n"
     ]
    },
    {
     "name": "stdout",
     "output_type": "stream",
     "text": [
      "10/10 [==============================] - 1s 95ms/step - loss: 0.0066 - mae: 0.0638 - val_loss: 0.0079 - val_mae: 0.0709\n",
      "Epoch 19/60\n",
      " 1/10 [==>...........................] - ETA: 0s - loss: 0.0062 - mae: 0.0582INFO:tensorflow:Assets written to: ./TIME_SERIES/MODEL2/assets\n"
     ]
    },
    {
     "name": "stderr",
     "output_type": "stream",
     "text": [
      "INFO:tensorflow:Assets written to: ./TIME_SERIES/MODEL2/assets\n",
      "WARNING:absl:<keras.layers.recurrent.LSTMCell object at 0x7fefc8dc9cd0> has the same name 'LSTMCell' as a built-in Keras object. Consider renaming <class 'keras.layers.recurrent.LSTMCell'> to avoid naming conflicts when loading with `tf.keras.models.load_model`. If renaming is not possible, pass the object in the `custom_objects` parameter of the load function.\n"
     ]
    },
    {
     "name": "stdout",
     "output_type": "stream",
     "text": [
      "10/10 [==============================] - 1s 110ms/step - loss: 0.0063 - mae: 0.0625 - val_loss: 0.0078 - val_mae: 0.0696\n",
      "Epoch 20/60\n",
      " 1/10 [==>...........................] - ETA: 0s - loss: 0.0044 - mae: 0.0538INFO:tensorflow:Assets written to: ./TIME_SERIES/MODEL2/assets\n"
     ]
    },
    {
     "name": "stderr",
     "output_type": "stream",
     "text": [
      "INFO:tensorflow:Assets written to: ./TIME_SERIES/MODEL2/assets\n",
      "WARNING:absl:<keras.layers.recurrent.LSTMCell object at 0x7fefc8dc9cd0> has the same name 'LSTMCell' as a built-in Keras object. Consider renaming <class 'keras.layers.recurrent.LSTMCell'> to avoid naming conflicts when loading with `tf.keras.models.load_model`. If renaming is not possible, pass the object in the `custom_objects` parameter of the load function.\n"
     ]
    },
    {
     "name": "stdout",
     "output_type": "stream",
     "text": [
      "10/10 [==============================] - 1s 95ms/step - loss: 0.0062 - mae: 0.0620 - val_loss: 0.0076 - val_mae: 0.0682\n",
      "Epoch 21/60\n",
      " 1/10 [==>...........................] - ETA: 0s - loss: 0.0064 - mae: 0.0634INFO:tensorflow:Assets written to: ./TIME_SERIES/MODEL2/assets\n"
     ]
    },
    {
     "name": "stderr",
     "output_type": "stream",
     "text": [
      "INFO:tensorflow:Assets written to: ./TIME_SERIES/MODEL2/assets\n",
      "WARNING:absl:<keras.layers.recurrent.LSTMCell object at 0x7fefc8dc9cd0> has the same name 'LSTMCell' as a built-in Keras object. Consider renaming <class 'keras.layers.recurrent.LSTMCell'> to avoid naming conflicts when loading with `tf.keras.models.load_model`. If renaming is not possible, pass the object in the `custom_objects` parameter of the load function.\n"
     ]
    },
    {
     "name": "stdout",
     "output_type": "stream",
     "text": [
      "10/10 [==============================] - 1s 95ms/step - loss: 0.0060 - mae: 0.0610 - val_loss: 0.0072 - val_mae: 0.0665\n",
      "Epoch 22/60\n",
      " 1/10 [==>...........................] - ETA: 0s - loss: 0.0076 - mae: 0.0703INFO:tensorflow:Assets written to: ./TIME_SERIES/MODEL2/assets\n"
     ]
    },
    {
     "name": "stderr",
     "output_type": "stream",
     "text": [
      "INFO:tensorflow:Assets written to: ./TIME_SERIES/MODEL2/assets\n",
      "WARNING:absl:<keras.layers.recurrent.LSTMCell object at 0x7fefc8dc9cd0> has the same name 'LSTMCell' as a built-in Keras object. Consider renaming <class 'keras.layers.recurrent.LSTMCell'> to avoid naming conflicts when loading with `tf.keras.models.load_model`. If renaming is not possible, pass the object in the `custom_objects` parameter of the load function.\n"
     ]
    },
    {
     "name": "stdout",
     "output_type": "stream",
     "text": [
      "10/10 [==============================] - 1s 111ms/step - loss: 0.0059 - mae: 0.0605 - val_loss: 0.0072 - val_mae: 0.0658\n",
      "Epoch 23/60\n",
      " 1/10 [==>...........................] - ETA: 0s - loss: 0.0061 - mae: 0.0618INFO:tensorflow:Assets written to: ./TIME_SERIES/MODEL2/assets\n"
     ]
    },
    {
     "name": "stderr",
     "output_type": "stream",
     "text": [
      "INFO:tensorflow:Assets written to: ./TIME_SERIES/MODEL2/assets\n",
      "WARNING:absl:<keras.layers.recurrent.LSTMCell object at 0x7fefc8dc9cd0> has the same name 'LSTMCell' as a built-in Keras object. Consider renaming <class 'keras.layers.recurrent.LSTMCell'> to avoid naming conflicts when loading with `tf.keras.models.load_model`. If renaming is not possible, pass the object in the `custom_objects` parameter of the load function.\n"
     ]
    },
    {
     "name": "stdout",
     "output_type": "stream",
     "text": [
      "10/10 [==============================] - 1s 96ms/step - loss: 0.0058 - mae: 0.0601 - val_loss: 0.0070 - val_mae: 0.0650\n",
      "Epoch 24/60\n",
      "10/10 [==============================] - 0s 5ms/step - loss: 0.0058 - mae: 0.0601 - val_loss: 0.0071 - val_mae: 0.0649\n",
      "Epoch 25/60\n",
      " 1/10 [==>...........................] - ETA: 0s - loss: 0.0042 - mae: 0.0519INFO:tensorflow:Assets written to: ./TIME_SERIES/MODEL2/assets\n"
     ]
    },
    {
     "name": "stderr",
     "output_type": "stream",
     "text": [
      "INFO:tensorflow:Assets written to: ./TIME_SERIES/MODEL2/assets\n",
      "WARNING:absl:<keras.layers.recurrent.LSTMCell object at 0x7fefc8dc9cd0> has the same name 'LSTMCell' as a built-in Keras object. Consider renaming <class 'keras.layers.recurrent.LSTMCell'> to avoid naming conflicts when loading with `tf.keras.models.load_model`. If renaming is not possible, pass the object in the `custom_objects` parameter of the load function.\n"
     ]
    },
    {
     "name": "stdout",
     "output_type": "stream",
     "text": [
      "10/10 [==============================] - 1s 95ms/step - loss: 0.0057 - mae: 0.0598 - val_loss: 0.0067 - val_mae: 0.0637\n",
      "Epoch 26/60\n",
      "10/10 [==============================] - 0s 5ms/step - loss: 0.0056 - mae: 0.0593 - val_loss: 0.0067 - val_mae: 0.0633\n",
      "Epoch 27/60\n",
      "10/10 [==============================] - 0s 5ms/step - loss: 0.0056 - mae: 0.0595 - val_loss: 0.0068 - val_mae: 0.0636\n",
      "Epoch 28/60\n",
      " 1/10 [==>...........................] - ETA: 0s - loss: 0.0063 - mae: 0.0661INFO:tensorflow:Assets written to: ./TIME_SERIES/MODEL2/assets\n"
     ]
    },
    {
     "name": "stderr",
     "output_type": "stream",
     "text": [
      "INFO:tensorflow:Assets written to: ./TIME_SERIES/MODEL2/assets\n",
      "WARNING:absl:<keras.layers.recurrent.LSTMCell object at 0x7fefc8dc9cd0> has the same name 'LSTMCell' as a built-in Keras object. Consider renaming <class 'keras.layers.recurrent.LSTMCell'> to avoid naming conflicts when loading with `tf.keras.models.load_model`. If renaming is not possible, pass the object in the `custom_objects` parameter of the load function.\n"
     ]
    },
    {
     "name": "stdout",
     "output_type": "stream",
     "text": [
      "10/10 [==============================] - 1s 112ms/step - loss: 0.0055 - mae: 0.0590 - val_loss: 0.0065 - val_mae: 0.0624\n",
      "Epoch 29/60\n",
      "10/10 [==============================] - 0s 5ms/step - loss: 0.0055 - mae: 0.0590 - val_loss: 0.0065 - val_mae: 0.0624\n",
      "Epoch 30/60\n",
      "10/10 [==============================] - 0s 5ms/step - loss: 0.0055 - mae: 0.0588 - val_loss: 0.0065 - val_mae: 0.0622\n",
      "Epoch 31/60\n",
      " 1/10 [==>...........................] - ETA: 0s - loss: 0.0065 - mae: 0.0656INFO:tensorflow:Assets written to: ./TIME_SERIES/MODEL2/assets\n"
     ]
    },
    {
     "name": "stderr",
     "output_type": "stream",
     "text": [
      "INFO:tensorflow:Assets written to: ./TIME_SERIES/MODEL2/assets\n",
      "WARNING:absl:<keras.layers.recurrent.LSTMCell object at 0x7fefc8dc9cd0> has the same name 'LSTMCell' as a built-in Keras object. Consider renaming <class 'keras.layers.recurrent.LSTMCell'> to avoid naming conflicts when loading with `tf.keras.models.load_model`. If renaming is not possible, pass the object in the `custom_objects` parameter of the load function.\n"
     ]
    },
    {
     "name": "stdout",
     "output_type": "stream",
     "text": [
      "10/10 [==============================] - 1s 95ms/step - loss: 0.0054 - mae: 0.0585 - val_loss: 0.0063 - val_mae: 0.0616\n",
      "Epoch 32/60\n",
      "10/10 [==============================] - 0s 5ms/step - loss: 0.0054 - mae: 0.0584 - val_loss: 0.0063 - val_mae: 0.0614\n",
      "Epoch 33/60\n",
      " 1/10 [==>...........................] - ETA: 0s - loss: 0.0050 - mae: 0.0572INFO:tensorflow:Assets written to: ./TIME_SERIES/MODEL2/assets\n"
     ]
    },
    {
     "name": "stderr",
     "output_type": "stream",
     "text": [
      "INFO:tensorflow:Assets written to: ./TIME_SERIES/MODEL2/assets\n",
      "WARNING:absl:<keras.layers.recurrent.LSTMCell object at 0x7fefc8dc9cd0> has the same name 'LSTMCell' as a built-in Keras object. Consider renaming <class 'keras.layers.recurrent.LSTMCell'> to avoid naming conflicts when loading with `tf.keras.models.load_model`. If renaming is not possible, pass the object in the `custom_objects` parameter of the load function.\n"
     ]
    },
    {
     "name": "stdout",
     "output_type": "stream",
     "text": [
      "10/10 [==============================] - 1s 94ms/step - loss: 0.0053 - mae: 0.0583 - val_loss: 0.0063 - val_mae: 0.0612\n",
      "Epoch 34/60\n",
      " 1/10 [==>...........................] - ETA: 0s - loss: 0.0072 - mae: 0.0701INFO:tensorflow:Assets written to: ./TIME_SERIES/MODEL2/assets\n"
     ]
    },
    {
     "name": "stderr",
     "output_type": "stream",
     "text": [
      "INFO:tensorflow:Assets written to: ./TIME_SERIES/MODEL2/assets\n",
      "WARNING:absl:<keras.layers.recurrent.LSTMCell object at 0x7fefc8dc9cd0> has the same name 'LSTMCell' as a built-in Keras object. Consider renaming <class 'keras.layers.recurrent.LSTMCell'> to avoid naming conflicts when loading with `tf.keras.models.load_model`. If renaming is not possible, pass the object in the `custom_objects` parameter of the load function.\n"
     ]
    },
    {
     "name": "stdout",
     "output_type": "stream",
     "text": [
      "10/10 [==============================] - 1s 108ms/step - loss: 0.0053 - mae: 0.0582 - val_loss: 0.0062 - val_mae: 0.0608\n",
      "Epoch 35/60\n",
      " 1/10 [==>...........................] - ETA: 0s - loss: 0.0053 - mae: 0.0578INFO:tensorflow:Assets written to: ./TIME_SERIES/MODEL2/assets\n"
     ]
    },
    {
     "name": "stderr",
     "output_type": "stream",
     "text": [
      "INFO:tensorflow:Assets written to: ./TIME_SERIES/MODEL2/assets\n",
      "WARNING:absl:<keras.layers.recurrent.LSTMCell object at 0x7fefc8dc9cd0> has the same name 'LSTMCell' as a built-in Keras object. Consider renaming <class 'keras.layers.recurrent.LSTMCell'> to avoid naming conflicts when loading with `tf.keras.models.load_model`. If renaming is not possible, pass the object in the `custom_objects` parameter of the load function.\n"
     ]
    },
    {
     "name": "stdout",
     "output_type": "stream",
     "text": [
      "10/10 [==============================] - 1s 94ms/step - loss: 0.0053 - mae: 0.0580 - val_loss: 0.0062 - val_mae: 0.0606\n",
      "Epoch 36/60\n",
      " 1/10 [==>...........................] - ETA: 0s - loss: 0.0056 - mae: 0.0606INFO:tensorflow:Assets written to: ./TIME_SERIES/MODEL2/assets\n"
     ]
    },
    {
     "name": "stderr",
     "output_type": "stream",
     "text": [
      "INFO:tensorflow:Assets written to: ./TIME_SERIES/MODEL2/assets\n",
      "WARNING:absl:<keras.layers.recurrent.LSTMCell object at 0x7fefc8dc9cd0> has the same name 'LSTMCell' as a built-in Keras object. Consider renaming <class 'keras.layers.recurrent.LSTMCell'> to avoid naming conflicts when loading with `tf.keras.models.load_model`. If renaming is not possible, pass the object in the `custom_objects` parameter of the load function.\n"
     ]
    },
    {
     "name": "stdout",
     "output_type": "stream",
     "text": [
      "10/10 [==============================] - 1s 93ms/step - loss: 0.0052 - mae: 0.0579 - val_loss: 0.0061 - val_mae: 0.0604\n",
      "Epoch 37/60\n",
      " 1/10 [==>...........................] - ETA: 0s - loss: 0.0051 - mae: 0.0560INFO:tensorflow:Assets written to: ./TIME_SERIES/MODEL2/assets\n"
     ]
    },
    {
     "name": "stderr",
     "output_type": "stream",
     "text": [
      "INFO:tensorflow:Assets written to: ./TIME_SERIES/MODEL2/assets\n",
      "WARNING:absl:<keras.layers.recurrent.LSTMCell object at 0x7fefc8dc9cd0> has the same name 'LSTMCell' as a built-in Keras object. Consider renaming <class 'keras.layers.recurrent.LSTMCell'> to avoid naming conflicts when loading with `tf.keras.models.load_model`. If renaming is not possible, pass the object in the `custom_objects` parameter of the load function.\n"
     ]
    },
    {
     "name": "stdout",
     "output_type": "stream",
     "text": [
      "10/10 [==============================] - 1s 108ms/step - loss: 0.0052 - mae: 0.0577 - val_loss: 0.0061 - val_mae: 0.0602\n",
      "Epoch 38/60\n",
      " 1/10 [==>...........................] - ETA: 0s - loss: 0.0051 - mae: 0.0543INFO:tensorflow:Assets written to: ./TIME_SERIES/MODEL2/assets\n"
     ]
    },
    {
     "name": "stderr",
     "output_type": "stream",
     "text": [
      "INFO:tensorflow:Assets written to: ./TIME_SERIES/MODEL2/assets\n",
      "WARNING:absl:<keras.layers.recurrent.LSTMCell object at 0x7fefc8dc9cd0> has the same name 'LSTMCell' as a built-in Keras object. Consider renaming <class 'keras.layers.recurrent.LSTMCell'> to avoid naming conflicts when loading with `tf.keras.models.load_model`. If renaming is not possible, pass the object in the `custom_objects` parameter of the load function.\n"
     ]
    },
    {
     "name": "stdout",
     "output_type": "stream",
     "text": [
      "10/10 [==============================] - 1s 95ms/step - loss: 0.0052 - mae: 0.0575 - val_loss: 0.0060 - val_mae: 0.0598\n",
      "Epoch 39/60\n",
      " 1/10 [==>...........................] - ETA: 0s - loss: 0.0042 - mae: 0.0510INFO:tensorflow:Assets written to: ./TIME_SERIES/MODEL2/assets\n"
     ]
    },
    {
     "name": "stderr",
     "output_type": "stream",
     "text": [
      "INFO:tensorflow:Assets written to: ./TIME_SERIES/MODEL2/assets\n",
      "WARNING:absl:<keras.layers.recurrent.LSTMCell object at 0x7fefc8dc9cd0> has the same name 'LSTMCell' as a built-in Keras object. Consider renaming <class 'keras.layers.recurrent.LSTMCell'> to avoid naming conflicts when loading with `tf.keras.models.load_model`. If renaming is not possible, pass the object in the `custom_objects` parameter of the load function.\n"
     ]
    },
    {
     "name": "stdout",
     "output_type": "stream",
     "text": [
      "10/10 [==============================] - 1s 97ms/step - loss: 0.0051 - mae: 0.0573 - val_loss: 0.0060 - val_mae: 0.0597\n",
      "Epoch 40/60\n",
      " 1/10 [==>...........................] - ETA: 0s - loss: 0.0059 - mae: 0.0622INFO:tensorflow:Assets written to: ./TIME_SERIES/MODEL2/assets\n"
     ]
    },
    {
     "name": "stderr",
     "output_type": "stream",
     "text": [
      "INFO:tensorflow:Assets written to: ./TIME_SERIES/MODEL2/assets\n",
      "WARNING:absl:<keras.layers.recurrent.LSTMCell object at 0x7fefc8dc9cd0> has the same name 'LSTMCell' as a built-in Keras object. Consider renaming <class 'keras.layers.recurrent.LSTMCell'> to avoid naming conflicts when loading with `tf.keras.models.load_model`. If renaming is not possible, pass the object in the `custom_objects` parameter of the load function.\n"
     ]
    },
    {
     "name": "stdout",
     "output_type": "stream",
     "text": [
      "10/10 [==============================] - 1s 112ms/step - loss: 0.0051 - mae: 0.0573 - val_loss: 0.0059 - val_mae: 0.0593\n",
      "Epoch 41/60\n",
      " 1/10 [==>...........................] - ETA: 0s - loss: 0.0052 - mae: 0.0563INFO:tensorflow:Assets written to: ./TIME_SERIES/MODEL2/assets\n"
     ]
    },
    {
     "name": "stderr",
     "output_type": "stream",
     "text": [
      "INFO:tensorflow:Assets written to: ./TIME_SERIES/MODEL2/assets\n",
      "WARNING:absl:<keras.layers.recurrent.LSTMCell object at 0x7fefc8dc9cd0> has the same name 'LSTMCell' as a built-in Keras object. Consider renaming <class 'keras.layers.recurrent.LSTMCell'> to avoid naming conflicts when loading with `tf.keras.models.load_model`. If renaming is not possible, pass the object in the `custom_objects` parameter of the load function.\n"
     ]
    },
    {
     "name": "stdout",
     "output_type": "stream",
     "text": [
      "10/10 [==============================] - 1s 97ms/step - loss: 0.0051 - mae: 0.0571 - val_loss: 0.0058 - val_mae: 0.0591\n",
      "Epoch 42/60\n",
      "10/10 [==============================] - 0s 5ms/step - loss: 0.0051 - mae: 0.0572 - val_loss: 0.0059 - val_mae: 0.0592\n",
      "Epoch 43/60\n",
      " 1/10 [==>...........................] - ETA: 0s - loss: 0.0036 - mae: 0.0482INFO:tensorflow:Assets written to: ./TIME_SERIES/MODEL2/assets\n"
     ]
    },
    {
     "name": "stderr",
     "output_type": "stream",
     "text": [
      "INFO:tensorflow:Assets written to: ./TIME_SERIES/MODEL2/assets\n",
      "WARNING:absl:<keras.layers.recurrent.LSTMCell object at 0x7fefc8dc9cd0> has the same name 'LSTMCell' as a built-in Keras object. Consider renaming <class 'keras.layers.recurrent.LSTMCell'> to avoid naming conflicts when loading with `tf.keras.models.load_model`. If renaming is not possible, pass the object in the `custom_objects` parameter of the load function.\n"
     ]
    },
    {
     "name": "stdout",
     "output_type": "stream",
     "text": [
      "10/10 [==============================] - 1s 98ms/step - loss: 0.0050 - mae: 0.0567 - val_loss: 0.0057 - val_mae: 0.0586\n",
      "Epoch 44/60\n",
      "10/10 [==============================] - 0s 6ms/step - loss: 0.0050 - mae: 0.0566 - val_loss: 0.0057 - val_mae: 0.0585\n",
      "Epoch 45/60\n",
      " 1/10 [==>...........................] - ETA: 0s - loss: 0.0047 - mae: 0.0557INFO:tensorflow:Assets written to: ./TIME_SERIES/MODEL2/assets\n"
     ]
    },
    {
     "name": "stderr",
     "output_type": "stream",
     "text": [
      "INFO:tensorflow:Assets written to: ./TIME_SERIES/MODEL2/assets\n",
      "WARNING:absl:<keras.layers.recurrent.LSTMCell object at 0x7fefc8dc9cd0> has the same name 'LSTMCell' as a built-in Keras object. Consider renaming <class 'keras.layers.recurrent.LSTMCell'> to avoid naming conflicts when loading with `tf.keras.models.load_model`. If renaming is not possible, pass the object in the `custom_objects` parameter of the load function.\n"
     ]
    },
    {
     "name": "stdout",
     "output_type": "stream",
     "text": [
      "10/10 [==============================] - 1s 112ms/step - loss: 0.0050 - mae: 0.0567 - val_loss: 0.0057 - val_mae: 0.0583\n",
      "Epoch 46/60\n",
      " 1/10 [==>...........................] - ETA: 0s - loss: 0.0062 - mae: 0.0638INFO:tensorflow:Assets written to: ./TIME_SERIES/MODEL2/assets\n"
     ]
    },
    {
     "name": "stderr",
     "output_type": "stream",
     "text": [
      "INFO:tensorflow:Assets written to: ./TIME_SERIES/MODEL2/assets\n",
      "WARNING:absl:<keras.layers.recurrent.LSTMCell object at 0x7fefc8dc9cd0> has the same name 'LSTMCell' as a built-in Keras object. Consider renaming <class 'keras.layers.recurrent.LSTMCell'> to avoid naming conflicts when loading with `tf.keras.models.load_model`. If renaming is not possible, pass the object in the `custom_objects` parameter of the load function.\n"
     ]
    },
    {
     "name": "stdout",
     "output_type": "stream",
     "text": [
      "10/10 [==============================] - 1s 95ms/step - loss: 0.0049 - mae: 0.0563 - val_loss: 0.0056 - val_mae: 0.0580\n",
      "Epoch 47/60\n",
      "10/10 [==============================] - 0s 6ms/step - loss: 0.0049 - mae: 0.0561 - val_loss: 0.0056 - val_mae: 0.0580\n",
      "Epoch 48/60\n",
      " 1/10 [==>...........................] - ETA: 0s - loss: 0.0049 - mae: 0.0585INFO:tensorflow:Assets written to: ./TIME_SERIES/MODEL2/assets\n"
     ]
    },
    {
     "name": "stderr",
     "output_type": "stream",
     "text": [
      "INFO:tensorflow:Assets written to: ./TIME_SERIES/MODEL2/assets\n",
      "WARNING:absl:<keras.layers.recurrent.LSTMCell object at 0x7fefc8dc9cd0> has the same name 'LSTMCell' as a built-in Keras object. Consider renaming <class 'keras.layers.recurrent.LSTMCell'> to avoid naming conflicts when loading with `tf.keras.models.load_model`. If renaming is not possible, pass the object in the `custom_objects` parameter of the load function.\n"
     ]
    },
    {
     "name": "stdout",
     "output_type": "stream",
     "text": [
      "10/10 [==============================] - 1s 97ms/step - loss: 0.0049 - mae: 0.0560 - val_loss: 0.0055 - val_mae: 0.0576\n",
      "Epoch 49/60\n",
      " 1/10 [==>...........................] - ETA: 0s - loss: 0.0049 - mae: 0.0571INFO:tensorflow:Assets written to: ./TIME_SERIES/MODEL2/assets\n"
     ]
    },
    {
     "name": "stderr",
     "output_type": "stream",
     "text": [
      "INFO:tensorflow:Assets written to: ./TIME_SERIES/MODEL2/assets\n",
      "WARNING:absl:<keras.layers.recurrent.LSTMCell object at 0x7fefc8dc9cd0> has the same name 'LSTMCell' as a built-in Keras object. Consider renaming <class 'keras.layers.recurrent.LSTMCell'> to avoid naming conflicts when loading with `tf.keras.models.load_model`. If renaming is not possible, pass the object in the `custom_objects` parameter of the load function.\n"
     ]
    },
    {
     "name": "stdout",
     "output_type": "stream",
     "text": [
      "10/10 [==============================] - 1s 109ms/step - loss: 0.0048 - mae: 0.0559 - val_loss: 0.0055 - val_mae: 0.0575\n",
      "Epoch 50/60\n",
      " 1/10 [==>...........................] - ETA: 0s - loss: 0.0046 - mae: 0.0539INFO:tensorflow:Assets written to: ./TIME_SERIES/MODEL2/assets\n"
     ]
    },
    {
     "name": "stderr",
     "output_type": "stream",
     "text": [
      "INFO:tensorflow:Assets written to: ./TIME_SERIES/MODEL2/assets\n",
      "WARNING:absl:<keras.layers.recurrent.LSTMCell object at 0x7fefc8dc9cd0> has the same name 'LSTMCell' as a built-in Keras object. Consider renaming <class 'keras.layers.recurrent.LSTMCell'> to avoid naming conflicts when loading with `tf.keras.models.load_model`. If renaming is not possible, pass the object in the `custom_objects` parameter of the load function.\n"
     ]
    },
    {
     "name": "stdout",
     "output_type": "stream",
     "text": [
      "10/10 [==============================] - 1s 95ms/step - loss: 0.0048 - mae: 0.0557 - val_loss: 0.0054 - val_mae: 0.0571\n",
      "Epoch 51/60\n",
      "10/10 [==============================] - 0s 5ms/step - loss: 0.0048 - mae: 0.0554 - val_loss: 0.0055 - val_mae: 0.0574\n",
      "Epoch 52/60\n",
      " 1/10 [==>...........................] - ETA: 0s - loss: 0.0054 - mae: 0.0587INFO:tensorflow:Assets written to: ./TIME_SERIES/MODEL2/assets\n"
     ]
    },
    {
     "name": "stderr",
     "output_type": "stream",
     "text": [
      "INFO:tensorflow:Assets written to: ./TIME_SERIES/MODEL2/assets\n",
      "WARNING:absl:<keras.layers.recurrent.LSTMCell object at 0x7fefc8dc9cd0> has the same name 'LSTMCell' as a built-in Keras object. Consider renaming <class 'keras.layers.recurrent.LSTMCell'> to avoid naming conflicts when loading with `tf.keras.models.load_model`. If renaming is not possible, pass the object in the `custom_objects` parameter of the load function.\n"
     ]
    },
    {
     "name": "stdout",
     "output_type": "stream",
     "text": [
      "10/10 [==============================] - 1s 97ms/step - loss: 0.0048 - mae: 0.0554 - val_loss: 0.0053 - val_mae: 0.0566\n",
      "Epoch 53/60\n",
      "10/10 [==============================] - 0s 5ms/step - loss: 0.0047 - mae: 0.0552 - val_loss: 0.0054 - val_mae: 0.0567\n",
      "Epoch 54/60\n",
      " 1/10 [==>...........................] - ETA: 0s - loss: 0.0043 - mae: 0.0540INFO:tensorflow:Assets written to: ./TIME_SERIES/MODEL2/assets\n"
     ]
    },
    {
     "name": "stderr",
     "output_type": "stream",
     "text": [
      "INFO:tensorflow:Assets written to: ./TIME_SERIES/MODEL2/assets\n",
      "WARNING:absl:<keras.layers.recurrent.LSTMCell object at 0x7fefc8dc9cd0> has the same name 'LSTMCell' as a built-in Keras object. Consider renaming <class 'keras.layers.recurrent.LSTMCell'> to avoid naming conflicts when loading with `tf.keras.models.load_model`. If renaming is not possible, pass the object in the `custom_objects` parameter of the load function.\n"
     ]
    },
    {
     "name": "stdout",
     "output_type": "stream",
     "text": [
      "10/10 [==============================] - 1s 108ms/step - loss: 0.0047 - mae: 0.0551 - val_loss: 0.0053 - val_mae: 0.0563\n",
      "Epoch 55/60\n",
      "10/10 [==============================] - 0s 5ms/step - loss: 0.0047 - mae: 0.0549 - val_loss: 0.0053 - val_mae: 0.0563\n",
      "Epoch 56/60\n",
      " 1/10 [==>...........................] - ETA: 0s - loss: 0.0042 - mae: 0.0528INFO:tensorflow:Assets written to: ./TIME_SERIES/MODEL2/assets\n"
     ]
    },
    {
     "name": "stderr",
     "output_type": "stream",
     "text": [
      "INFO:tensorflow:Assets written to: ./TIME_SERIES/MODEL2/assets\n",
      "WARNING:absl:<keras.layers.recurrent.LSTMCell object at 0x7fefc8dc9cd0> has the same name 'LSTMCell' as a built-in Keras object. Consider renaming <class 'keras.layers.recurrent.LSTMCell'> to avoid naming conflicts when loading with `tf.keras.models.load_model`. If renaming is not possible, pass the object in the `custom_objects` parameter of the load function.\n"
     ]
    },
    {
     "name": "stdout",
     "output_type": "stream",
     "text": [
      "10/10 [==============================] - 1s 94ms/step - loss: 0.0046 - mae: 0.0547 - val_loss: 0.0052 - val_mae: 0.0559\n",
      "Epoch 57/60\n",
      " 1/10 [==>...........................] - ETA: 0s - loss: 0.0045 - mae: 0.0535INFO:tensorflow:Assets written to: ./TIME_SERIES/MODEL2/assets\n"
     ]
    },
    {
     "name": "stderr",
     "output_type": "stream",
     "text": [
      "INFO:tensorflow:Assets written to: ./TIME_SERIES/MODEL2/assets\n",
      "WARNING:absl:<keras.layers.recurrent.LSTMCell object at 0x7fefc8dc9cd0> has the same name 'LSTMCell' as a built-in Keras object. Consider renaming <class 'keras.layers.recurrent.LSTMCell'> to avoid naming conflicts when loading with `tf.keras.models.load_model`. If renaming is not possible, pass the object in the `custom_objects` parameter of the load function.\n"
     ]
    },
    {
     "name": "stdout",
     "output_type": "stream",
     "text": [
      "10/10 [==============================] - 1s 106ms/step - loss: 0.0046 - mae: 0.0545 - val_loss: 0.0052 - val_mae: 0.0557\n",
      "Epoch 58/60\n",
      " 1/10 [==>...........................] - ETA: 0s - loss: 0.0054 - mae: 0.0586INFO:tensorflow:Assets written to: ./TIME_SERIES/MODEL2/assets\n"
     ]
    },
    {
     "name": "stderr",
     "output_type": "stream",
     "text": [
      "INFO:tensorflow:Assets written to: ./TIME_SERIES/MODEL2/assets\n",
      "WARNING:absl:<keras.layers.recurrent.LSTMCell object at 0x7fefc8dc9cd0> has the same name 'LSTMCell' as a built-in Keras object. Consider renaming <class 'keras.layers.recurrent.LSTMCell'> to avoid naming conflicts when loading with `tf.keras.models.load_model`. If renaming is not possible, pass the object in the `custom_objects` parameter of the load function.\n"
     ]
    },
    {
     "name": "stdout",
     "output_type": "stream",
     "text": [
      "10/10 [==============================] - 1s 95ms/step - loss: 0.0046 - mae: 0.0544 - val_loss: 0.0052 - val_mae: 0.0556\n",
      "Epoch 59/60\n",
      "10/10 [==============================] - 0s 5ms/step - loss: 0.0046 - mae: 0.0548 - val_loss: 0.0052 - val_mae: 0.0555\n",
      "Epoch 60/60\n",
      " 1/10 [==>...........................] - ETA: 0s - loss: 0.0034 - mae: 0.0461INFO:tensorflow:Assets written to: ./TIME_SERIES/MODEL2/assets\n"
     ]
    },
    {
     "name": "stderr",
     "output_type": "stream",
     "text": [
      "INFO:tensorflow:Assets written to: ./TIME_SERIES/MODEL2/assets\n",
      "WARNING:absl:<keras.layers.recurrent.LSTMCell object at 0x7fefc8dc9cd0> has the same name 'LSTMCell' as a built-in Keras object. Consider renaming <class 'keras.layers.recurrent.LSTMCell'> to avoid naming conflicts when loading with `tf.keras.models.load_model`. If renaming is not possible, pass the object in the `custom_objects` parameter of the load function.\n"
     ]
    },
    {
     "name": "stdout",
     "output_type": "stream",
     "text": [
      "10/10 [==============================] - 1s 96ms/step - loss: 0.0046 - mae: 0.0541 - val_loss: 0.0051 - val_mae: 0.0550\n"
     ]
    },
    {
     "data": {
      "text/plain": [
       "<keras.callbacks.History at 0x7fefca252340>"
      ]
     },
     "execution_count": 13,
     "metadata": {},
     "output_type": "execute_result"
    }
   ],
   "source": [
    "model2 = build_LSTM_model(dict_args, X_train)\n",
    "# cp1 = LSTM_model(dict_args, X_train)\n",
    "# print(cp1)\n",
    "\n",
    "epochs = dict_args[\"param_list\"][\"LSTM\"][\"epochs\"]\n",
    "batch_size = dict_args[\"param_list\"][\"LSTM\"][\"batch_size\"]\n",
    "\n",
    "model2.fit(X_train, y_train, validation_data=(X_valid, y_valid), \n",
    "           epochs=epochs, \n",
    "           batch_size=batch_size,\n",
    "           callbacks=[ModelCheckpoint(dict_args['model_file'], save_best_only=True)],\n",
    ") "
   ]
  },
  {
   "cell_type": "code",
   "execution_count": 14,
   "metadata": {
    "colab": {
     "base_uri": "https://localhost:8080/"
    },
    "id": "vdaqGHG4YZkN",
    "outputId": "1c4fb3d1-5130-4dda-c3a1-e5589cfd9f10"
   },
   "outputs": [],
   "source": [
    "# from tensorflow.keras.models import load_model\n",
    "# model1 = load_model('./TIME_SERIES/')\n",
    "# model1.evaluate(X_test, y_test)"
   ]
  },
  {
   "cell_type": "markdown",
   "metadata": {},
   "source": [
    "## 여기 변경 (22-07-06 16:00)"
   ]
  },
  {
   "cell_type": "code",
   "execution_count": 15,
   "metadata": {},
   "outputs": [
    {
     "name": "stdout",
     "output_type": "stream",
     "text": [
      "WARNING:tensorflow:Layer lstm will not use cuDNN kernels since it doesn't meet the criteria. It will use a generic GPU kernel as fallback when running on GPU.\n"
     ]
    },
    {
     "name": "stderr",
     "output_type": "stream",
     "text": [
      "WARNING:tensorflow:Layer lstm will not use cuDNN kernels since it doesn't meet the criteria. It will use a generic GPU kernel as fallback when running on GPU.\n"
     ]
    },
    {
     "name": "stdout",
     "output_type": "stream",
     "text": [
      "4/4 [==============================] - 0s 2ms/step - loss: 0.0050 - mae: 0.0539\n"
     ]
    },
    {
     "data": {
      "text/plain": [
       "[0.004950209986418486, 0.053931672126054764]"
      ]
     },
     "execution_count": 15,
     "metadata": {},
     "output_type": "execute_result"
    }
   ],
   "source": [
    "from tensorflow.keras.models import load_model\n",
    "model2 = load_model('./TIME_SERIES/MODEL2')\n",
    "model2.evaluate(X_test, y_test)"
   ]
  },
  {
   "cell_type": "code",
   "execution_count": 16,
   "metadata": {
    "colab": {
     "base_uri": "https://localhost:8080/",
     "height": 424
    },
    "id": "byObmr8CZRhp",
    "outputId": "bdddd2ae-724c-4534-bfae-81a98a04555e"
   },
   "outputs": [
    {
     "data": {
      "text/html": [
       "<div>\n",
       "<style scoped>\n",
       "    .dataframe tbody tr th:only-of-type {\n",
       "        vertical-align: middle;\n",
       "    }\n",
       "\n",
       "    .dataframe tbody tr th {\n",
       "        vertical-align: top;\n",
       "    }\n",
       "\n",
       "    .dataframe thead th {\n",
       "        text-align: right;\n",
       "    }\n",
       "</style>\n",
       "<table border=\"1\" class=\"dataframe\">\n",
       "  <thead>\n",
       "    <tr style=\"text-align: right;\">\n",
       "      <th></th>\n",
       "      <th>Test Predictions</th>\n",
       "      <th>Actuals</th>\n",
       "      <th>Test Predictions_original_values</th>\n",
       "      <th>Actuals_original_values</th>\n",
       "    </tr>\n",
       "  </thead>\n",
       "  <tbody>\n",
       "    <tr>\n",
       "      <th>0</th>\n",
       "      <td>0.446140</td>\n",
       "      <td>0.415730</td>\n",
       "      <td>18.111939</td>\n",
       "      <td>17.3</td>\n",
       "    </tr>\n",
       "    <tr>\n",
       "      <th>1</th>\n",
       "      <td>0.437719</td>\n",
       "      <td>0.411985</td>\n",
       "      <td>17.887092</td>\n",
       "      <td>17.2</td>\n",
       "    </tr>\n",
       "    <tr>\n",
       "      <th>2</th>\n",
       "      <td>0.423857</td>\n",
       "      <td>0.404494</td>\n",
       "      <td>17.516989</td>\n",
       "      <td>17.0</td>\n",
       "    </tr>\n",
       "    <tr>\n",
       "      <th>3</th>\n",
       "      <td>0.412524</td>\n",
       "      <td>0.498127</td>\n",
       "      <td>17.214381</td>\n",
       "      <td>19.5</td>\n",
       "    </tr>\n",
       "    <tr>\n",
       "      <th>4</th>\n",
       "      <td>0.449861</td>\n",
       "      <td>0.528090</td>\n",
       "      <td>18.211295</td>\n",
       "      <td>20.3</td>\n",
       "    </tr>\n",
       "    <tr>\n",
       "      <th>...</th>\n",
       "      <td>...</td>\n",
       "      <td>...</td>\n",
       "      <td>...</td>\n",
       "      <td>...</td>\n",
       "    </tr>\n",
       "    <tr>\n",
       "      <th>111</th>\n",
       "      <td>0.671490</td>\n",
       "      <td>0.677903</td>\n",
       "      <td>24.128775</td>\n",
       "      <td>24.3</td>\n",
       "    </tr>\n",
       "    <tr>\n",
       "      <th>112</th>\n",
       "      <td>0.686954</td>\n",
       "      <td>0.621723</td>\n",
       "      <td>24.541668</td>\n",
       "      <td>22.8</td>\n",
       "    </tr>\n",
       "    <tr>\n",
       "      <th>113</th>\n",
       "      <td>0.656786</td>\n",
       "      <td>0.617978</td>\n",
       "      <td>23.736185</td>\n",
       "      <td>22.7</td>\n",
       "    </tr>\n",
       "    <tr>\n",
       "      <th>114</th>\n",
       "      <td>0.630322</td>\n",
       "      <td>0.636704</td>\n",
       "      <td>23.029603</td>\n",
       "      <td>23.2</td>\n",
       "    </tr>\n",
       "    <tr>\n",
       "      <th>115</th>\n",
       "      <td>0.625210</td>\n",
       "      <td>0.632959</td>\n",
       "      <td>22.893099</td>\n",
       "      <td>23.1</td>\n",
       "    </tr>\n",
       "  </tbody>\n",
       "</table>\n",
       "<p>116 rows × 4 columns</p>\n",
       "</div>"
      ],
      "text/plain": [
       "     Test Predictions   Actuals  Test Predictions_original_values  \\\n",
       "0            0.446140  0.415730                         18.111939   \n",
       "1            0.437719  0.411985                         17.887092   \n",
       "2            0.423857  0.404494                         17.516989   \n",
       "3            0.412524  0.498127                         17.214381   \n",
       "4            0.449861  0.528090                         18.211295   \n",
       "..                ...       ...                               ...   \n",
       "111          0.671490  0.677903                         24.128775   \n",
       "112          0.686954  0.621723                         24.541668   \n",
       "113          0.656786  0.617978                         23.736185   \n",
       "114          0.630322  0.636704                         23.029603   \n",
       "115          0.625210  0.632959                         22.893099   \n",
       "\n",
       "     Actuals_original_values  \n",
       "0                       17.3  \n",
       "1                       17.2  \n",
       "2                       17.0  \n",
       "3                       19.5  \n",
       "4                       20.3  \n",
       "..                       ...  \n",
       "111                     24.3  \n",
       "112                     22.8  \n",
       "113                     22.7  \n",
       "114                     23.2  \n",
       "115                     23.1  \n",
       "\n",
       "[116 rows x 4 columns]"
      ]
     },
     "metadata": {},
     "output_type": "display_data"
    }
   ],
   "source": [
    "train_predictions = model2.predict(X_test).flatten()\n",
    "train_results = pd.DataFrame(data={'Test Predictions':train_predictions, 'Actuals':y_test})\n",
    "# display(train_results)\n",
    "\n",
    "# 저장된 MIN_MAX 파일 열기\n",
    "min_max_df = pd.read_csv(dict_args['min_max_file'])\n",
    "min_max_df = min_max_df.set_index('VAR')\n",
    "for col in dict_args[\"label\"]:\n",
    "    min_ = min_max_df.loc[col, 'min']\n",
    "    max_ = min_max_df.loc[col, 'max']\n",
    "    \n",
    "    # Scaled Value to Original Value\n",
    "    for label_col in train_results.columns:\n",
    "        label = np.array(train_results[label_col])\n",
    "        result_array = reverse_minmax(label, min_, max_)\n",
    "        train_results[label_col + '_original_values'] = result_array\n",
    "display(train_results)"
   ]
  },
  {
   "cell_type": "code",
   "execution_count": 17,
   "metadata": {},
   "outputs": [],
   "source": [
    "plt.rcParams[\"figure.figsize\"] = (5,5)"
   ]
  },
  {
   "cell_type": "code",
   "execution_count": 18,
   "metadata": {
    "colab": {
     "base_uri": "https://localhost:8080/",
     "height": 282
    },
    "id": "KTqY8r6_Zpev",
    "outputId": "535452a9-b4de-40a0-8ed8-009ada865d83"
   },
   "outputs": [
    {
     "data": {
      "text/plain": [
       "[<matplotlib.lines.Line2D at 0x7fefc82b6c40>]"
      ]
     },
     "execution_count": 18,
     "metadata": {},
     "output_type": "execute_result"
    },
    {
     "data": {
      "image/png": "[encoded data removed]",
      "text/plain": [
       "<Figure size 360x360 with 1 Axes>"
      ]
     },
     "metadata": {
      "needs_background": "light"
     },
     "output_type": "display_data"
    }
   ],
   "source": [
    "import matplotlib.pyplot as plt\n",
    "plt.plot(train_results['Test Predictions_original_values'][50:100], 'r')\n",
    "plt.plot(train_results['Actuals_original_values'][50:100], 'k')"
   ]
  },
  {
   "cell_type": "code",
   "execution_count": null,
   "metadata": {},
   "outputs": [],
   "source": []
  },
  {
   "cell_type": "code",
   "execution_count": null,
   "metadata": {},
   "outputs": [],
   "source": []
  },
  {
   "cell_type": "code",
   "execution_count": null,
   "metadata": {},
   "outputs": [],
   "source": []
  }
 ],
 "metadata": {
  "accelerator": "GPU",
  "colab": {
   "collapsed_sections": [],
   "name": "TEST_LSTM_Time_Series_Forecasting_updated.ipynb",
   "provenance": []
  },
  "gpuClass": "standard",
  "kernelspec": {
   "display_name": "Python 3 (ipykernel)",
   "language": "python",
   "name": "python3"
  },
  "language_info": {
   "codemirror_mode": {
    "name": "ipython",
    "version": 3
   },
   "file_extension": ".py",
   "mimetype": "text/x-python",
   "name": "python",
   "nbconvert_exporter": "python",
   "pygments_lexer": "ipython3",
   "version": "3.8.10"
  }
 },
 "nbformat": 4,
 "nbformat_minor": 4
}
