{
 "cells": [
  {
   "cell_type": "markdown",
   "metadata": {},
   "source": [
    "#### 변경사항\n",
    "1. MarkDown 추가\n",
    "2. 함수 셀 다 위로 올림\n",
    "3. 처음부터 Raw Data의 한글명 변수를 영문명으로 변환\n",
    "4. Temp_1hrAfter, Temp_2hrAfter, Temp_3hrAfter 등 변수 생성\n",
    "5. 전에는 Temp기준으로 모델학습했지만, 추가적으로 Temp_1hrAfter, Temp_2hrAfter 대상도 모델학습\n",
    "6. Single Point Prediction 그래프 추가"
   ]
  },
  {
   "cell_type": "code",
   "execution_count": 1,
   "metadata": {
    "id": "8S-hl2tC-Kmx"
   },
   "outputs": [],
   "source": [
    "# 참고\n",
    "#https://deep-deep-deep.tistory.com/60"
   ]
  },
  {
   "cell_type": "markdown",
   "metadata": {},
   "source": [
    "## Set-up (라이브러리, 파라미터, 함수 설정)"
   ]
  },
  {
   "cell_type": "code",
   "execution_count": 2,
   "metadata": {
    "id": "EbrFD1vMR_qS"
   },
   "outputs": [
    {
     "name": "stderr",
     "output_type": "stream",
     "text": [
      "2022-07-08 06:12:30.385617: I tensorflow/stream_executor/cuda/cuda_gpu_executor.cc:952] successful NUMA node read from SysFS had negative value (-1), but there must be at least one NUMA node, so returning NUMA node zero\n",
      "2022-07-08 06:12:30.408442: I tensorflow/stream_executor/cuda/cuda_gpu_executor.cc:952] successful NUMA node read from SysFS had negative value (-1), but there must be at least one NUMA node, so returning NUMA node zero\n",
      "2022-07-08 06:12:30.408916: I tensorflow/stream_executor/cuda/cuda_gpu_executor.cc:952] successful NUMA node read from SysFS had negative value (-1), but there must be at least one NUMA node, so returning NUMA node zero\n"
     ]
    }
   ],
   "source": [
    "# -----------------------------------------------------------------\n",
    "# 변경: 라이브러리 추가(warnings, matplotlib, seaborn) ; np.set_printoptions 추가\n",
    "# 라이브러리 불러오기\n",
    "import tensorflow as tf\n",
    "import os\n",
    "import pandas as pd\n",
    "import numpy as np\n",
    "from tensorflow.keras.models import Sequential\n",
    "from tensorflow.keras.layers import *\n",
    "from tensorflow.keras.callbacks import ModelCheckpoint\n",
    "from tensorflow.keras.losses import MeanSquaredError\n",
    "from tensorflow.keras.metrics import RootMeanSquaredError\n",
    "from tensorflow.keras.optimizers import Adam\n",
    "import warnings\n",
    "import matplotlib.pyplot as plt\n",
    "import seaborn as sns\n",
    "\n",
    "# 경고 메시지 무시\n",
    "warnings.filterwarnings('ignore')\n",
    "\n",
    "# 테이블에 소수 자리수형태로 나타내기\n",
    "np.set_printoptions(suppress=True)\n",
    "\n",
    "# GPU 1개만 쓰기\n",
    "physical_devices = tf.config.list_physical_devices('GPU')\n",
    "if physical_devices:\n",
    "    tf.config.experimental.set_memory_growth(physical_devices[0], True)\n",
    "# -----------------------------------------------------------------"
   ]
  },
  {
   "cell_type": "code",
   "execution_count": 3,
   "metadata": {},
   "outputs": [
    {
     "name": "stdout",
     "output_type": "stream",
     "text": [
      "/home/alfa_members/hyunjo/tensorflow2\n"
     ]
    }
   ],
   "source": [
    "# 빈폴더 생성\n",
    "if not os.path.exists('./TIME_SERIES/'):\n",
    "    os.mkdir('./TIME_SERIES/')\n",
    "if not os.path.exists('./TIME_SERIES/WEATHER_ASOS_TIME_2006_2206/'):\n",
    "    os.mkdir('./TIME_SERIES/WEATHER_ASOS_TIME_2006_2206/')\n",
    "if not os.path.exists('./TIME_SERIES/CLEAN_WEATHER_ASOS_TIME_2006_2206/'):\n",
    "    os.mkdir('./TIME_SERIES/CLEAN_WEATHER_ASOS_TIME_2006_2206/')\n",
    "    \n",
    "print(os.getcwd())"
   ]
  },
  {
   "cell_type": "code",
   "execution_count": 4,
   "metadata": {
    "colab": {
     "base_uri": "https://localhost:8080/"
    },
    "id": "CuIs6GL13hz1",
    "outputId": "60461adc-5fe3-45bd-ca0a-b20ffc895375"
   },
   "outputs": [],
   "source": [
    "# <---------------- Google Colab에서 돌릴 경우 ----------------> \n",
    "\n",
    "# from google.colab import drive\n",
    "# drive.mount('/content/drive')"
   ]
  },
  {
   "cell_type": "code",
   "execution_count": 5,
   "metadata": {
    "id": "Mi-eK9alBFDe"
   },
   "outputs": [],
   "source": [
    "dict_args = dict()\n",
    "dict_args['raw_file'] = './TIME_SERIES/WEATHER_ASOS_TIME_2006_2206/WEATHER_ASOS_2205.csv'  # 필요시 경로 변경\n",
    "# dict_args['preprocessed_file'] = './TIME_SERIES/CLEAN_WEATHER_ASOS_TIME_2006_2206/CLEAN_WEATHER_ASOS_2205.csv'  # 필요시 경로 변경\n",
    "dict_args['allVar_raw_file'] = './TIME_SERIES/WEATHER_ASOS_TIME_2006_2206/allVar_WEATHER_ASOS_2205.csv'  # 필요시 경로 변경\n",
    "dict_args['allVar_preprocessed_file'] = './TIME_SERIES/CLEAN_WEATHER_ASOS_TIME_2006_2206/allVar_CLEAN_WEATHER_ASOS_2205.csv'  # 필요시 경로 변경\n",
    "dict_args['min_max_file'] = './TIME_SERIES/min_max.csv'\n",
    "dict_args[\"window_size\"] = 4\n",
    "dict_args[\"features\"] = ''\n",
    "dict_args[\"label\"] = ['Temp(°C)','Temp_1hrAfter(°C)','Temp_2hrAfter(°C)','Temp_3hrAfter(°C)','Temp_4hrAfter(°C)','Temp_5hrAfter(°C)',\n",
    "                      'Temp_6hrAfter(°C)','Temp_7hrAfter(°C)','Temp_8hrAfter(°C)','Temp_9hrAfter(°C)','Temp_10hrAfter(°C)',\n",
    "                      'Temp_11hrAfter(°C)','Temp_12hrAfter(°C)']\n",
    "dict_args[\"index\"] = ['AreaCode','AreaName','Timestamp']\n",
    "dict_args[\"area\"] = \"속초\"\n",
    "dict_args[\"test_size\"] = 120\n",
    "dict_args['model_file'] = ''\n",
    "dict_args[\"param_list\"] =  {\n",
    "                            \"LSTM\": {'epochs': 60,\n",
    "                                      'batch_size': 50,\n",
    "                                      'learning_rate': 0.0005,\n",
    "                                    },\n",
    "                            \"GRU\": \n",
    "                                    {'epochs': 60,\n",
    "                                      'batch_size': 50,\n",
    "                                      'learning_rate': 0.0005,\n",
    "                                    },\n",
    "                            }\n"
   ]
  },
  {
   "cell_type": "code",
   "execution_count": 6,
   "metadata": {},
   "outputs": [
    {
     "name": "stdout",
     "output_type": "stream",
     "text": [
      "{'지점': 'AreaCode', '지점명': 'AreaName', '일시': 'Timestamp', '기온(°C)': 'Temp(°C)', '강수량(mm)': 'WaterFall(mm)', '풍속(m/s)': 'WindSpeed(m/s)', '풍향(16방위)': 'WindDir(16)', '습도(%)': 'Dampness(%)', '증기압(hPa)': 'AirPressure(hPa)', '이슬점온도(°C)': 'DewPointTemp(°C)', '현지기압(hPa)': 'LocalPressure(hPa)', '해면기압(hPa)': 'SeaLevelPressure(hPa)', '일조(hr)': 'SunShine(hr)', '일사(MJ/m2)': 'Radiation(MJ/m2)', '적설(cm)': 'Snow(cm)', '3시간신적설(cm)': '3hrsSnow(cm)', '전운량(10분위)': 'FullCloud(10)', '중하층운량(10분위)': 'LowMiddleCloud(10)', '운형(운형약어)': 'CloudShape', '최저운고(100m )': 'MinMaxCloudHeight(100m)', '기온 QC플래그': 'TempQCFlag', '강수량 QC플래그': 'WaterFallQCFlag', '풍속 QC플래그': 'WindSpeedQCFlag', '풍향 QC플래그': 'WindDirQCFlag', '습도 QC플래그': 'DampnessQCFlag', '현지기압 QC플래그': 'LocalPressureQCFlag', '해면기압 QC플래그': 'SeaLevelPressureQCFlag', '일조 QC플래그': 'SunShineQCFlag', '일사 QC플래그': 'RadiationQCFlag'}\n"
     ]
    }
   ],
   "source": [
    "# 한글명 -> 영문명 변경\n",
    "english_var = {\n",
    "    '지점' :  'AreaCode',\n",
    "    '지점명' :  'AreaName',\n",
    "    '일시' :  'Timestamp',\n",
    "    '기온(°C)' :  'Temp(°C)',\n",
    "    '강수량(mm)' :  'WaterFall(mm)',\n",
    "    '풍속(m/s)' :  'WindSpeed(m/s)',\n",
    "    '풍향(16방위)' :  'WindDir(16)',\n",
    "    '습도(%)' :  'Dampness(%)',\n",
    "    '증기압(hPa)' :  'AirPressure(hPa)',\n",
    "    '이슬점온도(°C)' :  'DewPointTemp(°C)',\n",
    "    '현지기압(hPa)' :  'LocalPressure(hPa)',\n",
    "    '해면기압(hPa)' :  'SeaLevelPressure(hPa)',\n",
    "    '일조(hr)' :  'SunShine(hr)',\n",
    "    '일사(MJ/m2)' :  'Radiation(MJ/m2)',\n",
    "    '적설(cm)' :  'Snow(cm)',\n",
    "    '3시간신적설(cm)' :  '3hrsSnow(cm)',\n",
    "    '전운량(10분위)' :  'FullCloud(10)',\n",
    "    '중하층운량(10분위)' :  'LowMiddleCloud(10)',\n",
    "    '운형(운형약어)' :  'CloudShape',\n",
    "    '최저운고(100m )' :  'MinMaxCloudHeight(100m)',\n",
    "    '기온 QC플래그' :  'TempQCFlag',\n",
    "    '강수량 QC플래그' :  'WaterFallQCFlag',\n",
    "    '풍속 QC플래그' :  'WindSpeedQCFlag',\n",
    "    '풍향 QC플래그' :  'WindDirQCFlag',\n",
    "    '습도 QC플래그' :  'DampnessQCFlag',\n",
    "    '현지기압 QC플래그' :  'LocalPressureQCFlag',\n",
    "    '해면기압 QC플래그' :  'SeaLevelPressureQCFlag',\n",
    "    '일조 QC플래그' :  'SunShineQCFlag',\n",
    "    '일사 QC플래그' :  'RadiationQCFlag',\n",
    "}\n",
    "\n",
    "print(english_var)"
   ]
  },
  {
   "cell_type": "code",
   "execution_count": 7,
   "metadata": {},
   "outputs": [],
   "source": [
    "%matplotlib inline\n",
    "\n",
    "plt.rcParams[\"figure.figsize\"] = (15,15)\n",
    "plt.rcParams['lines.linewidth'] = 2\n",
    "plt.rcParams['axes.grid'] = False\n",
    "plt.rcParams['font.size'] = 8"
   ]
  },
  {
   "cell_type": "code",
   "execution_count": 8,
   "metadata": {},
   "outputs": [],
   "source": [
    "# 변수 데이터 분포도\n",
    "def draw_graph(df): \n",
    "    fig, axes = plt.subplots(4, 4, sharex=False)\n",
    "\n",
    "    sns.distplot(df['Temp(°C)'], bins=70, kde=False, ax=axes[0,0])\n",
    "    sns.distplot(df['WaterFall(mm)'], bins=70, kde=False, ax=axes[0,1])\n",
    "    sns.distplot(df['WindSpeed(m/s)'], bins=70, kde=False, ax=axes[0,2])\n",
    "    sns.distplot(df['WindDir(16)'], bins=70, kde=False, ax=axes[0,3])\n",
    "    sns.distplot(df['Dampness(%)'], bins=70, kde=False, ax=axes[1,0])\n",
    "    sns.distplot(df['AirPressure(hPa)'], bins=70, kde=False, ax=axes[1,1])\n",
    "    sns.distplot(df['DewPointTemp(°C)'], bins=70, kde=False, ax=axes[1,2])\n",
    "    sns.distplot(df['LocalPressure(hPa)'], bins=70, kde=False, ax=axes[1,3])\n",
    "    sns.distplot(df['SeaLevelPressure(hPa)'], bins=70, kde=False, ax=axes[2,0])\n",
    "    sns.distplot(df['SunShine(hr)'], bins=70, kde=False, ax=axes[2,1])\n",
    "    sns.distplot(df['Radiation(MJ/m2)'], bins=70, kde=False, ax=axes[2,2])\n",
    "    sns.distplot(df['Snow(cm)'], bins=70, kde=False, ax=axes[2,3]) \n",
    "    sns.distplot(df['3hrsSnow(cm)'], bins=70, kde=False, ax=axes[3,0])\n",
    "    sns.distplot(df['FullCloud(10)'], bins=70, kde=False, ax=axes[3,1])\n",
    "    sns.distplot(df['LowMiddleCloud(10)'], bins=70, kde=False, ax=axes[3,2])\n",
    "    sns.distplot(df['CloudShape'], bins=70, kde=False, ax=axes[3,3])\n",
    "    \n",
    "    plt.plot()\n",
    "\n",
    "\n",
    "def make_preprocessed_file(p_args):\n",
    "\n",
    "    try: \n",
    "        df = pd.read_csv(p_args['allVar_raw_file'], encoding='utf-8') \n",
    "    except:\n",
    "        df = pd.read_csv(p_args['allVar_raw_file'], encoding='euc-kr')\n",
    "\n",
    "    # display(df)\n",
    "    # print(df.columns)\n",
    "    columns = ['AreaCode','AreaName','Timestamp']\n",
    "    columns.extend(p_args[\"features\"])\n",
    "    print(columns)\n",
    "\n",
    "    df = df[columns]\n",
    "    df = df[df['AreaName'] == p_args[\"area\"]] \n",
    "    df.index = pd.to_datetime(df['Timestamp'], format='%Y-%m-%d %H:%S')\n",
    "\n",
    "    df = df[p_args[\"features\"]]\n",
    "    \n",
    "    # 변수 Float Type으로 저장 및 Null값 제거 \n",
    "    df = df.astype('float32')\n",
    "    df = df.fillna(0)\n",
    "    print(df.info())\n",
    "    print(df.isna().sum())\n",
    "    display(df)\n",
    "    df.to_csv(p_args['allVar_preprocessed_file'], encoding='utf-8')\n",
    "    return p_args\n",
    "\n",
    "\n",
    "def make_dataset_regression(data, label, window_size):\n",
    "    feature_list = []\n",
    "    label_list = []\n",
    "    for i in range(len(data) - window_size):\n",
    "        feature_list.append(np.array(data.iloc[i:i+window_size]))\n",
    "        # print('feature list: ', np.array(data.iloc[i:i+window_size]))\n",
    "        label_list.append(np.array(label.iloc[i+window_size]))\n",
    "        # print('label list: ', np.array(label.iloc[i:i+window_size])) \n",
    "    return np.array(feature_list), np.array(label_list)\n",
    "\n",
    "\n",
    "def split_dataset_regression(p_args, scaling_flag=True):\n",
    "   \n",
    "    df = pd.read_csv(p_args[\"allVar_preprocessed_file\"])\n",
    "    # df = df.fillna(0)\n",
    "    df = df.set_index('Timestamp')\n",
    "    # df = df.astype(float)\n",
    "\n",
    "    # 수치 정규화 \n",
    "    if scaling_flag: \n",
    "        print('정규화된 데이터입니다.')\n",
    "        df_scaled = df.copy()\n",
    "        \n",
    "        min_max_df = pd.DataFrame() \n",
    "        for col in df_scaled.columns:\n",
    "            min_ = np.min(df_scaled[col])\n",
    "            max_ = np.max(df_scaled[col])\n",
    "\n",
    "            min_max_dict = dict()\n",
    "            scaled_list = list()\n",
    "            for x in df_scaled[col]:\n",
    "                scaled_x = (x - min_) / (max_ - min_)\n",
    "                scaled_list.append(scaled_x)\n",
    "            df_scaled[col] = scaled_list   \n",
    "            \n",
    "            min_max_dict['VAR'] = col\n",
    "            min_max_dict['min'] = min_\n",
    "            min_max_dict['max'] = max_            \n",
    "                \n",
    "            min_max_list = []\n",
    "            min_max_list.append(min_max_dict)\n",
    "            tmpdf = pd.DataFrame(min_max_list)\n",
    "            # display(tmpdf)\n",
    "            min_max_df = pd.concat([min_max_df, tmpdf], axis=0) \n",
    "                \n",
    "        # 중간에 MIN_MAX 파일로 저장 (나중에 원래 수치로 다시 계산할때 필요)\n",
    "        min_max_df.to_csv(p_args[\"min_max_file\"], index=None, encoding='utf-8')\n",
    "\n",
    "    else:\n",
    "        print('정규화가 제외된 데이터입니다.')\n",
    "        df_scaled = df.copy()\n",
    "        # display(df_scaled.head(5))\n",
    "    \n",
    "    # Train과 Test 분리\n",
    "    train = df_scaled[:-p_args[\"test_size\"]]\n",
    "    test = df_scaled[-p_args[\"test_size\"]:]\n",
    "    print(\"train: \", train.shape, type(train))\n",
    "    print(\"test: \", test.shape, type(test))\n",
    "    # display(train.head(5))\n",
    "    # display(test.head(5))\n",
    "    \n",
    "    train_feature, train_label = make_dataset_regression(train[p_args[\"features\"]], train[p_args[\"label\"]], window_size = p_args[\"window_size\"])\n",
    "    print(\"train_feature: \", train_feature.shape, type(train_feature))\n",
    "    print(\"train_label: \", train_label.shape, type(train_label))\n",
    "    \n",
    "    # Train에서 Train Set, Valid Set 분리 (검증셋)\n",
    "    from sklearn.model_selection import train_test_split\n",
    "    X_train, X_valid, y_train, y_valid = train_test_split(train_feature, train_label, test_size = 0.2)\n",
    "    \n",
    "    # ----------------------------------------------------\n",
    "    # 변경: y_train -> y_train_list (y_train_list에 Temp뿐만 아니라, Temp_1hrAfter, Temp_2hrAfter 등 변수를 함께 묶어서 저장)\n",
    "    X_train = X_train.astype(float)\n",
    "    y_train_list = y_train.astype(float)\n",
    "    X_valid = X_valid.astype(float)\n",
    "    y_valid_list = y_valid.astype(float)\n",
    "\n",
    "    print(\"X_train: \",  X_train.shape, type(X_train))\n",
    "    print(\"y_train_list: \",  y_train_list.shape, type(y_train))\n",
    "    print(\"X_valid: \",  X_valid.shape, type(X_valid))\n",
    "    print(\"y_valid_list: \",  y_valid_list.shape, type(y_valid))\n",
    "    \n",
    "    # Test set에서 feature, label 분리\n",
    "    X_test, y_test = make_dataset_regression(test[p_args[\"features\"]], test[p_args[\"label\"]], window_size = p_args[\"window_size\"])\n",
    "    y_test_list = y_test\n",
    "    print(\"X_test: \", X_test.shape)\n",
    "    print(\"y_test_list: \", y_test_list.shape)\n",
    "    \n",
    "    print(X_train[0])\n",
    "    print(y_train[0])\n",
    "\n",
    "    return train, test, train_feature, train_label, X_train, y_train_list, X_valid, y_valid_list, X_test, y_test_list\n",
    "\n",
    "\n",
    "def build_LSTM_model(p_args, train_set):\n",
    "    model = Sequential()\n",
    "    model.add(LSTM(32, \n",
    "              input_shape=(train_set.shape[1], train_set.shape[2]),\n",
    "              activation='relu',\n",
    "              return_sequences=False))\n",
    "    model.add(Dense(4, 'relu'))\n",
    "    model.add(Dense(1))\n",
    "    print(model.summary())\n",
    "\n",
    "    # cp = ModelCheckpoint(p_args['model_file'], save_best_only=True)\n",
    "    model.compile(loss='mean_squared_error', \n",
    "                  optimizer= Adam(learning_rate=p_args[\"param_list\"][\"LSTM\"][\"learning_rate\"]), \n",
    "                  metrics=['mae'],\n",
    "                  )\n",
    "    return model\n",
    "\n",
    "\n",
    "def build_GRU_model(p_args, train_set):\n",
    "    model = Sequential()\n",
    "    model.add(GRU(32, \n",
    "              input_shape=(train_set.shape[1], train_set.shape[2]),\n",
    "              activation='relu',\n",
    "              return_sequences=False))\n",
    "    model.add(Dense(4, 'relu'))\n",
    "    model.add(Dense(1))\n",
    "    print(model.summary())\n",
    "\n",
    "    # cp = ModelCheckpoint(p_args['model_file'], save_best_only=True)\n",
    "    model.compile(loss='mean_squared_error', \n",
    "                  optimizer= Adam(learning_rate=p_args[\"param_list\"][\"LSTM\"][\"learning_rate\"]), \n",
    "                  metrics=['mae'],\n",
    "                  )\n",
    "    return model\n",
    "\n",
    "\n",
    "def reverse_minmax(label, min_, max_):\n",
    "    result_list = list()\n",
    "    for element in label:\n",
    "        new_element = element * (max_ - min_) + min_\n",
    "        result_list.append(new_element)\n",
    "    result_array = np.array(result_list)\n",
    "    return result_array\n",
    "\n",
    "\n",
    "# 변경: 한글 변수명 -> 영문 변경 함수 추가\n",
    "def change_col_to_english(df, english_var):\n",
    "    english_names = list()\n",
    "        \n",
    "    for col in df.columns.tolist():\n",
    "        try:\n",
    "            english_names.append(english_var.get(col))\n",
    "        except:\n",
    "            pass\n",
    "    df.columns = english_names\n",
    "    return df\n",
    "# -----------------------------------------------------------------"
   ]
  },
  {
   "cell_type": "code",
   "execution_count": null,
   "metadata": {},
   "outputs": [],
   "source": []
  },
  {
   "cell_type": "markdown",
   "metadata": {},
   "source": [
    "## EDA (변수별 분포 그래프 그리기, 필요한 변수 탐색)"
   ]
  },
  {
   "cell_type": "code",
   "execution_count": 9,
   "metadata": {},
   "outputs": [
    {
     "name": "stdout",
     "output_type": "stream",
     "text": [
      "Index(['AreaCode', 'AreaName', 'Timestamp', 'Temp(°C)', 'TempQCFlag',\n",
      "       'WaterFall(mm)', 'WaterFallQCFlag', 'WindSpeed(m/s)', 'WindSpeedQCFlag',\n",
      "       'WindDir(16)', 'WindDirQCFlag', 'Dampness(%)', 'DampnessQCFlag',\n",
      "       'AirPressure(hPa)', 'DewPointTemp(°C)', 'LocalPressure(hPa)',\n",
      "       'LocalPressureQCFlag', 'SeaLevelPressure(hPa)',\n",
      "       'SeaLevelPressureQCFlag', 'SunShine(hr)', 'SunShineQCFlag',\n",
      "       'Radiation(MJ/m2)', 'RadiationQCFlag', 'Snow(cm)', '3hrsSnow(cm)',\n",
      "       'FullCloud(10)', 'LowMiddleCloud(10)', 'CloudShape',\n",
      "       'MinMaxCloudHeight(100m)'],\n",
      "      dtype='object')\n",
      "16\n",
      "변수별 NULL 값 확인----\n",
      "AreaCode                     0\n",
      "AreaName                     0\n",
      "Timestamp                    0\n",
      "Temp(°C)                     0\n",
      "TempQCFlag                 744\n",
      "WaterFall(mm)              702\n",
      "WaterFallQCFlag            597\n",
      "WindSpeed(m/s)               0\n",
      "WindSpeedQCFlag            744\n",
      "WindDir(16)                  0\n",
      "WindDirQCFlag              744\n",
      "Dampness(%)                  0\n",
      "DampnessQCFlag             744\n",
      "AirPressure(hPa)             0\n",
      "DewPointTemp(°C)             0\n",
      "LocalPressure(hPa)           0\n",
      "LocalPressureQCFlag        744\n",
      "SeaLevelPressure(hPa)        0\n",
      "SeaLevelPressureQCFlag     744\n",
      "SunShine(hr)               279\n",
      "SunShineQCFlag             465\n",
      "Radiation(MJ/m2)           744\n",
      "RadiationQCFlag              0\n",
      "Snow(cm)                   744\n",
      "3hrsSnow(cm)               744\n",
      "FullCloud(10)                5\n",
      "LowMiddleCloud(10)           2\n",
      "CloudShape                 744\n",
      "MinMaxCloudHeight(100m)    516\n",
      "dtype: int64\n",
      "--------------------------------------------------------------------------------\n"
     ]
    },
    {
     "data": {
      "image/png": "[encoded data removed]",
      "text/plain": [
       "<Figure size 1080x1080 with 16 Axes>"
      ]
     },
     "metadata": {
      "needs_background": "light"
     },
     "output_type": "display_data"
    }
   ],
   "source": [
    "# 파일 읽기\n",
    "df = pd.read_csv(dict_args['raw_file'], encoding='euc-kr')\n",
    "# 한글 변수명 영문으로 바꾸기\n",
    "df = change_col_to_english(df, english_var)\n",
    "# display(df)\n",
    "print(df.columns)\n",
    "df = df[df['AreaName']==dict_args[\"area\"]]\n",
    "\n",
    "\n",
    "# 변수별 데이터 분포 확인\n",
    "graph_cols = ['Temp(°C)','WaterFall(mm)','WindSpeed(m/s)','WindDir(16)','Dampness(%)','AirPressure(hPa)','DewPointTemp(°C)',\n",
    "              'LocalPressure(hPa)','SeaLevelPressure(hPa)','SunShine(hr)','Radiation(MJ/m2)','Snow(cm)','3hrsSnow(cm)',\n",
    "              'FullCloud(10)','LowMiddleCloud(10)','CloudShape']\n",
    "print(len(graph_cols))\n",
    "graph_df = df[graph_cols]\n",
    "draw_graph(graph_df)\n",
    "\n",
    "# 변수별 NULL 값 확인 \n",
    "print(\"변수별 NULL 값 확인----\")\n",
    "print(df.isna().sum())\n",
    "print(\"-\"*80)\n",
    "\n",
    "drop_columns = [\n",
    "\"TempQCFlag\",\n",
    "\"WaterFall(mm)\",\n",
    "\"WaterFallQCFlag\",\n",
    "\"WindSpeedQCFlag\",\n",
    "\"WindDir(16)\",\n",
    "\"WindDirQCFlag\",\n",
    "\"DampnessQCFlag\",\n",
    "\"LocalPressureQCFlag\",\n",
    "\"SeaLevelPressureQCFlag\",\n",
    "\"SunShine(hr)\",\n",
    "\"SunShineQCFlag\",\n",
    "\"Radiation(MJ/m2)\",\n",
    "\"RadiationQCFlag\",\n",
    "\"Snow(cm)\",\n",
    "\"3hrsSnow(cm)\",\n",
    "\"FullCloud(10)\",\n",
    "\"LowMiddleCloud(10)\",\n",
    "\"CloudShape\",\n",
    "\"MinMaxCloudHeight(100m)\"\n",
    "]\n",
    "\n",
    "# 불필요한 변수 제거 (Flag 변수는 BIT변수라서 제거, NULL값이 많은 변수 제거, 구름과 관련된 변수는 우선 제거)\n",
    "df = df.drop(drop_columns, axis=1)\n",
    "\n",
    "# 변경: 1~12 시간 뒤 기온 변수 생성\n",
    "df['Temp_1hrAfter(°C)'] = df['Temp(°C)'].shift(-1)\n",
    "df['Temp_2hrAfter(°C)'] = df['Temp(°C)'].shift(-2)\n",
    "df['Temp_3hrAfter(°C)'] = df['Temp(°C)'].shift(-3)\n",
    "df['Temp_4hrAfter(°C)'] = df['Temp(°C)'].shift(-4)\n",
    "df['Temp_5hrAfter(°C)'] = df['Temp(°C)'].shift(-5)\n",
    "df['Temp_6hrAfter(°C)'] = df['Temp(°C)'].shift(-6)\n",
    "df['Temp_7hrAfter(°C)'] = df['Temp(°C)'].shift(-7)\n",
    "df['Temp_8hrAfter(°C)'] = df['Temp(°C)'].shift(-8)\n",
    "df['Temp_9hrAfter(°C)'] = df['Temp(°C)'].shift(-9)\n",
    "df['Temp_10hrAfter(°C)'] = df['Temp(°C)'].shift(-10)\n",
    "df['Temp_11hrAfter(°C)'] = df['Temp(°C)'].shift(-11)\n",
    "df['Temp_12hrAfter(°C)'] = df['Temp(°C)'].shift(-12)\n",
    "\n",
    "\n",
    "# 제일 밑 12개 행 제거 (Temp_1hrAfter 등 변수 생성시 Null값 존재)\n",
    "df = df.head(df.shape[0] - 12)\n",
    "\n",
    "# 필요한 변수만 선택해서 allVar_Raw File 명으로 저장\n",
    "df.to_csv(dict_args['allVar_raw_file'], index=None)\n",
    "\n",
    "# Feature 리스트 저장\n",
    "column_list = df.columns.tolist()\n",
    "del column_list[0:3]\n",
    "dict_args[\"features\"] = column_list\n",
    "# -----------------------------------------------------------------"
   ]
  },
  {
   "cell_type": "markdown",
   "metadata": {},
   "source": [
    "## Raw Data 전처리 및 Preprocessed File 생성"
   ]
  },
  {
   "cell_type": "code",
   "execution_count": 10,
   "metadata": {},
   "outputs": [
    {
     "name": "stdout",
     "output_type": "stream",
     "text": [
      "['AreaCode', 'AreaName', 'Timestamp', 'Temp(°C)', 'WindSpeed(m/s)', 'Dampness(%)', 'AirPressure(hPa)', 'DewPointTemp(°C)', 'LocalPressure(hPa)', 'SeaLevelPressure(hPa)', 'Temp_1hrAfter(°C)', 'Temp_2hrAfter(°C)', 'Temp_3hrAfter(°C)', 'Temp_4hrAfter(°C)', 'Temp_5hrAfter(°C)', 'Temp_6hrAfter(°C)', 'Temp_7hrAfter(°C)', 'Temp_8hrAfter(°C)', 'Temp_9hrAfter(°C)', 'Temp_10hrAfter(°C)', 'Temp_11hrAfter(°C)', 'Temp_12hrAfter(°C)']\n",
      "<class 'pandas.core.frame.DataFrame'>\n",
      "DatetimeIndex: 732 entries, 2022-05-01 01:00:00 to 2022-05-31 12:00:00\n",
      "Data columns (total 19 columns):\n",
      " #   Column                 Non-Null Count  Dtype  \n",
      "---  ------                 --------------  -----  \n",
      " 0   Temp(°C)               732 non-null    float32\n",
      " 1   WindSpeed(m/s)         732 non-null    float32\n",
      " 2   Dampness(%)            732 non-null    float32\n",
      " 3   AirPressure(hPa)       732 non-null    float32\n",
      " 4   DewPointTemp(°C)       732 non-null    float32\n",
      " 5   LocalPressure(hPa)     732 non-null    float32\n",
      " 6   SeaLevelPressure(hPa)  732 non-null    float32\n",
      " 7   Temp_1hrAfter(°C)      732 non-null    float32\n",
      " 8   Temp_2hrAfter(°C)      732 non-null    float32\n",
      " 9   Temp_3hrAfter(°C)      732 non-null    float32\n",
      " 10  Temp_4hrAfter(°C)      732 non-null    float32\n",
      " 11  Temp_5hrAfter(°C)      732 non-null    float32\n",
      " 12  Temp_6hrAfter(°C)      732 non-null    float32\n",
      " 13  Temp_7hrAfter(°C)      732 non-null    float32\n",
      " 14  Temp_8hrAfter(°C)      732 non-null    float32\n",
      " 15  Temp_9hrAfter(°C)      732 non-null    float32\n",
      " 16  Temp_10hrAfter(°C)     732 non-null    float32\n",
      " 17  Temp_11hrAfter(°C)     732 non-null    float32\n",
      " 18  Temp_12hrAfter(°C)     732 non-null    float32\n",
      "dtypes: float32(19)\n",
      "memory usage: 60.0 KB\n",
      "None\n",
      "Temp(°C)                 0\n",
      "WindSpeed(m/s)           0\n",
      "Dampness(%)              0\n",
      "AirPressure(hPa)         0\n",
      "DewPointTemp(°C)         0\n",
      "LocalPressure(hPa)       0\n",
      "SeaLevelPressure(hPa)    0\n",
      "Temp_1hrAfter(°C)        0\n",
      "Temp_2hrAfter(°C)        0\n",
      "Temp_3hrAfter(°C)        0\n",
      "Temp_4hrAfter(°C)        0\n",
      "Temp_5hrAfter(°C)        0\n",
      "Temp_6hrAfter(°C)        0\n",
      "Temp_7hrAfter(°C)        0\n",
      "Temp_8hrAfter(°C)        0\n",
      "Temp_9hrAfter(°C)        0\n",
      "Temp_10hrAfter(°C)       0\n",
      "Temp_11hrAfter(°C)       0\n",
      "Temp_12hrAfter(°C)       0\n",
      "dtype: int64\n"
     ]
    },
    {
     "data": {
      "text/html": [
       "<div>\n",
       "<style scoped>\n",
       "    .dataframe tbody tr th:only-of-type {\n",
       "        vertical-align: middle;\n",
       "    }\n",
       "\n",
       "    .dataframe tbody tr th {\n",
       "        vertical-align: top;\n",
       "    }\n",
       "\n",
       "    .dataframe thead th {\n",
       "        text-align: right;\n",
       "    }\n",
       "</style>\n",
       "<table border=\"1\" class=\"dataframe\">\n",
       "  <thead>\n",
       "    <tr style=\"text-align: right;\">\n",
       "      <th></th>\n",
       "      <th>Temp(°C)</th>\n",
       "      <th>WindSpeed(m/s)</th>\n",
       "      <th>Dampness(%)</th>\n",
       "      <th>AirPressure(hPa)</th>\n",
       "      <th>DewPointTemp(°C)</th>\n",
       "      <th>LocalPressure(hPa)</th>\n",
       "      <th>SeaLevelPressure(hPa)</th>\n",
       "      <th>Temp_1hrAfter(°C)</th>\n",
       "      <th>Temp_2hrAfter(°C)</th>\n",
       "      <th>Temp_3hrAfter(°C)</th>\n",
       "      <th>Temp_4hrAfter(°C)</th>\n",
       "      <th>Temp_5hrAfter(°C)</th>\n",
       "      <th>Temp_6hrAfter(°C)</th>\n",
       "      <th>Temp_7hrAfter(°C)</th>\n",
       "      <th>Temp_8hrAfter(°C)</th>\n",
       "      <th>Temp_9hrAfter(°C)</th>\n",
       "      <th>Temp_10hrAfter(°C)</th>\n",
       "      <th>Temp_11hrAfter(°C)</th>\n",
       "      <th>Temp_12hrAfter(°C)</th>\n",
       "    </tr>\n",
       "    <tr>\n",
       "      <th>Timestamp</th>\n",
       "      <th></th>\n",
       "      <th></th>\n",
       "      <th></th>\n",
       "      <th></th>\n",
       "      <th></th>\n",
       "      <th></th>\n",
       "      <th></th>\n",
       "      <th></th>\n",
       "      <th></th>\n",
       "      <th></th>\n",
       "      <th></th>\n",
       "      <th></th>\n",
       "      <th></th>\n",
       "      <th></th>\n",
       "      <th></th>\n",
       "      <th></th>\n",
       "      <th></th>\n",
       "      <th></th>\n",
       "      <th></th>\n",
       "    </tr>\n",
       "  </thead>\n",
       "  <tbody>\n",
       "    <tr>\n",
       "      <th>2022-05-01 01:00:00</th>\n",
       "      <td>11.400000</td>\n",
       "      <td>1.7</td>\n",
       "      <td>46.0</td>\n",
       "      <td>6.200000</td>\n",
       "      <td>0.1</td>\n",
       "      <td>1011.700012</td>\n",
       "      <td>1013.799988</td>\n",
       "      <td>11.900000</td>\n",
       "      <td>10.700000</td>\n",
       "      <td>10.5</td>\n",
       "      <td>10.2</td>\n",
       "      <td>10.200000</td>\n",
       "      <td>13.000000</td>\n",
       "      <td>14.100000</td>\n",
       "      <td>14.700000</td>\n",
       "      <td>16.200001</td>\n",
       "      <td>17.700001</td>\n",
       "      <td>18.400000</td>\n",
       "      <td>19.500000</td>\n",
       "    </tr>\n",
       "    <tr>\n",
       "      <th>2022-05-01 02:00:00</th>\n",
       "      <td>11.900000</td>\n",
       "      <td>3.4</td>\n",
       "      <td>38.0</td>\n",
       "      <td>5.300000</td>\n",
       "      <td>-1.9</td>\n",
       "      <td>1011.099976</td>\n",
       "      <td>1013.200012</td>\n",
       "      <td>10.700000</td>\n",
       "      <td>10.500000</td>\n",
       "      <td>10.2</td>\n",
       "      <td>10.2</td>\n",
       "      <td>13.000000</td>\n",
       "      <td>14.100000</td>\n",
       "      <td>14.700000</td>\n",
       "      <td>16.200001</td>\n",
       "      <td>17.700001</td>\n",
       "      <td>18.400000</td>\n",
       "      <td>19.500000</td>\n",
       "      <td>20.299999</td>\n",
       "    </tr>\n",
       "    <tr>\n",
       "      <th>2022-05-01 03:00:00</th>\n",
       "      <td>10.700000</td>\n",
       "      <td>2.7</td>\n",
       "      <td>46.0</td>\n",
       "      <td>5.900000</td>\n",
       "      <td>-0.4</td>\n",
       "      <td>1010.900024</td>\n",
       "      <td>1013.000000</td>\n",
       "      <td>10.500000</td>\n",
       "      <td>10.200000</td>\n",
       "      <td>10.2</td>\n",
       "      <td>13.0</td>\n",
       "      <td>14.100000</td>\n",
       "      <td>14.700000</td>\n",
       "      <td>16.200001</td>\n",
       "      <td>17.700001</td>\n",
       "      <td>18.400000</td>\n",
       "      <td>19.500000</td>\n",
       "      <td>20.299999</td>\n",
       "      <td>20.700001</td>\n",
       "    </tr>\n",
       "    <tr>\n",
       "      <th>2022-05-01 04:00:00</th>\n",
       "      <td>10.500000</td>\n",
       "      <td>1.9</td>\n",
       "      <td>44.0</td>\n",
       "      <td>5.600000</td>\n",
       "      <td>-1.2</td>\n",
       "      <td>1010.700012</td>\n",
       "      <td>1012.799988</td>\n",
       "      <td>10.200000</td>\n",
       "      <td>10.200000</td>\n",
       "      <td>13.0</td>\n",
       "      <td>14.1</td>\n",
       "      <td>14.700000</td>\n",
       "      <td>16.200001</td>\n",
       "      <td>17.700001</td>\n",
       "      <td>18.400000</td>\n",
       "      <td>19.500000</td>\n",
       "      <td>20.299999</td>\n",
       "      <td>20.700001</td>\n",
       "      <td>16.000000</td>\n",
       "    </tr>\n",
       "    <tr>\n",
       "      <th>2022-05-01 05:00:00</th>\n",
       "      <td>10.200000</td>\n",
       "      <td>1.2</td>\n",
       "      <td>40.0</td>\n",
       "      <td>5.000000</td>\n",
       "      <td>-2.8</td>\n",
       "      <td>1010.000000</td>\n",
       "      <td>1012.099976</td>\n",
       "      <td>10.200000</td>\n",
       "      <td>13.000000</td>\n",
       "      <td>14.1</td>\n",
       "      <td>14.7</td>\n",
       "      <td>16.200001</td>\n",
       "      <td>17.700001</td>\n",
       "      <td>18.400000</td>\n",
       "      <td>19.500000</td>\n",
       "      <td>20.299999</td>\n",
       "      <td>20.700001</td>\n",
       "      <td>16.000000</td>\n",
       "      <td>13.700000</td>\n",
       "    </tr>\n",
       "    <tr>\n",
       "      <th>...</th>\n",
       "      <td>...</td>\n",
       "      <td>...</td>\n",
       "      <td>...</td>\n",
       "      <td>...</td>\n",
       "      <td>...</td>\n",
       "      <td>...</td>\n",
       "      <td>...</td>\n",
       "      <td>...</td>\n",
       "      <td>...</td>\n",
       "      <td>...</td>\n",
       "      <td>...</td>\n",
       "      <td>...</td>\n",
       "      <td>...</td>\n",
       "      <td>...</td>\n",
       "      <td>...</td>\n",
       "      <td>...</td>\n",
       "      <td>...</td>\n",
       "      <td>...</td>\n",
       "      <td>...</td>\n",
       "    </tr>\n",
       "    <tr>\n",
       "      <th>2022-05-31 08:00:00</th>\n",
       "      <td>22.400000</td>\n",
       "      <td>3.6</td>\n",
       "      <td>32.0</td>\n",
       "      <td>8.600000</td>\n",
       "      <td>4.8</td>\n",
       "      <td>1004.099976</td>\n",
       "      <td>1006.099976</td>\n",
       "      <td>24.299999</td>\n",
       "      <td>21.700001</td>\n",
       "      <td>22.0</td>\n",
       "      <td>20.6</td>\n",
       "      <td>20.500000</td>\n",
       "      <td>21.600000</td>\n",
       "      <td>21.400000</td>\n",
       "      <td>21.100000</td>\n",
       "      <td>21.900000</td>\n",
       "      <td>24.200001</td>\n",
       "      <td>25.900000</td>\n",
       "      <td>24.299999</td>\n",
       "    </tr>\n",
       "    <tr>\n",
       "      <th>2022-05-31 09:00:00</th>\n",
       "      <td>24.299999</td>\n",
       "      <td>2.9</td>\n",
       "      <td>28.0</td>\n",
       "      <td>8.500000</td>\n",
       "      <td>4.6</td>\n",
       "      <td>1004.200012</td>\n",
       "      <td>1006.200012</td>\n",
       "      <td>21.700001</td>\n",
       "      <td>22.000000</td>\n",
       "      <td>20.6</td>\n",
       "      <td>20.5</td>\n",
       "      <td>21.600000</td>\n",
       "      <td>21.400000</td>\n",
       "      <td>21.100000</td>\n",
       "      <td>21.900000</td>\n",
       "      <td>24.200001</td>\n",
       "      <td>25.900000</td>\n",
       "      <td>24.299999</td>\n",
       "      <td>22.799999</td>\n",
       "    </tr>\n",
       "    <tr>\n",
       "      <th>2022-05-31 10:00:00</th>\n",
       "      <td>21.700001</td>\n",
       "      <td>2.0</td>\n",
       "      <td>63.0</td>\n",
       "      <td>16.299999</td>\n",
       "      <td>14.3</td>\n",
       "      <td>1004.700012</td>\n",
       "      <td>1006.700012</td>\n",
       "      <td>22.000000</td>\n",
       "      <td>20.600000</td>\n",
       "      <td>20.5</td>\n",
       "      <td>21.6</td>\n",
       "      <td>21.400000</td>\n",
       "      <td>21.100000</td>\n",
       "      <td>21.900000</td>\n",
       "      <td>24.200001</td>\n",
       "      <td>25.900000</td>\n",
       "      <td>24.299999</td>\n",
       "      <td>22.799999</td>\n",
       "      <td>22.700001</td>\n",
       "    </tr>\n",
       "    <tr>\n",
       "      <th>2022-05-31 11:00:00</th>\n",
       "      <td>22.000000</td>\n",
       "      <td>2.0</td>\n",
       "      <td>69.0</td>\n",
       "      <td>18.200001</td>\n",
       "      <td>16.0</td>\n",
       "      <td>1004.900024</td>\n",
       "      <td>1006.900024</td>\n",
       "      <td>20.600000</td>\n",
       "      <td>20.500000</td>\n",
       "      <td>21.6</td>\n",
       "      <td>21.4</td>\n",
       "      <td>21.100000</td>\n",
       "      <td>21.900000</td>\n",
       "      <td>24.200001</td>\n",
       "      <td>25.900000</td>\n",
       "      <td>24.299999</td>\n",
       "      <td>22.799999</td>\n",
       "      <td>22.700001</td>\n",
       "      <td>23.200001</td>\n",
       "    </tr>\n",
       "    <tr>\n",
       "      <th>2022-05-31 12:00:00</th>\n",
       "      <td>20.600000</td>\n",
       "      <td>2.3</td>\n",
       "      <td>72.0</td>\n",
       "      <td>17.400000</td>\n",
       "      <td>15.3</td>\n",
       "      <td>1005.099976</td>\n",
       "      <td>1007.099976</td>\n",
       "      <td>20.500000</td>\n",
       "      <td>21.600000</td>\n",
       "      <td>21.4</td>\n",
       "      <td>21.1</td>\n",
       "      <td>21.900000</td>\n",
       "      <td>24.200001</td>\n",
       "      <td>25.900000</td>\n",
       "      <td>24.299999</td>\n",
       "      <td>22.799999</td>\n",
       "      <td>22.700001</td>\n",
       "      <td>23.200001</td>\n",
       "      <td>23.100000</td>\n",
       "    </tr>\n",
       "  </tbody>\n",
       "</table>\n",
       "<p>732 rows × 19 columns</p>\n",
       "</div>"
      ],
      "text/plain": [
       "                      Temp(°C)  WindSpeed(m/s)  Dampness(%)  AirPressure(hPa)  \\\n",
       "Timestamp                                                                       \n",
       "2022-05-01 01:00:00  11.400000             1.7         46.0          6.200000   \n",
       "2022-05-01 02:00:00  11.900000             3.4         38.0          5.300000   \n",
       "2022-05-01 03:00:00  10.700000             2.7         46.0          5.900000   \n",
       "2022-05-01 04:00:00  10.500000             1.9         44.0          5.600000   \n",
       "2022-05-01 05:00:00  10.200000             1.2         40.0          5.000000   \n",
       "...                        ...             ...          ...               ...   \n",
       "2022-05-31 08:00:00  22.400000             3.6         32.0          8.600000   \n",
       "2022-05-31 09:00:00  24.299999             2.9         28.0          8.500000   \n",
       "2022-05-31 10:00:00  21.700001             2.0         63.0         16.299999   \n",
       "2022-05-31 11:00:00  22.000000             2.0         69.0         18.200001   \n",
       "2022-05-31 12:00:00  20.600000             2.3         72.0         17.400000   \n",
       "\n",
       "                     DewPointTemp(°C)  LocalPressure(hPa)  \\\n",
       "Timestamp                                                   \n",
       "2022-05-01 01:00:00               0.1         1011.700012   \n",
       "2022-05-01 02:00:00              -1.9         1011.099976   \n",
       "2022-05-01 03:00:00              -0.4         1010.900024   \n",
       "2022-05-01 04:00:00              -1.2         1010.700012   \n",
       "2022-05-01 05:00:00              -2.8         1010.000000   \n",
       "...                               ...                 ...   \n",
       "2022-05-31 08:00:00               4.8         1004.099976   \n",
       "2022-05-31 09:00:00               4.6         1004.200012   \n",
       "2022-05-31 10:00:00              14.3         1004.700012   \n",
       "2022-05-31 11:00:00              16.0         1004.900024   \n",
       "2022-05-31 12:00:00              15.3         1005.099976   \n",
       "\n",
       "                     SeaLevelPressure(hPa)  Temp_1hrAfter(°C)  \\\n",
       "Timestamp                                                       \n",
       "2022-05-01 01:00:00            1013.799988          11.900000   \n",
       "2022-05-01 02:00:00            1013.200012          10.700000   \n",
       "2022-05-01 03:00:00            1013.000000          10.500000   \n",
       "2022-05-01 04:00:00            1012.799988          10.200000   \n",
       "2022-05-01 05:00:00            1012.099976          10.200000   \n",
       "...                                    ...                ...   \n",
       "2022-05-31 08:00:00            1006.099976          24.299999   \n",
       "2022-05-31 09:00:00            1006.200012          21.700001   \n",
       "2022-05-31 10:00:00            1006.700012          22.000000   \n",
       "2022-05-31 11:00:00            1006.900024          20.600000   \n",
       "2022-05-31 12:00:00            1007.099976          20.500000   \n",
       "\n",
       "                     Temp_2hrAfter(°C)  Temp_3hrAfter(°C)  Temp_4hrAfter(°C)  \\\n",
       "Timestamp                                                                      \n",
       "2022-05-01 01:00:00          10.700000               10.5               10.2   \n",
       "2022-05-01 02:00:00          10.500000               10.2               10.2   \n",
       "2022-05-01 03:00:00          10.200000               10.2               13.0   \n",
       "2022-05-01 04:00:00          10.200000               13.0               14.1   \n",
       "2022-05-01 05:00:00          13.000000               14.1               14.7   \n",
       "...                                ...                ...                ...   \n",
       "2022-05-31 08:00:00          21.700001               22.0               20.6   \n",
       "2022-05-31 09:00:00          22.000000               20.6               20.5   \n",
       "2022-05-31 10:00:00          20.600000               20.5               21.6   \n",
       "2022-05-31 11:00:00          20.500000               21.6               21.4   \n",
       "2022-05-31 12:00:00          21.600000               21.4               21.1   \n",
       "\n",
       "                     Temp_5hrAfter(°C)  Temp_6hrAfter(°C)  Temp_7hrAfter(°C)  \\\n",
       "Timestamp                                                                      \n",
       "2022-05-01 01:00:00          10.200000          13.000000          14.100000   \n",
       "2022-05-01 02:00:00          13.000000          14.100000          14.700000   \n",
       "2022-05-01 03:00:00          14.100000          14.700000          16.200001   \n",
       "2022-05-01 04:00:00          14.700000          16.200001          17.700001   \n",
       "2022-05-01 05:00:00          16.200001          17.700001          18.400000   \n",
       "...                                ...                ...                ...   \n",
       "2022-05-31 08:00:00          20.500000          21.600000          21.400000   \n",
       "2022-05-31 09:00:00          21.600000          21.400000          21.100000   \n",
       "2022-05-31 10:00:00          21.400000          21.100000          21.900000   \n",
       "2022-05-31 11:00:00          21.100000          21.900000          24.200001   \n",
       "2022-05-31 12:00:00          21.900000          24.200001          25.900000   \n",
       "\n",
       "                     Temp_8hrAfter(°C)  Temp_9hrAfter(°C)  Temp_10hrAfter(°C)  \\\n",
       "Timestamp                                                                       \n",
       "2022-05-01 01:00:00          14.700000          16.200001           17.700001   \n",
       "2022-05-01 02:00:00          16.200001          17.700001           18.400000   \n",
       "2022-05-01 03:00:00          17.700001          18.400000           19.500000   \n",
       "2022-05-01 04:00:00          18.400000          19.500000           20.299999   \n",
       "2022-05-01 05:00:00          19.500000          20.299999           20.700001   \n",
       "...                                ...                ...                 ...   \n",
       "2022-05-31 08:00:00          21.100000          21.900000           24.200001   \n",
       "2022-05-31 09:00:00          21.900000          24.200001           25.900000   \n",
       "2022-05-31 10:00:00          24.200001          25.900000           24.299999   \n",
       "2022-05-31 11:00:00          25.900000          24.299999           22.799999   \n",
       "2022-05-31 12:00:00          24.299999          22.799999           22.700001   \n",
       "\n",
       "                     Temp_11hrAfter(°C)  Temp_12hrAfter(°C)  \n",
       "Timestamp                                                    \n",
       "2022-05-01 01:00:00           18.400000           19.500000  \n",
       "2022-05-01 02:00:00           19.500000           20.299999  \n",
       "2022-05-01 03:00:00           20.299999           20.700001  \n",
       "2022-05-01 04:00:00           20.700001           16.000000  \n",
       "2022-05-01 05:00:00           16.000000           13.700000  \n",
       "...                                 ...                 ...  \n",
       "2022-05-31 08:00:00           25.900000           24.299999  \n",
       "2022-05-31 09:00:00           24.299999           22.799999  \n",
       "2022-05-31 10:00:00           22.799999           22.700001  \n",
       "2022-05-31 11:00:00           22.700001           23.200001  \n",
       "2022-05-31 12:00:00           23.200001           23.100000  \n",
       "\n",
       "[732 rows x 19 columns]"
      ]
     },
     "metadata": {},
     "output_type": "display_data"
    },
    {
     "data": {
      "text/plain": [
       "{'raw_file': './TIME_SERIES/WEATHER_ASOS_TIME_2006_2206/WEATHER_ASOS_2205.csv',\n",
       " 'allVar_raw_file': './TIME_SERIES/WEATHER_ASOS_TIME_2006_2206/allVar_WEATHER_ASOS_2205.csv',\n",
       " 'allVar_preprocessed_file': './TIME_SERIES/CLEAN_WEATHER_ASOS_TIME_2006_2206/allVar_CLEAN_WEATHER_ASOS_2205.csv',\n",
       " 'min_max_file': './TIME_SERIES/min_max.csv',\n",
       " 'window_size': 4,\n",
       " 'features': ['Temp(°C)',\n",
       "  'WindSpeed(m/s)',\n",
       "  'Dampness(%)',\n",
       "  'AirPressure(hPa)',\n",
       "  'DewPointTemp(°C)',\n",
       "  'LocalPressure(hPa)',\n",
       "  'SeaLevelPressure(hPa)',\n",
       "  'Temp_1hrAfter(°C)',\n",
       "  'Temp_2hrAfter(°C)',\n",
       "  'Temp_3hrAfter(°C)',\n",
       "  'Temp_4hrAfter(°C)',\n",
       "  'Temp_5hrAfter(°C)',\n",
       "  'Temp_6hrAfter(°C)',\n",
       "  'Temp_7hrAfter(°C)',\n",
       "  'Temp_8hrAfter(°C)',\n",
       "  'Temp_9hrAfter(°C)',\n",
       "  'Temp_10hrAfter(°C)',\n",
       "  'Temp_11hrAfter(°C)',\n",
       "  'Temp_12hrAfter(°C)'],\n",
       " 'label': ['Temp(°C)',\n",
       "  'Temp_1hrAfter(°C)',\n",
       "  'Temp_2hrAfter(°C)',\n",
       "  'Temp_3hrAfter(°C)',\n",
       "  'Temp_4hrAfter(°C)',\n",
       "  'Temp_5hrAfter(°C)',\n",
       "  'Temp_6hrAfter(°C)',\n",
       "  'Temp_7hrAfter(°C)',\n",
       "  'Temp_8hrAfter(°C)',\n",
       "  'Temp_9hrAfter(°C)',\n",
       "  'Temp_10hrAfter(°C)',\n",
       "  'Temp_11hrAfter(°C)',\n",
       "  'Temp_12hrAfter(°C)'],\n",
       " 'index': ['AreaCode', 'AreaName', 'Timestamp'],\n",
       " 'area': '속초',\n",
       " 'test_size': 120,\n",
       " 'model_file': '',\n",
       " 'param_list': {'LSTM': {'epochs': 60,\n",
       "   'batch_size': 50,\n",
       "   'learning_rate': 0.0005},\n",
       "  'GRU': {'epochs': 60, 'batch_size': 50, 'learning_rate': 0.0005}}}"
      ]
     },
     "execution_count": 10,
     "metadata": {},
     "output_type": "execute_result"
    }
   ],
   "source": [
    "make_preprocessed_file(dict_args)"
   ]
  },
  {
   "cell_type": "markdown",
   "metadata": {},
   "source": [
    "## Train Set, Valid Set, Test Set 생성"
   ]
  },
  {
   "cell_type": "code",
   "execution_count": 11,
   "metadata": {},
   "outputs": [
    {
     "name": "stdout",
     "output_type": "stream",
     "text": [
      "정규화된 데이터입니다.\n",
      "train:  (612, 19) <class 'pandas.core.frame.DataFrame'>\n",
      "test:  (120, 19) <class 'pandas.core.frame.DataFrame'>\n",
      "train_feature:  (608, 4, 19) <class 'numpy.ndarray'>\n",
      "train_label:  (608, 13) <class 'numpy.ndarray'>\n",
      "X_train:  (486, 4, 19) <class 'numpy.ndarray'>\n",
      "y_train_list:  (486, 13) <class 'numpy.ndarray'>\n",
      "X_valid:  (122, 4, 19) <class 'numpy.ndarray'>\n",
      "y_valid_list:  (122, 13) <class 'numpy.ndarray'>\n",
      "X_test:  (116, 4, 19)\n",
      "y_test_list:  (116, 13)\n",
      "[[0.18726592 0.07407407 0.8313253  0.47142857 0.62200957 0.47619048\n",
      "  0.47826087 0.15730337 0.1011236  0.05992509 0.05243446 0.05243446\n",
      "  0.13108614 0.19475655 0.17602996 0.17602996 0.31460674 0.4082397\n",
      "  0.45318352]\n",
      " [0.15730337 0.07407407 0.8313253  0.42857143 0.58373206 0.48015873\n",
      "  0.48221344 0.1011236  0.05992509 0.05243446 0.05243446 0.13108614\n",
      "  0.19475655 0.17602996 0.17602996 0.31460674 0.4082397  0.45318352\n",
      "  0.49438202]\n",
      " [0.1011236  0.07407407 0.85542169 0.37142857 0.53110048 0.46031746\n",
      "  0.46245059 0.05992509 0.05243446 0.05243446 0.13108614 0.19475655\n",
      "  0.17602996 0.17602996 0.31460674 0.4082397  0.45318352 0.49438202\n",
      "  0.51685393]\n",
      " [0.05992509 0.12345679 0.86746988 0.33571429 0.48803828 0.46031746\n",
      "  0.46245059 0.05243446 0.05243446 0.13108614 0.19475655 0.17602996\n",
      "  0.17602996 0.31460674 0.4082397  0.45318352 0.49438202 0.51685393\n",
      "  0.5505618 ]]\n",
      "[0.05243446 0.05243446 0.13108614 0.19475655 0.17602996 0.17602996\n",
      " 0.31460674 0.4082397  0.45318352 0.49438202 0.51685393 0.5505618\n",
      " 0.56554307]\n"
     ]
    }
   ],
   "source": [
    "train, test, train_feature, train_label, X_train, y_train_list, X_valid, y_valid_list, X_test, y_test_list = split_dataset_regression(dict_args, scaling_flag=True)"
   ]
  },
  {
   "cell_type": "markdown",
   "metadata": {},
   "source": [
    "## 모델 학습하기 (1시간 뒤 온도를 Label로 고정해서 학습; 예시: Model 4) "
   ]
  },
  {
   "cell_type": "code",
   "execution_count": 12,
   "metadata": {
    "tags": []
   },
   "outputs": [
    {
     "name": "stdout",
     "output_type": "stream",
     "text": [
      "WARNING:tensorflow:Layer lstm will not use cuDNN kernels since it doesn't meet the criteria. It will use a generic GPU kernel as fallback when running on GPU.\n",
      "Model: \"sequential\"\n",
      "_________________________________________________________________\n",
      " Layer (type)                Output Shape              Param #   \n",
      "=================================================================\n",
      " lstm (LSTM)                 (None, 32)                6656      \n",
      "                                                                 \n",
      " dense (Dense)               (None, 4)                 132       \n",
      "                                                                 \n",
      " dense_1 (Dense)             (None, 1)                 5         \n",
      "                                                                 \n",
      "=================================================================\n",
      "Total params: 6,793\n",
      "Trainable params: 6,793\n",
      "Non-trainable params: 0\n",
      "_________________________________________________________________\n"
     ]
    },
    {
     "name": "stderr",
     "output_type": "stream",
     "text": [
      "2022-07-08 06:12:32.688624: I tensorflow/core/platform/cpu_feature_guard.cc:152] This TensorFlow binary is optimized with oneAPI Deep Neural Network Library (oneDNN) to use the following CPU instructions in performance-critical operations:  SSE3 SSE4.1 SSE4.2 AVX\n",
      "To enable them in other operations, rebuild TensorFlow with the appropriate compiler flags.\n",
      "2022-07-08 06:12:32.689168: I tensorflow/stream_executor/cuda/cuda_gpu_executor.cc:952] successful NUMA node read from SysFS had negative value (-1), but there must be at least one NUMA node, so returning NUMA node zero\n",
      "2022-07-08 06:12:32.689690: I tensorflow/stream_executor/cuda/cuda_gpu_executor.cc:952] successful NUMA node read from SysFS had negative value (-1), but there must be at least one NUMA node, so returning NUMA node zero\n",
      "2022-07-08 06:12:32.690178: I tensorflow/stream_executor/cuda/cuda_gpu_executor.cc:952] successful NUMA node read from SysFS had negative value (-1), but there must be at least one NUMA node, so returning NUMA node zero\n",
      "2022-07-08 06:12:32.994839: I tensorflow/stream_executor/cuda/cuda_gpu_executor.cc:952] successful NUMA node read from SysFS had negative value (-1), but there must be at least one NUMA node, so returning NUMA node zero\n",
      "2022-07-08 06:12:32.995316: I tensorflow/stream_executor/cuda/cuda_gpu_executor.cc:952] successful NUMA node read from SysFS had negative value (-1), but there must be at least one NUMA node, so returning NUMA node zero\n",
      "2022-07-08 06:12:32.995748: I tensorflow/stream_executor/cuda/cuda_gpu_executor.cc:952] successful NUMA node read from SysFS had negative value (-1), but there must be at least one NUMA node, so returning NUMA node zero\n",
      "2022-07-08 06:12:32.996164: I tensorflow/core/common_runtime/gpu/gpu_device.cc:1525] Created device /job:localhost/replica:0/task:0/device:GPU:0 with 21935 MB memory:  -> device: 0, name: NVIDIA GeForce RTX 3090, pci bus id: 0000:01:00.0, compute capability: 8.6\n"
     ]
    },
    {
     "name": "stdout",
     "output_type": "stream",
     "text": [
      "None\n",
      "Epoch 1/60\n"
     ]
    },
    {
     "name": "stderr",
     "output_type": "stream",
     "text": [
      "2022-07-08 06:12:34.525198: I tensorflow/stream_executor/cuda/cuda_blas.cc:1804] TensorFloat-32 will be used for the matrix multiplication. This will only be logged once.\n"
     ]
    },
    {
     "name": "stdout",
     "output_type": "stream",
     "text": [
      " 1/10 [==>...........................] - ETA: 12s - loss: 0.1722 - mae: 0.3709"
     ]
    },
    {
     "name": "stderr",
     "output_type": "stream",
     "text": [
      "2022-07-08 06:12:35.253432: W tensorflow/python/util/util.cc:368] Sets are not currently considered sequences, but this may change in the future, so consider avoiding using them.\n"
     ]
    },
    {
     "name": "stdout",
     "output_type": "stream",
     "text": [
      "INFO:tensorflow:Assets written to: ./TIME_SERIES/MODEL4_LSTM_VAR_19_Temp_1hrAfter(°C)/assets\n"
     ]
    },
    {
     "name": "stderr",
     "output_type": "stream",
     "text": [
      "WARNING:absl:<keras.layers.recurrent.LSTMCell object at 0x7f744e5f6df0> has the same name 'LSTMCell' as a built-in Keras object. Consider renaming <class 'keras.layers.recurrent.LSTMCell'> to avoid naming conflicts when loading with `tf.keras.models.load_model`. If renaming is not possible, pass the object in the `custom_objects` parameter of the load function.\n"
     ]
    },
    {
     "name": "stdout",
     "output_type": "stream",
     "text": [
      "10/10 [==============================] - 2s 117ms/step - loss: 0.0995 - mae: 0.2593 - val_loss: 0.0450 - val_mae: 0.1785\n",
      "Epoch 2/60\n",
      " 1/10 [==>...........................] - ETA: 0s - loss: 0.0361 - mae: 0.1640INFO:tensorflow:Assets written to: ./TIME_SERIES/MODEL4_LSTM_VAR_19_Temp_1hrAfter(°C)/assets\n"
     ]
    },
    {
     "name": "stderr",
     "output_type": "stream",
     "text": [
      "INFO:tensorflow:Assets written to: ./TIME_SERIES/MODEL4_LSTM_VAR_19_Temp_1hrAfter(°C)/assets\n",
      "WARNING:absl:<keras.layers.recurrent.LSTMCell object at 0x7f744e5f6df0> has the same name 'LSTMCell' as a built-in Keras object. Consider renaming <class 'keras.layers.recurrent.LSTMCell'> to avoid naming conflicts when loading with `tf.keras.models.load_model`. If renaming is not possible, pass the object in the `custom_objects` parameter of the load function.\n"
     ]
    },
    {
     "name": "stdout",
     "output_type": "stream",
     "text": [
      "10/10 [==============================] - 1s 103ms/step - loss: 0.0270 - mae: 0.1386 - val_loss: 0.0178 - val_mae: 0.1089\n",
      "Epoch 3/60\n",
      " 1/10 [==>...........................] - ETA: 0s - loss: 0.0209 - mae: 0.1227INFO:tensorflow:Assets written to: ./TIME_SERIES/MODEL4_LSTM_VAR_19_Temp_1hrAfter(°C)/assets\n"
     ]
    },
    {
     "name": "stderr",
     "output_type": "stream",
     "text": [
      "INFO:tensorflow:Assets written to: ./TIME_SERIES/MODEL4_LSTM_VAR_19_Temp_1hrAfter(°C)/assets\n",
      "WARNING:absl:<keras.layers.recurrent.LSTMCell object at 0x7f744e5f6df0> has the same name 'LSTMCell' as a built-in Keras object. Consider renaming <class 'keras.layers.recurrent.LSTMCell'> to avoid naming conflicts when loading with `tf.keras.models.load_model`. If renaming is not possible, pass the object in the `custom_objects` parameter of the load function.\n"
     ]
    },
    {
     "name": "stdout",
     "output_type": "stream",
     "text": [
      "10/10 [==============================] - 1s 94ms/step - loss: 0.0186 - mae: 0.1092 - val_loss: 0.0169 - val_mae: 0.1041\n",
      "Epoch 4/60\n",
      " 1/10 [==>...........................] - ETA: 0s - loss: 0.0163 - mae: 0.0974INFO:tensorflow:Assets written to: ./TIME_SERIES/MODEL4_LSTM_VAR_19_Temp_1hrAfter(°C)/assets\n"
     ]
    },
    {
     "name": "stderr",
     "output_type": "stream",
     "text": [
      "INFO:tensorflow:Assets written to: ./TIME_SERIES/MODEL4_LSTM_VAR_19_Temp_1hrAfter(°C)/assets\n",
      "WARNING:absl:<keras.layers.recurrent.LSTMCell object at 0x7f744e5f6df0> has the same name 'LSTMCell' as a built-in Keras object. Consider renaming <class 'keras.layers.recurrent.LSTMCell'> to avoid naming conflicts when loading with `tf.keras.models.load_model`. If renaming is not possible, pass the object in the `custom_objects` parameter of the load function.\n"
     ]
    },
    {
     "name": "stdout",
     "output_type": "stream",
     "text": [
      "10/10 [==============================] - 1s 96ms/step - loss: 0.0141 - mae: 0.0938 - val_loss: 0.0102 - val_mae: 0.0814\n",
      "Epoch 5/60\n",
      " 1/10 [==>...........................] - ETA: 0s - loss: 0.0129 - mae: 0.0882INFO:tensorflow:Assets written to: ./TIME_SERIES/MODEL4_LSTM_VAR_19_Temp_1hrAfter(°C)/assets\n"
     ]
    },
    {
     "name": "stderr",
     "output_type": "stream",
     "text": [
      "INFO:tensorflow:Assets written to: ./TIME_SERIES/MODEL4_LSTM_VAR_19_Temp_1hrAfter(°C)/assets\n",
      "WARNING:absl:<keras.layers.recurrent.LSTMCell object at 0x7f744e5f6df0> has the same name 'LSTMCell' as a built-in Keras object. Consider renaming <class 'keras.layers.recurrent.LSTMCell'> to avoid naming conflicts when loading with `tf.keras.models.load_model`. If renaming is not possible, pass the object in the `custom_objects` parameter of the load function.\n"
     ]
    },
    {
     "name": "stdout",
     "output_type": "stream",
     "text": [
      "10/10 [==============================] - 1s 110ms/step - loss: 0.0092 - mae: 0.0772 - val_loss: 0.0071 - val_mae: 0.0675\n",
      "Epoch 6/60\n",
      " 1/10 [==>...........................] - ETA: 0s - loss: 0.0042 - mae: 0.0526INFO:tensorflow:Assets written to: ./TIME_SERIES/MODEL4_LSTM_VAR_19_Temp_1hrAfter(°C)/assets\n"
     ]
    },
    {
     "name": "stderr",
     "output_type": "stream",
     "text": [
      "INFO:tensorflow:Assets written to: ./TIME_SERIES/MODEL4_LSTM_VAR_19_Temp_1hrAfter(°C)/assets\n",
      "WARNING:absl:<keras.layers.recurrent.LSTMCell object at 0x7f744e5f6df0> has the same name 'LSTMCell' as a built-in Keras object. Consider renaming <class 'keras.layers.recurrent.LSTMCell'> to avoid naming conflicts when loading with `tf.keras.models.load_model`. If renaming is not possible, pass the object in the `custom_objects` parameter of the load function.\n"
     ]
    },
    {
     "name": "stdout",
     "output_type": "stream",
     "text": [
      "10/10 [==============================] - 1s 97ms/step - loss: 0.0063 - mae: 0.0624 - val_loss: 0.0049 - val_mae: 0.0543\n",
      "Epoch 7/60\n",
      " 1/10 [==>...........................] - ETA: 0s - loss: 0.0041 - mae: 0.0509INFO:tensorflow:Assets written to: ./TIME_SERIES/MODEL4_LSTM_VAR_19_Temp_1hrAfter(°C)/assets\n"
     ]
    },
    {
     "name": "stderr",
     "output_type": "stream",
     "text": [
      "INFO:tensorflow:Assets written to: ./TIME_SERIES/MODEL4_LSTM_VAR_19_Temp_1hrAfter(°C)/assets\n",
      "WARNING:absl:<keras.layers.recurrent.LSTMCell object at 0x7f744e5f6df0> has the same name 'LSTMCell' as a built-in Keras object. Consider renaming <class 'keras.layers.recurrent.LSTMCell'> to avoid naming conflicts when loading with `tf.keras.models.load_model`. If renaming is not possible, pass the object in the `custom_objects` parameter of the load function.\n"
     ]
    },
    {
     "name": "stdout",
     "output_type": "stream",
     "text": [
      "10/10 [==============================] - 1s 97ms/step - loss: 0.0046 - mae: 0.0528 - val_loss: 0.0036 - val_mae: 0.0464\n",
      "Epoch 8/60\n",
      " 1/10 [==>...........................] - ETA: 0s - loss: 0.0041 - mae: 0.0459INFO:tensorflow:Assets written to: ./TIME_SERIES/MODEL4_LSTM_VAR_19_Temp_1hrAfter(°C)/assets\n"
     ]
    },
    {
     "name": "stderr",
     "output_type": "stream",
     "text": [
      "INFO:tensorflow:Assets written to: ./TIME_SERIES/MODEL4_LSTM_VAR_19_Temp_1hrAfter(°C)/assets\n",
      "WARNING:absl:<keras.layers.recurrent.LSTMCell object at 0x7f744e5f6df0> has the same name 'LSTMCell' as a built-in Keras object. Consider renaming <class 'keras.layers.recurrent.LSTMCell'> to avoid naming conflicts when loading with `tf.keras.models.load_model`. If renaming is not possible, pass the object in the `custom_objects` parameter of the load function.\n"
     ]
    },
    {
     "name": "stdout",
     "output_type": "stream",
     "text": [
      "10/10 [==============================] - 1s 112ms/step - loss: 0.0035 - mae: 0.0454 - val_loss: 0.0028 - val_mae: 0.0410\n",
      "Epoch 9/60\n",
      " 1/10 [==>...........................] - ETA: 0s - loss: 0.0033 - mae: 0.0453INFO:tensorflow:Assets written to: ./TIME_SERIES/MODEL4_LSTM_VAR_19_Temp_1hrAfter(°C)/assets\n"
     ]
    },
    {
     "name": "stderr",
     "output_type": "stream",
     "text": [
      "INFO:tensorflow:Assets written to: ./TIME_SERIES/MODEL4_LSTM_VAR_19_Temp_1hrAfter(°C)/assets\n",
      "WARNING:absl:<keras.layers.recurrent.LSTMCell object at 0x7f744e5f6df0> has the same name 'LSTMCell' as a built-in Keras object. Consider renaming <class 'keras.layers.recurrent.LSTMCell'> to avoid naming conflicts when loading with `tf.keras.models.load_model`. If renaming is not possible, pass the object in the `custom_objects` parameter of the load function.\n"
     ]
    },
    {
     "name": "stdout",
     "output_type": "stream",
     "text": [
      "10/10 [==============================] - 1s 98ms/step - loss: 0.0028 - mae: 0.0400 - val_loss: 0.0024 - val_mae: 0.0374\n",
      "Epoch 10/60\n",
      " 1/10 [==>...........................] - ETA: 0s - loss: 0.0021 - mae: 0.0329INFO:tensorflow:Assets written to: ./TIME_SERIES/MODEL4_LSTM_VAR_19_Temp_1hrAfter(°C)/assets\n"
     ]
    },
    {
     "name": "stderr",
     "output_type": "stream",
     "text": [
      "INFO:tensorflow:Assets written to: ./TIME_SERIES/MODEL4_LSTM_VAR_19_Temp_1hrAfter(°C)/assets\n",
      "WARNING:absl:<keras.layers.recurrent.LSTMCell object at 0x7f744e5f6df0> has the same name 'LSTMCell' as a built-in Keras object. Consider renaming <class 'keras.layers.recurrent.LSTMCell'> to avoid naming conflicts when loading with `tf.keras.models.load_model`. If renaming is not possible, pass the object in the `custom_objects` parameter of the load function.\n"
     ]
    },
    {
     "name": "stdout",
     "output_type": "stream",
     "text": [
      "10/10 [==============================] - 1s 98ms/step - loss: 0.0023 - mae: 0.0373 - val_loss: 0.0021 - val_mae: 0.0351\n",
      "Epoch 11/60\n",
      " 1/10 [==>...........................] - ETA: 0s - loss: 0.0026 - mae: 0.0411INFO:tensorflow:Assets written to: ./TIME_SERIES/MODEL4_LSTM_VAR_19_Temp_1hrAfter(°C)/assets\n"
     ]
    },
    {
     "name": "stderr",
     "output_type": "stream",
     "text": [
      "INFO:tensorflow:Assets written to: ./TIME_SERIES/MODEL4_LSTM_VAR_19_Temp_1hrAfter(°C)/assets\n",
      "WARNING:absl:<keras.layers.recurrent.LSTMCell object at 0x7f744e5f6df0> has the same name 'LSTMCell' as a built-in Keras object. Consider renaming <class 'keras.layers.recurrent.LSTMCell'> to avoid naming conflicts when loading with `tf.keras.models.load_model`. If renaming is not possible, pass the object in the `custom_objects` parameter of the load function.\n"
     ]
    },
    {
     "name": "stdout",
     "output_type": "stream",
     "text": [
      "10/10 [==============================] - 1s 113ms/step - loss: 0.0020 - mae: 0.0344 - val_loss: 0.0019 - val_mae: 0.0330\n",
      "Epoch 12/60\n",
      " 1/10 [==>...........................] - ETA: 0s - loss: 0.0025 - mae: 0.0370INFO:tensorflow:Assets written to: ./TIME_SERIES/MODEL4_LSTM_VAR_19_Temp_1hrAfter(°C)/assets\n"
     ]
    },
    {
     "name": "stderr",
     "output_type": "stream",
     "text": [
      "INFO:tensorflow:Assets written to: ./TIME_SERIES/MODEL4_LSTM_VAR_19_Temp_1hrAfter(°C)/assets\n",
      "WARNING:absl:<keras.layers.recurrent.LSTMCell object at 0x7f744e5f6df0> has the same name 'LSTMCell' as a built-in Keras object. Consider renaming <class 'keras.layers.recurrent.LSTMCell'> to avoid naming conflicts when loading with `tf.keras.models.load_model`. If renaming is not possible, pass the object in the `custom_objects` parameter of the load function.\n"
     ]
    },
    {
     "name": "stdout",
     "output_type": "stream",
     "text": [
      "10/10 [==============================] - 1s 97ms/step - loss: 0.0018 - mae: 0.0321 - val_loss: 0.0018 - val_mae: 0.0317\n",
      "Epoch 13/60\n",
      " 1/10 [==>...........................] - ETA: 0s - loss: 0.0019 - mae: 0.0344INFO:tensorflow:Assets written to: ./TIME_SERIES/MODEL4_LSTM_VAR_19_Temp_1hrAfter(°C)/assets\n"
     ]
    },
    {
     "name": "stderr",
     "output_type": "stream",
     "text": [
      "INFO:tensorflow:Assets written to: ./TIME_SERIES/MODEL4_LSTM_VAR_19_Temp_1hrAfter(°C)/assets\n",
      "WARNING:absl:<keras.layers.recurrent.LSTMCell object at 0x7f744e5f6df0> has the same name 'LSTMCell' as a built-in Keras object. Consider renaming <class 'keras.layers.recurrent.LSTMCell'> to avoid naming conflicts when loading with `tf.keras.models.load_model`. If renaming is not possible, pass the object in the `custom_objects` parameter of the load function.\n"
     ]
    },
    {
     "name": "stdout",
     "output_type": "stream",
     "text": [
      "10/10 [==============================] - 1s 97ms/step - loss: 0.0016 - mae: 0.0303 - val_loss: 0.0016 - val_mae: 0.0299\n",
      "Epoch 14/60\n",
      " 1/10 [==>...........................] - ETA: 0s - loss: 0.0012 - mae: 0.0246INFO:tensorflow:Assets written to: ./TIME_SERIES/MODEL4_LSTM_VAR_19_Temp_1hrAfter(°C)/assets\n"
     ]
    },
    {
     "name": "stderr",
     "output_type": "stream",
     "text": [
      "INFO:tensorflow:Assets written to: ./TIME_SERIES/MODEL4_LSTM_VAR_19_Temp_1hrAfter(°C)/assets\n",
      "WARNING:absl:<keras.layers.recurrent.LSTMCell object at 0x7f744e5f6df0> has the same name 'LSTMCell' as a built-in Keras object. Consider renaming <class 'keras.layers.recurrent.LSTMCell'> to avoid naming conflicts when loading with `tf.keras.models.load_model`. If renaming is not possible, pass the object in the `custom_objects` parameter of the load function.\n"
     ]
    },
    {
     "name": "stdout",
     "output_type": "stream",
     "text": [
      "10/10 [==============================] - 1s 110ms/step - loss: 0.0015 - mae: 0.0291 - val_loss: 0.0015 - val_mae: 0.0289\n",
      "Epoch 15/60\n",
      " 1/10 [==>...........................] - ETA: 0s - loss: 0.0019 - mae: 0.0327INFO:tensorflow:Assets written to: ./TIME_SERIES/MODEL4_LSTM_VAR_19_Temp_1hrAfter(°C)/assets\n"
     ]
    },
    {
     "name": "stderr",
     "output_type": "stream",
     "text": [
      "INFO:tensorflow:Assets written to: ./TIME_SERIES/MODEL4_LSTM_VAR_19_Temp_1hrAfter(°C)/assets\n",
      "WARNING:absl:<keras.layers.recurrent.LSTMCell object at 0x7f744e5f6df0> has the same name 'LSTMCell' as a built-in Keras object. Consider renaming <class 'keras.layers.recurrent.LSTMCell'> to avoid naming conflicts when loading with `tf.keras.models.load_model`. If renaming is not possible, pass the object in the `custom_objects` parameter of the load function.\n"
     ]
    },
    {
     "name": "stdout",
     "output_type": "stream",
     "text": [
      "10/10 [==============================] - 1s 96ms/step - loss: 0.0014 - mae: 0.0278 - val_loss: 0.0014 - val_mae: 0.0282\n",
      "Epoch 16/60\n",
      " 1/10 [==>...........................] - ETA: 0s - loss: 0.0011 - mae: 0.0266INFO:tensorflow:Assets written to: ./TIME_SERIES/MODEL4_LSTM_VAR_19_Temp_1hrAfter(°C)/assets\n"
     ]
    },
    {
     "name": "stderr",
     "output_type": "stream",
     "text": [
      "INFO:tensorflow:Assets written to: ./TIME_SERIES/MODEL4_LSTM_VAR_19_Temp_1hrAfter(°C)/assets\n",
      "WARNING:absl:<keras.layers.recurrent.LSTMCell object at 0x7f744e5f6df0> has the same name 'LSTMCell' as a built-in Keras object. Consider renaming <class 'keras.layers.recurrent.LSTMCell'> to avoid naming conflicts when loading with `tf.keras.models.load_model`. If renaming is not possible, pass the object in the `custom_objects` parameter of the load function.\n"
     ]
    },
    {
     "name": "stdout",
     "output_type": "stream",
     "text": [
      "10/10 [==============================] - 1s 93ms/step - loss: 0.0013 - mae: 0.0272 - val_loss: 0.0014 - val_mae: 0.0276\n",
      "Epoch 17/60\n",
      " 1/10 [==>...........................] - ETA: 0s - loss: 0.0011 - mae: 0.0265INFO:tensorflow:Assets written to: ./TIME_SERIES/MODEL4_LSTM_VAR_19_Temp_1hrAfter(°C)/assets\n"
     ]
    },
    {
     "name": "stderr",
     "output_type": "stream",
     "text": [
      "INFO:tensorflow:Assets written to: ./TIME_SERIES/MODEL4_LSTM_VAR_19_Temp_1hrAfter(°C)/assets\n",
      "WARNING:absl:<keras.layers.recurrent.LSTMCell object at 0x7f744e5f6df0> has the same name 'LSTMCell' as a built-in Keras object. Consider renaming <class 'keras.layers.recurrent.LSTMCell'> to avoid naming conflicts when loading with `tf.keras.models.load_model`. If renaming is not possible, pass the object in the `custom_objects` parameter of the load function.\n"
     ]
    },
    {
     "name": "stdout",
     "output_type": "stream",
     "text": [
      "10/10 [==============================] - 1s 108ms/step - loss: 0.0012 - mae: 0.0263 - val_loss: 0.0013 - val_mae: 0.0275\n",
      "Epoch 18/60\n",
      " 1/10 [==>...........................] - ETA: 0s - loss: 9.5593e-04 - mae: 0.0244INFO:tensorflow:Assets written to: ./TIME_SERIES/MODEL4_LSTM_VAR_19_Temp_1hrAfter(°C)/assets\n"
     ]
    },
    {
     "name": "stderr",
     "output_type": "stream",
     "text": [
      "INFO:tensorflow:Assets written to: ./TIME_SERIES/MODEL4_LSTM_VAR_19_Temp_1hrAfter(°C)/assets\n",
      "WARNING:absl:<keras.layers.recurrent.LSTMCell object at 0x7f744e5f6df0> has the same name 'LSTMCell' as a built-in Keras object. Consider renaming <class 'keras.layers.recurrent.LSTMCell'> to avoid naming conflicts when loading with `tf.keras.models.load_model`. If renaming is not possible, pass the object in the `custom_objects` parameter of the load function.\n"
     ]
    },
    {
     "name": "stdout",
     "output_type": "stream",
     "text": [
      "10/10 [==============================] - 1s 94ms/step - loss: 0.0012 - mae: 0.0260 - val_loss: 0.0013 - val_mae: 0.0270\n",
      "Epoch 19/60\n",
      " 1/10 [==>...........................] - ETA: 0s - loss: 0.0015 - mae: 0.0280INFO:tensorflow:Assets written to: ./TIME_SERIES/MODEL4_LSTM_VAR_19_Temp_1hrAfter(°C)/assets\n"
     ]
    },
    {
     "name": "stderr",
     "output_type": "stream",
     "text": [
      "INFO:tensorflow:Assets written to: ./TIME_SERIES/MODEL4_LSTM_VAR_19_Temp_1hrAfter(°C)/assets\n",
      "WARNING:absl:<keras.layers.recurrent.LSTMCell object at 0x7f744e5f6df0> has the same name 'LSTMCell' as a built-in Keras object. Consider renaming <class 'keras.layers.recurrent.LSTMCell'> to avoid naming conflicts when loading with `tf.keras.models.load_model`. If renaming is not possible, pass the object in the `custom_objects` parameter of the load function.\n"
     ]
    },
    {
     "name": "stdout",
     "output_type": "stream",
     "text": [
      "10/10 [==============================] - 1s 97ms/step - loss: 0.0011 - mae: 0.0255 - val_loss: 0.0013 - val_mae: 0.0269\n",
      "Epoch 20/60\n",
      " 1/10 [==>...........................] - ETA: 0s - loss: 9.9345e-04 - mae: 0.0212INFO:tensorflow:Assets written to: ./TIME_SERIES/MODEL4_LSTM_VAR_19_Temp_1hrAfter(°C)/assets\n"
     ]
    },
    {
     "name": "stderr",
     "output_type": "stream",
     "text": [
      "INFO:tensorflow:Assets written to: ./TIME_SERIES/MODEL4_LSTM_VAR_19_Temp_1hrAfter(°C)/assets\n",
      "WARNING:absl:<keras.layers.recurrent.LSTMCell object at 0x7f744e5f6df0> has the same name 'LSTMCell' as a built-in Keras object. Consider renaming <class 'keras.layers.recurrent.LSTMCell'> to avoid naming conflicts when loading with `tf.keras.models.load_model`. If renaming is not possible, pass the object in the `custom_objects` parameter of the load function.\n"
     ]
    },
    {
     "name": "stdout",
     "output_type": "stream",
     "text": [
      "10/10 [==============================] - 1s 113ms/step - loss: 0.0011 - mae: 0.0252 - val_loss: 0.0012 - val_mae: 0.0262\n",
      "Epoch 21/60\n",
      "10/10 [==============================] - 0s 6ms/step - loss: 0.0011 - mae: 0.0250 - val_loss: 0.0012 - val_mae: 0.0268\n",
      "Epoch 22/60\n",
      " 1/10 [==>...........................] - ETA: 0s - loss: 8.6899e-04 - mae: 0.0220INFO:tensorflow:Assets written to: ./TIME_SERIES/MODEL4_LSTM_VAR_19_Temp_1hrAfter(°C)/assets\n"
     ]
    },
    {
     "name": "stderr",
     "output_type": "stream",
     "text": [
      "INFO:tensorflow:Assets written to: ./TIME_SERIES/MODEL4_LSTM_VAR_19_Temp_1hrAfter(°C)/assets\n",
      "WARNING:absl:<keras.layers.recurrent.LSTMCell object at 0x7f744e5f6df0> has the same name 'LSTMCell' as a built-in Keras object. Consider renaming <class 'keras.layers.recurrent.LSTMCell'> to avoid naming conflicts when loading with `tf.keras.models.load_model`. If renaming is not possible, pass the object in the `custom_objects` parameter of the load function.\n"
     ]
    },
    {
     "name": "stdout",
     "output_type": "stream",
     "text": [
      "10/10 [==============================] - 1s 97ms/step - loss: 0.0011 - mae: 0.0247 - val_loss: 0.0012 - val_mae: 0.0260\n",
      "Epoch 23/60\n",
      " 1/10 [==>...........................] - ETA: 0s - loss: 0.0011 - mae: 0.0252INFO:tensorflow:Assets written to: ./TIME_SERIES/MODEL4_LSTM_VAR_19_Temp_1hrAfter(°C)/assets\n"
     ]
    },
    {
     "name": "stderr",
     "output_type": "stream",
     "text": [
      "INFO:tensorflow:Assets written to: ./TIME_SERIES/MODEL4_LSTM_VAR_19_Temp_1hrAfter(°C)/assets\n",
      "WARNING:absl:<keras.layers.recurrent.LSTMCell object at 0x7f744e5f6df0> has the same name 'LSTMCell' as a built-in Keras object. Consider renaming <class 'keras.layers.recurrent.LSTMCell'> to avoid naming conflicts when loading with `tf.keras.models.load_model`. If renaming is not possible, pass the object in the `custom_objects` parameter of the load function.\n"
     ]
    },
    {
     "name": "stdout",
     "output_type": "stream",
     "text": [
      "10/10 [==============================] - 1s 94ms/step - loss: 0.0011 - mae: 0.0246 - val_loss: 0.0012 - val_mae: 0.0259\n",
      "Epoch 24/60\n",
      " 1/10 [==>...........................] - ETA: 0s - loss: 9.2435e-04 - mae: 0.0245INFO:tensorflow:Assets written to: ./TIME_SERIES/MODEL4_LSTM_VAR_19_Temp_1hrAfter(°C)/assets\n"
     ]
    },
    {
     "name": "stderr",
     "output_type": "stream",
     "text": [
      "INFO:tensorflow:Assets written to: ./TIME_SERIES/MODEL4_LSTM_VAR_19_Temp_1hrAfter(°C)/assets\n",
      "WARNING:absl:<keras.layers.recurrent.LSTMCell object at 0x7f744e5f6df0> has the same name 'LSTMCell' as a built-in Keras object. Consider renaming <class 'keras.layers.recurrent.LSTMCell'> to avoid naming conflicts when loading with `tf.keras.models.load_model`. If renaming is not possible, pass the object in the `custom_objects` parameter of the load function.\n"
     ]
    },
    {
     "name": "stdout",
     "output_type": "stream",
     "text": [
      "10/10 [==============================] - 1s 107ms/step - loss: 0.0010 - mae: 0.0241 - val_loss: 0.0011 - val_mae: 0.0255\n",
      "Epoch 25/60\n",
      " 1/10 [==>...........................] - ETA: 0s - loss: 0.0010 - mae: 0.0227INFO:tensorflow:Assets written to: ./TIME_SERIES/MODEL4_LSTM_VAR_19_Temp_1hrAfter(°C)/assets\n"
     ]
    },
    {
     "name": "stderr",
     "output_type": "stream",
     "text": [
      "INFO:tensorflow:Assets written to: ./TIME_SERIES/MODEL4_LSTM_VAR_19_Temp_1hrAfter(°C)/assets\n",
      "WARNING:absl:<keras.layers.recurrent.LSTMCell object at 0x7f744e5f6df0> has the same name 'LSTMCell' as a built-in Keras object. Consider renaming <class 'keras.layers.recurrent.LSTMCell'> to avoid naming conflicts when loading with `tf.keras.models.load_model`. If renaming is not possible, pass the object in the `custom_objects` parameter of the load function.\n"
     ]
    },
    {
     "name": "stdout",
     "output_type": "stream",
     "text": [
      "10/10 [==============================] - 1s 97ms/step - loss: 0.0010 - mae: 0.0243 - val_loss: 0.0011 - val_mae: 0.0254\n",
      "Epoch 26/60\n",
      " 1/10 [==>...........................] - ETA: 0s - loss: 0.0011 - mae: 0.0243INFO:tensorflow:Assets written to: ./TIME_SERIES/MODEL4_LSTM_VAR_19_Temp_1hrAfter(°C)/assets\n"
     ]
    },
    {
     "name": "stderr",
     "output_type": "stream",
     "text": [
      "INFO:tensorflow:Assets written to: ./TIME_SERIES/MODEL4_LSTM_VAR_19_Temp_1hrAfter(°C)/assets\n",
      "WARNING:absl:<keras.layers.recurrent.LSTMCell object at 0x7f744e5f6df0> has the same name 'LSTMCell' as a built-in Keras object. Consider renaming <class 'keras.layers.recurrent.LSTMCell'> to avoid naming conflicts when loading with `tf.keras.models.load_model`. If renaming is not possible, pass the object in the `custom_objects` parameter of the load function.\n"
     ]
    },
    {
     "name": "stdout",
     "output_type": "stream",
     "text": [
      "10/10 [==============================] - 1s 98ms/step - loss: 0.0010 - mae: 0.0239 - val_loss: 0.0011 - val_mae: 0.0254\n",
      "Epoch 27/60\n",
      " 1/10 [==>...........................] - ETA: 0s - loss: 0.0012 - mae: 0.0269INFO:tensorflow:Assets written to: ./TIME_SERIES/MODEL4_LSTM_VAR_19_Temp_1hrAfter(°C)/assets\n"
     ]
    },
    {
     "name": "stderr",
     "output_type": "stream",
     "text": [
      "INFO:tensorflow:Assets written to: ./TIME_SERIES/MODEL4_LSTM_VAR_19_Temp_1hrAfter(°C)/assets\n",
      "WARNING:absl:<keras.layers.recurrent.LSTMCell object at 0x7f744e5f6df0> has the same name 'LSTMCell' as a built-in Keras object. Consider renaming <class 'keras.layers.recurrent.LSTMCell'> to avoid naming conflicts when loading with `tf.keras.models.load_model`. If renaming is not possible, pass the object in the `custom_objects` parameter of the load function.\n"
     ]
    },
    {
     "name": "stdout",
     "output_type": "stream",
     "text": [
      "10/10 [==============================] - 1s 112ms/step - loss: 0.0010 - mae: 0.0238 - val_loss: 0.0011 - val_mae: 0.0250\n",
      "Epoch 28/60\n",
      " 1/10 [==>...........................] - ETA: 0s - loss: 0.0012 - mae: 0.0259INFO:tensorflow:Assets written to: ./TIME_SERIES/MODEL4_LSTM_VAR_19_Temp_1hrAfter(°C)/assets\n"
     ]
    },
    {
     "name": "stderr",
     "output_type": "stream",
     "text": [
      "INFO:tensorflow:Assets written to: ./TIME_SERIES/MODEL4_LSTM_VAR_19_Temp_1hrAfter(°C)/assets\n",
      "WARNING:absl:<keras.layers.recurrent.LSTMCell object at 0x7f744e5f6df0> has the same name 'LSTMCell' as a built-in Keras object. Consider renaming <class 'keras.layers.recurrent.LSTMCell'> to avoid naming conflicts when loading with `tf.keras.models.load_model`. If renaming is not possible, pass the object in the `custom_objects` parameter of the load function.\n"
     ]
    },
    {
     "name": "stdout",
     "output_type": "stream",
     "text": [
      "10/10 [==============================] - 1s 96ms/step - loss: 9.6976e-04 - mae: 0.0232 - val_loss: 0.0011 - val_mae: 0.0246\n",
      "Epoch 29/60\n",
      "10/10 [==============================] - 0s 5ms/step - loss: 9.5012e-04 - mae: 0.0231 - val_loss: 0.0011 - val_mae: 0.0249\n",
      "Epoch 30/60\n",
      "10/10 [==============================] - 0s 5ms/step - loss: 9.4585e-04 - mae: 0.0229 - val_loss: 0.0011 - val_mae: 0.0254\n",
      "Epoch 31/60\n",
      " 1/10 [==>...........................] - ETA: 0s - loss: 0.0011 - mae: 0.0250INFO:tensorflow:Assets written to: ./TIME_SERIES/MODEL4_LSTM_VAR_19_Temp_1hrAfter(°C)/assets\n"
     ]
    },
    {
     "name": "stderr",
     "output_type": "stream",
     "text": [
      "INFO:tensorflow:Assets written to: ./TIME_SERIES/MODEL4_LSTM_VAR_19_Temp_1hrAfter(°C)/assets\n",
      "WARNING:absl:<keras.layers.recurrent.LSTMCell object at 0x7f744e5f6df0> has the same name 'LSTMCell' as a built-in Keras object. Consider renaming <class 'keras.layers.recurrent.LSTMCell'> to avoid naming conflicts when loading with `tf.keras.models.load_model`. If renaming is not possible, pass the object in the `custom_objects` parameter of the load function.\n"
     ]
    },
    {
     "name": "stdout",
     "output_type": "stream",
     "text": [
      "10/10 [==============================] - 1s 106ms/step - loss: 9.3628e-04 - mae: 0.0230 - val_loss: 0.0010 - val_mae: 0.0246\n",
      "Epoch 32/60\n",
      " 1/10 [==>...........................] - ETA: 0s - loss: 6.4296e-04 - mae: 0.0177INFO:tensorflow:Assets written to: ./TIME_SERIES/MODEL4_LSTM_VAR_19_Temp_1hrAfter(°C)/assets\n"
     ]
    },
    {
     "name": "stderr",
     "output_type": "stream",
     "text": [
      "INFO:tensorflow:Assets written to: ./TIME_SERIES/MODEL4_LSTM_VAR_19_Temp_1hrAfter(°C)/assets\n",
      "WARNING:absl:<keras.layers.recurrent.LSTMCell object at 0x7f744e5f6df0> has the same name 'LSTMCell' as a built-in Keras object. Consider renaming <class 'keras.layers.recurrent.LSTMCell'> to avoid naming conflicts when loading with `tf.keras.models.load_model`. If renaming is not possible, pass the object in the `custom_objects` parameter of the load function.\n"
     ]
    },
    {
     "name": "stdout",
     "output_type": "stream",
     "text": [
      "10/10 [==============================] - 1s 98ms/step - loss: 9.0638e-04 - mae: 0.0224 - val_loss: 9.9240e-04 - val_mae: 0.0241\n",
      "Epoch 33/60\n",
      "10/10 [==============================] - 0s 5ms/step - loss: 8.9750e-04 - mae: 0.0224 - val_loss: 9.9549e-04 - val_mae: 0.0241\n",
      "Epoch 34/60\n",
      " 1/10 [==>...........................] - ETA: 0s - loss: 7.2086e-04 - mae: 0.0211INFO:tensorflow:Assets written to: ./TIME_SERIES/MODEL4_LSTM_VAR_19_Temp_1hrAfter(°C)/assets\n"
     ]
    },
    {
     "name": "stderr",
     "output_type": "stream",
     "text": [
      "INFO:tensorflow:Assets written to: ./TIME_SERIES/MODEL4_LSTM_VAR_19_Temp_1hrAfter(°C)/assets\n",
      "WARNING:absl:<keras.layers.recurrent.LSTMCell object at 0x7f744e5f6df0> has the same name 'LSTMCell' as a built-in Keras object. Consider renaming <class 'keras.layers.recurrent.LSTMCell'> to avoid naming conflicts when loading with `tf.keras.models.load_model`. If renaming is not possible, pass the object in the `custom_objects` parameter of the load function.\n"
     ]
    },
    {
     "name": "stdout",
     "output_type": "stream",
     "text": [
      "10/10 [==============================] - 1s 94ms/step - loss: 8.8228e-04 - mae: 0.0221 - val_loss: 9.5965e-04 - val_mae: 0.0235\n",
      "Epoch 35/60\n",
      " 1/10 [==>...........................] - ETA: 0s - loss: 9.3479e-04 - mae: 0.0231INFO:tensorflow:Assets written to: ./TIME_SERIES/MODEL4_LSTM_VAR_19_Temp_1hrAfter(°C)/assets\n"
     ]
    },
    {
     "name": "stderr",
     "output_type": "stream",
     "text": [
      "INFO:tensorflow:Assets written to: ./TIME_SERIES/MODEL4_LSTM_VAR_19_Temp_1hrAfter(°C)/assets\n",
      "WARNING:absl:<keras.layers.recurrent.LSTMCell object at 0x7f744e5f6df0> has the same name 'LSTMCell' as a built-in Keras object. Consider renaming <class 'keras.layers.recurrent.LSTMCell'> to avoid naming conflicts when loading with `tf.keras.models.load_model`. If renaming is not possible, pass the object in the `custom_objects` parameter of the load function.\n"
     ]
    },
    {
     "name": "stdout",
     "output_type": "stream",
     "text": [
      "10/10 [==============================] - 1s 115ms/step - loss: 8.6337e-04 - mae: 0.0218 - val_loss: 9.3366e-04 - val_mae: 0.0233\n",
      "Epoch 36/60\n",
      " 1/10 [==>...........................] - ETA: 0s - loss: 6.0864e-04 - mae: 0.0190INFO:tensorflow:Assets written to: ./TIME_SERIES/MODEL4_LSTM_VAR_19_Temp_1hrAfter(°C)/assets\n"
     ]
    },
    {
     "name": "stderr",
     "output_type": "stream",
     "text": [
      "INFO:tensorflow:Assets written to: ./TIME_SERIES/MODEL4_LSTM_VAR_19_Temp_1hrAfter(°C)/assets\n",
      "WARNING:absl:<keras.layers.recurrent.LSTMCell object at 0x7f744e5f6df0> has the same name 'LSTMCell' as a built-in Keras object. Consider renaming <class 'keras.layers.recurrent.LSTMCell'> to avoid naming conflicts when loading with `tf.keras.models.load_model`. If renaming is not possible, pass the object in the `custom_objects` parameter of the load function.\n"
     ]
    },
    {
     "name": "stdout",
     "output_type": "stream",
     "text": [
      "10/10 [==============================] - 1s 98ms/step - loss: 8.6830e-04 - mae: 0.0218 - val_loss: 9.2949e-04 - val_mae: 0.0233\n",
      "Epoch 37/60\n",
      "10/10 [==============================] - 0s 5ms/step - loss: 8.4005e-04 - mae: 0.0217 - val_loss: 9.4012e-04 - val_mae: 0.0234\n",
      "Epoch 38/60\n",
      "10/10 [==============================] - 0s 5ms/step - loss: 8.2396e-04 - mae: 0.0212 - val_loss: 9.3220e-04 - val_mae: 0.0235\n",
      "Epoch 39/60\n",
      " 1/10 [==>...........................] - ETA: 0s - loss: 8.8768e-04 - mae: 0.0224INFO:tensorflow:Assets written to: ./TIME_SERIES/MODEL4_LSTM_VAR_19_Temp_1hrAfter(°C)/assets\n"
     ]
    },
    {
     "name": "stderr",
     "output_type": "stream",
     "text": [
      "INFO:tensorflow:Assets written to: ./TIME_SERIES/MODEL4_LSTM_VAR_19_Temp_1hrAfter(°C)/assets\n",
      "WARNING:absl:<keras.layers.recurrent.LSTMCell object at 0x7f744e5f6df0> has the same name 'LSTMCell' as a built-in Keras object. Consider renaming <class 'keras.layers.recurrent.LSTMCell'> to avoid naming conflicts when loading with `tf.keras.models.load_model`. If renaming is not possible, pass the object in the `custom_objects` parameter of the load function.\n"
     ]
    },
    {
     "name": "stdout",
     "output_type": "stream",
     "text": [
      "10/10 [==============================] - 1s 94ms/step - loss: 8.4676e-04 - mae: 0.0216 - val_loss: 8.7968e-04 - val_mae: 0.0227\n",
      "Epoch 40/60\n",
      "10/10 [==============================] - 0s 5ms/step - loss: 8.5505e-04 - mae: 0.0218 - val_loss: 9.0222e-04 - val_mae: 0.0231\n",
      "Epoch 41/60\n",
      " 1/10 [==>...........................] - ETA: 0s - loss: 7.4176e-04 - mae: 0.0204INFO:tensorflow:Assets written to: ./TIME_SERIES/MODEL4_LSTM_VAR_19_Temp_1hrAfter(°C)/assets\n"
     ]
    },
    {
     "name": "stderr",
     "output_type": "stream",
     "text": [
      "INFO:tensorflow:Assets written to: ./TIME_SERIES/MODEL4_LSTM_VAR_19_Temp_1hrAfter(°C)/assets\n",
      "WARNING:absl:<keras.layers.recurrent.LSTMCell object at 0x7f744e5f6df0> has the same name 'LSTMCell' as a built-in Keras object. Consider renaming <class 'keras.layers.recurrent.LSTMCell'> to avoid naming conflicts when loading with `tf.keras.models.load_model`. If renaming is not possible, pass the object in the `custom_objects` parameter of the load function.\n"
     ]
    },
    {
     "name": "stdout",
     "output_type": "stream",
     "text": [
      "10/10 [==============================] - 1s 94ms/step - loss: 7.8958e-04 - mae: 0.0208 - val_loss: 8.5762e-04 - val_mae: 0.0224\n",
      "Epoch 42/60\n",
      " 1/10 [==>...........................] - ETA: 0s - loss: 6.1187e-04 - mae: 0.0181INFO:tensorflow:Assets written to: ./TIME_SERIES/MODEL4_LSTM_VAR_19_Temp_1hrAfter(°C)/assets\n"
     ]
    },
    {
     "name": "stderr",
     "output_type": "stream",
     "text": [
      "INFO:tensorflow:Assets written to: ./TIME_SERIES/MODEL4_LSTM_VAR_19_Temp_1hrAfter(°C)/assets\n",
      "WARNING:absl:<keras.layers.recurrent.LSTMCell object at 0x7f744e5f6df0> has the same name 'LSTMCell' as a built-in Keras object. Consider renaming <class 'keras.layers.recurrent.LSTMCell'> to avoid naming conflicts when loading with `tf.keras.models.load_model`. If renaming is not possible, pass the object in the `custom_objects` parameter of the load function.\n"
     ]
    },
    {
     "name": "stdout",
     "output_type": "stream",
     "text": [
      "10/10 [==============================] - 1s 109ms/step - loss: 7.7615e-04 - mae: 0.0206 - val_loss: 8.5480e-04 - val_mae: 0.0223\n",
      "Epoch 43/60\n",
      " 1/10 [==>...........................] - ETA: 0s - loss: 9.6281e-04 - mae: 0.0217INFO:tensorflow:Assets written to: ./TIME_SERIES/MODEL4_LSTM_VAR_19_Temp_1hrAfter(°C)/assets\n"
     ]
    },
    {
     "name": "stderr",
     "output_type": "stream",
     "text": [
      "INFO:tensorflow:Assets written to: ./TIME_SERIES/MODEL4_LSTM_VAR_19_Temp_1hrAfter(°C)/assets\n",
      "WARNING:absl:<keras.layers.recurrent.LSTMCell object at 0x7f744e5f6df0> has the same name 'LSTMCell' as a built-in Keras object. Consider renaming <class 'keras.layers.recurrent.LSTMCell'> to avoid naming conflicts when loading with `tf.keras.models.load_model`. If renaming is not possible, pass the object in the `custom_objects` parameter of the load function.\n"
     ]
    },
    {
     "name": "stdout",
     "output_type": "stream",
     "text": [
      "10/10 [==============================] - 1s 97ms/step - loss: 7.6524e-04 - mae: 0.0204 - val_loss: 8.3123e-04 - val_mae: 0.0220\n",
      "Epoch 44/60\n",
      " 1/10 [==>...........................] - ETA: 0s - loss: 9.4813e-04 - mae: 0.0242INFO:tensorflow:Assets written to: ./TIME_SERIES/MODEL4_LSTM_VAR_19_Temp_1hrAfter(°C)/assets\n"
     ]
    },
    {
     "name": "stderr",
     "output_type": "stream",
     "text": [
      "INFO:tensorflow:Assets written to: ./TIME_SERIES/MODEL4_LSTM_VAR_19_Temp_1hrAfter(°C)/assets\n",
      "WARNING:absl:<keras.layers.recurrent.LSTMCell object at 0x7f744e5f6df0> has the same name 'LSTMCell' as a built-in Keras object. Consider renaming <class 'keras.layers.recurrent.LSTMCell'> to avoid naming conflicts when loading with `tf.keras.models.load_model`. If renaming is not possible, pass the object in the `custom_objects` parameter of the load function.\n"
     ]
    },
    {
     "name": "stdout",
     "output_type": "stream",
     "text": [
      "10/10 [==============================] - 1s 106ms/step - loss: 7.5631e-04 - mae: 0.0203 - val_loss: 8.1799e-04 - val_mae: 0.0219\n",
      "Epoch 45/60\n",
      "10/10 [==============================] - 0s 5ms/step - loss: 7.4390e-04 - mae: 0.0201 - val_loss: 8.2753e-04 - val_mae: 0.0221\n",
      "Epoch 46/60\n",
      " 1/10 [==>...........................] - ETA: 0s - loss: 4.5662e-04 - mae: 0.0155INFO:tensorflow:Assets written to: ./TIME_SERIES/MODEL4_LSTM_VAR_19_Temp_1hrAfter(°C)/assets\n"
     ]
    },
    {
     "name": "stderr",
     "output_type": "stream",
     "text": [
      "INFO:tensorflow:Assets written to: ./TIME_SERIES/MODEL4_LSTM_VAR_19_Temp_1hrAfter(°C)/assets\n",
      "WARNING:absl:<keras.layers.recurrent.LSTMCell object at 0x7f744e5f6df0> has the same name 'LSTMCell' as a built-in Keras object. Consider renaming <class 'keras.layers.recurrent.LSTMCell'> to avoid naming conflicts when loading with `tf.keras.models.load_model`. If renaming is not possible, pass the object in the `custom_objects` parameter of the load function.\n"
     ]
    },
    {
     "name": "stdout",
     "output_type": "stream",
     "text": [
      "10/10 [==============================] - 1s 94ms/step - loss: 7.3939e-04 - mae: 0.0199 - val_loss: 8.1216e-04 - val_mae: 0.0217\n",
      "Epoch 47/60\n",
      " 1/10 [==>...........................] - ETA: 0s - loss: 6.3405e-04 - mae: 0.0169INFO:tensorflow:Assets written to: ./TIME_SERIES/MODEL4_LSTM_VAR_19_Temp_1hrAfter(°C)/assets\n"
     ]
    },
    {
     "name": "stderr",
     "output_type": "stream",
     "text": [
      "INFO:tensorflow:Assets written to: ./TIME_SERIES/MODEL4_LSTM_VAR_19_Temp_1hrAfter(°C)/assets\n",
      "WARNING:absl:<keras.layers.recurrent.LSTMCell object at 0x7f744e5f6df0> has the same name 'LSTMCell' as a built-in Keras object. Consider renaming <class 'keras.layers.recurrent.LSTMCell'> to avoid naming conflicts when loading with `tf.keras.models.load_model`. If renaming is not possible, pass the object in the `custom_objects` parameter of the load function.\n"
     ]
    },
    {
     "name": "stdout",
     "output_type": "stream",
     "text": [
      "10/10 [==============================] - 1s 97ms/step - loss: 7.5005e-04 - mae: 0.0204 - val_loss: 7.8412e-04 - val_mae: 0.0215\n",
      "Epoch 48/60\n",
      "10/10 [==============================] - 0s 5ms/step - loss: 7.2976e-04 - mae: 0.0198 - val_loss: 8.1915e-04 - val_mae: 0.0221\n",
      "Epoch 49/60\n",
      " 1/10 [==>...........................] - ETA: 0s - loss: 5.8198e-04 - mae: 0.0186INFO:tensorflow:Assets written to: ./TIME_SERIES/MODEL4_LSTM_VAR_19_Temp_1hrAfter(°C)/assets\n"
     ]
    },
    {
     "name": "stderr",
     "output_type": "stream",
     "text": [
      "INFO:tensorflow:Assets written to: ./TIME_SERIES/MODEL4_LSTM_VAR_19_Temp_1hrAfter(°C)/assets\n",
      "WARNING:absl:<keras.layers.recurrent.LSTMCell object at 0x7f744e5f6df0> has the same name 'LSTMCell' as a built-in Keras object. Consider renaming <class 'keras.layers.recurrent.LSTMCell'> to avoid naming conflicts when loading with `tf.keras.models.load_model`. If renaming is not possible, pass the object in the `custom_objects` parameter of the load function.\n"
     ]
    },
    {
     "name": "stdout",
     "output_type": "stream",
     "text": [
      "10/10 [==============================] - 1s 114ms/step - loss: 7.2231e-04 - mae: 0.0197 - val_loss: 7.6608e-04 - val_mae: 0.0212\n",
      "Epoch 50/60\n",
      " 1/10 [==>...........................] - ETA: 0s - loss: 9.2138e-04 - mae: 0.0226INFO:tensorflow:Assets written to: ./TIME_SERIES/MODEL4_LSTM_VAR_19_Temp_1hrAfter(°C)/assets\n"
     ]
    },
    {
     "name": "stderr",
     "output_type": "stream",
     "text": [
      "INFO:tensorflow:Assets written to: ./TIME_SERIES/MODEL4_LSTM_VAR_19_Temp_1hrAfter(°C)/assets\n",
      "WARNING:absl:<keras.layers.recurrent.LSTMCell object at 0x7f744e5f6df0> has the same name 'LSTMCell' as a built-in Keras object. Consider renaming <class 'keras.layers.recurrent.LSTMCell'> to avoid naming conflicts when loading with `tf.keras.models.load_model`. If renaming is not possible, pass the object in the `custom_objects` parameter of the load function.\n"
     ]
    },
    {
     "name": "stdout",
     "output_type": "stream",
     "text": [
      "10/10 [==============================] - 1s 99ms/step - loss: 6.9880e-04 - mae: 0.0195 - val_loss: 7.4678e-04 - val_mae: 0.0209\n",
      "Epoch 51/60\n",
      " 1/10 [==>...........................] - ETA: 0s - loss: 7.2857e-04 - mae: 0.0195INFO:tensorflow:Assets written to: ./TIME_SERIES/MODEL4_LSTM_VAR_19_Temp_1hrAfter(°C)/assets\n"
     ]
    },
    {
     "name": "stderr",
     "output_type": "stream",
     "text": [
      "INFO:tensorflow:Assets written to: ./TIME_SERIES/MODEL4_LSTM_VAR_19_Temp_1hrAfter(°C)/assets\n",
      "WARNING:absl:<keras.layers.recurrent.LSTMCell object at 0x7f744e5f6df0> has the same name 'LSTMCell' as a built-in Keras object. Consider renaming <class 'keras.layers.recurrent.LSTMCell'> to avoid naming conflicts when loading with `tf.keras.models.load_model`. If renaming is not possible, pass the object in the `custom_objects` parameter of the load function.\n"
     ]
    },
    {
     "name": "stdout",
     "output_type": "stream",
     "text": [
      "10/10 [==============================] - 1s 98ms/step - loss: 6.8673e-04 - mae: 0.0191 - val_loss: 7.4596e-04 - val_mae: 0.0209\n",
      "Epoch 52/60\n",
      "10/10 [==============================] - 0s 6ms/step - loss: 7.3048e-04 - mae: 0.0200 - val_loss: 8.5451e-04 - val_mae: 0.0224\n",
      "Epoch 53/60\n",
      "10/10 [==============================] - 0s 5ms/step - loss: 7.5645e-04 - mae: 0.0204 - val_loss: 9.6863e-04 - val_mae: 0.0241\n",
      "Epoch 54/60\n",
      "10/10 [==============================] - 0s 5ms/step - loss: 7.9862e-04 - mae: 0.0214 - val_loss: 8.3506e-04 - val_mae: 0.0222\n",
      "Epoch 55/60\n",
      "10/10 [==============================] - 0s 5ms/step - loss: 7.4421e-04 - mae: 0.0203 - val_loss: 7.4633e-04 - val_mae: 0.0210\n",
      "Epoch 56/60\n",
      " 1/10 [==>...........................] - ETA: 0s - loss: 9.6505e-04 - mae: 0.0234INFO:tensorflow:Assets written to: ./TIME_SERIES/MODEL4_LSTM_VAR_19_Temp_1hrAfter(°C)/assets\n"
     ]
    },
    {
     "name": "stderr",
     "output_type": "stream",
     "text": [
      "INFO:tensorflow:Assets written to: ./TIME_SERIES/MODEL4_LSTM_VAR_19_Temp_1hrAfter(°C)/assets\n",
      "WARNING:absl:<keras.layers.recurrent.LSTMCell object at 0x7f744e5f6df0> has the same name 'LSTMCell' as a built-in Keras object. Consider renaming <class 'keras.layers.recurrent.LSTMCell'> to avoid naming conflicts when loading with `tf.keras.models.load_model`. If renaming is not possible, pass the object in the `custom_objects` parameter of the load function.\n"
     ]
    },
    {
     "name": "stdout",
     "output_type": "stream",
     "text": [
      "10/10 [==============================] - 1s 108ms/step - loss: 6.5622e-04 - mae: 0.0187 - val_loss: 7.1663e-04 - val_mae: 0.0205\n",
      "Epoch 57/60\n",
      " 1/10 [==>...........................] - ETA: 0s - loss: 0.0010 - mae: 0.0248INFO:tensorflow:Assets written to: ./TIME_SERIES/MODEL4_LSTM_VAR_19_Temp_1hrAfter(°C)/assets\n"
     ]
    },
    {
     "name": "stderr",
     "output_type": "stream",
     "text": [
      "INFO:tensorflow:Assets written to: ./TIME_SERIES/MODEL4_LSTM_VAR_19_Temp_1hrAfter(°C)/assets\n",
      "WARNING:absl:<keras.layers.recurrent.LSTMCell object at 0x7f744e5f6df0> has the same name 'LSTMCell' as a built-in Keras object. Consider renaming <class 'keras.layers.recurrent.LSTMCell'> to avoid naming conflicts when loading with `tf.keras.models.load_model`. If renaming is not possible, pass the object in the `custom_objects` parameter of the load function.\n"
     ]
    },
    {
     "name": "stdout",
     "output_type": "stream",
     "text": [
      "10/10 [==============================] - 1s 94ms/step - loss: 6.5501e-04 - mae: 0.0187 - val_loss: 6.9522e-04 - val_mae: 0.0202\n",
      "Epoch 58/60\n",
      "10/10 [==============================] - 0s 5ms/step - loss: 6.4165e-04 - mae: 0.0185 - val_loss: 7.0491e-04 - val_mae: 0.0202\n",
      "Epoch 59/60\n",
      "10/10 [==============================] - 0s 5ms/step - loss: 6.3370e-04 - mae: 0.0184 - val_loss: 6.9577e-04 - val_mae: 0.0200\n",
      "Epoch 60/60\n",
      " 1/10 [==>...........................] - ETA: 0s - loss: 3.9942e-04 - mae: 0.0143INFO:tensorflow:Assets written to: ./TIME_SERIES/MODEL4_LSTM_VAR_19_Temp_1hrAfter(°C)/assets\n"
     ]
    },
    {
     "name": "stderr",
     "output_type": "stream",
     "text": [
      "INFO:tensorflow:Assets written to: ./TIME_SERIES/MODEL4_LSTM_VAR_19_Temp_1hrAfter(°C)/assets\n",
      "WARNING:absl:<keras.layers.recurrent.LSTMCell object at 0x7f744e5f6df0> has the same name 'LSTMCell' as a built-in Keras object. Consider renaming <class 'keras.layers.recurrent.LSTMCell'> to avoid naming conflicts when loading with `tf.keras.models.load_model`. If renaming is not possible, pass the object in the `custom_objects` parameter of the load function.\n"
     ]
    },
    {
     "name": "stdout",
     "output_type": "stream",
     "text": [
      "10/10 [==============================] - 1s 97ms/step - loss: 6.4318e-04 - mae: 0.0186 - val_loss: 6.7159e-04 - val_mae: 0.0199\n"
     ]
    },
    {
     "data": {
      "text/plain": [
       "<keras.callbacks.History at 0x7f73f47bb550>"
      ]
     },
     "execution_count": 12,
     "metadata": {},
     "output_type": "execute_result"
    }
   ],
   "source": [
    "# 변경: Model 4 추가 \n",
    "# 변경: 전에는 y_train/y_valid를 바로 사용했지만, 지금은 y_train_list/y_valid_list에서 학습대상이 되는 변수값을 y_train/y_valid로 저장해야됨\n",
    "# 변경: 저장할 Model File 이름 변경\n",
    "# 1 Point 뒤 예측\n",
    "\n",
    "model_name = \"LSTM\"\n",
    "\n",
    "y_train_name = dict_args['label'][1]  # Temp_1hrAfter(°C)\n",
    "\n",
    "# y_train_list, y_valid_list에서 Temp_1hrAfter(°C) 데이터만 가져와서 y_train, y_valid 생성 \n",
    "y_train = list()\n",
    "for i in range(y_train_list.shape[0]):\n",
    "    y_train.append(y_train_list[i, 1])   # 리스트에서 두번째 열만 가져오기 ; y_train_list[i, 1] -> Temp_1hrAfter(°C)\n",
    "y_train = np.array(y_train)\n",
    "# print(y_train)\n",
    "# print(y_train.shape)\n",
    "\n",
    "y_valid = list()\n",
    "for i in range(y_valid_list.shape[0]):\n",
    "    y_valid.append(y_valid_list[i, 1])   # 리스트에서 두번째 열만 가져오기 ; y_valid_list[i, 1] -> Temp_1hrAfter(°C) \n",
    "y_valid = np.array(y_valid)\n",
    "# print(y_valid)\n",
    "\n",
    "dict_args['model_file'] = './TIME_SERIES/' + 'MODEL4' + '_' + model_name + '_VAR_' + str(len(dict_args['features'])) + '_' + y_train_name \n",
    "\n",
    "model4 = build_LSTM_model(dict_args, X_train)\n",
    "\n",
    "\n",
    "epochs = dict_args[\"param_list\"][model_name][\"epochs\"]\n",
    "batch_size = dict_args[\"param_list\"][model_name][\"batch_size\"]\n",
    "\n",
    "model4.fit(X_train, y_train, validation_data=(X_valid, y_valid), \n",
    "           epochs=epochs, \n",
    "           batch_size=batch_size,\n",
    "           callbacks=[ModelCheckpoint(dict_args['model_file'], save_best_only=True)],\n",
    ")"
   ]
  },
  {
   "cell_type": "code",
   "execution_count": 13,
   "metadata": {},
   "outputs": [
    {
     "name": "stdout",
     "output_type": "stream",
     "text": [
      "------------------------------ MODEL4_LSTM_VAR_19_Temp_1hrAfter(°C)  예측 결과입니다 ------------------------------\n",
      "WARNING:tensorflow:Layer lstm will not use cuDNN kernels since it doesn't meet the criteria. It will use a generic GPU kernel as fallback when running on GPU.\n"
     ]
    },
    {
     "name": "stderr",
     "output_type": "stream",
     "text": [
      "WARNING:tensorflow:Layer lstm will not use cuDNN kernels since it doesn't meet the criteria. It will use a generic GPU kernel as fallback when running on GPU.\n"
     ]
    },
    {
     "name": "stdout",
     "output_type": "stream",
     "text": [
      "4/4 [==============================] - 0s 2ms/step - loss: 6.5289e-04 - mae: 0.0187\n"
     ]
    },
    {
     "data": {
      "text/plain": [
       "[0.0006528914091177285, 0.018660377711057663]"
      ]
     },
     "execution_count": 13,
     "metadata": {},
     "output_type": "execute_result"
    }
   ],
   "source": [
    "# 변경: 전에는 y_test를 바로 사용했지만, 지금은 y_test_list에서 학습대상이 되는 변수값을 y_test로 저장해야됨\n",
    "from tensorflow.keras.models import load_model\n",
    "\n",
    "# y_test_list에서 Temp_1hrAfter(°C) 데이터만 가져와서 y_test 생성\n",
    "\n",
    "y_test = list()\n",
    "for i in range(y_test_list.shape[0]):\n",
    "    y_test.append(y_test_list[i, 1])     # 리스트에서 두번째 열만 가져오기 ; y_test_list[i, 1] -> Temp_1hrAfter(°C)\n",
    "y_test = np.array(y_test)\n",
    "\n",
    "print('-'*30, dict_args['model_file'].split('/')[-1], ' 예측 결과입니다', '-'*30)\n",
    "model4 = load_model(dict_args['model_file'])\n",
    "model4.evaluate(X_test, y_test)\n",
    "#---------------------------------------------------------------#"
   ]
  },
  {
   "cell_type": "code",
   "execution_count": 14,
   "metadata": {
    "tags": []
   },
   "outputs": [
    {
     "data": {
      "text/html": [
       "<div>\n",
       "<style scoped>\n",
       "    .dataframe tbody tr th:only-of-type {\n",
       "        vertical-align: middle;\n",
       "    }\n",
       "\n",
       "    .dataframe tbody tr th {\n",
       "        vertical-align: top;\n",
       "    }\n",
       "\n",
       "    .dataframe thead th {\n",
       "        text-align: right;\n",
       "    }\n",
       "</style>\n",
       "<table border=\"1\" class=\"dataframe\">\n",
       "  <thead>\n",
       "    <tr style=\"text-align: right;\">\n",
       "      <th></th>\n",
       "      <th>Test Predictions</th>\n",
       "      <th>Actuals</th>\n",
       "      <th>Test Predictions_original_values</th>\n",
       "      <th>Actuals_original_values</th>\n",
       "    </tr>\n",
       "  </thead>\n",
       "  <tbody>\n",
       "    <tr>\n",
       "      <th>0</th>\n",
       "      <td>0.631108</td>\n",
       "      <td>0.662921</td>\n",
       "      <td>23.050596</td>\n",
       "      <td>23.9</td>\n",
       "    </tr>\n",
       "    <tr>\n",
       "      <th>1</th>\n",
       "      <td>0.590491</td>\n",
       "      <td>0.610487</td>\n",
       "      <td>21.966103</td>\n",
       "      <td>22.5</td>\n",
       "    </tr>\n",
       "    <tr>\n",
       "      <th>2</th>\n",
       "      <td>0.552501</td>\n",
       "      <td>0.561798</td>\n",
       "      <td>20.951766</td>\n",
       "      <td>21.2</td>\n",
       "    </tr>\n",
       "    <tr>\n",
       "      <th>3</th>\n",
       "      <td>0.524755</td>\n",
       "      <td>0.558052</td>\n",
       "      <td>20.210954</td>\n",
       "      <td>21.1</td>\n",
       "    </tr>\n",
       "    <tr>\n",
       "      <th>4</th>\n",
       "      <td>0.496706</td>\n",
       "      <td>0.516854</td>\n",
       "      <td>19.462048</td>\n",
       "      <td>20.0</td>\n",
       "    </tr>\n",
       "    <tr>\n",
       "      <th>...</th>\n",
       "      <td>...</td>\n",
       "      <td>...</td>\n",
       "      <td>...</td>\n",
       "      <td>...</td>\n",
       "    </tr>\n",
       "    <tr>\n",
       "      <th>111</th>\n",
       "      <td>0.618301</td>\n",
       "      <td>0.677903</td>\n",
       "      <td>22.708626</td>\n",
       "      <td>24.3</td>\n",
       "    </tr>\n",
       "    <tr>\n",
       "      <th>112</th>\n",
       "      <td>0.601046</td>\n",
       "      <td>0.580524</td>\n",
       "      <td>22.247929</td>\n",
       "      <td>21.7</td>\n",
       "    </tr>\n",
       "    <tr>\n",
       "      <th>113</th>\n",
       "      <td>0.572922</td>\n",
       "      <td>0.591760</td>\n",
       "      <td>21.497025</td>\n",
       "      <td>22.0</td>\n",
       "    </tr>\n",
       "    <tr>\n",
       "      <th>114</th>\n",
       "      <td>0.562765</td>\n",
       "      <td>0.539326</td>\n",
       "      <td>21.225816</td>\n",
       "      <td>20.6</td>\n",
       "    </tr>\n",
       "    <tr>\n",
       "      <th>115</th>\n",
       "      <td>0.548598</td>\n",
       "      <td>0.535581</td>\n",
       "      <td>20.847566</td>\n",
       "      <td>20.5</td>\n",
       "    </tr>\n",
       "  </tbody>\n",
       "</table>\n",
       "<p>116 rows × 4 columns</p>\n",
       "</div>"
      ],
      "text/plain": [
       "     Test Predictions   Actuals  Test Predictions_original_values  \\\n",
       "0            0.631108  0.662921                         23.050596   \n",
       "1            0.590491  0.610487                         21.966103   \n",
       "2            0.552501  0.561798                         20.951766   \n",
       "3            0.524755  0.558052                         20.210954   \n",
       "4            0.496706  0.516854                         19.462048   \n",
       "..                ...       ...                               ...   \n",
       "111          0.618301  0.677903                         22.708626   \n",
       "112          0.601046  0.580524                         22.247929   \n",
       "113          0.572922  0.591760                         21.497025   \n",
       "114          0.562765  0.539326                         21.225816   \n",
       "115          0.548598  0.535581                         20.847566   \n",
       "\n",
       "     Actuals_original_values  \n",
       "0                       23.9  \n",
       "1                       22.5  \n",
       "2                       21.2  \n",
       "3                       21.1  \n",
       "4                       20.0  \n",
       "..                       ...  \n",
       "111                     24.3  \n",
       "112                     21.7  \n",
       "113                     22.0  \n",
       "114                     20.6  \n",
       "115                     20.5  \n",
       "\n",
       "[116 rows x 4 columns]"
      ]
     },
     "metadata": {},
     "output_type": "display_data"
    },
    {
     "data": {
      "text/plain": [
       "Text(0.5, 0.98, 'Trend Prediction')"
      ]
     },
     "execution_count": 14,
     "metadata": {},
     "output_type": "execute_result"
    },
    {
     "data": {
      "image/png": "[encoded data removed]",
      "text/plain": [
       "<Figure size 720x360 with 1 Axes>"
      ]
     },
     "metadata": {
      "needs_background": "light"
     },
     "output_type": "display_data"
    }
   ],
   "source": [
    "plt.rcParams[\"figure.figsize\"] = (10,5)\n",
    "plt.rcParams['lines.linewidth'] = 2\n",
    "\n",
    "train_predictions = model4.predict(X_test).flatten()\n",
    "train_results = pd.DataFrame(data={'Test Predictions':train_predictions, 'Actuals':y_test})\n",
    "# display(train_results)\n",
    "\n",
    "# 저장된 MIN_MAX 파일 열기\n",
    "min_max_df = pd.read_csv(dict_args['min_max_file'])\n",
    "min_max_df = min_max_df.set_index('VAR')\n",
    "# display(min_max_df)\n",
    "\n",
    "for col in dict_args[\"label\"]:\n",
    "    # Temp_1hrAfter(°C)만 reverse min-max\n",
    "    if col != dict_args[\"label\"][1]:\n",
    "        continue\n",
    "    # print(col)\n",
    "    min_ = min_max_df.loc[col, 'min']\n",
    "    max_ = min_max_df.loc[col, 'max']\n",
    "\n",
    "    for label_col in train_results.columns:\n",
    "        label = np.array(train_results[label_col])\n",
    "        result_array = reverse_minmax(label, min_, max_)\n",
    "        train_results[label_col + '_original_values'] = result_array\n",
    "display(train_results)\n",
    "\n",
    "plt.xlabel(\"Time-Step(hr)\")\n",
    "plt.ylabel(\"Temp(°C)\")\n",
    "# 변경: time range 바꿈\n",
    "plt.plot(train_results['Test Predictions_original_values'][:100], 'r', label='Predicted Values')\n",
    "plt.plot(train_results['Actuals_original_values'][:100], 'k', label='Actual Values')\n",
    "plt.legend()\n",
    "plt.suptitle(\"Trend Prediction\")\n",
    "#---------------------------------------------------------------#"
   ]
  },
  {
   "cell_type": "code",
   "execution_count": 15,
   "metadata": {},
   "outputs": [
    {
     "name": "stdout",
     "output_type": "stream",
     "text": [
      "predicted_future_point:  23.050595957040784\n",
      "true_future_point:  22.5\n",
      "history_values:  [23.6 24.7 24.9 24.8]\n",
      "\n"
     ]
    },
    {
     "data": {
      "image/png": "[encoded data removed]",
      "text/plain": [
       "<Figure size 576x360 with 1 Axes>"
      ]
     },
     "metadata": {
      "needs_background": "light"
     },
     "output_type": "display_data"
    }
   ],
   "source": [
    "# 변경 Single Point Graph 코드 추가\n",
    "plt.rcParams[\"figure.figsize\"] = (8,5)\n",
    "plt.rcParams['lines.linewidth'] = 1\n",
    "plt.rcParams['axes.grid'] = True\n",
    "plt.rcParams['font.size'] = 10\n",
    "\n",
    "\n",
    "future_time_step = 1\n",
    "predicted_future_point = model4.predict(X_test).flatten()[0]\n",
    "# y_train도 1시간 뒤에 값이므로 y_test도 1시간 뒤 값으로 맞춰주기\n",
    "true_future_point = y_test[0 + future_time_step]\n",
    "\n",
    "history_values = X_test[0][:, 7]    # X_test의 8 번째 열 (Temp_1hrAfter(°C))에 대한 4 times window 만들기   \n",
    "history_time_steps = list(range(-len(history_values)+1, 1))\n",
    "\n",
    "# 저장된 MIN_MAX 파일 열기\n",
    "min_max_df = pd.read_csv(dict_args['min_max_file'])\n",
    "min_max_df = min_max_df.set_index('VAR')\n",
    "# display(min_max_df)\n",
    "\n",
    "for col in dict_args[\"label\"]:\n",
    "    # Temp_1hrAfter(°C)만 reverse min-max\n",
    "    if col != dict_args[\"label\"][1]:\n",
    "        continue\n",
    "    # print(col)\n",
    "    min_ = min_max_df.loc[col, 'min']\n",
    "    max_ = min_max_df.loc[col, 'max']\n",
    "\n",
    "# min-max scaling된 값을 원래값으로 되돌리기\n",
    "predicted_future_point = predicted_future_point * (max_ - min_) + min_\n",
    "true_future_point = true_future_point * (max_ - min_) + min_\n",
    "history_values = list(map(lambda x: (x * (max_ - min_) + min_), history_values))\n",
    "history_values = np.array(history_values)\n",
    "\n",
    "print(\"predicted_future_point: \", predicted_future_point)\n",
    "print(\"true_future_point: \", true_future_point)\n",
    "print(\"history_values: \", history_values)\n",
    "print()\n",
    "\n",
    "labels = [\"History\", \"True Future\", \"Model Prediction\"]\n",
    "marker = [\".-\", \"rx\", \"go\"]\n",
    "\n",
    "plt.xlim([-3.2, 3])\n",
    "plt.ylim([-0.5, 50])\n",
    "plt.xlabel(\"Time-Step(hr)\")\n",
    "plt.ylabel(\"Temp(°C)\")\n",
    "\n",
    "# 과거 기온 값 (windows=4)\n",
    "plt.plot(history_time_steps, history_values, marker[0], markersize=11, label=labels[0])\n",
    "# 학습된 모델로 예측된 1시간후 기온\n",
    "plt.plot(future_time_step, predicted_future_point, marker[2], markersize=10, label=labels[2])\n",
    "# 실제 기온\n",
    "plt.plot(future_time_step, true_future_point, marker[1], markersize=10, label=labels[1]) \n",
    "\n",
    "plt.legend()\n",
    "plt.suptitle(\"Single Step Prediction (Windows=4,  1hrAfterTemp)\")\n",
    "plt.show()\n"
   ]
  },
  {
   "cell_type": "code",
   "execution_count": null,
   "metadata": {},
   "outputs": [],
   "source": []
  },
  {
   "cell_type": "markdown",
   "metadata": {},
   "source": [
    "## 모델 학습하기 (2시간 뒤 온도를 Label로 고정해서 학습; 예시: Model 5) "
   ]
  },
  {
   "cell_type": "code",
   "execution_count": 16,
   "metadata": {
    "collapsed": true,
    "jupyter": {
     "outputs_hidden": true,
     "source_hidden": true
    },
    "tags": []
   },
   "outputs": [
    {
     "name": "stdout",
     "output_type": "stream",
     "text": [
      "WARNING:tensorflow:Layer lstm_1 will not use cuDNN kernels since it doesn't meet the criteria. It will use a generic GPU kernel as fallback when running on GPU.\n"
     ]
    },
    {
     "name": "stderr",
     "output_type": "stream",
     "text": [
      "WARNING:tensorflow:Layer lstm_1 will not use cuDNN kernels since it doesn't meet the criteria. It will use a generic GPU kernel as fallback when running on GPU.\n"
     ]
    },
    {
     "name": "stdout",
     "output_type": "stream",
     "text": [
      "Model: \"sequential_1\"\n",
      "_________________________________________________________________\n",
      " Layer (type)                Output Shape              Param #   \n",
      "=================================================================\n",
      " lstm_1 (LSTM)               (None, 32)                6656      \n",
      "                                                                 \n",
      " dense_2 (Dense)             (None, 4)                 132       \n",
      "                                                                 \n",
      " dense_3 (Dense)             (None, 1)                 5         \n",
      "                                                                 \n",
      "=================================================================\n",
      "Total params: 6,793\n",
      "Trainable params: 6,793\n",
      "Non-trainable params: 0\n",
      "_________________________________________________________________\n",
      "None\n",
      "Epoch 1/60\n",
      " 1/10 [==>...........................] - ETA: 5s - loss: 0.0514 - mae: 0.1965INFO:tensorflow:Assets written to: ./TIME_SERIES/MODEL5_LSTM_VAR_19_Temp_2hrAfter(°C)/assets\n"
     ]
    },
    {
     "name": "stderr",
     "output_type": "stream",
     "text": [
      "INFO:tensorflow:Assets written to: ./TIME_SERIES/MODEL5_LSTM_VAR_19_Temp_2hrAfter(°C)/assets\n",
      "WARNING:absl:<keras.layers.recurrent.LSTMCell object at 0x7f7564222af0> has the same name 'LSTMCell' as a built-in Keras object. Consider renaming <class 'keras.layers.recurrent.LSTMCell'> to avoid naming conflicts when loading with `tf.keras.models.load_model`. If renaming is not possible, pass the object in the `custom_objects` parameter of the load function.\n"
     ]
    },
    {
     "name": "stdout",
     "output_type": "stream",
     "text": [
      "10/10 [==============================] - 2s 110ms/step - loss: 0.0207 - mae: 0.1141 - val_loss: 0.0116 - val_mae: 0.0915\n",
      "Epoch 2/60\n",
      " 1/10 [==>...........................] - ETA: 0s - loss: 0.0108 - mae: 0.0866INFO:tensorflow:Assets written to: ./TIME_SERIES/MODEL5_LSTM_VAR_19_Temp_2hrAfter(°C)/assets\n"
     ]
    },
    {
     "name": "stderr",
     "output_type": "stream",
     "text": [
      "INFO:tensorflow:Assets written to: ./TIME_SERIES/MODEL5_LSTM_VAR_19_Temp_2hrAfter(°C)/assets\n",
      "WARNING:absl:<keras.layers.recurrent.LSTMCell object at 0x7f7564222af0> has the same name 'LSTMCell' as a built-in Keras object. Consider renaming <class 'keras.layers.recurrent.LSTMCell'> to avoid naming conflicts when loading with `tf.keras.models.load_model`. If renaming is not possible, pass the object in the `custom_objects` parameter of the load function.\n"
     ]
    },
    {
     "name": "stdout",
     "output_type": "stream",
     "text": [
      "10/10 [==============================] - 1s 108ms/step - loss: 0.0117 - mae: 0.0898 - val_loss: 0.0097 - val_mae: 0.0831\n",
      "Epoch 3/60\n",
      "10/10 [==============================] - 0s 5ms/step - loss: 0.0079 - mae: 0.0728 - val_loss: 0.0104 - val_mae: 0.0817\n",
      "Epoch 4/60\n",
      " 1/10 [==>...........................] - ETA: 0s - loss: 0.0059 - mae: 0.0617INFO:tensorflow:Assets written to: ./TIME_SERIES/MODEL5_LSTM_VAR_19_Temp_2hrAfter(°C)/assets\n"
     ]
    },
    {
     "name": "stderr",
     "output_type": "stream",
     "text": [
      "INFO:tensorflow:Assets written to: ./TIME_SERIES/MODEL5_LSTM_VAR_19_Temp_2hrAfter(°C)/assets\n",
      "WARNING:absl:<keras.layers.recurrent.LSTMCell object at 0x7f7564222af0> has the same name 'LSTMCell' as a built-in Keras object. Consider renaming <class 'keras.layers.recurrent.LSTMCell'> to avoid naming conflicts when loading with `tf.keras.models.load_model`. If renaming is not possible, pass the object in the `custom_objects` parameter of the load function.\n"
     ]
    },
    {
     "name": "stdout",
     "output_type": "stream",
     "text": [
      "10/10 [==============================] - 1s 99ms/step - loss: 0.0070 - mae: 0.0673 - val_loss: 0.0077 - val_mae: 0.0716\n",
      "Epoch 5/60\n",
      " 1/10 [==>...........................] - ETA: 0s - loss: 0.0051 - mae: 0.0607INFO:tensorflow:Assets written to: ./TIME_SERIES/MODEL5_LSTM_VAR_19_Temp_2hrAfter(°C)/assets\n"
     ]
    },
    {
     "name": "stderr",
     "output_type": "stream",
     "text": [
      "INFO:tensorflow:Assets written to: ./TIME_SERIES/MODEL5_LSTM_VAR_19_Temp_2hrAfter(°C)/assets\n",
      "WARNING:absl:<keras.layers.recurrent.LSTMCell object at 0x7f7564222af0> has the same name 'LSTMCell' as a built-in Keras object. Consider renaming <class 'keras.layers.recurrent.LSTMCell'> to avoid naming conflicts when loading with `tf.keras.models.load_model`. If renaming is not possible, pass the object in the `custom_objects` parameter of the load function.\n"
     ]
    },
    {
     "name": "stdout",
     "output_type": "stream",
     "text": [
      "10/10 [==============================] - 1s 95ms/step - loss: 0.0060 - mae: 0.0633 - val_loss: 0.0068 - val_mae: 0.0672\n",
      "Epoch 6/60\n",
      " 1/10 [==>...........................] - ETA: 0s - loss: 0.0039 - mae: 0.0496INFO:tensorflow:Assets written to: ./TIME_SERIES/MODEL5_LSTM_VAR_19_Temp_2hrAfter(°C)/assets\n"
     ]
    },
    {
     "name": "stderr",
     "output_type": "stream",
     "text": [
      "INFO:tensorflow:Assets written to: ./TIME_SERIES/MODEL5_LSTM_VAR_19_Temp_2hrAfter(°C)/assets\n",
      "WARNING:absl:<keras.layers.recurrent.LSTMCell object at 0x7f7564222af0> has the same name 'LSTMCell' as a built-in Keras object. Consider renaming <class 'keras.layers.recurrent.LSTMCell'> to avoid naming conflicts when loading with `tf.keras.models.load_model`. If renaming is not possible, pass the object in the `custom_objects` parameter of the load function.\n"
     ]
    },
    {
     "name": "stdout",
     "output_type": "stream",
     "text": [
      "10/10 [==============================] - 1s 94ms/step - loss: 0.0054 - mae: 0.0595 - val_loss: 0.0066 - val_mae: 0.0656\n",
      "Epoch 7/60\n",
      " 1/10 [==>...........................] - ETA: 0s - loss: 0.0052 - mae: 0.0606INFO:tensorflow:Assets written to: ./TIME_SERIES/MODEL5_LSTM_VAR_19_Temp_2hrAfter(°C)/assets\n"
     ]
    },
    {
     "name": "stderr",
     "output_type": "stream",
     "text": [
      "INFO:tensorflow:Assets written to: ./TIME_SERIES/MODEL5_LSTM_VAR_19_Temp_2hrAfter(°C)/assets\n",
      "WARNING:absl:<keras.layers.recurrent.LSTMCell object at 0x7f7564222af0> has the same name 'LSTMCell' as a built-in Keras object. Consider renaming <class 'keras.layers.recurrent.LSTMCell'> to avoid naming conflicts when loading with `tf.keras.models.load_model`. If renaming is not possible, pass the object in the `custom_objects` parameter of the load function.\n"
     ]
    },
    {
     "name": "stdout",
     "output_type": "stream",
     "text": [
      "10/10 [==============================] - 1s 111ms/step - loss: 0.0050 - mae: 0.0573 - val_loss: 0.0059 - val_mae: 0.0614\n",
      "Epoch 8/60\n",
      " 1/10 [==>...........................] - ETA: 0s - loss: 0.0036 - mae: 0.0488INFO:tensorflow:Assets written to: ./TIME_SERIES/MODEL5_LSTM_VAR_19_Temp_2hrAfter(°C)/assets\n"
     ]
    },
    {
     "name": "stderr",
     "output_type": "stream",
     "text": [
      "INFO:tensorflow:Assets written to: ./TIME_SERIES/MODEL5_LSTM_VAR_19_Temp_2hrAfter(°C)/assets\n",
      "WARNING:absl:<keras.layers.recurrent.LSTMCell object at 0x7f7564222af0> has the same name 'LSTMCell' as a built-in Keras object. Consider renaming <class 'keras.layers.recurrent.LSTMCell'> to avoid naming conflicts when loading with `tf.keras.models.load_model`. If renaming is not possible, pass the object in the `custom_objects` parameter of the load function.\n"
     ]
    },
    {
     "name": "stdout",
     "output_type": "stream",
     "text": [
      "10/10 [==============================] - 1s 98ms/step - loss: 0.0047 - mae: 0.0557 - val_loss: 0.0055 - val_mae: 0.0591\n",
      "Epoch 9/60\n",
      " 1/10 [==>...........................] - ETA: 0s - loss: 0.0047 - mae: 0.0546INFO:tensorflow:Assets written to: ./TIME_SERIES/MODEL5_LSTM_VAR_19_Temp_2hrAfter(°C)/assets\n"
     ]
    },
    {
     "name": "stderr",
     "output_type": "stream",
     "text": [
      "INFO:tensorflow:Assets written to: ./TIME_SERIES/MODEL5_LSTM_VAR_19_Temp_2hrAfter(°C)/assets\n",
      "WARNING:absl:<keras.layers.recurrent.LSTMCell object at 0x7f7564222af0> has the same name 'LSTMCell' as a built-in Keras object. Consider renaming <class 'keras.layers.recurrent.LSTMCell'> to avoid naming conflicts when loading with `tf.keras.models.load_model`. If renaming is not possible, pass the object in the `custom_objects` parameter of the load function.\n"
     ]
    },
    {
     "name": "stdout",
     "output_type": "stream",
     "text": [
      "10/10 [==============================] - 1s 94ms/step - loss: 0.0044 - mae: 0.0541 - val_loss: 0.0052 - val_mae: 0.0570\n",
      "Epoch 10/60\n",
      " 1/10 [==>...........................] - ETA: 0s - loss: 0.0049 - mae: 0.0570INFO:tensorflow:Assets written to: ./TIME_SERIES/MODEL5_LSTM_VAR_19_Temp_2hrAfter(°C)/assets\n"
     ]
    },
    {
     "name": "stderr",
     "output_type": "stream",
     "text": [
      "INFO:tensorflow:Assets written to: ./TIME_SERIES/MODEL5_LSTM_VAR_19_Temp_2hrAfter(°C)/assets\n",
      "WARNING:absl:<keras.layers.recurrent.LSTMCell object at 0x7f7564222af0> has the same name 'LSTMCell' as a built-in Keras object. Consider renaming <class 'keras.layers.recurrent.LSTMCell'> to avoid naming conflicts when loading with `tf.keras.models.load_model`. If renaming is not possible, pass the object in the `custom_objects` parameter of the load function.\n"
     ]
    },
    {
     "name": "stdout",
     "output_type": "stream",
     "text": [
      "10/10 [==============================] - 1s 109ms/step - loss: 0.0042 - mae: 0.0529 - val_loss: 0.0048 - val_mae: 0.0542\n",
      "Epoch 11/60\n",
      " 1/10 [==>...........................] - ETA: 0s - loss: 0.0039 - mae: 0.0481INFO:tensorflow:Assets written to: ./TIME_SERIES/MODEL5_LSTM_VAR_19_Temp_2hrAfter(°C)/assets\n"
     ]
    },
    {
     "name": "stderr",
     "output_type": "stream",
     "text": [
      "INFO:tensorflow:Assets written to: ./TIME_SERIES/MODEL5_LSTM_VAR_19_Temp_2hrAfter(°C)/assets\n",
      "WARNING:absl:<keras.layers.recurrent.LSTMCell object at 0x7f7564222af0> has the same name 'LSTMCell' as a built-in Keras object. Consider renaming <class 'keras.layers.recurrent.LSTMCell'> to avoid naming conflicts when loading with `tf.keras.models.load_model`. If renaming is not possible, pass the object in the `custom_objects` parameter of the load function.\n"
     ]
    },
    {
     "name": "stdout",
     "output_type": "stream",
     "text": [
      "10/10 [==============================] - 1s 94ms/step - loss: 0.0038 - mae: 0.0505 - val_loss: 0.0041 - val_mae: 0.0494\n",
      "Epoch 12/60\n",
      " 1/10 [==>...........................] - ETA: 0s - loss: 0.0036 - mae: 0.0489INFO:tensorflow:Assets written to: ./TIME_SERIES/MODEL5_LSTM_VAR_19_Temp_2hrAfter(°C)/assets\n"
     ]
    },
    {
     "name": "stderr",
     "output_type": "stream",
     "text": [
      "INFO:tensorflow:Assets written to: ./TIME_SERIES/MODEL5_LSTM_VAR_19_Temp_2hrAfter(°C)/assets\n",
      "WARNING:absl:<keras.layers.recurrent.LSTMCell object at 0x7f7564222af0> has the same name 'LSTMCell' as a built-in Keras object. Consider renaming <class 'keras.layers.recurrent.LSTMCell'> to avoid naming conflicts when loading with `tf.keras.models.load_model`. If renaming is not possible, pass the object in the `custom_objects` parameter of the load function.\n"
     ]
    },
    {
     "name": "stdout",
     "output_type": "stream",
     "text": [
      "10/10 [==============================] - 1s 93ms/step - loss: 0.0036 - mae: 0.0483 - val_loss: 0.0038 - val_mae: 0.0462\n",
      "Epoch 13/60\n",
      " 1/10 [==>...........................] - ETA: 0s - loss: 0.0032 - mae: 0.0413INFO:tensorflow:Assets written to: ./TIME_SERIES/MODEL5_LSTM_VAR_19_Temp_2hrAfter(°C)/assets\n"
     ]
    },
    {
     "name": "stderr",
     "output_type": "stream",
     "text": [
      "INFO:tensorflow:Assets written to: ./TIME_SERIES/MODEL5_LSTM_VAR_19_Temp_2hrAfter(°C)/assets\n",
      "WARNING:absl:<keras.layers.recurrent.LSTMCell object at 0x7f7564222af0> has the same name 'LSTMCell' as a built-in Keras object. Consider renaming <class 'keras.layers.recurrent.LSTMCell'> to avoid naming conflicts when loading with `tf.keras.models.load_model`. If renaming is not possible, pass the object in the `custom_objects` parameter of the load function.\n"
     ]
    },
    {
     "name": "stdout",
     "output_type": "stream",
     "text": [
      "10/10 [==============================] - 1s 114ms/step - loss: 0.0033 - mae: 0.0466 - val_loss: 0.0037 - val_mae: 0.0467\n",
      "Epoch 14/60\n",
      " 1/10 [==>...........................] - ETA: 0s - loss: 0.0032 - mae: 0.0463INFO:tensorflow:Assets written to: ./TIME_SERIES/MODEL5_LSTM_VAR_19_Temp_2hrAfter(°C)/assets\n"
     ]
    },
    {
     "name": "stderr",
     "output_type": "stream",
     "text": [
      "INFO:tensorflow:Assets written to: ./TIME_SERIES/MODEL5_LSTM_VAR_19_Temp_2hrAfter(°C)/assets\n",
      "WARNING:absl:<keras.layers.recurrent.LSTMCell object at 0x7f7564222af0> has the same name 'LSTMCell' as a built-in Keras object. Consider renaming <class 'keras.layers.recurrent.LSTMCell'> to avoid naming conflicts when loading with `tf.keras.models.load_model`. If renaming is not possible, pass the object in the `custom_objects` parameter of the load function.\n"
     ]
    },
    {
     "name": "stdout",
     "output_type": "stream",
     "text": [
      "10/10 [==============================] - 1s 99ms/step - loss: 0.0031 - mae: 0.0447 - val_loss: 0.0034 - val_mae: 0.0435\n",
      "Epoch 15/60\n",
      " 1/10 [==>...........................] - ETA: 0s - loss: 0.0030 - mae: 0.0475INFO:tensorflow:Assets written to: ./TIME_SERIES/MODEL5_LSTM_VAR_19_Temp_2hrAfter(°C)/assets\n"
     ]
    },
    {
     "name": "stderr",
     "output_type": "stream",
     "text": [
      "INFO:tensorflow:Assets written to: ./TIME_SERIES/MODEL5_LSTM_VAR_19_Temp_2hrAfter(°C)/assets\n",
      "WARNING:absl:<keras.layers.recurrent.LSTMCell object at 0x7f7564222af0> has the same name 'LSTMCell' as a built-in Keras object. Consider renaming <class 'keras.layers.recurrent.LSTMCell'> to avoid naming conflicts when loading with `tf.keras.models.load_model`. If renaming is not possible, pass the object in the `custom_objects` parameter of the load function.\n"
     ]
    },
    {
     "name": "stdout",
     "output_type": "stream",
     "text": [
      "10/10 [==============================] - 1s 98ms/step - loss: 0.0029 - mae: 0.0439 - val_loss: 0.0032 - val_mae: 0.0424\n",
      "Epoch 16/60\n",
      "10/10 [==============================] - 0s 5ms/step - loss: 0.0028 - mae: 0.0424 - val_loss: 0.0033 - val_mae: 0.0442\n",
      "Epoch 17/60\n",
      " 1/10 [==>...........................] - ETA: 0s - loss: 0.0023 - mae: 0.0388INFO:tensorflow:Assets written to: ./TIME_SERIES/MODEL5_LSTM_VAR_19_Temp_2hrAfter(°C)/assets\n"
     ]
    },
    {
     "name": "stderr",
     "output_type": "stream",
     "text": [
      "INFO:tensorflow:Assets written to: ./TIME_SERIES/MODEL5_LSTM_VAR_19_Temp_2hrAfter(°C)/assets\n",
      "WARNING:absl:<keras.layers.recurrent.LSTMCell object at 0x7f7564222af0> has the same name 'LSTMCell' as a built-in Keras object. Consider renaming <class 'keras.layers.recurrent.LSTMCell'> to avoid naming conflicts when loading with `tf.keras.models.load_model`. If renaming is not possible, pass the object in the `custom_objects` parameter of the load function.\n"
     ]
    },
    {
     "name": "stdout",
     "output_type": "stream",
     "text": [
      "10/10 [==============================] - 1s 111ms/step - loss: 0.0026 - mae: 0.0406 - val_loss: 0.0029 - val_mae: 0.0399\n",
      "Epoch 18/60\n",
      " 1/10 [==>...........................] - ETA: 0s - loss: 0.0022 - mae: 0.0391INFO:tensorflow:Assets written to: ./TIME_SERIES/MODEL5_LSTM_VAR_19_Temp_2hrAfter(°C)/assets\n"
     ]
    },
    {
     "name": "stderr",
     "output_type": "stream",
     "text": [
      "INFO:tensorflow:Assets written to: ./TIME_SERIES/MODEL5_LSTM_VAR_19_Temp_2hrAfter(°C)/assets\n",
      "WARNING:absl:<keras.layers.recurrent.LSTMCell object at 0x7f7564222af0> has the same name 'LSTMCell' as a built-in Keras object. Consider renaming <class 'keras.layers.recurrent.LSTMCell'> to avoid naming conflicts when loading with `tf.keras.models.load_model`. If renaming is not possible, pass the object in the `custom_objects` parameter of the load function.\n"
     ]
    },
    {
     "name": "stdout",
     "output_type": "stream",
     "text": [
      "10/10 [==============================] - 1s 95ms/step - loss: 0.0025 - mae: 0.0394 - val_loss: 0.0029 - val_mae: 0.0407\n",
      "Epoch 19/60\n",
      " 1/10 [==>...........................] - ETA: 0s - loss: 0.0021 - mae: 0.0400INFO:tensorflow:Assets written to: ./TIME_SERIES/MODEL5_LSTM_VAR_19_Temp_2hrAfter(°C)/assets\n"
     ]
    },
    {
     "name": "stderr",
     "output_type": "stream",
     "text": [
      "INFO:tensorflow:Assets written to: ./TIME_SERIES/MODEL5_LSTM_VAR_19_Temp_2hrAfter(°C)/assets\n",
      "WARNING:absl:<keras.layers.recurrent.LSTMCell object at 0x7f7564222af0> has the same name 'LSTMCell' as a built-in Keras object. Consider renaming <class 'keras.layers.recurrent.LSTMCell'> to avoid naming conflicts when loading with `tf.keras.models.load_model`. If renaming is not possible, pass the object in the `custom_objects` parameter of the load function.\n"
     ]
    },
    {
     "name": "stdout",
     "output_type": "stream",
     "text": [
      "10/10 [==============================] - 1s 97ms/step - loss: 0.0023 - mae: 0.0382 - val_loss: 0.0027 - val_mae: 0.0382\n",
      "Epoch 20/60\n",
      " 1/10 [==>...........................] - ETA: 0s - loss: 0.0016 - mae: 0.0317INFO:tensorflow:Assets written to: ./TIME_SERIES/MODEL5_LSTM_VAR_19_Temp_2hrAfter(°C)/assets\n"
     ]
    },
    {
     "name": "stderr",
     "output_type": "stream",
     "text": [
      "INFO:tensorflow:Assets written to: ./TIME_SERIES/MODEL5_LSTM_VAR_19_Temp_2hrAfter(°C)/assets\n",
      "WARNING:absl:<keras.layers.recurrent.LSTMCell object at 0x7f7564222af0> has the same name 'LSTMCell' as a built-in Keras object. Consider renaming <class 'keras.layers.recurrent.LSTMCell'> to avoid naming conflicts when loading with `tf.keras.models.load_model`. If renaming is not possible, pass the object in the `custom_objects` parameter of the load function.\n"
     ]
    },
    {
     "name": "stdout",
     "output_type": "stream",
     "text": [
      "10/10 [==============================] - 1s 114ms/step - loss: 0.0022 - mae: 0.0370 - val_loss: 0.0025 - val_mae: 0.0371\n",
      "Epoch 21/60\n",
      " 1/10 [==>...........................] - ETA: 0s - loss: 0.0027 - mae: 0.0406INFO:tensorflow:Assets written to: ./TIME_SERIES/MODEL5_LSTM_VAR_19_Temp_2hrAfter(°C)/assets\n"
     ]
    },
    {
     "name": "stderr",
     "output_type": "stream",
     "text": [
      "INFO:tensorflow:Assets written to: ./TIME_SERIES/MODEL5_LSTM_VAR_19_Temp_2hrAfter(°C)/assets\n",
      "WARNING:absl:<keras.layers.recurrent.LSTMCell object at 0x7f7564222af0> has the same name 'LSTMCell' as a built-in Keras object. Consider renaming <class 'keras.layers.recurrent.LSTMCell'> to avoid naming conflicts when loading with `tf.keras.models.load_model`. If renaming is not possible, pass the object in the `custom_objects` parameter of the load function.\n"
     ]
    },
    {
     "name": "stdout",
     "output_type": "stream",
     "text": [
      "10/10 [==============================] - 1s 98ms/step - loss: 0.0021 - mae: 0.0357 - val_loss: 0.0023 - val_mae: 0.0358\n",
      "Epoch 22/60\n",
      " 1/10 [==>...........................] - ETA: 0s - loss: 0.0019 - mae: 0.0309INFO:tensorflow:Assets written to: ./TIME_SERIES/MODEL5_LSTM_VAR_19_Temp_2hrAfter(°C)/assets\n"
     ]
    },
    {
     "name": "stderr",
     "output_type": "stream",
     "text": [
      "INFO:tensorflow:Assets written to: ./TIME_SERIES/MODEL5_LSTM_VAR_19_Temp_2hrAfter(°C)/assets\n",
      "WARNING:absl:<keras.layers.recurrent.LSTMCell object at 0x7f7564222af0> has the same name 'LSTMCell' as a built-in Keras object. Consider renaming <class 'keras.layers.recurrent.LSTMCell'> to avoid naming conflicts when loading with `tf.keras.models.load_model`. If renaming is not possible, pass the object in the `custom_objects` parameter of the load function.\n"
     ]
    },
    {
     "name": "stdout",
     "output_type": "stream",
     "text": [
      "10/10 [==============================] - 1s 97ms/step - loss: 0.0020 - mae: 0.0343 - val_loss: 0.0022 - val_mae: 0.0346\n",
      "Epoch 23/60\n",
      " 1/10 [==>...........................] - ETA: 0s - loss: 0.0017 - mae: 0.0327INFO:tensorflow:Assets written to: ./TIME_SERIES/MODEL5_LSTM_VAR_19_Temp_2hrAfter(°C)/assets\n"
     ]
    },
    {
     "name": "stderr",
     "output_type": "stream",
     "text": [
      "INFO:tensorflow:Assets written to: ./TIME_SERIES/MODEL5_LSTM_VAR_19_Temp_2hrAfter(°C)/assets\n",
      "WARNING:absl:<keras.layers.recurrent.LSTMCell object at 0x7f7564222af0> has the same name 'LSTMCell' as a built-in Keras object. Consider renaming <class 'keras.layers.recurrent.LSTMCell'> to avoid naming conflicts when loading with `tf.keras.models.load_model`. If renaming is not possible, pass the object in the `custom_objects` parameter of the load function.\n"
     ]
    },
    {
     "name": "stdout",
     "output_type": "stream",
     "text": [
      "10/10 [==============================] - 1s 95ms/step - loss: 0.0019 - mae: 0.0337 - val_loss: 0.0020 - val_mae: 0.0330\n",
      "Epoch 24/60\n",
      " 1/10 [==>...........................] - ETA: 0s - loss: 0.0023 - mae: 0.0389INFO:tensorflow:Assets written to: ./TIME_SERIES/MODEL5_LSTM_VAR_19_Temp_2hrAfter(°C)/assets\n"
     ]
    },
    {
     "name": "stderr",
     "output_type": "stream",
     "text": [
      "INFO:tensorflow:Assets written to: ./TIME_SERIES/MODEL5_LSTM_VAR_19_Temp_2hrAfter(°C)/assets\n",
      "WARNING:absl:<keras.layers.recurrent.LSTMCell object at 0x7f7564222af0> has the same name 'LSTMCell' as a built-in Keras object. Consider renaming <class 'keras.layers.recurrent.LSTMCell'> to avoid naming conflicts when loading with `tf.keras.models.load_model`. If renaming is not possible, pass the object in the `custom_objects` parameter of the load function.\n"
     ]
    },
    {
     "name": "stdout",
     "output_type": "stream",
     "text": [
      "10/10 [==============================] - 1s 113ms/step - loss: 0.0017 - mae: 0.0317 - val_loss: 0.0018 - val_mae: 0.0318\n",
      "Epoch 25/60\n",
      " 1/10 [==>...........................] - ETA: 0s - loss: 0.0020 - mae: 0.0321INFO:tensorflow:Assets written to: ./TIME_SERIES/MODEL5_LSTM_VAR_19_Temp_2hrAfter(°C)/assets\n"
     ]
    },
    {
     "name": "stderr",
     "output_type": "stream",
     "text": [
      "INFO:tensorflow:Assets written to: ./TIME_SERIES/MODEL5_LSTM_VAR_19_Temp_2hrAfter(°C)/assets\n",
      "WARNING:absl:<keras.layers.recurrent.LSTMCell object at 0x7f7564222af0> has the same name 'LSTMCell' as a built-in Keras object. Consider renaming <class 'keras.layers.recurrent.LSTMCell'> to avoid naming conflicts when loading with `tf.keras.models.load_model`. If renaming is not possible, pass the object in the `custom_objects` parameter of the load function.\n"
     ]
    },
    {
     "name": "stdout",
     "output_type": "stream",
     "text": [
      "10/10 [==============================] - 1s 93ms/step - loss: 0.0016 - mae: 0.0304 - val_loss: 0.0017 - val_mae: 0.0305\n",
      "Epoch 26/60\n",
      " 1/10 [==>...........................] - ETA: 0s - loss: 0.0013 - mae: 0.0278INFO:tensorflow:Assets written to: ./TIME_SERIES/MODEL5_LSTM_VAR_19_Temp_2hrAfter(°C)/assets\n"
     ]
    },
    {
     "name": "stderr",
     "output_type": "stream",
     "text": [
      "INFO:tensorflow:Assets written to: ./TIME_SERIES/MODEL5_LSTM_VAR_19_Temp_2hrAfter(°C)/assets\n",
      "WARNING:absl:<keras.layers.recurrent.LSTMCell object at 0x7f7564222af0> has the same name 'LSTMCell' as a built-in Keras object. Consider renaming <class 'keras.layers.recurrent.LSTMCell'> to avoid naming conflicts when loading with `tf.keras.models.load_model`. If renaming is not possible, pass the object in the `custom_objects` parameter of the load function.\n"
     ]
    },
    {
     "name": "stdout",
     "output_type": "stream",
     "text": [
      "10/10 [==============================] - 1s 95ms/step - loss: 0.0016 - mae: 0.0308 - val_loss: 0.0015 - val_mae: 0.0293\n",
      "Epoch 27/60\n",
      " 1/10 [==>...........................] - ETA: 0s - loss: 0.0018 - mae: 0.0314INFO:tensorflow:Assets written to: ./TIME_SERIES/MODEL5_LSTM_VAR_19_Temp_2hrAfter(°C)/assets\n"
     ]
    },
    {
     "name": "stderr",
     "output_type": "stream",
     "text": [
      "INFO:tensorflow:Assets written to: ./TIME_SERIES/MODEL5_LSTM_VAR_19_Temp_2hrAfter(°C)/assets\n",
      "WARNING:absl:<keras.layers.recurrent.LSTMCell object at 0x7f7564222af0> has the same name 'LSTMCell' as a built-in Keras object. Consider renaming <class 'keras.layers.recurrent.LSTMCell'> to avoid naming conflicts when loading with `tf.keras.models.load_model`. If renaming is not possible, pass the object in the `custom_objects` parameter of the load function.\n"
     ]
    },
    {
     "name": "stdout",
     "output_type": "stream",
     "text": [
      "10/10 [==============================] - 1s 110ms/step - loss: 0.0014 - mae: 0.0283 - val_loss: 0.0014 - val_mae: 0.0284\n",
      "Epoch 28/60\n",
      " 1/10 [==>...........................] - ETA: 0s - loss: 0.0021 - mae: 0.0344INFO:tensorflow:Assets written to: ./TIME_SERIES/MODEL5_LSTM_VAR_19_Temp_2hrAfter(°C)/assets\n"
     ]
    },
    {
     "name": "stderr",
     "output_type": "stream",
     "text": [
      "INFO:tensorflow:Assets written to: ./TIME_SERIES/MODEL5_LSTM_VAR_19_Temp_2hrAfter(°C)/assets\n",
      "WARNING:absl:<keras.layers.recurrent.LSTMCell object at 0x7f7564222af0> has the same name 'LSTMCell' as a built-in Keras object. Consider renaming <class 'keras.layers.recurrent.LSTMCell'> to avoid naming conflicts when loading with `tf.keras.models.load_model`. If renaming is not possible, pass the object in the `custom_objects` parameter of the load function.\n"
     ]
    },
    {
     "name": "stdout",
     "output_type": "stream",
     "text": [
      "10/10 [==============================] - 1s 95ms/step - loss: 0.0013 - mae: 0.0274 - val_loss: 0.0013 - val_mae: 0.0273\n",
      "Epoch 29/60\n",
      " 1/10 [==>...........................] - ETA: 0s - loss: 0.0016 - mae: 0.0281INFO:tensorflow:Assets written to: ./TIME_SERIES/MODEL5_LSTM_VAR_19_Temp_2hrAfter(°C)/assets\n"
     ]
    },
    {
     "name": "stderr",
     "output_type": "stream",
     "text": [
      "INFO:tensorflow:Assets written to: ./TIME_SERIES/MODEL5_LSTM_VAR_19_Temp_2hrAfter(°C)/assets\n",
      "WARNING:absl:<keras.layers.recurrent.LSTMCell object at 0x7f7564222af0> has the same name 'LSTMCell' as a built-in Keras object. Consider renaming <class 'keras.layers.recurrent.LSTMCell'> to avoid naming conflicts when loading with `tf.keras.models.load_model`. If renaming is not possible, pass the object in the `custom_objects` parameter of the load function.\n"
     ]
    },
    {
     "name": "stdout",
     "output_type": "stream",
     "text": [
      "10/10 [==============================] - 1s 95ms/step - loss: 0.0013 - mae: 0.0275 - val_loss: 0.0012 - val_mae: 0.0265\n",
      "Epoch 30/60\n",
      "10/10 [==============================] - 0s 5ms/step - loss: 0.0012 - mae: 0.0259 - val_loss: 0.0013 - val_mae: 0.0274\n",
      "Epoch 31/60\n",
      " 1/10 [==>...........................] - ETA: 0s - loss: 0.0010 - mae: 0.0259INFO:tensorflow:Assets written to: ./TIME_SERIES/MODEL5_LSTM_VAR_19_Temp_2hrAfter(°C)/assets\n"
     ]
    },
    {
     "name": "stderr",
     "output_type": "stream",
     "text": [
      "INFO:tensorflow:Assets written to: ./TIME_SERIES/MODEL5_LSTM_VAR_19_Temp_2hrAfter(°C)/assets\n",
      "WARNING:absl:<keras.layers.recurrent.LSTMCell object at 0x7f7564222af0> has the same name 'LSTMCell' as a built-in Keras object. Consider renaming <class 'keras.layers.recurrent.LSTMCell'> to avoid naming conflicts when loading with `tf.keras.models.load_model`. If renaming is not possible, pass the object in the `custom_objects` parameter of the load function.\n"
     ]
    },
    {
     "name": "stdout",
     "output_type": "stream",
     "text": [
      "10/10 [==============================] - 1s 114ms/step - loss: 0.0012 - mae: 0.0260 - val_loss: 0.0012 - val_mae: 0.0259\n",
      "Epoch 32/60\n",
      "10/10 [==============================] - 0s 5ms/step - loss: 0.0011 - mae: 0.0249 - val_loss: 0.0012 - val_mae: 0.0272\n",
      "Epoch 33/60\n",
      " 1/10 [==>...........................] - ETA: 0s - loss: 0.0010 - mae: 0.0251INFO:tensorflow:Assets written to: ./TIME_SERIES/MODEL5_LSTM_VAR_19_Temp_2hrAfter(°C)/assets\n"
     ]
    },
    {
     "name": "stderr",
     "output_type": "stream",
     "text": [
      "INFO:tensorflow:Assets written to: ./TIME_SERIES/MODEL5_LSTM_VAR_19_Temp_2hrAfter(°C)/assets\n",
      "WARNING:absl:<keras.layers.recurrent.LSTMCell object at 0x7f7564222af0> has the same name 'LSTMCell' as a built-in Keras object. Consider renaming <class 'keras.layers.recurrent.LSTMCell'> to avoid naming conflicts when loading with `tf.keras.models.load_model`. If renaming is not possible, pass the object in the `custom_objects` parameter of the load function.\n"
     ]
    },
    {
     "name": "stdout",
     "output_type": "stream",
     "text": [
      "10/10 [==============================] - 1s 97ms/step - loss: 0.0012 - mae: 0.0256 - val_loss: 0.0011 - val_mae: 0.0253\n",
      "Epoch 34/60\n",
      " 1/10 [==>...........................] - ETA: 0s - loss: 0.0010 - mae: 0.0269INFO:tensorflow:Assets written to: ./TIME_SERIES/MODEL5_LSTM_VAR_19_Temp_2hrAfter(°C)/assets\n"
     ]
    },
    {
     "name": "stderr",
     "output_type": "stream",
     "text": [
      "INFO:tensorflow:Assets written to: ./TIME_SERIES/MODEL5_LSTM_VAR_19_Temp_2hrAfter(°C)/assets\n",
      "WARNING:absl:<keras.layers.recurrent.LSTMCell object at 0x7f7564222af0> has the same name 'LSTMCell' as a built-in Keras object. Consider renaming <class 'keras.layers.recurrent.LSTMCell'> to avoid naming conflicts when loading with `tf.keras.models.load_model`. If renaming is not possible, pass the object in the `custom_objects` parameter of the load function.\n"
     ]
    },
    {
     "name": "stdout",
     "output_type": "stream",
     "text": [
      "10/10 [==============================] - 1s 98ms/step - loss: 0.0011 - mae: 0.0249 - val_loss: 0.0011 - val_mae: 0.0249\n",
      "Epoch 35/60\n",
      " 1/10 [==>...........................] - ETA: 0s - loss: 0.0011 - mae: 0.0253INFO:tensorflow:Assets written to: ./TIME_SERIES/MODEL5_LSTM_VAR_19_Temp_2hrAfter(°C)/assets\n"
     ]
    },
    {
     "name": "stderr",
     "output_type": "stream",
     "text": [
      "INFO:tensorflow:Assets written to: ./TIME_SERIES/MODEL5_LSTM_VAR_19_Temp_2hrAfter(°C)/assets\n",
      "WARNING:absl:<keras.layers.recurrent.LSTMCell object at 0x7f7564222af0> has the same name 'LSTMCell' as a built-in Keras object. Consider renaming <class 'keras.layers.recurrent.LSTMCell'> to avoid naming conflicts when loading with `tf.keras.models.load_model`. If renaming is not possible, pass the object in the `custom_objects` parameter of the load function.\n"
     ]
    },
    {
     "name": "stdout",
     "output_type": "stream",
     "text": [
      "10/10 [==============================] - 1s 112ms/step - loss: 0.0011 - mae: 0.0252 - val_loss: 0.0010 - val_mae: 0.0246\n",
      "Epoch 36/60\n",
      " 1/10 [==>...........................] - ETA: 0s - loss: 0.0012 - mae: 0.0279INFO:tensorflow:Assets written to: ./TIME_SERIES/MODEL5_LSTM_VAR_19_Temp_2hrAfter(°C)/assets\n"
     ]
    },
    {
     "name": "stderr",
     "output_type": "stream",
     "text": [
      "INFO:tensorflow:Assets written to: ./TIME_SERIES/MODEL5_LSTM_VAR_19_Temp_2hrAfter(°C)/assets\n",
      "WARNING:absl:<keras.layers.recurrent.LSTMCell object at 0x7f7564222af0> has the same name 'LSTMCell' as a built-in Keras object. Consider renaming <class 'keras.layers.recurrent.LSTMCell'> to avoid naming conflicts when loading with `tf.keras.models.load_model`. If renaming is not possible, pass the object in the `custom_objects` parameter of the load function.\n"
     ]
    },
    {
     "name": "stdout",
     "output_type": "stream",
     "text": [
      "10/10 [==============================] - 1s 96ms/step - loss: 0.0010 - mae: 0.0236 - val_loss: 9.1586e-04 - val_mae: 0.0229\n",
      "Epoch 37/60\n",
      " 1/10 [==>...........................] - ETA: 0s - loss: 0.0010 - mae: 0.0240INFO:tensorflow:Assets written to: ./TIME_SERIES/MODEL5_LSTM_VAR_19_Temp_2hrAfter(°C)/assets\n"
     ]
    },
    {
     "name": "stderr",
     "output_type": "stream",
     "text": [
      "INFO:tensorflow:Assets written to: ./TIME_SERIES/MODEL5_LSTM_VAR_19_Temp_2hrAfter(°C)/assets\n",
      "WARNING:absl:<keras.layers.recurrent.LSTMCell object at 0x7f7564222af0> has the same name 'LSTMCell' as a built-in Keras object. Consider renaming <class 'keras.layers.recurrent.LSTMCell'> to avoid naming conflicts when loading with `tf.keras.models.load_model`. If renaming is not possible, pass the object in the `custom_objects` parameter of the load function.\n"
     ]
    },
    {
     "name": "stdout",
     "output_type": "stream",
     "text": [
      "10/10 [==============================] - 1s 95ms/step - loss: 9.4462e-04 - mae: 0.0230 - val_loss: 8.5859e-04 - val_mae: 0.0223\n",
      "Epoch 38/60\n",
      " 1/10 [==>...........................] - ETA: 0s - loss: 0.0011 - mae: 0.0249INFO:tensorflow:Assets written to: ./TIME_SERIES/MODEL5_LSTM_VAR_19_Temp_2hrAfter(°C)/assets\n"
     ]
    },
    {
     "name": "stderr",
     "output_type": "stream",
     "text": [
      "INFO:tensorflow:Assets written to: ./TIME_SERIES/MODEL5_LSTM_VAR_19_Temp_2hrAfter(°C)/assets\n",
      "WARNING:absl:<keras.layers.recurrent.LSTMCell object at 0x7f7564222af0> has the same name 'LSTMCell' as a built-in Keras object. Consider renaming <class 'keras.layers.recurrent.LSTMCell'> to avoid naming conflicts when loading with `tf.keras.models.load_model`. If renaming is not possible, pass the object in the `custom_objects` parameter of the load function.\n"
     ]
    },
    {
     "name": "stdout",
     "output_type": "stream",
     "text": [
      "10/10 [==============================] - 1s 98ms/step - loss: 9.1121e-04 - mae: 0.0225 - val_loss: 8.3209e-04 - val_mae: 0.0217\n",
      "Epoch 39/60\n",
      " 1/10 [==>...........................] - ETA: 0s - loss: 8.1435e-04 - mae: 0.0218INFO:tensorflow:Assets written to: ./TIME_SERIES/MODEL5_LSTM_VAR_19_Temp_2hrAfter(°C)/assets\n"
     ]
    },
    {
     "name": "stderr",
     "output_type": "stream",
     "text": [
      "INFO:tensorflow:Assets written to: ./TIME_SERIES/MODEL5_LSTM_VAR_19_Temp_2hrAfter(°C)/assets\n",
      "WARNING:absl:<keras.layers.recurrent.LSTMCell object at 0x7f7564222af0> has the same name 'LSTMCell' as a built-in Keras object. Consider renaming <class 'keras.layers.recurrent.LSTMCell'> to avoid naming conflicts when loading with `tf.keras.models.load_model`. If renaming is not possible, pass the object in the `custom_objects` parameter of the load function.\n"
     ]
    },
    {
     "name": "stdout",
     "output_type": "stream",
     "text": [
      "10/10 [==============================] - 1s 137ms/step - loss: 9.1231e-04 - mae: 0.0225 - val_loss: 7.9576e-04 - val_mae: 0.0214\n",
      "Epoch 40/60\n",
      " 1/10 [==>...........................] - ETA: 0s - loss: 7.4870e-04 - mae: 0.0218INFO:tensorflow:Assets written to: ./TIME_SERIES/MODEL5_LSTM_VAR_19_Temp_2hrAfter(°C)/assets\n"
     ]
    },
    {
     "name": "stderr",
     "output_type": "stream",
     "text": [
      "INFO:tensorflow:Assets written to: ./TIME_SERIES/MODEL5_LSTM_VAR_19_Temp_2hrAfter(°C)/assets\n",
      "WARNING:absl:<keras.layers.recurrent.LSTMCell object at 0x7f7564222af0> has the same name 'LSTMCell' as a built-in Keras object. Consider renaming <class 'keras.layers.recurrent.LSTMCell'> to avoid naming conflicts when loading with `tf.keras.models.load_model`. If renaming is not possible, pass the object in the `custom_objects` parameter of the load function.\n"
     ]
    },
    {
     "name": "stdout",
     "output_type": "stream",
     "text": [
      "10/10 [==============================] - 1s 104ms/step - loss: 8.7893e-04 - mae: 0.0221 - val_loss: 7.8564e-04 - val_mae: 0.0210\n",
      "Epoch 41/60\n",
      " 1/10 [==>...........................] - ETA: 0s - loss: 8.8957e-04 - mae: 0.0241INFO:tensorflow:Assets written to: ./TIME_SERIES/MODEL5_LSTM_VAR_19_Temp_2hrAfter(°C)/assets\n"
     ]
    },
    {
     "name": "stderr",
     "output_type": "stream",
     "text": [
      "INFO:tensorflow:Assets written to: ./TIME_SERIES/MODEL5_LSTM_VAR_19_Temp_2hrAfter(°C)/assets\n",
      "WARNING:absl:<keras.layers.recurrent.LSTMCell object at 0x7f7564222af0> has the same name 'LSTMCell' as a built-in Keras object. Consider renaming <class 'keras.layers.recurrent.LSTMCell'> to avoid naming conflicts when loading with `tf.keras.models.load_model`. If renaming is not possible, pass the object in the `custom_objects` parameter of the load function.\n"
     ]
    },
    {
     "name": "stdout",
     "output_type": "stream",
     "text": [
      "10/10 [==============================] - 1s 103ms/step - loss: 8.7589e-04 - mae: 0.0219 - val_loss: 7.5860e-04 - val_mae: 0.0206\n",
      "Epoch 42/60\n",
      "10/10 [==============================] - 0s 5ms/step - loss: 8.7121e-04 - mae: 0.0221 - val_loss: 7.7427e-04 - val_mae: 0.0211\n",
      "Epoch 43/60\n",
      " 1/10 [==>...........................] - ETA: 0s - loss: 6.5760e-04 - mae: 0.0198INFO:tensorflow:Assets written to: ./TIME_SERIES/MODEL5_LSTM_VAR_19_Temp_2hrAfter(°C)/assets\n"
     ]
    },
    {
     "name": "stderr",
     "output_type": "stream",
     "text": [
      "INFO:tensorflow:Assets written to: ./TIME_SERIES/MODEL5_LSTM_VAR_19_Temp_2hrAfter(°C)/assets\n",
      "WARNING:absl:<keras.layers.recurrent.LSTMCell object at 0x7f7564222af0> has the same name 'LSTMCell' as a built-in Keras object. Consider renaming <class 'keras.layers.recurrent.LSTMCell'> to avoid naming conflicts when loading with `tf.keras.models.load_model`. If renaming is not possible, pass the object in the `custom_objects` parameter of the load function.\n"
     ]
    },
    {
     "name": "stdout",
     "output_type": "stream",
     "text": [
      "10/10 [==============================] - 1s 110ms/step - loss: 9.4447e-04 - mae: 0.0231 - val_loss: 7.1598e-04 - val_mae: 0.0201\n",
      "Epoch 44/60\n",
      " 1/10 [==>...........................] - ETA: 0s - loss: 9.5000e-04 - mae: 0.0244INFO:tensorflow:Assets written to: ./TIME_SERIES/MODEL5_LSTM_VAR_19_Temp_2hrAfter(°C)/assets\n"
     ]
    },
    {
     "name": "stderr",
     "output_type": "stream",
     "text": [
      "INFO:tensorflow:Assets written to: ./TIME_SERIES/MODEL5_LSTM_VAR_19_Temp_2hrAfter(°C)/assets\n",
      "WARNING:absl:<keras.layers.recurrent.LSTMCell object at 0x7f7564222af0> has the same name 'LSTMCell' as a built-in Keras object. Consider renaming <class 'keras.layers.recurrent.LSTMCell'> to avoid naming conflicts when loading with `tf.keras.models.load_model`. If renaming is not possible, pass the object in the `custom_objects` parameter of the load function.\n"
     ]
    },
    {
     "name": "stdout",
     "output_type": "stream",
     "text": [
      "10/10 [==============================] - 1s 97ms/step - loss: 8.4917e-04 - mae: 0.0215 - val_loss: 7.0192e-04 - val_mae: 0.0198\n",
      "Epoch 45/60\n",
      " 1/10 [==>...........................] - ETA: 0s - loss: 5.8457e-04 - mae: 0.0180INFO:tensorflow:Assets written to: ./TIME_SERIES/MODEL5_LSTM_VAR_19_Temp_2hrAfter(°C)/assets\n"
     ]
    },
    {
     "name": "stderr",
     "output_type": "stream",
     "text": [
      "INFO:tensorflow:Assets written to: ./TIME_SERIES/MODEL5_LSTM_VAR_19_Temp_2hrAfter(°C)/assets\n",
      "WARNING:absl:<keras.layers.recurrent.LSTMCell object at 0x7f7564222af0> has the same name 'LSTMCell' as a built-in Keras object. Consider renaming <class 'keras.layers.recurrent.LSTMCell'> to avoid naming conflicts when loading with `tf.keras.models.load_model`. If renaming is not possible, pass the object in the `custom_objects` parameter of the load function.\n"
     ]
    },
    {
     "name": "stdout",
     "output_type": "stream",
     "text": [
      "10/10 [==============================] - 1s 93ms/step - loss: 7.7627e-04 - mae: 0.0206 - val_loss: 6.8448e-04 - val_mae: 0.0195\n",
      "Epoch 46/60\n",
      " 1/10 [==>...........................] - ETA: 0s - loss: 6.9610e-04 - mae: 0.0210INFO:tensorflow:Assets written to: ./TIME_SERIES/MODEL5_LSTM_VAR_19_Temp_2hrAfter(°C)/assets\n"
     ]
    },
    {
     "name": "stderr",
     "output_type": "stream",
     "text": [
      "INFO:tensorflow:Assets written to: ./TIME_SERIES/MODEL5_LSTM_VAR_19_Temp_2hrAfter(°C)/assets\n",
      "WARNING:absl:<keras.layers.recurrent.LSTMCell object at 0x7f7564222af0> has the same name 'LSTMCell' as a built-in Keras object. Consider renaming <class 'keras.layers.recurrent.LSTMCell'> to avoid naming conflicts when loading with `tf.keras.models.load_model`. If renaming is not possible, pass the object in the `custom_objects` parameter of the load function.\n"
     ]
    },
    {
     "name": "stdout",
     "output_type": "stream",
     "text": [
      "10/10 [==============================] - 1s 110ms/step - loss: 7.7674e-04 - mae: 0.0205 - val_loss: 6.7959e-04 - val_mae: 0.0194\n",
      "Epoch 47/60\n",
      "10/10 [==============================] - 0s 5ms/step - loss: 7.8298e-04 - mae: 0.0208 - val_loss: 8.1544e-04 - val_mae: 0.0220\n",
      "Epoch 48/60\n",
      "10/10 [==============================] - 0s 5ms/step - loss: 8.2442e-04 - mae: 0.0219 - val_loss: 7.1825e-04 - val_mae: 0.0204\n",
      "Epoch 49/60\n",
      " 1/10 [==>...........................] - ETA: 0s - loss: 7.5782e-04 - mae: 0.0223INFO:tensorflow:Assets written to: ./TIME_SERIES/MODEL5_LSTM_VAR_19_Temp_2hrAfter(°C)/assets\n"
     ]
    },
    {
     "name": "stderr",
     "output_type": "stream",
     "text": [
      "INFO:tensorflow:Assets written to: ./TIME_SERIES/MODEL5_LSTM_VAR_19_Temp_2hrAfter(°C)/assets\n",
      "WARNING:absl:<keras.layers.recurrent.LSTMCell object at 0x7f7564222af0> has the same name 'LSTMCell' as a built-in Keras object. Consider renaming <class 'keras.layers.recurrent.LSTMCell'> to avoid naming conflicts when loading with `tf.keras.models.load_model`. If renaming is not possible, pass the object in the `custom_objects` parameter of the load function.\n"
     ]
    },
    {
     "name": "stdout",
     "output_type": "stream",
     "text": [
      "10/10 [==============================] - 1s 95ms/step - loss: 7.4515e-04 - mae: 0.0201 - val_loss: 6.3040e-04 - val_mae: 0.0187\n",
      "Epoch 50/60\n",
      "10/10 [==============================] - 0s 5ms/step - loss: 7.2848e-04 - mae: 0.0201 - val_loss: 6.4104e-04 - val_mae: 0.0189\n",
      "Epoch 51/60\n",
      " 1/10 [==>...........................] - ETA: 0s - loss: 7.8651e-04 - mae: 0.0215INFO:tensorflow:Assets written to: ./TIME_SERIES/MODEL5_LSTM_VAR_19_Temp_2hrAfter(°C)/assets\n"
     ]
    },
    {
     "name": "stderr",
     "output_type": "stream",
     "text": [
      "INFO:tensorflow:Assets written to: ./TIME_SERIES/MODEL5_LSTM_VAR_19_Temp_2hrAfter(°C)/assets\n",
      "WARNING:absl:<keras.layers.recurrent.LSTMCell object at 0x7f7564222af0> has the same name 'LSTMCell' as a built-in Keras object. Consider renaming <class 'keras.layers.recurrent.LSTMCell'> to avoid naming conflicts when loading with `tf.keras.models.load_model`. If renaming is not possible, pass the object in the `custom_objects` parameter of the load function.\n"
     ]
    },
    {
     "name": "stdout",
     "output_type": "stream",
     "text": [
      "10/10 [==============================] - 1s 97ms/step - loss: 7.1503e-04 - mae: 0.0198 - val_loss: 6.1672e-04 - val_mae: 0.0186\n",
      "Epoch 52/60\n",
      " 1/10 [==>...........................] - ETA: 0s - loss: 8.2457e-04 - mae: 0.0223INFO:tensorflow:Assets written to: ./TIME_SERIES/MODEL5_LSTM_VAR_19_Temp_2hrAfter(°C)/assets\n"
     ]
    },
    {
     "name": "stderr",
     "output_type": "stream",
     "text": [
      "INFO:tensorflow:Assets written to: ./TIME_SERIES/MODEL5_LSTM_VAR_19_Temp_2hrAfter(°C)/assets\n",
      "WARNING:absl:<keras.layers.recurrent.LSTMCell object at 0x7f7564222af0> has the same name 'LSTMCell' as a built-in Keras object. Consider renaming <class 'keras.layers.recurrent.LSTMCell'> to avoid naming conflicts when loading with `tf.keras.models.load_model`. If renaming is not possible, pass the object in the `custom_objects` parameter of the load function.\n"
     ]
    },
    {
     "name": "stdout",
     "output_type": "stream",
     "text": [
      "10/10 [==============================] - 1s 98ms/step - loss: 7.1627e-04 - mae: 0.0198 - val_loss: 6.1548e-04 - val_mae: 0.0186\n",
      "Epoch 53/60\n",
      " 1/10 [==>...........................] - ETA: 0s - loss: 8.1609e-04 - mae: 0.0209INFO:tensorflow:Assets written to: ./TIME_SERIES/MODEL5_LSTM_VAR_19_Temp_2hrAfter(°C)/assets\n"
     ]
    },
    {
     "name": "stderr",
     "output_type": "stream",
     "text": [
      "INFO:tensorflow:Assets written to: ./TIME_SERIES/MODEL5_LSTM_VAR_19_Temp_2hrAfter(°C)/assets\n",
      "WARNING:absl:<keras.layers.recurrent.LSTMCell object at 0x7f7564222af0> has the same name 'LSTMCell' as a built-in Keras object. Consider renaming <class 'keras.layers.recurrent.LSTMCell'> to avoid naming conflicts when loading with `tf.keras.models.load_model`. If renaming is not possible, pass the object in the `custom_objects` parameter of the load function.\n"
     ]
    },
    {
     "name": "stdout",
     "output_type": "stream",
     "text": [
      "10/10 [==============================] - 1s 113ms/step - loss: 7.1267e-04 - mae: 0.0200 - val_loss: 5.9497e-04 - val_mae: 0.0182\n",
      "Epoch 54/60\n",
      "10/10 [==============================] - 0s 5ms/step - loss: 6.7752e-04 - mae: 0.0191 - val_loss: 5.9781e-04 - val_mae: 0.0183\n",
      "Epoch 55/60\n",
      " 1/10 [==>...........................] - ETA: 0s - loss: 5.0537e-04 - mae: 0.0172INFO:tensorflow:Assets written to: ./TIME_SERIES/MODEL5_LSTM_VAR_19_Temp_2hrAfter(°C)/assets\n"
     ]
    },
    {
     "name": "stderr",
     "output_type": "stream",
     "text": [
      "INFO:tensorflow:Assets written to: ./TIME_SERIES/MODEL5_LSTM_VAR_19_Temp_2hrAfter(°C)/assets\n",
      "WARNING:absl:<keras.layers.recurrent.LSTMCell object at 0x7f7564222af0> has the same name 'LSTMCell' as a built-in Keras object. Consider renaming <class 'keras.layers.recurrent.LSTMCell'> to avoid naming conflicts when loading with `tf.keras.models.load_model`. If renaming is not possible, pass the object in the `custom_objects` parameter of the load function.\n"
     ]
    },
    {
     "name": "stdout",
     "output_type": "stream",
     "text": [
      "10/10 [==============================] - 1s 94ms/step - loss: 6.7574e-04 - mae: 0.0191 - val_loss: 5.9213e-04 - val_mae: 0.0183\n",
      "Epoch 56/60\n",
      "10/10 [==============================] - 0s 5ms/step - loss: 6.6396e-04 - mae: 0.0191 - val_loss: 5.9379e-04 - val_mae: 0.0183\n",
      "Epoch 57/60\n",
      " 1/10 [==>...........................] - ETA: 0s - loss: 6.3510e-04 - mae: 0.0191INFO:tensorflow:Assets written to: ./TIME_SERIES/MODEL5_LSTM_VAR_19_Temp_2hrAfter(°C)/assets\n"
     ]
    },
    {
     "name": "stderr",
     "output_type": "stream",
     "text": [
      "INFO:tensorflow:Assets written to: ./TIME_SERIES/MODEL5_LSTM_VAR_19_Temp_2hrAfter(°C)/assets\n",
      "WARNING:absl:<keras.layers.recurrent.LSTMCell object at 0x7f7564222af0> has the same name 'LSTMCell' as a built-in Keras object. Consider renaming <class 'keras.layers.recurrent.LSTMCell'> to avoid naming conflicts when loading with `tf.keras.models.load_model`. If renaming is not possible, pass the object in the `custom_objects` parameter of the load function.\n"
     ]
    },
    {
     "name": "stdout",
     "output_type": "stream",
     "text": [
      "10/10 [==============================] - 1s 94ms/step - loss: 6.7200e-04 - mae: 0.0192 - val_loss: 5.7146e-04 - val_mae: 0.0179\n",
      "Epoch 58/60\n",
      "10/10 [==============================] - 0s 5ms/step - loss: 7.0487e-04 - mae: 0.0200 - val_loss: 5.8488e-04 - val_mae: 0.0182\n",
      "Epoch 59/60\n",
      "10/10 [==============================] - 0s 5ms/step - loss: 6.7685e-04 - mae: 0.0194 - val_loss: 6.3688e-04 - val_mae: 0.0191\n",
      "Epoch 60/60\n",
      " 1/10 [==>...........................] - ETA: 0s - loss: 4.9526e-04 - mae: 0.0179INFO:tensorflow:Assets written to: ./TIME_SERIES/MODEL5_LSTM_VAR_19_Temp_2hrAfter(°C)/assets\n"
     ]
    },
    {
     "name": "stderr",
     "output_type": "stream",
     "text": [
      "INFO:tensorflow:Assets written to: ./TIME_SERIES/MODEL5_LSTM_VAR_19_Temp_2hrAfter(°C)/assets\n",
      "WARNING:absl:<keras.layers.recurrent.LSTMCell object at 0x7f7564222af0> has the same name 'LSTMCell' as a built-in Keras object. Consider renaming <class 'keras.layers.recurrent.LSTMCell'> to avoid naming conflicts when loading with `tf.keras.models.load_model`. If renaming is not possible, pass the object in the `custom_objects` parameter of the load function.\n"
     ]
    },
    {
     "name": "stdout",
     "output_type": "stream",
     "text": [
      "10/10 [==============================] - 1s 109ms/step - loss: 6.5670e-04 - mae: 0.0191 - val_loss: 5.4652e-04 - val_mae: 0.0176\n"
     ]
    },
    {
     "data": {
      "text/plain": [
       "<keras.callbacks.History at 0x7f746065d520>"
      ]
     },
     "execution_count": 16,
     "metadata": {},
     "output_type": "execute_result"
    }
   ],
   "source": [
    "# 변경: Model 5 추가 \n",
    "# 변경: 전에는 y_train/y_valid를 바로 사용했지만, 지금은 y_train_list/y_valid_list에서 학습대상이 되는 변수값을 y_train/y_valid로 저장해야됨\n",
    "# 변경: 저장할 Model File 이름 변경\n",
    "# 2 Point 뒤 예측\n",
    "\n",
    "model_name = \"LSTM\"\n",
    "\n",
    "y_train_name = dict_args['label'][2]  # Temp_2hrAfter(°C)\n",
    "\n",
    "# y_train_list, y_valid_list에서 Temp_2hrAfter(°C) 데이터만 가져와서 y_train, y_valid 생성 \n",
    "y_train = list()\n",
    "for i in range(y_train_list.shape[0]):\n",
    "    y_train.append(y_train_list[i, 2])   # 리스트에서 두번째 열만 가져오기 ; y_train_list[i, 2] -> Temp_2hrAfter(°C)\n",
    "y_train = np.array(y_train)\n",
    "# print(y_train)\n",
    "# print(y_train.shape)\n",
    "\n",
    "y_valid = list()\n",
    "for i in range(y_valid_list.shape[0]):\n",
    "    y_valid.append(y_valid_list[i, 2])   # 리스트에서 두번째 열만 가져오기 ; y_valid_list[i, 2] -> Temp_2hrAfter(°C) \n",
    "y_valid = np.array(y_valid)\n",
    "# print(y_valid)\n",
    "\n",
    "dict_args['model_file'] = './TIME_SERIES/' + 'MODEL5' + '_' + model_name + '_VAR_' + str(len(dict_args['features'])) + '_' + y_train_name \n",
    "\n",
    "model5 = build_LSTM_model(dict_args, X_train)\n",
    "\n",
    "\n",
    "epochs = dict_args[\"param_list\"][model_name][\"epochs\"]\n",
    "batch_size = dict_args[\"param_list\"][model_name][\"batch_size\"]\n",
    "\n",
    "model5.fit(X_train, y_train, validation_data=(X_valid, y_valid), \n",
    "           epochs=epochs, \n",
    "           batch_size=batch_size,\n",
    "           callbacks=[ModelCheckpoint(dict_args['model_file'], save_best_only=True)],\n",
    ")"
   ]
  },
  {
   "cell_type": "code",
   "execution_count": 17,
   "metadata": {},
   "outputs": [
    {
     "name": "stdout",
     "output_type": "stream",
     "text": [
      "------------------------------ MODEL5_LSTM_VAR_19_Temp_2hrAfter(°C)  예측 결과입니다 ------------------------------\n",
      "WARNING:tensorflow:Layer lstm_1 will not use cuDNN kernels since it doesn't meet the criteria. It will use a generic GPU kernel as fallback when running on GPU.\n"
     ]
    },
    {
     "name": "stderr",
     "output_type": "stream",
     "text": [
      "WARNING:tensorflow:Layer lstm_1 will not use cuDNN kernels since it doesn't meet the criteria. It will use a generic GPU kernel as fallback when running on GPU.\n"
     ]
    },
    {
     "name": "stdout",
     "output_type": "stream",
     "text": [
      "4/4 [==============================] - 0s 2ms/step - loss: 7.8628e-04 - mae: 0.0209\n"
     ]
    },
    {
     "data": {
      "text/plain": [
       "[0.0007862814818508923, 0.020909765735268593]"
      ]
     },
     "execution_count": 17,
     "metadata": {},
     "output_type": "execute_result"
    }
   ],
   "source": [
    "# 변경: 전에는 y_test를 바로 사용했지만, 지금은 y_test_list에서 학습대상이 되는 변수값을 y_test로 저장해야됨\n",
    "from tensorflow.keras.models import load_model\n",
    "\n",
    "# y_test_list에서 Temp_2hrAfter(°C) 데이터만 가져와서 y_test 생성\n",
    "\n",
    "y_test = list()\n",
    "for i in range(y_test_list.shape[0]):\n",
    "    y_test.append(y_test_list[i, 2])     # 리스트에서 두번째 열만 가져오기 ; y_test_list[i, 2] -> Temp_2hrAfter(°C)\n",
    "y_test = np.array(y_test)\n",
    "\n",
    "print('-'*30, dict_args['model_file'].split('/')[-1], ' 예측 결과입니다', '-'*30)\n",
    "model5 = load_model(dict_args['model_file'])\n",
    "model5.evaluate(X_test, y_test)"
   ]
  },
  {
   "cell_type": "code",
   "execution_count": 18,
   "metadata": {},
   "outputs": [
    {
     "data": {
      "text/html": [
       "<div>\n",
       "<style scoped>\n",
       "    .dataframe tbody tr th:only-of-type {\n",
       "        vertical-align: middle;\n",
       "    }\n",
       "\n",
       "    .dataframe tbody tr th {\n",
       "        vertical-align: top;\n",
       "    }\n",
       "\n",
       "    .dataframe thead th {\n",
       "        text-align: right;\n",
       "    }\n",
       "</style>\n",
       "<table border=\"1\" class=\"dataframe\">\n",
       "  <thead>\n",
       "    <tr style=\"text-align: right;\">\n",
       "      <th></th>\n",
       "      <th>Test Predictions</th>\n",
       "      <th>Actuals</th>\n",
       "      <th>Test Predictions_original_values</th>\n",
       "      <th>Actuals_original_values</th>\n",
       "    </tr>\n",
       "  </thead>\n",
       "  <tbody>\n",
       "    <tr>\n",
       "      <th>0</th>\n",
       "      <td>0.608534</td>\n",
       "      <td>0.610487</td>\n",
       "      <td>22.447851</td>\n",
       "      <td>22.5</td>\n",
       "    </tr>\n",
       "    <tr>\n",
       "      <th>1</th>\n",
       "      <td>0.579786</td>\n",
       "      <td>0.561798</td>\n",
       "      <td>21.680288</td>\n",
       "      <td>21.2</td>\n",
       "    </tr>\n",
       "    <tr>\n",
       "      <th>2</th>\n",
       "      <td>0.551758</td>\n",
       "      <td>0.558052</td>\n",
       "      <td>20.931948</td>\n",
       "      <td>21.1</td>\n",
       "    </tr>\n",
       "    <tr>\n",
       "      <th>3</th>\n",
       "      <td>0.529929</td>\n",
       "      <td>0.516854</td>\n",
       "      <td>20.349094</td>\n",
       "      <td>20.0</td>\n",
       "    </tr>\n",
       "    <tr>\n",
       "      <th>4</th>\n",
       "      <td>0.508760</td>\n",
       "      <td>0.524345</td>\n",
       "      <td>19.783883</td>\n",
       "      <td>20.2</td>\n",
       "    </tr>\n",
       "    <tr>\n",
       "      <th>...</th>\n",
       "      <td>...</td>\n",
       "      <td>...</td>\n",
       "      <td>...</td>\n",
       "      <td>...</td>\n",
       "    </tr>\n",
       "    <tr>\n",
       "      <th>111</th>\n",
       "      <td>0.640176</td>\n",
       "      <td>0.580524</td>\n",
       "      <td>23.292691</td>\n",
       "      <td>21.7</td>\n",
       "    </tr>\n",
       "    <tr>\n",
       "      <th>112</th>\n",
       "      <td>0.599158</td>\n",
       "      <td>0.591760</td>\n",
       "      <td>22.197526</td>\n",
       "      <td>22.0</td>\n",
       "    </tr>\n",
       "    <tr>\n",
       "      <th>113</th>\n",
       "      <td>0.560507</td>\n",
       "      <td>0.539326</td>\n",
       "      <td>21.165527</td>\n",
       "      <td>20.6</td>\n",
       "    </tr>\n",
       "    <tr>\n",
       "      <th>114</th>\n",
       "      <td>0.543949</td>\n",
       "      <td>0.535581</td>\n",
       "      <td>20.723426</td>\n",
       "      <td>20.5</td>\n",
       "    </tr>\n",
       "    <tr>\n",
       "      <th>115</th>\n",
       "      <td>0.543742</td>\n",
       "      <td>0.576779</td>\n",
       "      <td>20.717902</td>\n",
       "      <td>21.6</td>\n",
       "    </tr>\n",
       "  </tbody>\n",
       "</table>\n",
       "<p>116 rows × 4 columns</p>\n",
       "</div>"
      ],
      "text/plain": [
       "     Test Predictions   Actuals  Test Predictions_original_values  \\\n",
       "0            0.608534  0.610487                         22.447851   \n",
       "1            0.579786  0.561798                         21.680288   \n",
       "2            0.551758  0.558052                         20.931948   \n",
       "3            0.529929  0.516854                         20.349094   \n",
       "4            0.508760  0.524345                         19.783883   \n",
       "..                ...       ...                               ...   \n",
       "111          0.640176  0.580524                         23.292691   \n",
       "112          0.599158  0.591760                         22.197526   \n",
       "113          0.560507  0.539326                         21.165527   \n",
       "114          0.543949  0.535581                         20.723426   \n",
       "115          0.543742  0.576779                         20.717902   \n",
       "\n",
       "     Actuals_original_values  \n",
       "0                       22.5  \n",
       "1                       21.2  \n",
       "2                       21.1  \n",
       "3                       20.0  \n",
       "4                       20.2  \n",
       "..                       ...  \n",
       "111                     21.7  \n",
       "112                     22.0  \n",
       "113                     20.6  \n",
       "114                     20.5  \n",
       "115                     21.6  \n",
       "\n",
       "[116 rows x 4 columns]"
      ]
     },
     "metadata": {},
     "output_type": "display_data"
    },
    {
     "data": {
      "text/plain": [
       "Text(0.5, 0.98, 'Trend Prediction')"
      ]
     },
     "execution_count": 18,
     "metadata": {},
     "output_type": "execute_result"
    },
    {
     "data": {
      "image/png": "[encoded data removed]",
      "text/plain": [
       "<Figure size 720x360 with 1 Axes>"
      ]
     },
     "metadata": {
      "needs_background": "light"
     },
     "output_type": "display_data"
    }
   ],
   "source": [
    "#---------------------------------------------------------------#\n",
    "# 추가: model5 추가\n",
    "\n",
    "plt.rcParams[\"figure.figsize\"] = (10,5)\n",
    "plt.rcParams['lines.linewidth'] = 2\n",
    "\n",
    "train_predictions = model5.predict(X_test).flatten()\n",
    "train_results = pd.DataFrame(data={'Test Predictions':train_predictions, 'Actuals':y_test})\n",
    "# display(train_results)\n",
    "\n",
    "# 저장된 MIN_MAX 파일 열기\n",
    "min_max_df = pd.read_csv(dict_args['min_max_file'])\n",
    "min_max_df = min_max_df.set_index('VAR')\n",
    "# display(min_max_df)\n",
    "\n",
    "for col in dict_args[\"label\"]:\n",
    "    # Temp_2hrAfter(°C)만 reverse min-max\n",
    "    if col != dict_args[\"label\"][1]:\n",
    "        continue\n",
    "    # print(col)\n",
    "    min_ = min_max_df.loc[col, 'min']\n",
    "    max_ = min_max_df.loc[col, 'max']\n",
    "\n",
    "    for label_col in train_results.columns:\n",
    "        label = np.array(train_results[label_col])\n",
    "        result_array = reverse_minmax(label, min_, max_)\n",
    "        train_results[label_col + '_original_values'] = result_array\n",
    "display(train_results)\n",
    "\n",
    "plt.xlabel(\"Time-Step(hr)\")\n",
    "plt.ylabel(\"Temp(°C)\")\n",
    "plt.plot(train_results['Test Predictions_original_values'][:100], 'r', label='Predicted Values')\n",
    "plt.plot(train_results['Actuals_original_values'][:100], 'k', label='Actual Values')\n",
    "plt.legend()\n",
    "plt.suptitle(\"Trend Prediction\")\n",
    "#---------------------------------------------------------------#"
   ]
  },
  {
   "cell_type": "code",
   "execution_count": 19,
   "metadata": {},
   "outputs": [
    {
     "name": "stdout",
     "output_type": "stream",
     "text": [
      "predicted_future_point:  22.44785085916519\n",
      "true_future_point:  21.100000000000005\n",
      "history_values:  [24.7 24.9 24.8 23.9]\n",
      "\n"
     ]
    },
    {
     "data": {
      "image/png": "[encoded data removed]",
      "text/plain": [
       "<Figure size 576x360 with 1 Axes>"
      ]
     },
     "metadata": {
      "needs_background": "light"
     },
     "output_type": "display_data"
    }
   ],
   "source": [
    "# 변경 Single Point Graph 코드 추가\n",
    "\n",
    "plt.rcParams[\"figure.figsize\"] = (8,5)\n",
    "plt.rcParams['lines.linewidth'] = 1\n",
    "plt.rcParams['axes.grid'] = True\n",
    "plt.rcParams['font.size'] = 10\n",
    "\n",
    "\n",
    "future_time_step = 2\n",
    "predicted_future_point = model5.predict(X_test).flatten()[0]\n",
    "# y_train도 2시간 뒤에 값이므로 y_test도 2시간 뒤 값으로 맞춰주기\n",
    "true_future_point = y_test[0 + future_time_step]\n",
    "\n",
    "history_values = X_test[0][:, 8]    # X_test의 9 번째 열 (Temp_2hrAfter(°C))에 대한 4 times window 만들기   \n",
    "history_time_steps = list(range(-len(history_values)+1, 1))\n",
    "\n",
    "# 저장된 MIN_MAX 파일 열기\n",
    "min_max_df = pd.read_csv(dict_args['min_max_file'])\n",
    "min_max_df = min_max_df.set_index('VAR')\n",
    "# display(min_max_df)\n",
    "\n",
    "for col in dict_args[\"label\"]:\n",
    "    # Temp_2hrAfter(°C)만 reverse min-max\n",
    "    if col != dict_args[\"label\"][1]:\n",
    "        continue\n",
    "    # print(col)\n",
    "    min_ = min_max_df.loc[col, 'min']\n",
    "    max_ = min_max_df.loc[col, 'max']\n",
    "\n",
    "# min-max scaling된 값을 원래값으로 되돌리기\n",
    "predicted_future_point = predicted_future_point * (max_ - min_) + min_\n",
    "true_future_point = true_future_point * (max_ - min_) + min_\n",
    "history_values = list(map(lambda x: (x * (max_ - min_) + min_), history_values))\n",
    "history_values = np.array(history_values)\n",
    "\n",
    "print(\"predicted_future_point: \", predicted_future_point)\n",
    "print(\"true_future_point: \", true_future_point)\n",
    "print(\"history_values: \", history_values)\n",
    "print()\n",
    "\n",
    "labels = [\"History\", \"True Future\", \"Model Prediction\"]\n",
    "marker = [\".-\", \"rx\", \"go\"]\n",
    "\n",
    "plt.xlim([-3.2, 3])\n",
    "plt.ylim([-0.5, 50])\n",
    "plt.xlabel(\"Time-Step(hr)\")\n",
    "plt.ylabel(\"Temp(°C)\")\n",
    "\n",
    "# 과거 기온 값 (windows=4)\n",
    "plt.plot(history_time_steps, history_values, marker[0], markersize=11, label=labels[0])\n",
    "# 학습된 모델로 예측된 2시간후 기온\n",
    "plt.plot(future_time_step, predicted_future_point, marker[2], markersize=10, label=labels[2])\n",
    "# 실제 기온\n",
    "plt.plot(future_time_step, true_future_point, marker[1], markersize=10, label=labels[1]) \n",
    "\n",
    "plt.legend()\n",
    "plt.suptitle(\"Single Step Prediction (Windows=4,  2hrAfterTemp)\")\n",
    "plt.show()\n"
   ]
  }
 ],
 "metadata": {
  "accelerator": "GPU",
  "colab": {
   "collapsed_sections": [],
   "name": "TEST_LSTM_Time_Series_Forecasting_updated.ipynb",
   "provenance": []
  },
  "gpuClass": "standard",
  "kernelspec": {
   "display_name": "Python 3 (ipykernel)",
   "language": "python",
   "name": "python3"
  },
  "language_info": {
   "codemirror_mode": {
    "name": "ipython",
    "version": 3
   },
   "file_extension": ".py",
   "mimetype": "text/x-python",
   "name": "python",
   "nbconvert_exporter": "python",
   "pygments_lexer": "ipython3",
   "version": "3.8.10"
  }
 },
 "nbformat": 4,
 "nbformat_minor": 4
}
