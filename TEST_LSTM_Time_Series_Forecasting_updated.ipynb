{
 "cells": [
  {
   "cell_type": "code",
   "execution_count": 1,
   "metadata": {
    "id": "8S-hl2tC-Kmx"
   },
   "outputs": [],
   "source": [
    "# 참고\n",
    "#https://deep-deep-deep.tistory.com/60"
   ]
  },
  {
   "cell_type": "code",
   "execution_count": 2,
   "metadata": {
    "id": "EbrFD1vMR_qS"
   },
   "outputs": [
    {
     "name": "stderr",
     "output_type": "stream",
     "text": [
      "2022-07-06 01:21:03.433451: I tensorflow/stream_executor/cuda/cuda_gpu_executor.cc:952] successful NUMA node read from SysFS had negative value (-1), but there must be at least one NUMA node, so returning NUMA node zero\n",
      "2022-07-06 01:21:03.455896: I tensorflow/stream_executor/cuda/cuda_gpu_executor.cc:952] successful NUMA node read from SysFS had negative value (-1), but there must be at least one NUMA node, so returning NUMA node zero\n",
      "2022-07-06 01:21:03.456325: I tensorflow/stream_executor/cuda/cuda_gpu_executor.cc:952] successful NUMA node read from SysFS had negative value (-1), but there must be at least one NUMA node, so returning NUMA node zero\n"
     ]
    }
   ],
   "source": [
    "import tensorflow as tf\n",
    "import os\n",
    "import pandas as pd\n",
    "import numpy as np\n",
    "from tensorflow.keras.models import Sequential\n",
    "from tensorflow.keras.layers import *\n",
    "from tensorflow.keras.callbacks import ModelCheckpoint\n",
    "from tensorflow.keras.losses import MeanSquaredError\n",
    "from tensorflow.keras.metrics import RootMeanSquaredError\n",
    "from tensorflow.keras.optimizers import Adam\n",
    "\n",
    "\n",
    "physical_devices = tf.config.list_physical_devices('GPU')\n",
    "if physical_devices:\n",
    "    tf.config.experimental.set_memory_growth(physical_devices[0], True)"
   ]
  },
  {
   "cell_type": "code",
   "execution_count": 3,
   "metadata": {},
   "outputs": [
    {
     "name": "stdout",
     "output_type": "stream",
     "text": [
      "/home/alfa_members/hyunjo/tensorflow2\n"
     ]
    }
   ],
   "source": [
    "if not os.path.exists('./TIME_SERIES/'):\n",
    "    os.mkdir('./TIME_SERIES/')\n",
    "if not os.path.exists('./TIME_SERIES/WEATHER_ASOS_TIME_2006_2206/'):\n",
    "    os.mkdir('./TIME_SERIES/WEATHER_ASOS_TIME_2006_2206/')\n",
    "if not os.path.exists('./TIME_SERIES/CLEAN_WEATHER_ASOS_TIME_2006_2206/'):\n",
    "    os.mkdir('./TIME_SERIES/CLEAN_WEATHER_ASOS_TIME_2006_2206/')\n",
    "    \n",
    "print(os.getcwd())"
   ]
  },
  {
   "cell_type": "code",
   "execution_count": 4,
   "metadata": {
    "colab": {
     "base_uri": "https://localhost:8080/"
    },
    "id": "CuIs6GL13hz1",
    "outputId": "60461adc-5fe3-45bd-ca0a-b20ffc895375"
   },
   "outputs": [],
   "source": [
    "# <---------------- Google Colab에서 돌릴 경우 ----------------> \n",
    "\n",
    "# from google.colab import drive\n",
    "# drive.mount('/content/drive')"
   ]
  },
  {
   "cell_type": "code",
   "execution_count": 5,
   "metadata": {
    "id": "Mi-eK9alBFDe"
   },
   "outputs": [],
   "source": [
    "dict_args = dict()\n",
    "dict_args['raw_file'] = './TIME_SERIES/WEATHER_ASOS_TIME_2006_2206/WEATHER_ASOS_2205.csv'  # 필요시 경로 변경\n",
    "dict_args['preprocessed_file'] = './TIME_SERIES/CLEAN_WEATHER_ASOS_TIME_2006_2206/CLEAN_WEATHER_ASOS_2205.csv'  # 필요시 경로 변경\n",
    "dict_args[\"window_size\"] = 4\n",
    "dict_args[\"features\"] = ['기온(°C)','풍속(m/s)','습도(%)']\n",
    "dict_args[\"label\"] = ['기온(°C)']\n",
    "dict_args[\"index\"] = ['지점','지점명','일시']\n",
    "dict_args[\"area\"] = \"속초\"\n",
    "dict_args[\"test_size\"] = 120\n",
    "dict_args['model_file'] = './TIME_SERIES/MODEL1/'\n",
    "dict_args[\"param_list\"] =  {\n",
    "                            \"LSTM\": {'epochs': 60,\n",
    "                                      'batch_size': 50,\n",
    "                                      'learning_rate': 0.0005,\n",
    "                                    },\n",
    "                            \"GRU\": \n",
    "                                    {'epochs': 60,\n",
    "                                      'batch_size': 50,\n",
    "                                      'learning_rate': 0.0005,\n",
    "                                    },\n",
    "                            }\n"
   ]
  },
  {
   "cell_type": "code",
   "execution_count": 6,
   "metadata": {
    "id": "FDJTiftYSPGj"
   },
   "outputs": [],
   "source": [
    "def make_preprocessed_file(p_args):\n",
    "    \n",
    "    try: \n",
    "        df = pd.read_csv(p_args['raw_file'], encoding='utf-8') \n",
    "    except:\n",
    "        df = pd.read_csv(p_args['raw_file'], encoding='euc-kr')     \n",
    "    # display(df)\n",
    "    # print(df.columns)\n",
    "    columns = p_args['index']\n",
    "    columns.extend(p_args[\"features\"])\n",
    "    print(columns)\n",
    "\n",
    "    df = df[columns]\n",
    "    df = df[df['지점명'] == p_args[\"area\"]] \n",
    "    df.index = pd.to_datetime(df['일시'], format='%Y-%m-%d %H:%S')\n",
    "\n",
    "    df = df[p_args[\"features\"]]\n",
    "    df = df.astype('float32')\n",
    "    print(df.info())\n",
    "    print(df.isna().sum())\n",
    "    display(df)\n",
    "    df.to_csv(p_args['preprocessed_file'], encoding='utf-8')\n",
    "\n",
    "\n",
    "def make_dataset_regression(data, label, window_size):\n",
    "    feature_list = []\n",
    "    label_list = []\n",
    "    for i in range(len(data) - window_size):\n",
    "        feature_list.append(np.array(data.iloc[i:i+window_size]))\n",
    "        # print('feature list: ', np.array(data.iloc[i:i+window_size]))\n",
    "        label_list.append(np.array(label.iloc[i+window_size]))\n",
    "        # print('label list: ', np.array(data.iloc[i:i+window_size])) \n",
    "    return np.array(feature_list), np.array(label_list)\n",
    "\n",
    "\n",
    "def split_dataset_regression(p_args, scaling_flag=True):\n",
    "    # 파일 읽기\n",
    "    df = pd.read_csv(p_args[\"preprocessed_file\"])\n",
    "    df = df.fillna(0)\n",
    "    df = df.set_index('일시')\n",
    "    df = df.astype(float)\n",
    "\n",
    "    # 수치 정규화 \n",
    "    if scaling_flag: \n",
    "        print('정규화된 데이터입니다.')\n",
    "        from sklearn.preprocessing import MinMaxScaler\n",
    "        scaler = MinMaxScaler()\n",
    "        df_scaled = scaler.fit_transform(df)\n",
    "\n",
    "        df_scaled = pd.DataFrame(df_scaled)\n",
    "        df_scaled.columns = df.columns\n",
    "        df_scaled = df_scaled.set_index(df.index)\n",
    "        # display(df_scaled.head(5))\n",
    "    else:\n",
    "        print('정규화가 제외된 데이터입니다.')\n",
    "        df_scaled = df.copy()\n",
    "        # display(df_scaled.head(5))\n",
    "    \n",
    "    # Train과 Test 분리\n",
    "    train = df_scaled[:-p_args[\"test_size\"]]\n",
    "    test = df_scaled[-p_args[\"test_size\"]:]\n",
    "    print(\"train: \", train.shape, type(train))\n",
    "    print(\"test: \", test.shape, type(test))\n",
    "    # display(train.head(5))\n",
    "    # display(test.head(5))\n",
    "    \n",
    "    train_feature, train_label = make_dataset_regression(train[dict_args[\"features\"]], train[dict_args[\"label\"]], window_size = p_args[\"window_size\"])\n",
    "    print(\"train_feature: \", train_feature.shape, type(train_feature))\n",
    "    print(\"train_label: \", train_label.shape, type(train_label))\n",
    "    \n",
    "    # Train에서 Train Set, Valid Set 분리 (검증셋)\n",
    "    from sklearn.model_selection import train_test_split\n",
    "    X_train, X_valid, y_train, y_valid = train_test_split(train_feature, train_label, test_size = 0.2)\n",
    "    \n",
    "    y_train = y_train.reshape(len(y_train))\n",
    "    y_valid = y_valid.reshape(len(y_valid))\n",
    "    X_train = X_train.astype(float)\n",
    "    y_train = y_train.astype(float)\n",
    "    X_valid = X_valid.astype(float)\n",
    "    y_valid = y_valid.astype(float)\n",
    "\n",
    "    print(\"X_train: \",  X_train.shape, type(X_train))\n",
    "    print(\"y_train: \",  y_train.shape, type(y_train))\n",
    "    print(\"X_valid: \",  X_valid.shape, type(X_valid))\n",
    "    print(\"y_valid: \",  y_valid.shape, type(y_valid))\n",
    "    \n",
    "    # Test set에서 feature, label 분리\n",
    "    X_test, y_test = make_dataset_regression(test[dict_args[\"features\"]], test[dict_args[\"label\"]], window_size = p_args[\"window_size\"])\n",
    "    y_test = y_test.reshape(len(y_test))\n",
    "    print(\"X_test: \", X_test.shape)\n",
    "    print(\"y_test: \", y_test.shape)\n",
    "    \n",
    "    print(X_train[0])\n",
    "    print(y_train[0])\n",
    "\n",
    "    return train, test, train_feature, train_label, X_train, y_train, X_valid, y_valid, X_test, y_test\n",
    "\n",
    "\n",
    "def build_LSTM_model(p_args, train_set):\n",
    "    model = Sequential()\n",
    "    model.add(LSTM(32, \n",
    "              input_shape=(train_set.shape[1], train_set.shape[2]),\n",
    "              activation='relu',\n",
    "              return_sequences=False))\n",
    "    model.add(Dense(4, 'relu'))\n",
    "    model.add(Dense(1))\n",
    "    print(model.summary())\n",
    "\n",
    "    # cp = ModelCheckpoint(p_args['model_file'], save_best_only=True)\n",
    "    model.compile(loss='mean_squared_error', \n",
    "                  optimizer= Adam(learning_rate=dict_args[\"param_list\"][\"LSTM\"][\"learning_rate\"]), \n",
    "                  metrics=['mae'],\n",
    "                  )\n",
    "    return model"
   ]
  },
  {
   "cell_type": "code",
   "execution_count": 7,
   "metadata": {
    "id": "Ihd5eQ4Qk0jD"
   },
   "outputs": [
    {
     "name": "stdout",
     "output_type": "stream",
     "text": [
      "['지점', '지점명', '일시', '기온(°C)', '풍속(m/s)', '습도(%)']\n",
      "<class 'pandas.core.frame.DataFrame'>\n",
      "DatetimeIndex: 744 entries, 2022-05-01 01:00:00 to 2022-06-01 00:00:00\n",
      "Data columns (total 3 columns):\n",
      " #   Column   Non-Null Count  Dtype  \n",
      "---  ------   --------------  -----  \n",
      " 0   기온(°C)   744 non-null    float32\n",
      " 1   풍속(m/s)  744 non-null    float32\n",
      " 2   습도(%)    744 non-null    float32\n",
      "dtypes: float32(3)\n",
      "memory usage: 14.5 KB\n",
      "None\n",
      "기온(°C)     0\n",
      "풍속(m/s)    0\n",
      "습도(%)      0\n",
      "dtype: int64\n"
     ]
    },
    {
     "name": "stderr",
     "output_type": "stream",
     "text": [
      "/tmp/ipykernel_1117655/824568468.py:1: DtypeWarning: Columns (27) have mixed types.Specify dtype option on import or set low_memory=False.\n",
      "  make_preprocessed_file(dict_args)\n"
     ]
    },
    {
     "data": {
      "text/html": [
       "<div>\n",
       "<style scoped>\n",
       "    .dataframe tbody tr th:only-of-type {\n",
       "        vertical-align: middle;\n",
       "    }\n",
       "\n",
       "    .dataframe tbody tr th {\n",
       "        vertical-align: top;\n",
       "    }\n",
       "\n",
       "    .dataframe thead th {\n",
       "        text-align: right;\n",
       "    }\n",
       "</style>\n",
       "<table border=\"1\" class=\"dataframe\">\n",
       "  <thead>\n",
       "    <tr style=\"text-align: right;\">\n",
       "      <th></th>\n",
       "      <th>기온(°C)</th>\n",
       "      <th>풍속(m/s)</th>\n",
       "      <th>습도(%)</th>\n",
       "    </tr>\n",
       "    <tr>\n",
       "      <th>일시</th>\n",
       "      <th></th>\n",
       "      <th></th>\n",
       "      <th></th>\n",
       "    </tr>\n",
       "  </thead>\n",
       "  <tbody>\n",
       "    <tr>\n",
       "      <th>2022-05-01 01:00:00</th>\n",
       "      <td>11.400000</td>\n",
       "      <td>1.7</td>\n",
       "      <td>46.0</td>\n",
       "    </tr>\n",
       "    <tr>\n",
       "      <th>2022-05-01 02:00:00</th>\n",
       "      <td>11.900000</td>\n",
       "      <td>3.4</td>\n",
       "      <td>38.0</td>\n",
       "    </tr>\n",
       "    <tr>\n",
       "      <th>2022-05-01 03:00:00</th>\n",
       "      <td>10.700000</td>\n",
       "      <td>2.7</td>\n",
       "      <td>46.0</td>\n",
       "    </tr>\n",
       "    <tr>\n",
       "      <th>2022-05-01 04:00:00</th>\n",
       "      <td>10.500000</td>\n",
       "      <td>1.9</td>\n",
       "      <td>44.0</td>\n",
       "    </tr>\n",
       "    <tr>\n",
       "      <th>2022-05-01 05:00:00</th>\n",
       "      <td>10.200000</td>\n",
       "      <td>1.2</td>\n",
       "      <td>40.0</td>\n",
       "    </tr>\n",
       "    <tr>\n",
       "      <th>...</th>\n",
       "      <td>...</td>\n",
       "      <td>...</td>\n",
       "      <td>...</td>\n",
       "    </tr>\n",
       "    <tr>\n",
       "      <th>2022-05-31 20:00:00</th>\n",
       "      <td>24.299999</td>\n",
       "      <td>2.6</td>\n",
       "      <td>23.0</td>\n",
       "    </tr>\n",
       "    <tr>\n",
       "      <th>2022-05-31 21:00:00</th>\n",
       "      <td>22.799999</td>\n",
       "      <td>1.6</td>\n",
       "      <td>28.0</td>\n",
       "    </tr>\n",
       "    <tr>\n",
       "      <th>2022-05-31 22:00:00</th>\n",
       "      <td>22.700001</td>\n",
       "      <td>1.9</td>\n",
       "      <td>23.0</td>\n",
       "    </tr>\n",
       "    <tr>\n",
       "      <th>2022-05-31 23:00:00</th>\n",
       "      <td>23.200001</td>\n",
       "      <td>1.0</td>\n",
       "      <td>18.0</td>\n",
       "    </tr>\n",
       "    <tr>\n",
       "      <th>2022-06-01 00:00:00</th>\n",
       "      <td>23.100000</td>\n",
       "      <td>1.4</td>\n",
       "      <td>17.0</td>\n",
       "    </tr>\n",
       "  </tbody>\n",
       "</table>\n",
       "<p>744 rows × 3 columns</p>\n",
       "</div>"
      ],
      "text/plain": [
       "                        기온(°C)  풍속(m/s)  습도(%)\n",
       "일시                                            \n",
       "2022-05-01 01:00:00  11.400000      1.7   46.0\n",
       "2022-05-01 02:00:00  11.900000      3.4   38.0\n",
       "2022-05-01 03:00:00  10.700000      2.7   46.0\n",
       "2022-05-01 04:00:00  10.500000      1.9   44.0\n",
       "2022-05-01 05:00:00  10.200000      1.2   40.0\n",
       "...                        ...      ...    ...\n",
       "2022-05-31 20:00:00  24.299999      2.6   23.0\n",
       "2022-05-31 21:00:00  22.799999      1.6   28.0\n",
       "2022-05-31 22:00:00  22.700001      1.9   23.0\n",
       "2022-05-31 23:00:00  23.200001      1.0   18.0\n",
       "2022-06-01 00:00:00  23.100000      1.4   17.0\n",
       "\n",
       "[744 rows x 3 columns]"
      ]
     },
     "metadata": {},
     "output_type": "display_data"
    }
   ],
   "source": [
    "make_preprocessed_file(dict_args)"
   ]
  },
  {
   "cell_type": "code",
   "execution_count": 8,
   "metadata": {
    "colab": {
     "base_uri": "https://localhost:8080/"
    },
    "id": "JYf7a1UwMpVe",
    "outputId": "66f3229f-6140-4897-f9a6-531e792b2a4c"
   },
   "outputs": [
    {
     "name": "stdout",
     "output_type": "stream",
     "text": [
      "정규화된 데이터입니다.\n",
      "train:  (624, 3) <class 'pandas.core.frame.DataFrame'>\n",
      "test:  (120, 3) <class 'pandas.core.frame.DataFrame'>\n",
      "train_feature:  (620, 4, 3) <class 'numpy.ndarray'>\n",
      "train_label:  (620, 1) <class 'numpy.ndarray'>\n",
      "X_train:  (496, 4, 3) <class 'numpy.ndarray'>\n",
      "y_train:  (496,) <class 'numpy.ndarray'>\n",
      "X_valid:  (124, 4, 3) <class 'numpy.ndarray'>\n",
      "y_valid:  (124,) <class 'numpy.ndarray'>\n",
      "X_test:  (116, 4, 3)\n",
      "y_test:  (116,)\n",
      "[[0.76404494 0.41975309 0.22891566]\n",
      " [0.5917603  0.41975309 0.37349398]\n",
      " [0.53932584 0.18518519 0.44578313]\n",
      " [0.53558052 0.22222222 0.40963855]]\n",
      "0.6554307116104869\n"
     ]
    }
   ],
   "source": [
    "train, test, train_feature, train_label, X_train, y_train, X_valid, y_valid, X_test, y_test = split_dataset_regression(dict_args, scaling_flag=True)"
   ]
  },
  {
   "cell_type": "code",
   "execution_count": 9,
   "metadata": {
    "id": "2hXKSZIQwJ61"
   },
   "outputs": [
    {
     "name": "stdout",
     "output_type": "stream",
     "text": [
      "WARNING:tensorflow:Layer lstm will not use cuDNN kernels since it doesn't meet the criteria. It will use a generic GPU kernel as fallback when running on GPU.\n",
      "Model: \"sequential\"\n",
      "_________________________________________________________________\n",
      " Layer (type)                Output Shape              Param #   \n",
      "=================================================================\n",
      " lstm (LSTM)                 (None, 32)                4608      \n",
      "                                                                 \n",
      " dense (Dense)               (None, 4)                 132       \n",
      "                                                                 \n",
      " dense_1 (Dense)             (None, 1)                 5         \n",
      "                                                                 \n",
      "=================================================================\n",
      "Total params: 4,745\n",
      "Trainable params: 4,745\n",
      "Non-trainable params: 0\n",
      "_________________________________________________________________\n"
     ]
    },
    {
     "name": "stderr",
     "output_type": "stream",
     "text": [
      "2022-07-06 01:21:03.831609: I tensorflow/core/platform/cpu_feature_guard.cc:152] This TensorFlow binary is optimized with oneAPI Deep Neural Network Library (oneDNN) to use the following CPU instructions in performance-critical operations:  SSE3 SSE4.1 SSE4.2 AVX\n",
      "To enable them in other operations, rebuild TensorFlow with the appropriate compiler flags.\n",
      "2022-07-06 01:21:03.832368: I tensorflow/stream_executor/cuda/cuda_gpu_executor.cc:952] successful NUMA node read from SysFS had negative value (-1), but there must be at least one NUMA node, so returning NUMA node zero\n",
      "2022-07-06 01:21:03.832833: I tensorflow/stream_executor/cuda/cuda_gpu_executor.cc:952] successful NUMA node read from SysFS had negative value (-1), but there must be at least one NUMA node, so returning NUMA node zero\n",
      "2022-07-06 01:21:03.833292: I tensorflow/stream_executor/cuda/cuda_gpu_executor.cc:952] successful NUMA node read from SysFS had negative value (-1), but there must be at least one NUMA node, so returning NUMA node zero\n",
      "2022-07-06 01:21:04.102335: I tensorflow/stream_executor/cuda/cuda_gpu_executor.cc:952] successful NUMA node read from SysFS had negative value (-1), but there must be at least one NUMA node, so returning NUMA node zero\n",
      "2022-07-06 01:21:04.102759: I tensorflow/stream_executor/cuda/cuda_gpu_executor.cc:952] successful NUMA node read from SysFS had negative value (-1), but there must be at least one NUMA node, so returning NUMA node zero\n",
      "2022-07-06 01:21:04.103143: I tensorflow/stream_executor/cuda/cuda_gpu_executor.cc:952] successful NUMA node read from SysFS had negative value (-1), but there must be at least one NUMA node, so returning NUMA node zero\n",
      "2022-07-06 01:21:04.103514: I tensorflow/core/common_runtime/gpu/gpu_device.cc:1525] Created device /job:localhost/replica:0/task:0/device:GPU:0 with 18166 MB memory:  -> device: 0, name: NVIDIA GeForce RTX 3090, pci bus id: 0000:01:00.0, compute capability: 8.6\n"
     ]
    },
    {
     "name": "stdout",
     "output_type": "stream",
     "text": [
      "None\n",
      "Epoch 1/60\n"
     ]
    },
    {
     "name": "stderr",
     "output_type": "stream",
     "text": [
      "2022-07-06 01:21:05.595017: I tensorflow/stream_executor/cuda/cuda_blas.cc:1804] TensorFloat-32 will be used for the matrix multiplication. This will only be logged once.\n"
     ]
    },
    {
     "name": "stdout",
     "output_type": "stream",
     "text": [
      " 1/10 [==>...........................] - ETA: 13s - loss: 0.1998 - mae: 0.4106"
     ]
    },
    {
     "name": "stderr",
     "output_type": "stream",
     "text": [
      "2022-07-06 01:21:06.316718: W tensorflow/python/util/util.cc:368] Sets are not currently considered sequences, but this may change in the future, so consider avoiding using them.\n"
     ]
    },
    {
     "name": "stdout",
     "output_type": "stream",
     "text": [
      "INFO:tensorflow:Assets written to: ./TIME_SERIES/MODEL1/assets\n"
     ]
    },
    {
     "name": "stderr",
     "output_type": "stream",
     "text": [
      "WARNING:absl:<keras.layers.recurrent.LSTMCell object at 0x7f36c9644520> has the same name 'LSTMCell' as a built-in Keras object. Consider renaming <class 'keras.layers.recurrent.LSTMCell'> to avoid naming conflicts when loading with `tf.keras.models.load_model`. If renaming is not possible, pass the object in the `custom_objects` parameter of the load function.\n"
     ]
    },
    {
     "name": "stdout",
     "output_type": "stream",
     "text": [
      "10/10 [==============================] - 3s 116ms/step - loss: 0.1596 - mae: 0.3540 - val_loss: 0.1488 - val_mae: 0.3426\n",
      "Epoch 2/60\n",
      " 1/10 [==>...........................] - ETA: 0s - loss: 0.1583 - mae: 0.3620INFO:tensorflow:Assets written to: ./TIME_SERIES/MODEL1/assets\n"
     ]
    },
    {
     "name": "stderr",
     "output_type": "stream",
     "text": [
      "INFO:tensorflow:Assets written to: ./TIME_SERIES/MODEL1/assets\n",
      "WARNING:absl:<keras.layers.recurrent.LSTMCell object at 0x7f36c9644520> has the same name 'LSTMCell' as a built-in Keras object. Consider renaming <class 'keras.layers.recurrent.LSTMCell'> to avoid naming conflicts when loading with `tf.keras.models.load_model`. If renaming is not possible, pass the object in the `custom_objects` parameter of the load function.\n"
     ]
    },
    {
     "name": "stdout",
     "output_type": "stream",
     "text": [
      "10/10 [==============================] - 1s 105ms/step - loss: 0.1187 - mae: 0.2981 - val_loss: 0.1053 - val_mae: 0.2809\n",
      "Epoch 3/60\n",
      " 1/10 [==>...........................] - ETA: 0s - loss: 0.1040 - mae: 0.2756INFO:tensorflow:Assets written to: ./TIME_SERIES/MODEL1/assets\n"
     ]
    },
    {
     "name": "stderr",
     "output_type": "stream",
     "text": [
      "INFO:tensorflow:Assets written to: ./TIME_SERIES/MODEL1/assets\n",
      "WARNING:absl:<keras.layers.recurrent.LSTMCell object at 0x7f36c9644520> has the same name 'LSTMCell' as a built-in Keras object. Consider renaming <class 'keras.layers.recurrent.LSTMCell'> to avoid naming conflicts when loading with `tf.keras.models.load_model`. If renaming is not possible, pass the object in the `custom_objects` parameter of the load function.\n"
     ]
    },
    {
     "name": "stdout",
     "output_type": "stream",
     "text": [
      "10/10 [==============================] - 1s 100ms/step - loss: 0.0795 - mae: 0.2356 - val_loss: 0.0685 - val_mae: 0.2236\n",
      "Epoch 4/60\n",
      " 1/10 [==>...........................] - ETA: 0s - loss: 0.0731 - mae: 0.2243INFO:tensorflow:Assets written to: ./TIME_SERIES/MODEL1/assets\n"
     ]
    },
    {
     "name": "stderr",
     "output_type": "stream",
     "text": [
      "INFO:tensorflow:Assets written to: ./TIME_SERIES/MODEL1/assets\n",
      "WARNING:absl:<keras.layers.recurrent.LSTMCell object at 0x7f36c9644520> has the same name 'LSTMCell' as a built-in Keras object. Consider renaming <class 'keras.layers.recurrent.LSTMCell'> to avoid naming conflicts when loading with `tf.keras.models.load_model`. If renaming is not possible, pass the object in the `custom_objects` parameter of the load function.\n"
     ]
    },
    {
     "name": "stdout",
     "output_type": "stream",
     "text": [
      "10/10 [==============================] - 1s 99ms/step - loss: 0.0504 - mae: 0.1841 - val_loss: 0.0425 - val_mae: 0.1755\n",
      "Epoch 5/60\n",
      " 1/10 [==>...........................] - ETA: 0s - loss: 0.0388 - mae: 0.1580INFO:tensorflow:Assets written to: ./TIME_SERIES/MODEL1/assets\n"
     ]
    },
    {
     "name": "stderr",
     "output_type": "stream",
     "text": [
      "INFO:tensorflow:Assets written to: ./TIME_SERIES/MODEL1/assets\n",
      "WARNING:absl:<keras.layers.recurrent.LSTMCell object at 0x7f36c9644520> has the same name 'LSTMCell' as a built-in Keras object. Consider renaming <class 'keras.layers.recurrent.LSTMCell'> to avoid naming conflicts when loading with `tf.keras.models.load_model`. If renaming is not possible, pass the object in the `custom_objects` parameter of the load function.\n"
     ]
    },
    {
     "name": "stdout",
     "output_type": "stream",
     "text": [
      "10/10 [==============================] - 1s 111ms/step - loss: 0.0319 - mae: 0.1505 - val_loss: 0.0277 - val_mae: 0.1442\n",
      "Epoch 6/60\n",
      " 1/10 [==>...........................] - ETA: 0s - loss: 0.0268 - mae: 0.1435INFO:tensorflow:Assets written to: ./TIME_SERIES/MODEL1/assets\n"
     ]
    },
    {
     "name": "stderr",
     "output_type": "stream",
     "text": [
      "INFO:tensorflow:Assets written to: ./TIME_SERIES/MODEL1/assets\n",
      "WARNING:absl:<keras.layers.recurrent.LSTMCell object at 0x7f36c9644520> has the same name 'LSTMCell' as a built-in Keras object. Consider renaming <class 'keras.layers.recurrent.LSTMCell'> to avoid naming conflicts when loading with `tf.keras.models.load_model`. If renaming is not possible, pass the object in the `custom_objects` parameter of the load function.\n"
     ]
    },
    {
     "name": "stdout",
     "output_type": "stream",
     "text": [
      "10/10 [==============================] - 1s 95ms/step - loss: 0.0224 - mae: 0.1272 - val_loss: 0.0202 - val_mae: 0.1221\n",
      "Epoch 7/60\n",
      " 1/10 [==>...........................] - ETA: 0s - loss: 0.0157 - mae: 0.1010INFO:tensorflow:Assets written to: ./TIME_SERIES/MODEL1/assets\n"
     ]
    },
    {
     "name": "stderr",
     "output_type": "stream",
     "text": [
      "INFO:tensorflow:Assets written to: ./TIME_SERIES/MODEL1/assets\n",
      "WARNING:absl:<keras.layers.recurrent.LSTMCell object at 0x7f36c9644520> has the same name 'LSTMCell' as a built-in Keras object. Consider renaming <class 'keras.layers.recurrent.LSTMCell'> to avoid naming conflicts when loading with `tf.keras.models.load_model`. If renaming is not possible, pass the object in the `custom_objects` parameter of the load function.\n"
     ]
    },
    {
     "name": "stdout",
     "output_type": "stream",
     "text": [
      "10/10 [==============================] - 1s 106ms/step - loss: 0.0174 - mae: 0.1109 - val_loss: 0.0153 - val_mae: 0.1048\n",
      "Epoch 8/60\n",
      " 1/10 [==>...........................] - ETA: 0s - loss: 0.0128 - mae: 0.0951INFO:tensorflow:Assets written to: ./TIME_SERIES/MODEL1/assets\n"
     ]
    },
    {
     "name": "stderr",
     "output_type": "stream",
     "text": [
      "INFO:tensorflow:Assets written to: ./TIME_SERIES/MODEL1/assets\n",
      "WARNING:absl:<keras.layers.recurrent.LSTMCell object at 0x7f36c9644520> has the same name 'LSTMCell' as a built-in Keras object. Consider renaming <class 'keras.layers.recurrent.LSTMCell'> to avoid naming conflicts when loading with `tf.keras.models.load_model`. If renaming is not possible, pass the object in the `custom_objects` parameter of the load function.\n"
     ]
    },
    {
     "name": "stdout",
     "output_type": "stream",
     "text": [
      "10/10 [==============================] - 1s 95ms/step - loss: 0.0130 - mae: 0.0947 - val_loss: 0.0114 - val_mae: 0.0901\n",
      "Epoch 9/60\n",
      " 1/10 [==>...........................] - ETA: 0s - loss: 0.0082 - mae: 0.0740INFO:tensorflow:Assets written to: ./TIME_SERIES/MODEL1/assets\n"
     ]
    },
    {
     "name": "stderr",
     "output_type": "stream",
     "text": [
      "INFO:tensorflow:Assets written to: ./TIME_SERIES/MODEL1/assets\n",
      "WARNING:absl:<keras.layers.recurrent.LSTMCell object at 0x7f36c9644520> has the same name 'LSTMCell' as a built-in Keras object. Consider renaming <class 'keras.layers.recurrent.LSTMCell'> to avoid naming conflicts when loading with `tf.keras.models.load_model`. If renaming is not possible, pass the object in the `custom_objects` parameter of the load function.\n"
     ]
    },
    {
     "name": "stdout",
     "output_type": "stream",
     "text": [
      "10/10 [==============================] - 1s 95ms/step - loss: 0.0096 - mae: 0.0799 - val_loss: 0.0090 - val_mae: 0.0787\n",
      "Epoch 10/60\n",
      " 1/10 [==>...........................] - ETA: 0s - loss: 0.0079 - mae: 0.0739INFO:tensorflow:Assets written to: ./TIME_SERIES/MODEL1/assets\n"
     ]
    },
    {
     "name": "stderr",
     "output_type": "stream",
     "text": [
      "INFO:tensorflow:Assets written to: ./TIME_SERIES/MODEL1/assets\n",
      "WARNING:absl:<keras.layers.recurrent.LSTMCell object at 0x7f36c9644520> has the same name 'LSTMCell' as a built-in Keras object. Consider renaming <class 'keras.layers.recurrent.LSTMCell'> to avoid naming conflicts when loading with `tf.keras.models.load_model`. If renaming is not possible, pass the object in the `custom_objects` parameter of the load function.\n"
     ]
    },
    {
     "name": "stdout",
     "output_type": "stream",
     "text": [
      "10/10 [==============================] - 1s 108ms/step - loss: 0.0078 - mae: 0.0706 - val_loss: 0.0074 - val_mae: 0.0702\n",
      "Epoch 11/60\n",
      " 1/10 [==>...........................] - ETA: 0s - loss: 0.0082 - mae: 0.0751INFO:tensorflow:Assets written to: ./TIME_SERIES/MODEL1/assets\n"
     ]
    },
    {
     "name": "stderr",
     "output_type": "stream",
     "text": [
      "INFO:tensorflow:Assets written to: ./TIME_SERIES/MODEL1/assets\n",
      "WARNING:absl:<keras.layers.recurrent.LSTMCell object at 0x7f36c9644520> has the same name 'LSTMCell' as a built-in Keras object. Consider renaming <class 'keras.layers.recurrent.LSTMCell'> to avoid naming conflicts when loading with `tf.keras.models.load_model`. If renaming is not possible, pass the object in the `custom_objects` parameter of the load function.\n"
     ]
    },
    {
     "name": "stdout",
     "output_type": "stream",
     "text": [
      "10/10 [==============================] - 1s 95ms/step - loss: 0.0066 - mae: 0.0643 - val_loss: 0.0067 - val_mae: 0.0650\n",
      "Epoch 12/60\n",
      " 1/10 [==>...........................] - ETA: 0s - loss: 0.0044 - mae: 0.0522INFO:tensorflow:Assets written to: ./TIME_SERIES/MODEL1/assets\n"
     ]
    },
    {
     "name": "stderr",
     "output_type": "stream",
     "text": [
      "INFO:tensorflow:Assets written to: ./TIME_SERIES/MODEL1/assets\n",
      "WARNING:absl:<keras.layers.recurrent.LSTMCell object at 0x7f36c9644520> has the same name 'LSTMCell' as a built-in Keras object. Consider renaming <class 'keras.layers.recurrent.LSTMCell'> to avoid naming conflicts when loading with `tf.keras.models.load_model`. If renaming is not possible, pass the object in the `custom_objects` parameter of the load function.\n"
     ]
    },
    {
     "name": "stdout",
     "output_type": "stream",
     "text": [
      "10/10 [==============================] - 1s 107ms/step - loss: 0.0060 - mae: 0.0612 - val_loss: 0.0064 - val_mae: 0.0639\n",
      "Epoch 13/60\n",
      " 1/10 [==>...........................] - ETA: 0s - loss: 0.0062 - mae: 0.0602INFO:tensorflow:Assets written to: ./TIME_SERIES/MODEL1/assets\n"
     ]
    },
    {
     "name": "stderr",
     "output_type": "stream",
     "text": [
      "INFO:tensorflow:Assets written to: ./TIME_SERIES/MODEL1/assets\n",
      "WARNING:absl:<keras.layers.recurrent.LSTMCell object at 0x7f36c9644520> has the same name 'LSTMCell' as a built-in Keras object. Consider renaming <class 'keras.layers.recurrent.LSTMCell'> to avoid naming conflicts when loading with `tf.keras.models.load_model`. If renaming is not possible, pass the object in the `custom_objects` parameter of the load function.\n"
     ]
    },
    {
     "name": "stdout",
     "output_type": "stream",
     "text": [
      "10/10 [==============================] - 1s 93ms/step - loss: 0.0058 - mae: 0.0600 - val_loss: 0.0064 - val_mae: 0.0635\n",
      "Epoch 14/60\n",
      " 1/10 [==>...........................] - ETA: 0s - loss: 0.0051 - mae: 0.0569INFO:tensorflow:Assets written to: ./TIME_SERIES/MODEL1/assets\n"
     ]
    },
    {
     "name": "stderr",
     "output_type": "stream",
     "text": [
      "INFO:tensorflow:Assets written to: ./TIME_SERIES/MODEL1/assets\n",
      "WARNING:absl:<keras.layers.recurrent.LSTMCell object at 0x7f36c9644520> has the same name 'LSTMCell' as a built-in Keras object. Consider renaming <class 'keras.layers.recurrent.LSTMCell'> to avoid naming conflicts when loading with `tf.keras.models.load_model`. If renaming is not possible, pass the object in the `custom_objects` parameter of the load function.\n"
     ]
    },
    {
     "name": "stdout",
     "output_type": "stream",
     "text": [
      "10/10 [==============================] - 1s 93ms/step - loss: 0.0057 - mae: 0.0596 - val_loss: 0.0063 - val_mae: 0.0630\n",
      "Epoch 15/60\n",
      " 1/10 [==>...........................] - ETA: 0s - loss: 0.0049 - mae: 0.0578INFO:tensorflow:Assets written to: ./TIME_SERIES/MODEL1/assets\n"
     ]
    },
    {
     "name": "stderr",
     "output_type": "stream",
     "text": [
      "INFO:tensorflow:Assets written to: ./TIME_SERIES/MODEL1/assets\n",
      "WARNING:absl:<keras.layers.recurrent.LSTMCell object at 0x7f36c9644520> has the same name 'LSTMCell' as a built-in Keras object. Consider renaming <class 'keras.layers.recurrent.LSTMCell'> to avoid naming conflicts when loading with `tf.keras.models.load_model`. If renaming is not possible, pass the object in the `custom_objects` parameter of the load function.\n"
     ]
    },
    {
     "name": "stdout",
     "output_type": "stream",
     "text": [
      "10/10 [==============================] - 1s 108ms/step - loss: 0.0057 - mae: 0.0596 - val_loss: 0.0062 - val_mae: 0.0627\n",
      "Epoch 16/60\n",
      "10/10 [==============================] - 0s 5ms/step - loss: 0.0056 - mae: 0.0592 - val_loss: 0.0062 - val_mae: 0.0628\n",
      "Epoch 17/60\n",
      " 1/10 [==>...........................] - ETA: 0s - loss: 0.0063 - mae: 0.0673INFO:tensorflow:Assets written to: ./TIME_SERIES/MODEL1/assets\n"
     ]
    },
    {
     "name": "stderr",
     "output_type": "stream",
     "text": [
      "INFO:tensorflow:Assets written to: ./TIME_SERIES/MODEL1/assets\n",
      "WARNING:absl:<keras.layers.recurrent.LSTMCell object at 0x7f36c9644520> has the same name 'LSTMCell' as a built-in Keras object. Consider renaming <class 'keras.layers.recurrent.LSTMCell'> to avoid naming conflicts when loading with `tf.keras.models.load_model`. If renaming is not possible, pass the object in the `custom_objects` parameter of the load function.\n"
     ]
    },
    {
     "name": "stdout",
     "output_type": "stream",
     "text": [
      "10/10 [==============================] - 1s 95ms/step - loss: 0.0055 - mae: 0.0588 - val_loss: 0.0061 - val_mae: 0.0619\n",
      "Epoch 18/60\n",
      " 1/10 [==>...........................] - ETA: 0s - loss: 0.0043 - mae: 0.0506INFO:tensorflow:Assets written to: ./TIME_SERIES/MODEL1/assets\n"
     ]
    },
    {
     "name": "stderr",
     "output_type": "stream",
     "text": [
      "INFO:tensorflow:Assets written to: ./TIME_SERIES/MODEL1/assets\n",
      "WARNING:absl:<keras.layers.recurrent.LSTMCell object at 0x7f36c9644520> has the same name 'LSTMCell' as a built-in Keras object. Consider renaming <class 'keras.layers.recurrent.LSTMCell'> to avoid naming conflicts when loading with `tf.keras.models.load_model`. If renaming is not possible, pass the object in the `custom_objects` parameter of the load function.\n"
     ]
    },
    {
     "name": "stdout",
     "output_type": "stream",
     "text": [
      "10/10 [==============================] - 1s 97ms/step - loss: 0.0054 - mae: 0.0583 - val_loss: 0.0060 - val_mae: 0.0617\n",
      "Epoch 19/60\n",
      " 1/10 [==>...........................] - ETA: 0s - loss: 0.0061 - mae: 0.0625INFO:tensorflow:Assets written to: ./TIME_SERIES/MODEL1/assets\n"
     ]
    },
    {
     "name": "stderr",
     "output_type": "stream",
     "text": [
      "INFO:tensorflow:Assets written to: ./TIME_SERIES/MODEL1/assets\n",
      "WARNING:absl:<keras.layers.recurrent.LSTMCell object at 0x7f36c9644520> has the same name 'LSTMCell' as a built-in Keras object. Consider renaming <class 'keras.layers.recurrent.LSTMCell'> to avoid naming conflicts when loading with `tf.keras.models.load_model`. If renaming is not possible, pass the object in the `custom_objects` parameter of the load function.\n"
     ]
    },
    {
     "name": "stdout",
     "output_type": "stream",
     "text": [
      "10/10 [==============================] - 1s 106ms/step - loss: 0.0053 - mae: 0.0578 - val_loss: 0.0060 - val_mae: 0.0614\n",
      "Epoch 20/60\n",
      " 1/10 [==>...........................] - ETA: 0s - loss: 0.0047 - mae: 0.0555INFO:tensorflow:Assets written to: ./TIME_SERIES/MODEL1/assets\n"
     ]
    },
    {
     "name": "stderr",
     "output_type": "stream",
     "text": [
      "INFO:tensorflow:Assets written to: ./TIME_SERIES/MODEL1/assets\n",
      "WARNING:absl:<keras.layers.recurrent.LSTMCell object at 0x7f36c9644520> has the same name 'LSTMCell' as a built-in Keras object. Consider renaming <class 'keras.layers.recurrent.LSTMCell'> to avoid naming conflicts when loading with `tf.keras.models.load_model`. If renaming is not possible, pass the object in the `custom_objects` parameter of the load function.\n"
     ]
    },
    {
     "name": "stdout",
     "output_type": "stream",
     "text": [
      "10/10 [==============================] - 1s 93ms/step - loss: 0.0053 - mae: 0.0573 - val_loss: 0.0059 - val_mae: 0.0608\n",
      "Epoch 21/60\n",
      " 1/10 [==>...........................] - ETA: 0s - loss: 0.0062 - mae: 0.0605INFO:tensorflow:Assets written to: ./TIME_SERIES/MODEL1/assets\n"
     ]
    },
    {
     "name": "stderr",
     "output_type": "stream",
     "text": [
      "INFO:tensorflow:Assets written to: ./TIME_SERIES/MODEL1/assets\n",
      "WARNING:absl:<keras.layers.recurrent.LSTMCell object at 0x7f36c9644520> has the same name 'LSTMCell' as a built-in Keras object. Consider renaming <class 'keras.layers.recurrent.LSTMCell'> to avoid naming conflicts when loading with `tf.keras.models.load_model`. If renaming is not possible, pass the object in the `custom_objects` parameter of the load function.\n"
     ]
    },
    {
     "name": "stdout",
     "output_type": "stream",
     "text": [
      "10/10 [==============================] - 1s 108ms/step - loss: 0.0052 - mae: 0.0571 - val_loss: 0.0058 - val_mae: 0.0606\n",
      "Epoch 22/60\n",
      " 1/10 [==>...........................] - ETA: 0s - loss: 0.0051 - mae: 0.0571INFO:tensorflow:Assets written to: ./TIME_SERIES/MODEL1/assets\n"
     ]
    },
    {
     "name": "stderr",
     "output_type": "stream",
     "text": [
      "INFO:tensorflow:Assets written to: ./TIME_SERIES/MODEL1/assets\n",
      "WARNING:absl:<keras.layers.recurrent.LSTMCell object at 0x7f36c9644520> has the same name 'LSTMCell' as a built-in Keras object. Consider renaming <class 'keras.layers.recurrent.LSTMCell'> to avoid naming conflicts when loading with `tf.keras.models.load_model`. If renaming is not possible, pass the object in the `custom_objects` parameter of the load function.\n"
     ]
    },
    {
     "name": "stdout",
     "output_type": "stream",
     "text": [
      "10/10 [==============================] - 1s 97ms/step - loss: 0.0051 - mae: 0.0566 - val_loss: 0.0058 - val_mae: 0.0604\n",
      "Epoch 23/60\n",
      " 1/10 [==>...........................] - ETA: 0s - loss: 0.0059 - mae: 0.0583INFO:tensorflow:Assets written to: ./TIME_SERIES/MODEL1/assets\n"
     ]
    },
    {
     "name": "stderr",
     "output_type": "stream",
     "text": [
      "INFO:tensorflow:Assets written to: ./TIME_SERIES/MODEL1/assets\n",
      "WARNING:absl:<keras.layers.recurrent.LSTMCell object at 0x7f36c9644520> has the same name 'LSTMCell' as a built-in Keras object. Consider renaming <class 'keras.layers.recurrent.LSTMCell'> to avoid naming conflicts when loading with `tf.keras.models.load_model`. If renaming is not possible, pass the object in the `custom_objects` parameter of the load function.\n"
     ]
    },
    {
     "name": "stdout",
     "output_type": "stream",
     "text": [
      "10/10 [==============================] - 1s 98ms/step - loss: 0.0051 - mae: 0.0563 - val_loss: 0.0057 - val_mae: 0.0600\n",
      "Epoch 24/60\n",
      " 1/10 [==>...........................] - ETA: 0s - loss: 0.0029 - mae: 0.0409INFO:tensorflow:Assets written to: ./TIME_SERIES/MODEL1/assets\n"
     ]
    },
    {
     "name": "stderr",
     "output_type": "stream",
     "text": [
      "INFO:tensorflow:Assets written to: ./TIME_SERIES/MODEL1/assets\n",
      "WARNING:absl:<keras.layers.recurrent.LSTMCell object at 0x7f36c9644520> has the same name 'LSTMCell' as a built-in Keras object. Consider renaming <class 'keras.layers.recurrent.LSTMCell'> to avoid naming conflicts when loading with `tf.keras.models.load_model`. If renaming is not possible, pass the object in the `custom_objects` parameter of the load function.\n"
     ]
    },
    {
     "name": "stdout",
     "output_type": "stream",
     "text": [
      "10/10 [==============================] - 1s 112ms/step - loss: 0.0050 - mae: 0.0559 - val_loss: 0.0056 - val_mae: 0.0597\n",
      "Epoch 25/60\n",
      " 1/10 [==>...........................] - ETA: 0s - loss: 0.0041 - mae: 0.0512INFO:tensorflow:Assets written to: ./TIME_SERIES/MODEL1/assets\n"
     ]
    },
    {
     "name": "stderr",
     "output_type": "stream",
     "text": [
      "INFO:tensorflow:Assets written to: ./TIME_SERIES/MODEL1/assets\n",
      "WARNING:absl:<keras.layers.recurrent.LSTMCell object at 0x7f36c9644520> has the same name 'LSTMCell' as a built-in Keras object. Consider renaming <class 'keras.layers.recurrent.LSTMCell'> to avoid naming conflicts when loading with `tf.keras.models.load_model`. If renaming is not possible, pass the object in the `custom_objects` parameter of the load function.\n"
     ]
    },
    {
     "name": "stdout",
     "output_type": "stream",
     "text": [
      "10/10 [==============================] - 1s 93ms/step - loss: 0.0049 - mae: 0.0556 - val_loss: 0.0056 - val_mae: 0.0596\n",
      "Epoch 26/60\n",
      " 1/10 [==>...........................] - ETA: 0s - loss: 0.0057 - mae: 0.0608INFO:tensorflow:Assets written to: ./TIME_SERIES/MODEL1/assets\n"
     ]
    },
    {
     "name": "stderr",
     "output_type": "stream",
     "text": [
      "INFO:tensorflow:Assets written to: ./TIME_SERIES/MODEL1/assets\n",
      "WARNING:absl:<keras.layers.recurrent.LSTMCell object at 0x7f36c9644520> has the same name 'LSTMCell' as a built-in Keras object. Consider renaming <class 'keras.layers.recurrent.LSTMCell'> to avoid naming conflicts when loading with `tf.keras.models.load_model`. If renaming is not possible, pass the object in the `custom_objects` parameter of the load function.\n"
     ]
    },
    {
     "name": "stdout",
     "output_type": "stream",
     "text": [
      "10/10 [==============================] - 1s 93ms/step - loss: 0.0049 - mae: 0.0553 - val_loss: 0.0055 - val_mae: 0.0593\n",
      "Epoch 27/60\n",
      " 1/10 [==>...........................] - ETA: 0s - loss: 0.0042 - mae: 0.0500INFO:tensorflow:Assets written to: ./TIME_SERIES/MODEL1/assets\n"
     ]
    },
    {
     "name": "stderr",
     "output_type": "stream",
     "text": [
      "INFO:tensorflow:Assets written to: ./TIME_SERIES/MODEL1/assets\n",
      "WARNING:absl:<keras.layers.recurrent.LSTMCell object at 0x7f36c9644520> has the same name 'LSTMCell' as a built-in Keras object. Consider renaming <class 'keras.layers.recurrent.LSTMCell'> to avoid naming conflicts when loading with `tf.keras.models.load_model`. If renaming is not possible, pass the object in the `custom_objects` parameter of the load function.\n"
     ]
    },
    {
     "name": "stdout",
     "output_type": "stream",
     "text": [
      "10/10 [==============================] - 1s 105ms/step - loss: 0.0048 - mae: 0.0549 - val_loss: 0.0055 - val_mae: 0.0592\n",
      "Epoch 28/60\n",
      " 1/10 [==>...........................] - ETA: 0s - loss: 0.0056 - mae: 0.0592INFO:tensorflow:Assets written to: ./TIME_SERIES/MODEL1/assets\n"
     ]
    },
    {
     "name": "stderr",
     "output_type": "stream",
     "text": [
      "INFO:tensorflow:Assets written to: ./TIME_SERIES/MODEL1/assets\n",
      "WARNING:absl:<keras.layers.recurrent.LSTMCell object at 0x7f36c9644520> has the same name 'LSTMCell' as a built-in Keras object. Consider renaming <class 'keras.layers.recurrent.LSTMCell'> to avoid naming conflicts when loading with `tf.keras.models.load_model`. If renaming is not possible, pass the object in the `custom_objects` parameter of the load function.\n"
     ]
    },
    {
     "name": "stdout",
     "output_type": "stream",
     "text": [
      "10/10 [==============================] - 1s 97ms/step - loss: 0.0047 - mae: 0.0548 - val_loss: 0.0054 - val_mae: 0.0588\n",
      "Epoch 29/60\n",
      " 1/10 [==>...........................] - ETA: 0s - loss: 0.0037 - mae: 0.0489INFO:tensorflow:Assets written to: ./TIME_SERIES/MODEL1/assets\n"
     ]
    },
    {
     "name": "stderr",
     "output_type": "stream",
     "text": [
      "INFO:tensorflow:Assets written to: ./TIME_SERIES/MODEL1/assets\n",
      "WARNING:absl:<keras.layers.recurrent.LSTMCell object at 0x7f36c9644520> has the same name 'LSTMCell' as a built-in Keras object. Consider renaming <class 'keras.layers.recurrent.LSTMCell'> to avoid naming conflicts when loading with `tf.keras.models.load_model`. If renaming is not possible, pass the object in the `custom_objects` parameter of the load function.\n"
     ]
    },
    {
     "name": "stdout",
     "output_type": "stream",
     "text": [
      "10/10 [==============================] - 1s 109ms/step - loss: 0.0047 - mae: 0.0544 - val_loss: 0.0054 - val_mae: 0.0586\n",
      "Epoch 30/60\n",
      " 1/10 [==>...........................] - ETA: 0s - loss: 0.0047 - mae: 0.0539INFO:tensorflow:Assets written to: ./TIME_SERIES/MODEL1/assets\n"
     ]
    },
    {
     "name": "stderr",
     "output_type": "stream",
     "text": [
      "INFO:tensorflow:Assets written to: ./TIME_SERIES/MODEL1/assets\n",
      "WARNING:absl:<keras.layers.recurrent.LSTMCell object at 0x7f36c9644520> has the same name 'LSTMCell' as a built-in Keras object. Consider renaming <class 'keras.layers.recurrent.LSTMCell'> to avoid naming conflicts when loading with `tf.keras.models.load_model`. If renaming is not possible, pass the object in the `custom_objects` parameter of the load function.\n"
     ]
    },
    {
     "name": "stdout",
     "output_type": "stream",
     "text": [
      "10/10 [==============================] - 1s 97ms/step - loss: 0.0046 - mae: 0.0540 - val_loss: 0.0054 - val_mae: 0.0583\n",
      "Epoch 31/60\n",
      " 1/10 [==>...........................] - ETA: 0s - loss: 0.0042 - mae: 0.0516INFO:tensorflow:Assets written to: ./TIME_SERIES/MODEL1/assets\n"
     ]
    },
    {
     "name": "stderr",
     "output_type": "stream",
     "text": [
      "INFO:tensorflow:Assets written to: ./TIME_SERIES/MODEL1/assets\n",
      "WARNING:absl:<keras.layers.recurrent.LSTMCell object at 0x7f36c9644520> has the same name 'LSTMCell' as a built-in Keras object. Consider renaming <class 'keras.layers.recurrent.LSTMCell'> to avoid naming conflicts when loading with `tf.keras.models.load_model`. If renaming is not possible, pass the object in the `custom_objects` parameter of the load function.\n"
     ]
    },
    {
     "name": "stdout",
     "output_type": "stream",
     "text": [
      "10/10 [==============================] - 1s 97ms/step - loss: 0.0046 - mae: 0.0542 - val_loss: 0.0053 - val_mae: 0.0582\n",
      "Epoch 32/60\n",
      " 1/10 [==>...........................] - ETA: 0s - loss: 0.0047 - mae: 0.0553INFO:tensorflow:Assets written to: ./TIME_SERIES/MODEL1/assets\n"
     ]
    },
    {
     "name": "stderr",
     "output_type": "stream",
     "text": [
      "INFO:tensorflow:Assets written to: ./TIME_SERIES/MODEL1/assets\n",
      "WARNING:absl:<keras.layers.recurrent.LSTMCell object at 0x7f36c9644520> has the same name 'LSTMCell' as a built-in Keras object. Consider renaming <class 'keras.layers.recurrent.LSTMCell'> to avoid naming conflicts when loading with `tf.keras.models.load_model`. If renaming is not possible, pass the object in the `custom_objects` parameter of the load function.\n"
     ]
    },
    {
     "name": "stdout",
     "output_type": "stream",
     "text": [
      "10/10 [==============================] - 1s 112ms/step - loss: 0.0046 - mae: 0.0535 - val_loss: 0.0053 - val_mae: 0.0579\n",
      "Epoch 33/60\n",
      " 1/10 [==>...........................] - ETA: 0s - loss: 0.0055 - mae: 0.0607INFO:tensorflow:Assets written to: ./TIME_SERIES/MODEL1/assets\n"
     ]
    },
    {
     "name": "stderr",
     "output_type": "stream",
     "text": [
      "INFO:tensorflow:Assets written to: ./TIME_SERIES/MODEL1/assets\n",
      "WARNING:absl:<keras.layers.recurrent.LSTMCell object at 0x7f36c9644520> has the same name 'LSTMCell' as a built-in Keras object. Consider renaming <class 'keras.layers.recurrent.LSTMCell'> to avoid naming conflicts when loading with `tf.keras.models.load_model`. If renaming is not possible, pass the object in the `custom_objects` parameter of the load function.\n"
     ]
    },
    {
     "name": "stdout",
     "output_type": "stream",
     "text": [
      "10/10 [==============================] - 1s 97ms/step - loss: 0.0045 - mae: 0.0535 - val_loss: 0.0053 - val_mae: 0.0578\n",
      "Epoch 34/60\n",
      " 1/10 [==>...........................] - ETA: 0s - loss: 0.0035 - mae: 0.0480INFO:tensorflow:Assets written to: ./TIME_SERIES/MODEL1/assets\n"
     ]
    },
    {
     "name": "stderr",
     "output_type": "stream",
     "text": [
      "INFO:tensorflow:Assets written to: ./TIME_SERIES/MODEL1/assets\n",
      "WARNING:absl:<keras.layers.recurrent.LSTMCell object at 0x7f36c9644520> has the same name 'LSTMCell' as a built-in Keras object. Consider renaming <class 'keras.layers.recurrent.LSTMCell'> to avoid naming conflicts when loading with `tf.keras.models.load_model`. If renaming is not possible, pass the object in the `custom_objects` parameter of the load function.\n"
     ]
    },
    {
     "name": "stdout",
     "output_type": "stream",
     "text": [
      "10/10 [==============================] - 1s 105ms/step - loss: 0.0044 - mae: 0.0529 - val_loss: 0.0052 - val_mae: 0.0574\n",
      "Epoch 35/60\n",
      " 1/10 [==>...........................] - ETA: 0s - loss: 0.0050 - mae: 0.0590INFO:tensorflow:Assets written to: ./TIME_SERIES/MODEL1/assets\n"
     ]
    },
    {
     "name": "stderr",
     "output_type": "stream",
     "text": [
      "INFO:tensorflow:Assets written to: ./TIME_SERIES/MODEL1/assets\n",
      "WARNING:absl:<keras.layers.recurrent.LSTMCell object at 0x7f36c9644520> has the same name 'LSTMCell' as a built-in Keras object. Consider renaming <class 'keras.layers.recurrent.LSTMCell'> to avoid naming conflicts when loading with `tf.keras.models.load_model`. If renaming is not possible, pass the object in the `custom_objects` parameter of the load function.\n"
     ]
    },
    {
     "name": "stdout",
     "output_type": "stream",
     "text": [
      "10/10 [==============================] - 1s 94ms/step - loss: 0.0044 - mae: 0.0526 - val_loss: 0.0052 - val_mae: 0.0571\n",
      "Epoch 36/60\n",
      " 1/10 [==>...........................] - ETA: 0s - loss: 0.0036 - mae: 0.0487INFO:tensorflow:Assets written to: ./TIME_SERIES/MODEL1/assets\n"
     ]
    },
    {
     "name": "stderr",
     "output_type": "stream",
     "text": [
      "INFO:tensorflow:Assets written to: ./TIME_SERIES/MODEL1/assets\n",
      "WARNING:absl:<keras.layers.recurrent.LSTMCell object at 0x7f36c9644520> has the same name 'LSTMCell' as a built-in Keras object. Consider renaming <class 'keras.layers.recurrent.LSTMCell'> to avoid naming conflicts when loading with `tf.keras.models.load_model`. If renaming is not possible, pass the object in the `custom_objects` parameter of the load function.\n"
     ]
    },
    {
     "name": "stdout",
     "output_type": "stream",
     "text": [
      "10/10 [==============================] - 1s 95ms/step - loss: 0.0043 - mae: 0.0524 - val_loss: 0.0051 - val_mae: 0.0569\n",
      "Epoch 37/60\n",
      " 1/10 [==>...........................] - ETA: 0s - loss: 0.0049 - mae: 0.0528INFO:tensorflow:Assets written to: ./TIME_SERIES/MODEL1/assets\n"
     ]
    },
    {
     "name": "stderr",
     "output_type": "stream",
     "text": [
      "INFO:tensorflow:Assets written to: ./TIME_SERIES/MODEL1/assets\n",
      "WARNING:absl:<keras.layers.recurrent.LSTMCell object at 0x7f36c9644520> has the same name 'LSTMCell' as a built-in Keras object. Consider renaming <class 'keras.layers.recurrent.LSTMCell'> to avoid naming conflicts when loading with `tf.keras.models.load_model`. If renaming is not possible, pass the object in the `custom_objects` parameter of the load function.\n"
     ]
    },
    {
     "name": "stdout",
     "output_type": "stream",
     "text": [
      "10/10 [==============================] - 1s 112ms/step - loss: 0.0043 - mae: 0.0521 - val_loss: 0.0051 - val_mae: 0.0567\n",
      "Epoch 38/60\n",
      " 1/10 [==>...........................] - ETA: 0s - loss: 0.0050 - mae: 0.0563INFO:tensorflow:Assets written to: ./TIME_SERIES/MODEL1/assets\n"
     ]
    },
    {
     "name": "stderr",
     "output_type": "stream",
     "text": [
      "INFO:tensorflow:Assets written to: ./TIME_SERIES/MODEL1/assets\n",
      "WARNING:absl:<keras.layers.recurrent.LSTMCell object at 0x7f36c9644520> has the same name 'LSTMCell' as a built-in Keras object. Consider renaming <class 'keras.layers.recurrent.LSTMCell'> to avoid naming conflicts when loading with `tf.keras.models.load_model`. If renaming is not possible, pass the object in the `custom_objects` parameter of the load function.\n"
     ]
    },
    {
     "name": "stdout",
     "output_type": "stream",
     "text": [
      "10/10 [==============================] - 1s 98ms/step - loss: 0.0043 - mae: 0.0521 - val_loss: 0.0050 - val_mae: 0.0565\n",
      "Epoch 39/60\n",
      " 1/10 [==>...........................] - ETA: 0s - loss: 0.0030 - mae: 0.0426INFO:tensorflow:Assets written to: ./TIME_SERIES/MODEL1/assets\n"
     ]
    },
    {
     "name": "stderr",
     "output_type": "stream",
     "text": [
      "INFO:tensorflow:Assets written to: ./TIME_SERIES/MODEL1/assets\n",
      "WARNING:absl:<keras.layers.recurrent.LSTMCell object at 0x7f36c9644520> has the same name 'LSTMCell' as a built-in Keras object. Consider renaming <class 'keras.layers.recurrent.LSTMCell'> to avoid naming conflicts when loading with `tf.keras.models.load_model`. If renaming is not possible, pass the object in the `custom_objects` parameter of the load function.\n"
     ]
    },
    {
     "name": "stdout",
     "output_type": "stream",
     "text": [
      "10/10 [==============================] - 1s 95ms/step - loss: 0.0042 - mae: 0.0516 - val_loss: 0.0050 - val_mae: 0.0561\n",
      "Epoch 40/60\n",
      " 1/10 [==>...........................] - ETA: 0s - loss: 0.0040 - mae: 0.0504INFO:tensorflow:Assets written to: ./TIME_SERIES/MODEL1/assets\n"
     ]
    },
    {
     "name": "stderr",
     "output_type": "stream",
     "text": [
      "INFO:tensorflow:Assets written to: ./TIME_SERIES/MODEL1/assets\n",
      "WARNING:absl:<keras.layers.recurrent.LSTMCell object at 0x7f36c9644520> has the same name 'LSTMCell' as a built-in Keras object. Consider renaming <class 'keras.layers.recurrent.LSTMCell'> to avoid naming conflicts when loading with `tf.keras.models.load_model`. If renaming is not possible, pass the object in the `custom_objects` parameter of the load function.\n"
     ]
    },
    {
     "name": "stdout",
     "output_type": "stream",
     "text": [
      "10/10 [==============================] - 1s 108ms/step - loss: 0.0042 - mae: 0.0513 - val_loss: 0.0050 - val_mae: 0.0560\n",
      "Epoch 41/60\n",
      " 1/10 [==>...........................] - ETA: 0s - loss: 0.0045 - mae: 0.0546INFO:tensorflow:Assets written to: ./TIME_SERIES/MODEL1/assets\n"
     ]
    },
    {
     "name": "stderr",
     "output_type": "stream",
     "text": [
      "INFO:tensorflow:Assets written to: ./TIME_SERIES/MODEL1/assets\n",
      "WARNING:absl:<keras.layers.recurrent.LSTMCell object at 0x7f36c9644520> has the same name 'LSTMCell' as a built-in Keras object. Consider renaming <class 'keras.layers.recurrent.LSTMCell'> to avoid naming conflicts when loading with `tf.keras.models.load_model`. If renaming is not possible, pass the object in the `custom_objects` parameter of the load function.\n"
     ]
    },
    {
     "name": "stdout",
     "output_type": "stream",
     "text": [
      "10/10 [==============================] - 1s 95ms/step - loss: 0.0041 - mae: 0.0510 - val_loss: 0.0049 - val_mae: 0.0556\n",
      "Epoch 42/60\n",
      " 1/10 [==>...........................] - ETA: 0s - loss: 0.0037 - mae: 0.0478INFO:tensorflow:Assets written to: ./TIME_SERIES/MODEL1/assets\n"
     ]
    },
    {
     "name": "stderr",
     "output_type": "stream",
     "text": [
      "INFO:tensorflow:Assets written to: ./TIME_SERIES/MODEL1/assets\n",
      "WARNING:absl:<keras.layers.recurrent.LSTMCell object at 0x7f36c9644520> has the same name 'LSTMCell' as a built-in Keras object. Consider renaming <class 'keras.layers.recurrent.LSTMCell'> to avoid naming conflicts when loading with `tf.keras.models.load_model`. If renaming is not possible, pass the object in the `custom_objects` parameter of the load function.\n"
     ]
    },
    {
     "name": "stdout",
     "output_type": "stream",
     "text": [
      "10/10 [==============================] - 1s 105ms/step - loss: 0.0041 - mae: 0.0507 - val_loss: 0.0049 - val_mae: 0.0554\n",
      "Epoch 43/60\n",
      " 1/10 [==>...........................] - ETA: 0s - loss: 0.0048 - mae: 0.0554INFO:tensorflow:Assets written to: ./TIME_SERIES/MODEL1/assets\n"
     ]
    },
    {
     "name": "stderr",
     "output_type": "stream",
     "text": [
      "INFO:tensorflow:Assets written to: ./TIME_SERIES/MODEL1/assets\n",
      "WARNING:absl:<keras.layers.recurrent.LSTMCell object at 0x7f36c9644520> has the same name 'LSTMCell' as a built-in Keras object. Consider renaming <class 'keras.layers.recurrent.LSTMCell'> to avoid naming conflicts when loading with `tf.keras.models.load_model`. If renaming is not possible, pass the object in the `custom_objects` parameter of the load function.\n"
     ]
    },
    {
     "name": "stdout",
     "output_type": "stream",
     "text": [
      "10/10 [==============================] - 1s 93ms/step - loss: 0.0040 - mae: 0.0506 - val_loss: 0.0048 - val_mae: 0.0553\n",
      "Epoch 44/60\n",
      " 1/10 [==>...........................] - ETA: 0s - loss: 0.0051 - mae: 0.0558INFO:tensorflow:Assets written to: ./TIME_SERIES/MODEL1/assets\n"
     ]
    },
    {
     "name": "stderr",
     "output_type": "stream",
     "text": [
      "INFO:tensorflow:Assets written to: ./TIME_SERIES/MODEL1/assets\n",
      "WARNING:absl:<keras.layers.recurrent.LSTMCell object at 0x7f36c9644520> has the same name 'LSTMCell' as a built-in Keras object. Consider renaming <class 'keras.layers.recurrent.LSTMCell'> to avoid naming conflicts when loading with `tf.keras.models.load_model`. If renaming is not possible, pass the object in the `custom_objects` parameter of the load function.\n"
     ]
    },
    {
     "name": "stdout",
     "output_type": "stream",
     "text": [
      "10/10 [==============================] - 1s 94ms/step - loss: 0.0040 - mae: 0.0502 - val_loss: 0.0048 - val_mae: 0.0549\n",
      "Epoch 45/60\n",
      " 1/10 [==>...........................] - ETA: 0s - loss: 0.0041 - mae: 0.0513INFO:tensorflow:Assets written to: ./TIME_SERIES/MODEL1/assets\n"
     ]
    },
    {
     "name": "stderr",
     "output_type": "stream",
     "text": [
      "INFO:tensorflow:Assets written to: ./TIME_SERIES/MODEL1/assets\n",
      "WARNING:absl:<keras.layers.recurrent.LSTMCell object at 0x7f36c9644520> has the same name 'LSTMCell' as a built-in Keras object. Consider renaming <class 'keras.layers.recurrent.LSTMCell'> to avoid naming conflicts when loading with `tf.keras.models.load_model`. If renaming is not possible, pass the object in the `custom_objects` parameter of the load function.\n"
     ]
    },
    {
     "name": "stdout",
     "output_type": "stream",
     "text": [
      "10/10 [==============================] - 1s 109ms/step - loss: 0.0040 - mae: 0.0501 - val_loss: 0.0048 - val_mae: 0.0546\n",
      "Epoch 46/60\n",
      " 1/10 [==>...........................] - ETA: 0s - loss: 0.0045 - mae: 0.0523INFO:tensorflow:Assets written to: ./TIME_SERIES/MODEL1/assets\n"
     ]
    },
    {
     "name": "stderr",
     "output_type": "stream",
     "text": [
      "INFO:tensorflow:Assets written to: ./TIME_SERIES/MODEL1/assets\n",
      "WARNING:absl:<keras.layers.recurrent.LSTMCell object at 0x7f36c9644520> has the same name 'LSTMCell' as a built-in Keras object. Consider renaming <class 'keras.layers.recurrent.LSTMCell'> to avoid naming conflicts when loading with `tf.keras.models.load_model`. If renaming is not possible, pass the object in the `custom_objects` parameter of the load function.\n"
     ]
    },
    {
     "name": "stdout",
     "output_type": "stream",
     "text": [
      "10/10 [==============================] - 1s 95ms/step - loss: 0.0039 - mae: 0.0495 - val_loss: 0.0047 - val_mae: 0.0543\n",
      "Epoch 47/60\n",
      " 1/10 [==>...........................] - ETA: 0s - loss: 0.0031 - mae: 0.0440INFO:tensorflow:Assets written to: ./TIME_SERIES/MODEL1/assets\n"
     ]
    },
    {
     "name": "stderr",
     "output_type": "stream",
     "text": [
      "INFO:tensorflow:Assets written to: ./TIME_SERIES/MODEL1/assets\n",
      "WARNING:absl:<keras.layers.recurrent.LSTMCell object at 0x7f36c9644520> has the same name 'LSTMCell' as a built-in Keras object. Consider renaming <class 'keras.layers.recurrent.LSTMCell'> to avoid naming conflicts when loading with `tf.keras.models.load_model`. If renaming is not possible, pass the object in the `custom_objects` parameter of the load function.\n"
     ]
    },
    {
     "name": "stdout",
     "output_type": "stream",
     "text": [
      "10/10 [==============================] - 1s 95ms/step - loss: 0.0039 - mae: 0.0493 - val_loss: 0.0047 - val_mae: 0.0544\n",
      "Epoch 48/60\n",
      " 1/10 [==>...........................] - ETA: 0s - loss: 0.0037 - mae: 0.0488INFO:tensorflow:Assets written to: ./TIME_SERIES/MODEL1/assets\n"
     ]
    },
    {
     "name": "stderr",
     "output_type": "stream",
     "text": [
      "INFO:tensorflow:Assets written to: ./TIME_SERIES/MODEL1/assets\n",
      "WARNING:absl:<keras.layers.recurrent.LSTMCell object at 0x7f36c9644520> has the same name 'LSTMCell' as a built-in Keras object. Consider renaming <class 'keras.layers.recurrent.LSTMCell'> to avoid naming conflicts when loading with `tf.keras.models.load_model`. If renaming is not possible, pass the object in the `custom_objects` parameter of the load function.\n"
     ]
    },
    {
     "name": "stdout",
     "output_type": "stream",
     "text": [
      "10/10 [==============================] - 1s 107ms/step - loss: 0.0038 - mae: 0.0491 - val_loss: 0.0046 - val_mae: 0.0539\n",
      "Epoch 49/60\n",
      " 1/10 [==>...........................] - ETA: 0s - loss: 0.0040 - mae: 0.0500INFO:tensorflow:Assets written to: ./TIME_SERIES/MODEL1/assets\n"
     ]
    },
    {
     "name": "stderr",
     "output_type": "stream",
     "text": [
      "INFO:tensorflow:Assets written to: ./TIME_SERIES/MODEL1/assets\n",
      "WARNING:absl:<keras.layers.recurrent.LSTMCell object at 0x7f36c9644520> has the same name 'LSTMCell' as a built-in Keras object. Consider renaming <class 'keras.layers.recurrent.LSTMCell'> to avoid naming conflicts when loading with `tf.keras.models.load_model`. If renaming is not possible, pass the object in the `custom_objects` parameter of the load function.\n"
     ]
    },
    {
     "name": "stdout",
     "output_type": "stream",
     "text": [
      "10/10 [==============================] - 1s 93ms/step - loss: 0.0038 - mae: 0.0487 - val_loss: 0.0046 - val_mae: 0.0537\n",
      "Epoch 50/60\n",
      " 1/10 [==>...........................] - ETA: 0s - loss: 0.0033 - mae: 0.0462INFO:tensorflow:Assets written to: ./TIME_SERIES/MODEL1/assets\n"
     ]
    },
    {
     "name": "stderr",
     "output_type": "stream",
     "text": [
      "INFO:tensorflow:Assets written to: ./TIME_SERIES/MODEL1/assets\n",
      "WARNING:absl:<keras.layers.recurrent.LSTMCell object at 0x7f36c9644520> has the same name 'LSTMCell' as a built-in Keras object. Consider renaming <class 'keras.layers.recurrent.LSTMCell'> to avoid naming conflicts when loading with `tf.keras.models.load_model`. If renaming is not possible, pass the object in the `custom_objects` parameter of the load function.\n"
     ]
    },
    {
     "name": "stdout",
     "output_type": "stream",
     "text": [
      "10/10 [==============================] - 1s 106ms/step - loss: 0.0037 - mae: 0.0485 - val_loss: 0.0046 - val_mae: 0.0534\n",
      "Epoch 51/60\n",
      " 1/10 [==>...........................] - ETA: 0s - loss: 0.0034 - mae: 0.0464INFO:tensorflow:Assets written to: ./TIME_SERIES/MODEL1/assets\n"
     ]
    },
    {
     "name": "stderr",
     "output_type": "stream",
     "text": [
      "INFO:tensorflow:Assets written to: ./TIME_SERIES/MODEL1/assets\n",
      "WARNING:absl:<keras.layers.recurrent.LSTMCell object at 0x7f36c9644520> has the same name 'LSTMCell' as a built-in Keras object. Consider renaming <class 'keras.layers.recurrent.LSTMCell'> to avoid naming conflicts when loading with `tf.keras.models.load_model`. If renaming is not possible, pass the object in the `custom_objects` parameter of the load function.\n"
     ]
    },
    {
     "name": "stdout",
     "output_type": "stream",
     "text": [
      "10/10 [==============================] - 1s 95ms/step - loss: 0.0037 - mae: 0.0481 - val_loss: 0.0045 - val_mae: 0.0531\n",
      "Epoch 52/60\n",
      " 1/10 [==>...........................] - ETA: 0s - loss: 0.0046 - mae: 0.0542INFO:tensorflow:Assets written to: ./TIME_SERIES/MODEL1/assets\n"
     ]
    },
    {
     "name": "stderr",
     "output_type": "stream",
     "text": [
      "INFO:tensorflow:Assets written to: ./TIME_SERIES/MODEL1/assets\n",
      "WARNING:absl:<keras.layers.recurrent.LSTMCell object at 0x7f36c9644520> has the same name 'LSTMCell' as a built-in Keras object. Consider renaming <class 'keras.layers.recurrent.LSTMCell'> to avoid naming conflicts when loading with `tf.keras.models.load_model`. If renaming is not possible, pass the object in the `custom_objects` parameter of the load function.\n"
     ]
    },
    {
     "name": "stdout",
     "output_type": "stream",
     "text": [
      "10/10 [==============================] - 1s 95ms/step - loss: 0.0037 - mae: 0.0479 - val_loss: 0.0045 - val_mae: 0.0528\n",
      "Epoch 53/60\n",
      " 1/10 [==>...........................] - ETA: 0s - loss: 0.0033 - mae: 0.0437INFO:tensorflow:Assets written to: ./TIME_SERIES/MODEL1/assets\n"
     ]
    },
    {
     "name": "stderr",
     "output_type": "stream",
     "text": [
      "INFO:tensorflow:Assets written to: ./TIME_SERIES/MODEL1/assets\n",
      "WARNING:absl:<keras.layers.recurrent.LSTMCell object at 0x7f36c9644520> has the same name 'LSTMCell' as a built-in Keras object. Consider renaming <class 'keras.layers.recurrent.LSTMCell'> to avoid naming conflicts when loading with `tf.keras.models.load_model`. If renaming is not possible, pass the object in the `custom_objects` parameter of the load function.\n"
     ]
    },
    {
     "name": "stdout",
     "output_type": "stream",
     "text": [
      "10/10 [==============================] - 1s 109ms/step - loss: 0.0036 - mae: 0.0477 - val_loss: 0.0045 - val_mae: 0.0525\n",
      "Epoch 54/60\n",
      " 1/10 [==>...........................] - ETA: 0s - loss: 0.0030 - mae: 0.0442INFO:tensorflow:Assets written to: ./TIME_SERIES/MODEL1/assets\n"
     ]
    },
    {
     "name": "stderr",
     "output_type": "stream",
     "text": [
      "INFO:tensorflow:Assets written to: ./TIME_SERIES/MODEL1/assets\n",
      "WARNING:absl:<keras.layers.recurrent.LSTMCell object at 0x7f36c9644520> has the same name 'LSTMCell' as a built-in Keras object. Consider renaming <class 'keras.layers.recurrent.LSTMCell'> to avoid naming conflicts when loading with `tf.keras.models.load_model`. If renaming is not possible, pass the object in the `custom_objects` parameter of the load function.\n"
     ]
    },
    {
     "name": "stdout",
     "output_type": "stream",
     "text": [
      "10/10 [==============================] - 1s 98ms/step - loss: 0.0036 - mae: 0.0476 - val_loss: 0.0044 - val_mae: 0.0522\n",
      "Epoch 55/60\n",
      " 1/10 [==>...........................] - ETA: 0s - loss: 0.0029 - mae: 0.0413INFO:tensorflow:Assets written to: ./TIME_SERIES/MODEL1/assets\n"
     ]
    },
    {
     "name": "stderr",
     "output_type": "stream",
     "text": [
      "INFO:tensorflow:Assets written to: ./TIME_SERIES/MODEL1/assets\n",
      "WARNING:absl:<keras.layers.recurrent.LSTMCell object at 0x7f36c9644520> has the same name 'LSTMCell' as a built-in Keras object. Consider renaming <class 'keras.layers.recurrent.LSTMCell'> to avoid naming conflicts when loading with `tf.keras.models.load_model`. If renaming is not possible, pass the object in the `custom_objects` parameter of the load function.\n"
     ]
    },
    {
     "name": "stdout",
     "output_type": "stream",
     "text": [
      "10/10 [==============================] - 1s 97ms/step - loss: 0.0036 - mae: 0.0469 - val_loss: 0.0044 - val_mae: 0.0517\n",
      "Epoch 56/60\n",
      " 1/10 [==>...........................] - ETA: 0s - loss: 0.0042 - mae: 0.0474INFO:tensorflow:Assets written to: ./TIME_SERIES/MODEL1/assets\n"
     ]
    },
    {
     "name": "stderr",
     "output_type": "stream",
     "text": [
      "INFO:tensorflow:Assets written to: ./TIME_SERIES/MODEL1/assets\n",
      "WARNING:absl:<keras.layers.recurrent.LSTMCell object at 0x7f36c9644520> has the same name 'LSTMCell' as a built-in Keras object. Consider renaming <class 'keras.layers.recurrent.LSTMCell'> to avoid naming conflicts when loading with `tf.keras.models.load_model`. If renaming is not possible, pass the object in the `custom_objects` parameter of the load function.\n"
     ]
    },
    {
     "name": "stdout",
     "output_type": "stream",
     "text": [
      "10/10 [==============================] - 1s 110ms/step - loss: 0.0035 - mae: 0.0469 - val_loss: 0.0044 - val_mae: 0.0516\n",
      "Epoch 57/60\n",
      " 1/10 [==>...........................] - ETA: 0s - loss: 0.0033 - mae: 0.0428INFO:tensorflow:Assets written to: ./TIME_SERIES/MODEL1/assets\n"
     ]
    },
    {
     "name": "stderr",
     "output_type": "stream",
     "text": [
      "INFO:tensorflow:Assets written to: ./TIME_SERIES/MODEL1/assets\n",
      "WARNING:absl:<keras.layers.recurrent.LSTMCell object at 0x7f36c9644520> has the same name 'LSTMCell' as a built-in Keras object. Consider renaming <class 'keras.layers.recurrent.LSTMCell'> to avoid naming conflicts when loading with `tf.keras.models.load_model`. If renaming is not possible, pass the object in the `custom_objects` parameter of the load function.\n"
     ]
    },
    {
     "name": "stdout",
     "output_type": "stream",
     "text": [
      "10/10 [==============================] - 1s 95ms/step - loss: 0.0035 - mae: 0.0465 - val_loss: 0.0043 - val_mae: 0.0513\n",
      "Epoch 58/60\n",
      " 1/10 [==>...........................] - ETA: 0s - loss: 0.0038 - mae: 0.0476INFO:tensorflow:Assets written to: ./TIME_SERIES/MODEL1/assets\n"
     ]
    },
    {
     "name": "stderr",
     "output_type": "stream",
     "text": [
      "INFO:tensorflow:Assets written to: ./TIME_SERIES/MODEL1/assets\n",
      "WARNING:absl:<keras.layers.recurrent.LSTMCell object at 0x7f36c9644520> has the same name 'LSTMCell' as a built-in Keras object. Consider renaming <class 'keras.layers.recurrent.LSTMCell'> to avoid naming conflicts when loading with `tf.keras.models.load_model`. If renaming is not possible, pass the object in the `custom_objects` parameter of the load function.\n"
     ]
    },
    {
     "name": "stdout",
     "output_type": "stream",
     "text": [
      "10/10 [==============================] - 1s 109ms/step - loss: 0.0035 - mae: 0.0464 - val_loss: 0.0043 - val_mae: 0.0513\n",
      "Epoch 59/60\n",
      " 1/10 [==>...........................] - ETA: 0s - loss: 0.0042 - mae: 0.0521INFO:tensorflow:Assets written to: ./TIME_SERIES/MODEL1/assets\n"
     ]
    },
    {
     "name": "stderr",
     "output_type": "stream",
     "text": [
      "INFO:tensorflow:Assets written to: ./TIME_SERIES/MODEL1/assets\n",
      "WARNING:absl:<keras.layers.recurrent.LSTMCell object at 0x7f36c9644520> has the same name 'LSTMCell' as a built-in Keras object. Consider renaming <class 'keras.layers.recurrent.LSTMCell'> to avoid naming conflicts when loading with `tf.keras.models.load_model`. If renaming is not possible, pass the object in the `custom_objects` parameter of the load function.\n"
     ]
    },
    {
     "name": "stdout",
     "output_type": "stream",
     "text": [
      "10/10 [==============================] - 1s 95ms/step - loss: 0.0035 - mae: 0.0464 - val_loss: 0.0043 - val_mae: 0.0507\n",
      "Epoch 60/60\n",
      " 1/10 [==>...........................] - ETA: 0s - loss: 0.0024 - mae: 0.0375INFO:tensorflow:Assets written to: ./TIME_SERIES/MODEL1/assets\n"
     ]
    },
    {
     "name": "stderr",
     "output_type": "stream",
     "text": [
      "INFO:tensorflow:Assets written to: ./TIME_SERIES/MODEL1/assets\n",
      "WARNING:absl:<keras.layers.recurrent.LSTMCell object at 0x7f36c9644520> has the same name 'LSTMCell' as a built-in Keras object. Consider renaming <class 'keras.layers.recurrent.LSTMCell'> to avoid naming conflicts when loading with `tf.keras.models.load_model`. If renaming is not possible, pass the object in the `custom_objects` parameter of the load function.\n"
     ]
    },
    {
     "name": "stdout",
     "output_type": "stream",
     "text": [
      "10/10 [==============================] - 1s 95ms/step - loss: 0.0034 - mae: 0.0458 - val_loss: 0.0042 - val_mae: 0.0505\n"
     ]
    },
    {
     "data": {
      "text/plain": [
       "<keras.callbacks.History at 0x7f36c822ddc0>"
      ]
     },
     "execution_count": 9,
     "metadata": {},
     "output_type": "execute_result"
    }
   ],
   "source": [
    "model1 = build_LSTM_model(dict_args, X_train)\n",
    "# cp1 = LSTM_model(dict_args, X_train)\n",
    "# print(cp1)\n",
    "\n",
    "epochs = dict_args[\"param_list\"][\"LSTM\"][\"epochs\"]\n",
    "batch_size = dict_args[\"param_list\"][\"LSTM\"][\"batch_size\"]\n",
    "\n",
    "model1.fit(X_train, y_train, validation_data=(X_valid, y_valid), \n",
    "           epochs=epochs, \n",
    "           batch_size=batch_size,\n",
    "           callbacks=[ModelCheckpoint(dict_args['model_file'], save_best_only=True)],\n",
    ") "
   ]
  },
  {
   "cell_type": "code",
   "execution_count": 10,
   "metadata": {
    "colab": {
     "base_uri": "https://localhost:8080/"
    },
    "id": "vdaqGHG4YZkN",
    "outputId": "1c4fb3d1-5130-4dda-c3a1-e5589cfd9f10"
   },
   "outputs": [
    {
     "name": "stdout",
     "output_type": "stream",
     "text": [
      "WARNING:tensorflow:Layer lstm will not use cuDNN kernels since it doesn't meet the criteria. It will use a generic GPU kernel as fallback when running on GPU.\n"
     ]
    },
    {
     "name": "stderr",
     "output_type": "stream",
     "text": [
      "WARNING:tensorflow:Layer lstm will not use cuDNN kernels since it doesn't meet the criteria. It will use a generic GPU kernel as fallback when running on GPU.\n"
     ]
    }
   ],
   "source": [
    "from tensorflow.keras.models import load_model\n",
    "model1 = load_model('./TIME_SERIES/MODEL1')"
   ]
  },
  {
   "cell_type": "code",
   "execution_count": 11,
   "metadata": {
    "colab": {
     "base_uri": "https://localhost:8080/",
     "height": 424
    },
    "id": "byObmr8CZRhp",
    "outputId": "bdddd2ae-724c-4534-bfae-81a98a04555e"
   },
   "outputs": [
    {
     "data": {
      "text/html": [
       "<div>\n",
       "<style scoped>\n",
       "    .dataframe tbody tr th:only-of-type {\n",
       "        vertical-align: middle;\n",
       "    }\n",
       "\n",
       "    .dataframe tbody tr th {\n",
       "        vertical-align: top;\n",
       "    }\n",
       "\n",
       "    .dataframe thead th {\n",
       "        text-align: right;\n",
       "    }\n",
       "</style>\n",
       "<table border=\"1\" class=\"dataframe\">\n",
       "  <thead>\n",
       "    <tr style=\"text-align: right;\">\n",
       "      <th></th>\n",
       "      <th>Test Predictions</th>\n",
       "      <th>Actuals</th>\n",
       "    </tr>\n",
       "  </thead>\n",
       "  <tbody>\n",
       "    <tr>\n",
       "      <th>0</th>\n",
       "      <td>0.432745</td>\n",
       "      <td>0.415730</td>\n",
       "    </tr>\n",
       "    <tr>\n",
       "      <th>1</th>\n",
       "      <td>0.427730</td>\n",
       "      <td>0.411985</td>\n",
       "    </tr>\n",
       "    <tr>\n",
       "      <th>2</th>\n",
       "      <td>0.420504</td>\n",
       "      <td>0.404494</td>\n",
       "    </tr>\n",
       "    <tr>\n",
       "      <th>3</th>\n",
       "      <td>0.412802</td>\n",
       "      <td>0.498127</td>\n",
       "    </tr>\n",
       "    <tr>\n",
       "      <th>4</th>\n",
       "      <td>0.470944</td>\n",
       "      <td>0.528090</td>\n",
       "    </tr>\n",
       "    <tr>\n",
       "      <th>...</th>\n",
       "      <td>...</td>\n",
       "      <td>...</td>\n",
       "    </tr>\n",
       "    <tr>\n",
       "      <th>111</th>\n",
       "      <td>0.729547</td>\n",
       "      <td>0.677903</td>\n",
       "    </tr>\n",
       "    <tr>\n",
       "      <th>112</th>\n",
       "      <td>0.701846</td>\n",
       "      <td>0.621723</td>\n",
       "    </tr>\n",
       "    <tr>\n",
       "      <th>113</th>\n",
       "      <td>0.650049</td>\n",
       "      <td>0.617978</td>\n",
       "    </tr>\n",
       "    <tr>\n",
       "      <th>114</th>\n",
       "      <td>0.625836</td>\n",
       "      <td>0.636704</td>\n",
       "    </tr>\n",
       "    <tr>\n",
       "      <th>115</th>\n",
       "      <td>0.631847</td>\n",
       "      <td>0.632959</td>\n",
       "    </tr>\n",
       "  </tbody>\n",
       "</table>\n",
       "<p>116 rows × 2 columns</p>\n",
       "</div>"
      ],
      "text/plain": [
       "     Test Predictions   Actuals\n",
       "0            0.432745  0.415730\n",
       "1            0.427730  0.411985\n",
       "2            0.420504  0.404494\n",
       "3            0.412802  0.498127\n",
       "4            0.470944  0.528090\n",
       "..                ...       ...\n",
       "111          0.729547  0.677903\n",
       "112          0.701846  0.621723\n",
       "113          0.650049  0.617978\n",
       "114          0.625836  0.636704\n",
       "115          0.631847  0.632959\n",
       "\n",
       "[116 rows x 2 columns]"
      ]
     },
     "execution_count": 11,
     "metadata": {},
     "output_type": "execute_result"
    }
   ],
   "source": [
    "train_predictions = model1.predict(X_test).flatten()\n",
    "train_results = pd.DataFrame(data={'Test Predictions':train_predictions, 'Actuals':y_test})\n",
    "train_results"
   ]
  },
  {
   "cell_type": "code",
   "execution_count": 12,
   "metadata": {
    "colab": {
     "base_uri": "https://localhost:8080/",
     "height": 282
    },
    "id": "KTqY8r6_Zpev",
    "outputId": "535452a9-b4de-40a0-8ed8-009ada865d83"
   },
   "outputs": [
    {
     "data": {
      "text/plain": [
       "[<matplotlib.lines.Line2D at 0x7f36202335b0>]"
      ]
     },
     "execution_count": 12,
     "metadata": {},
     "output_type": "execute_result"
    },
    {
     "data": {
      "image/png": "[encoded data removed]",
      "text/plain": [
       "<Figure size 432x288 with 1 Axes>"
      ]
     },
     "metadata": {
      "needs_background": "light"
     },
     "output_type": "display_data"
    }
   ],
   "source": [
    "import matplotlib.pyplot as plt\n",
    "plt.plot(train_results['Test Predictions'][50:100], 'r')\n",
    "plt.plot(train_results['Actuals'][50:100], 'k')"
   ]
  }
 ],
 "metadata": {
  "accelerator": "GPU",
  "colab": {
   "collapsed_sections": [],
   "name": "TEST_LSTM_Time_Series_Forecasting_updated.ipynb",
   "provenance": []
  },
  "gpuClass": "standard",
  "kernelspec": {
   "display_name": "Python 3 (ipykernel)",
   "language": "python",
   "name": "python3"
  },
  "language_info": {
   "codemirror_mode": {
    "name": "ipython",
    "version": 3
   },
   "file_extension": ".py",
   "mimetype": "text/x-python",
   "name": "python",
   "nbconvert_exporter": "python",
   "pygments_lexer": "ipython3",
   "version": "3.8.10"
  }
 },
 "nbformat": 4,
 "nbformat_minor": 4
}
